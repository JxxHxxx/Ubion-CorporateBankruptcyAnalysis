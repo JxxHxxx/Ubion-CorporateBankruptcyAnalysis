{
 "cells": [
  {
   "cell_type": "markdown",
   "metadata": {},
   "source": [
    "# step1 모델링 재무 + text1단계 + 시장데이터"
   ]
  },
  {
   "cell_type": "code",
   "execution_count": 51,
   "metadata": {},
   "outputs": [],
   "source": [
    "import pandas as pd\n",
    "import numpy as np\n",
    "from tqdm import tqdm \n",
    "\n",
    "import matplotlib\n",
    "import matplotlib.pyplot as plt\n",
    "import plotly.express as px\n",
    "import seaborn as sns\n",
    "plt.rcParams['font.family'] = 'malgun gothic'\n",
    "\n",
    "from sklearn.linear_model import LogisticRegression\n",
    "from sklearn.tree import DecisionTreeClassifier\n",
    "from sklearn.neighbors import KNeighborsClassifier\n",
    "from xgboost import XGBClassifier\n",
    "from sklearn.metrics import accuracy_score, log_loss, plot_confusion_matrix, recall_score, precision_score, f1_score, roc_auc_score,average_precision_score\n",
    "from sklearn.model_selection import cross_val_score\n",
    "from sklearn.metrics import confusion_matrix, ConfusionMatrixDisplay\n",
    "from sklearn.metrics import plot_confusion_matrix\n",
    "from sklearn.model_selection import train_test_split\n",
    "from sklearn.svm import SVC\n",
    "from sklearn.ensemble import RandomForestClassifier\n",
    "from sklearn.ensemble import AdaBoostClassifier\n",
    "from catboost import CatBoostClassifier, Pool  \n",
    "from lightgbm import LGBMClassifier   \n",
    "from sklearn.neural_network import MLPClassifier\n",
    "\n",
    "from imblearn.under_sampling import ClusterCentroids, RandomUnderSampler\n",
    "\n",
    "import warnings\n",
    "warnings.filterwarnings(action='ignore')"
   ]
  },
  {
   "cell_type": "markdown",
   "metadata": {},
   "source": [
    "## 함수"
   ]
  },
  {
   "cell_type": "code",
   "execution_count": null,
   "metadata": {},
   "outputs": [],
   "source": [
    "def modeling(model, X):\n",
    "    X_train, X_test, y_train, y_test = train_test_split(X, y, test_size=0.3, stratify=y, random_state=46)\n",
    "    cc = RandomUnderSampler(random_state=42) #train만 언더샘플링 진행\n",
    "    X_train_under, y_train_under = cc.fit_resample(X_train, y_train)\n",
    "    clf=model\n",
    "\n",
    "    clf.fit(X_train_under, y_train_under)\n",
    "    y_pred = clf.predict(X_test)\n",
    "    y_true = y_test\n",
    "    print(confusion_matrix(y_true, y_pred)) #confusion_matrix\n",
    "    print('Accuracy score : ', accuracy_score(y_true, y_pred))\n",
    "    print('Recall score : ', recall_score(y_true, y_pred, average='macro')) # 스코어\n",
    "    print('precision score : ', precision_score(y_true, y_pred, average='macro'))\n",
    "    print('f1_score : ', f1_score(y_true, y_pred, average='macro'))\n",
    "    print(\"roc_auc_score: {:.3f}\".format(roc_auc_score(y_test, y_pred)))\n",
    "    #print(\"pr_auc_score: {:.3f}\".format(average_precision_score(y_test, y_pred)))\n",
    "    feat_importances = pd.Series(clf.feature_importances_ , index= X_train.columns)\n",
    "    print(feat_importances.plot(kind = 'barh')) #feature_importances"
   ]
  },
  {
   "cell_type": "code",
   "execution_count": 44,
   "metadata": {},
   "outputs": [],
   "source": [
    "def modeling(model, X, y, test):    \n",
    "    model.fit(X, y)\n",
    "    pred = model.predict_proba(test)\n",
    "    pred = (pred[:,0] < 0.5)*1         # threshold 부도기업일 확률이 10% 이상이면 부도로 판단해라.\n",
    "    return pred"
   ]
  },
  {
   "cell_type": "code",
   "execution_count": 45,
   "metadata": {},
   "outputs": [],
   "source": [
    "def scoring(y_true, y_pred):\n",
    "    print('accuracy:', accuracy_score(y_true,y_pred))\n",
    "    print('f1-Score:', f1_score(y_true, y_pred, average='macro'))\n",
    "    print('Recall:',recall_score(y_true, y_pred, average='macro'))\n",
    "    print('Precision:',precision_score(y_true, y_pred, average='macro'))\n",
    "    print(confusion_matrix(y_true, y_pred))\n",
    "    "
   ]
  },
  {
   "cell_type": "markdown",
   "metadata": {},
   "source": [
    "## 데이터 불러오기"
   ]
  },
  {
   "cell_type": "code",
   "execution_count": 6,
   "metadata": {},
   "outputs": [],
   "source": [
    "#lasso+anova 겹치는 16개변수\n",
    "col_16 = ['EBITDA단기차입비율', '경영자본순이익률','당좌비율', '매출채권회수기간', '부가가치율',\n",
    "            '부채구성비율','부채비율','비유동비율','비유동장기적합률',\n",
    "            '설비투자효율','순운전자본비율','유동부채비율','자기자본순이익률','재고자산보유기간',\n",
    "            '총자본순이익률','총자본투자효율']"
   ]
  },
  {
   "cell_type": "code",
   "execution_count": 7,
   "metadata": {},
   "outputs": [],
   "source": [
    "col_head = ['회사명', '거래소코드', '회계년도']\n",
    "col_finance = ['설비투자효율', '총자본투자효율', '부채구성비율', '비유동장기적합률',\n",
    "       '재고자산보유기간', '매출채권회수기간', '매입채무회전률', '경영자본회전률', '경영자본순이익률', '자기자본순이익률',\n",
    "       '자기자본증가율']\n",
    "col_text = ['대표이사_변경', '최대주주_변경', '회계처리위반', '횡령배임', '신종채권', '영업조업중단', '종가변동률']\n",
    "col_tail = ['년', 'key', '부도']"
   ]
  },
  {
   "cell_type": "markdown",
   "metadata": {},
   "source": [
    "## set2. step1. 1 year ago"
   ]
  },
  {
   "cell_type": "code",
   "execution_count": 38,
   "metadata": {},
   "outputs": [],
   "source": [
    "step1_y0 = pd.read_csv(r'..\\..\\..\\Data\\year 조정 데이터\\0y_finan+step1.csv')\n",
    "step1_y1 = pd.read_csv(r'..\\..\\..\\Data\\year 조정 데이터\\1y_finan+step1.csv')\n",
    "step1_y2 = pd.read_csv(r'..\\..\\..\\Data\\year 조정 데이터\\2y_finan+step1.csv')\n",
    "step1_y3 = pd.read_csv(r'..\\..\\..\\Data\\year 조정 데이터\\3y_finan+step1.csv')\n",
    "step1_y4 = pd.read_csv(r'..\\..\\..\\Data\\year 조정 데이터\\4y_finan+step1.csv')\n",
    "col_drop = ['회사명', '거래소코드', '회계년도','년', 'key', '부도']"
   ]
  },
  {
   "cell_type": "code",
   "execution_count": 39,
   "metadata": {},
   "outputs": [
    {
     "name": "stdout",
     "output_type": "stream",
     "text": [
      "(26832, 24)\n",
      "(26832, 24)\n",
      "(26832, 24)\n",
      "(26832, 24)\n",
      "(26832, 24)\n"
     ]
    }
   ],
   "source": [
    "print(step1_y0.shape)\n",
    "print(step1_y1.shape)\n",
    "print(step1_y2.shape)\n",
    "print(step1_y3.shape)\n",
    "print(step1_y4.shape)"
   ]
  },
  {
   "cell_type": "code",
   "execution_count": 40,
   "metadata": {},
   "outputs": [],
   "source": [
    "def split_train(data):\n",
    "    \n",
    "    a = data.loc[data['년'] < 2015].reset_index(drop=True)\n",
    "    return a\n",
    "\n",
    "def split_test(data):\n",
    "    \n",
    "    a = data.loc[data['년'] >= 2015].reset_index(drop=True)\n",
    "    return a"
   ]
  },
  {
   "cell_type": "code",
   "execution_count": 41,
   "metadata": {},
   "outputs": [
    {
     "name": "stdout",
     "output_type": "stream",
     "text": [
      "(8504, 24)\n",
      "(8504, 24)\n",
      "(18328, 24)\n",
      "(18328, 24)\n"
     ]
    }
   ],
   "source": [
    "test_y0 = split_test(step1_y0)\n",
    "data_y0 = split_train(step1_y0)\n",
    "test_y1 = split_test(step1_y1)\n",
    "data_y1 = split_train(step1_y1)\n",
    "test_y2 = split_test(step1_y2)\n",
    "data_y2 = split_train(step1_y2)\n",
    "test_y3 = split_test(step1_y3)\n",
    "data_y3 = split_train(step1_y3)\n",
    "test_y4 = split_test(step1_y4)\n",
    "data_y4 = split_train(step1_y4)\n",
    "print(test_y2.shape)\n",
    "print(test_y3.shape)\n",
    "print(data_y2.shape)\n",
    "print(data_y3.shape)"
   ]
  },
  {
   "cell_type": "code",
   "execution_count": 90,
   "metadata": {},
   "outputs": [],
   "source": [
    "# def test_split(data1, data2, data3, data4):\n",
    "#     data1.loc[data1['회계년도'].str[:4].astype(int)>=2019].reset_index().to_csv('{year}_test.csv'.format(year = data1))\n",
    "#     data1.loc[data1['회계년도'].str[:4].astype(int)<2019].reset_index().to_csv('{data1}_data.csv'.format(data1))\n",
    "#     data2.loc[data2['회계년도'].str[:4].astype(int)>=2019].reset_index().to_csv('{data2}_test.csv'.format(data2))\n",
    "#     data2.loc[data2['회계년도'].str[:4].astype(int)<2019].reset_index().to_csv('{data2}_data.csv'.format(data2))\n",
    "#     data3.loc[data3['회계년도'].str[:4].astype(int)>=2019].reset_index().to_csv('{data3}_test.csv'.format(data3))\n",
    "#     data3.loc[data3['회계년도'].str[:4].astype(int)<2019].reset_index().to_csv('{data3}_data.csv'.format(data3))\n",
    "#     data4.loc[data4['회계년도'].str[:4].astype(int)>=2019].reset_index().to_csv('{data4}_test.csv'.format(data4))\n",
    "#     data4.loc[data4['회계년도'].str[:4].astype(int)<2019].reset_index().to_csv('{data4}_data.csv'.format(data4))"
   ]
  },
  {
   "cell_type": "code",
   "execution_count": 42,
   "metadata": {},
   "outputs": [],
   "source": [
    "X = data_y0.drop(col_drop,axis=1)\n",
    "X1 = data_y1.drop(col_drop,axis=1)\n",
    "X2 = data_y2.drop(col_drop,axis=1)\n",
    "X3 = data_y3.drop(col_drop,axis=1)\n",
    "X4 = data_y4.drop(col_drop,axis=1)\n",
    "\n",
    "y = data_y0['부도']\n",
    "y1 = data_y1['부도']\n",
    "y2 = data_y2['부도']\n",
    "y3 = data_y3['부도']\n",
    "y4 = data_y4['부도']"
   ]
  },
  {
   "cell_type": "code",
   "execution_count": 43,
   "metadata": {},
   "outputs": [],
   "source": [
    "X_test = test_y0.drop(col_drop,axis=1)\n",
    "X1_test = test_y1.drop(col_drop,axis=1)\n",
    "X2_test = test_y2.drop(col_drop,axis=1)\n",
    "X3_test = test_y3.drop(col_drop,axis=1)\n",
    "X4_test = test_y4.drop(col_drop,axis=1)\n",
    "\n",
    "y_test = test_y0['부도']\n",
    "y1_test = test_y1['부도']\n",
    "y2_test = test_y2['부도']\n",
    "y3_test = test_y3['부도']\n",
    "y4_test = test_y4['부도']"
   ]
  },
  {
   "cell_type": "markdown",
   "metadata": {},
   "source": [
    "## year0"
   ]
  },
  {
   "cell_type": "code",
   "execution_count": 49,
   "metadata": {},
   "outputs": [],
   "source": [
    "X_train , y_train = RandomUnderSampler(random_state=0).fit_resample(X , y) #언더샘플링"
   ]
  },
  {
   "cell_type": "code",
   "execution_count": 52,
   "metadata": {},
   "outputs": [
    {
     "name": "stdout",
     "output_type": "stream",
     "text": [
      "[17:48:43] WARNING: C:/Users/Administrator/workspace/xgboost-win64_release_1.5.0/src/learner.cc:1115: Starting in XGBoost 1.3.0, the default evaluation metric used with the objective 'binary:logistic' was changed from 'error' to 'logloss'. Explicitly set eval_metric if you'd like to restore the old behavior.\n"
     ]
    }
   ],
   "source": [
    "dt_clf = modeling(DecisionTreeClassifier(), X_train, y_train, X_test)\n",
    "rf_clf = modeling(RandomForestClassifier(),X_train, y_train, X_test)\n",
    "ada_clf = modeling(AdaBoostClassifier(), X_train, y_train, X_test)\n",
    "lg_clf = modeling(LogisticRegression(), X_train, y_train, X_test)\n",
    "knn_clf = modeling(KNeighborsClassifier(), X_train, y_train, X_test)\n",
    "svc_clf = modeling(SVC(probability=True), X_train, y_train, X_test)\n",
    "lgmb_clf = modeling(LGBMClassifier(), X_train, y_train, X_test)\n",
    "cat_clf = modeling(CatBoostClassifier(silent=True),X_train, y_train, X_test)\n",
    "mlp_clf = modeling(MLPClassifier(),X_train, y_train, X_test)\n",
    "xgb_clf = modeling(XGBClassifier(),X_train, y_train, X_test)"
   ]
  },
  {
   "cell_type": "code",
   "execution_count": 53,
   "metadata": {},
   "outputs": [
    {
     "name": "stdout",
     "output_type": "stream",
     "text": [
      "accuracy: 0.823612417685795\n",
      "f1-Score: 0.4843062706513993\n",
      "Recall: 0.9112531061412851\n",
      "Precision: 0.5170637475853187\n",
      "[[6951 1500]\n",
      " [   0   53]]\n"
     ]
    }
   ],
   "source": [
    "scoring(y_test , cat_clf)"
   ]
  },
  {
   "cell_type": "code",
   "execution_count": 54,
   "metadata": {},
   "outputs": [
    {
     "name": "stdout",
     "output_type": "stream",
     "text": [
      "accuracy: 0.8225540921919097\n",
      "f1-Score: 0.47623993037612544\n",
      "Recall: 0.7888482550909461\n",
      "Precision: 0.5120879975124378\n",
      "[[6955 1496]\n",
      " [  13   40]]\n"
     ]
    }
   ],
   "source": [
    "scoring(y_test , mlp_clf)"
   ]
  },
  {
   "cell_type": "code",
   "execution_count": 55,
   "metadata": {},
   "outputs": [
    {
     "name": "stdout",
     "output_type": "stream",
     "text": [
      "accuracy: 0.8233772342427094\n",
      "f1-Score: 0.4841939652387413\n",
      "Recall: 0.9111347769494734\n",
      "Precision: 0.5170418006430868\n",
      "[[6949 1502]\n",
      " [   0   53]]\n"
     ]
    }
   ],
   "source": [
    "scoring(y_test , lgmb_clf)"
   ]
  },
  {
   "cell_type": "code",
   "execution_count": 56,
   "metadata": {},
   "outputs": [
    {
     "name": "stdout",
     "output_type": "stream",
     "text": [
      "accuracy: 0.8410159924741298\n",
      "f1-Score: 0.48322168405231153\n",
      "Recall: 0.7793875013116679\n",
      "Precision: 0.5127661408587204\n",
      "[[7114 1337]\n",
      " [  15   38]]\n"
     ]
    }
   ],
   "source": [
    "scoring(y_test , knn_clf)"
   ]
  },
  {
   "cell_type": "code",
   "execution_count": 57,
   "metadata": {},
   "outputs": [
    {
     "name": "stdout",
     "output_type": "stream",
     "text": [
      "accuracy: 0.8233772342427094\n",
      "f1-Score: 0.4841939652387413\n",
      "Recall: 0.9111347769494734\n",
      "Precision: 0.5170418006430868\n",
      "[[6949 1502]\n",
      " [   0   53]]\n"
     ]
    }
   ],
   "source": [
    "scoring(y_test , rf_clf)"
   ]
  },
  {
   "cell_type": "code",
   "execution_count": null,
   "metadata": {},
   "outputs": [],
   "source": []
  },
  {
   "cell_type": "markdown",
   "metadata": {},
   "source": [
    "# 1 year ago"
   ]
  },
  {
   "cell_type": "code",
   "execution_count": 58,
   "metadata": {},
   "outputs": [],
   "source": [
    "X1_train , y1_train = RandomUnderSampler(random_state=0).fit_resample(X1 , y1)"
   ]
  },
  {
   "cell_type": "code",
   "execution_count": 59,
   "metadata": {},
   "outputs": [
    {
     "name": "stdout",
     "output_type": "stream",
     "text": [
      "[17:51:08] WARNING: C:/Users/Administrator/workspace/xgboost-win64_release_1.5.0/src/learner.cc:1115: Starting in XGBoost 1.3.0, the default evaluation metric used with the objective 'binary:logistic' was changed from 'error' to 'logloss'. Explicitly set eval_metric if you'd like to restore the old behavior.\n"
     ]
    }
   ],
   "source": [
    "dt_clf1 = modeling(DecisionTreeClassifier(), X1_train, y1_train, X1_test)\n",
    "rf_clf1 = modeling(RandomForestClassifier(),X1_train, y1_train, X1_test)\n",
    "ada_clf1 = modeling(AdaBoostClassifier(), X1_train, y1_train, X1_test)\n",
    "lg_clf1 = modeling(LogisticRegression(), X1_train, y1_train, X1_test)\n",
    "knn_clf1 = modeling(KNeighborsClassifier(), X1_train, y1_train, X1_test)\n",
    "svc_clf1 = modeling(SVC(probability=True), X1_train, y1_train, X1_test)\n",
    "lgmb_clf1 = modeling(LGBMClassifier(), X1_train, y1_train, X1_test)\n",
    "cat_clf1 = modeling(CatBoostClassifier(silent=True),X1_train, y1_train, X1_test)\n",
    "mlp_clf1 = modeling(MLPClassifier(),X1_train, y1_train, X1_test)\n",
    "xgb_clf1 = modeling(XGBClassifier(),X1_train, y1_train, X1_test)"
   ]
  },
  {
   "cell_type": "code",
   "execution_count": 60,
   "metadata": {},
   "outputs": [
    {
     "name": "stdout",
     "output_type": "stream",
     "text": [
      "accuracy: 0.7189557855126999\n",
      "f1-Score: 0.4336151988924535\n",
      "Recall: 0.7654623935666982\n",
      "Precision: 0.5073182062692553\n",
      "[[6075 2381]\n",
      " [   9   39]]\n"
     ]
    }
   ],
   "source": [
    "scoring(y1_test , cat_clf1)"
   ]
  },
  {
   "cell_type": "code",
   "execution_count": null,
   "metadata": {},
   "outputs": [],
   "source": []
  },
  {
   "cell_type": "markdown",
   "metadata": {},
   "source": [
    "## 2 years ago"
   ]
  },
  {
   "cell_type": "code",
   "execution_count": 63,
   "metadata": {},
   "outputs": [],
   "source": [
    "X2_train , y2_train = RandomUnderSampler(random_state=0).fit_resample(X2 , y2)"
   ]
  },
  {
   "cell_type": "code",
   "execution_count": 64,
   "metadata": {},
   "outputs": [
    {
     "name": "stdout",
     "output_type": "stream",
     "text": [
      "[17:54:08] WARNING: C:/Users/Administrator/workspace/xgboost-win64_release_1.5.0/src/learner.cc:1115: Starting in XGBoost 1.3.0, the default evaluation metric used with the objective 'binary:logistic' was changed from 'error' to 'logloss'. Explicitly set eval_metric if you'd like to restore the old behavior.\n"
     ]
    }
   ],
   "source": [
    "dt_clf2 = modeling(DecisionTreeClassifier(), X2_train, y2_train, X2_test)\n",
    "rf_clf2 = modeling(RandomForestClassifier(),X2_train, y2_train, X2_test)\n",
    "ada_clf2 = modeling(AdaBoostClassifier(), X2_train, y2_train, X2_test)\n",
    "lg_clf2 = modeling(LogisticRegression(), X2_train, y2_train, X2_test)\n",
    "knn_clf2 = modeling(KNeighborsClassifier(), X2_train, y2_train, X2_test)\n",
    "svc_clf2 = modeling(SVC(probability=True), X2_train, y2_train, X2_test)\n",
    "lgmb_clf2 = modeling(LGBMClassifier(), X2_train, y2_train, X2_test)\n",
    "cat_clf2 = modeling(CatBoostClassifier(silent=True),X2_train, y2_train, X2_test)\n",
    "mlp_clf2 = modeling(MLPClassifier(),X2_train, y2_train, X2_test)\n",
    "xgb_clf2 = modeling(XGBClassifier(),X2_train, y2_train, X2_test)"
   ]
  },
  {
   "cell_type": "code",
   "execution_count": 65,
   "metadata": {},
   "outputs": [
    {
     "name": "stdout",
     "output_type": "stream",
     "text": [
      "accuracy: 0.7107243650047037\n",
      "f1-Score: 0.4277569959704156\n",
      "Recall: 0.7109167093562412\n",
      "Precision: 0.5053753772351655\n",
      "[[6012 2447]\n",
      " [  13   32]]\n"
     ]
    }
   ],
   "source": [
    "scoring(y2_test , cat_clf2)"
   ]
  },
  {
   "cell_type": "code",
   "execution_count": null,
   "metadata": {},
   "outputs": [],
   "source": []
  },
  {
   "cell_type": "markdown",
   "metadata": {},
   "source": [
    "## 3 years ago"
   ]
  },
  {
   "cell_type": "code",
   "execution_count": 66,
   "metadata": {},
   "outputs": [
    {
     "name": "stdout",
     "output_type": "stream",
     "text": [
      "[17:54:42] WARNING: C:/Users/Administrator/workspace/xgboost-win64_release_1.5.0/src/learner.cc:1115: Starting in XGBoost 1.3.0, the default evaluation metric used with the objective 'binary:logistic' was changed from 'error' to 'logloss'. Explicitly set eval_metric if you'd like to restore the old behavior.\n"
     ]
    }
   ],
   "source": [
    "X3_train , y3_train = RandomUnderSampler(random_state=0).fit_resample(X3 , y3)\n",
    "\n",
    "dt_clf3 = modeling(DecisionTreeClassifier(), X3_train, y3_train, X3_test)\n",
    "rf_clf3 = modeling(RandomForestClassifier(),X3_train, y3_train, X3_test)\n",
    "ada_clf3 = modeling(AdaBoostClassifier(), X3_train, y3_train, X3_test)\n",
    "lg_clf3 = modeling(LogisticRegression(), X3_train, y3_train, X3_test)\n",
    "knn_clf3 = modeling(KNeighborsClassifier(), X3_train, y3_train, X3_test)\n",
    "svc_clf3 = modeling(SVC(probability=True), X3_train, y3_train, X3_test)\n",
    "lgmb_clf3 = modeling(LGBMClassifier(), X3_train, y3_train, X3_test)\n",
    "cat_clf3 = modeling(CatBoostClassifier(silent=True),X3_train, y3_train, X3_test)\n",
    "mlp_clf3 = modeling(MLPClassifier(),X3_train, y3_train, X3_test)\n",
    "xgb_clf3 = modeling(XGBClassifier(),X3_train, y3_train, X3_test)"
   ]
  },
  {
   "cell_type": "code",
   "execution_count": null,
   "metadata": {},
   "outputs": [],
   "source": []
  },
  {
   "cell_type": "markdown",
   "metadata": {},
   "source": [
    "## 4 years ago"
   ]
  },
  {
   "cell_type": "code",
   "execution_count": 67,
   "metadata": {},
   "outputs": [
    {
     "name": "stdout",
     "output_type": "stream",
     "text": [
      "[17:55:01] WARNING: C:/Users/Administrator/workspace/xgboost-win64_release_1.5.0/src/learner.cc:1115: Starting in XGBoost 1.3.0, the default evaluation metric used with the objective 'binary:logistic' was changed from 'error' to 'logloss'. Explicitly set eval_metric if you'd like to restore the old behavior.\n"
     ]
    }
   ],
   "source": [
    "X4_train , y4_train = RandomUnderSampler(random_state=0).fit_resample(X4 , y4)\n",
    "\n",
    "dt_clf4 = modeling(DecisionTreeClassifier(), X4_train, y4_train, X4_test)\n",
    "rf_clf4 = modeling(RandomForestClassifier(),X4_train, y4_train, X4_test)\n",
    "ada_clf4 = modeling(AdaBoostClassifier(), X4_train, y4_train, X4_test)\n",
    "lg_clf4 = modeling(LogisticRegression(), X4_train, y4_train, X4_test)\n",
    "knn_clf4 = modeling(KNeighborsClassifier(), X4_train, y4_train, X4_test)\n",
    "svc_clf4 = modeling(SVC(probability=True), X4_train, y4_train, X4_test)\n",
    "lgmb_clf4 = modeling(LGBMClassifier(), X4_train, y4_train, X4_test)\n",
    "cat_clf4 = modeling(CatBoostClassifier(silent=True),X4_train, y4_train, X4_test)\n",
    "mlp_clf4 = modeling(MLPClassifier(),X4_train, y4_train, X4_test)\n",
    "xgb_clf4 = modeling(XGBClassifier(),X4_train, y4_train, X4_test)"
   ]
  },
  {
   "cell_type": "code",
   "execution_count": null,
   "metadata": {},
   "outputs": [],
   "source": []
  },
  {
   "cell_type": "code",
   "execution_count": null,
   "metadata": {},
   "outputs": [],
   "source": []
  },
  {
   "cell_type": "code",
   "execution_count": null,
   "metadata": {},
   "outputs": [],
   "source": []
  },
  {
   "cell_type": "markdown",
   "metadata": {},
   "source": [
    "## 비교"
   ]
  },
  {
   "cell_type": "markdown",
   "metadata": {},
   "source": [
    "### RF"
   ]
  },
  {
   "cell_type": "code",
   "execution_count": 68,
   "metadata": {},
   "outputs": [
    {
     "name": "stdout",
     "output_type": "stream",
     "text": [
      "accuracy: 0.823612417685795\n",
      "f1-Score: 0.4843062706513993\n",
      "Recall: 0.9112531061412851\n",
      "Precision: 0.5170637475853187\n",
      "[[6951 1500]\n",
      " [   0   53]]\n",
      "None\n",
      "accuracy: 0.7189557855126999\n",
      "f1-Score: 0.4336151988924535\n",
      "Recall: 0.7654623935666982\n",
      "Precision: 0.5073182062692553\n",
      "[[6075 2381]\n",
      " [   9   39]]\n",
      "None\n",
      "accuracy: 0.7107243650047037\n",
      "f1-Score: 0.4277569959704156\n",
      "Recall: 0.7109167093562412\n",
      "Precision: 0.5053753772351655\n",
      "[[6012 2447]\n",
      " [  13   32]]\n",
      "None\n",
      "accuracy: 0.6251175917215428\n",
      "f1-Score: 0.3908098655953966\n",
      "Recall: 0.6307187087496378\n",
      "Precision: 0.5021537468086337\n",
      "[[5295 3176]\n",
      " [  12   21]]\n",
      "None\n",
      "accuracy: 0.6165333960489181\n",
      "f1-Score: 0.38455277976128055\n",
      "Recall: 0.5584178259844377\n",
      "Precision: 0.5006375814647622\n",
      "[[5232 3250]\n",
      " [  11   11]]\n",
      "None\n"
     ]
    }
   ],
   "source": [
    "print(scoring(y_test , cat_clf))\n",
    "print(scoring(y1_test , cat_clf1))\n",
    "print(scoring(y2_test , cat_clf2))\n",
    "print(scoring(y3_test , cat_clf3))\n",
    "print(scoring(y4_test , cat_clf4))"
   ]
  },
  {
   "cell_type": "code",
   "execution_count": 69,
   "metadata": {},
   "outputs": [
    {
     "name": "stdout",
     "output_type": "stream",
     "text": [
      "accuracy: 0.8233772342427094\n",
      "f1-Score: 0.4841939652387413\n",
      "Recall: 0.9111347769494734\n",
      "Precision: 0.5170418006430868\n",
      "[[6949 1502]\n",
      " [   0   53]]\n",
      "None\n",
      "accuracy: 0.6974365004703669\n",
      "f1-Score: 0.425103572854594\n",
      "Recall: 0.7546416745506149\n",
      "Precision: 0.5067287735144287\n",
      "[[5892 2564]\n",
      " [   9   39]]\n",
      "None\n",
      "accuracy: 0.6846190028222013\n",
      "f1-Score: 0.4169411994241331\n",
      "Recall: 0.6756905859636679\n",
      "Precision: 0.5042701905739554\n",
      "[[5792 2667]\n",
      " [  15   30]]\n",
      "None\n",
      "accuracy: 0.581961429915334\n",
      "f1-Score: 0.37278712832412464\n",
      "Recall: 0.5788715868399494\n",
      "Precision: 0.5012526817206647\n",
      "[[4930 3541]\n",
      " [  14   19]]\n",
      "None\n",
      "accuracy: 0.5552681091251176\n",
      "f1-Score: 0.36063394198439097\n",
      "Recall: 0.6183790272448608\n",
      "Precision: 0.5012364225800204\n",
      "[[4707 3775]\n",
      " [   7   15]]\n",
      "None\n"
     ]
    }
   ],
   "source": [
    "print(scoring(y_test , lgmb_clf))\n",
    "print(scoring(y1_test , lgmb_clf1))\n",
    "print(scoring(y2_test , lgmb_clf2))\n",
    "print(scoring(y3_test , lgmb_clf3))\n",
    "print(scoring(y4_test , lgmb_clf4))"
   ]
  },
  {
   "cell_type": "code",
   "execution_count": 95,
   "metadata": {},
   "outputs": [],
   "source": [
    "a=confusion_matrix(y_test, lgmb_clf)"
   ]
  },
  {
   "cell_type": "code",
   "execution_count": 98,
   "metadata": {},
   "outputs": [
    {
     "data": {
      "text/plain": [
       "<AxesSubplot:>"
      ]
     },
     "execution_count": 98,
     "metadata": {},
     "output_type": "execute_result"
    },
    {
     "data": {
      "image/png": "[encoded data removed]",
      "text/plain": [
       "<Figure size 432x288 with 2 Axes>"
      ]
     },
     "metadata": {
      "needs_background": "light"
     },
     "output_type": "display_data"
    }
   ],
   "source": [
    "import seaborn as sns\n",
    "sns.heatmap(a, annot=True, cmap='Blues')"
   ]
  }
 ],
 "metadata": {
  "interpreter": {
   "hash": "247ab06e135bb35fa78c5eff31b2a9a0050dcb5fb773c2631d2a29ac689eeccb"
  },
  "kernelspec": {
   "display_name": "Python 3.9.6 64-bit",
   "language": "python",
   "name": "python3"
  },
  "language_info": {
   "codemirror_mode": {
    "name": "ipython",
    "version": 3
   },
   "file_extension": ".py",
   "mimetype": "text/x-python",
   "name": "python",
   "nbconvert_exporter": "python",
   "pygments_lexer": "ipython3",
   "version": "3.9.6"
  },
  "orig_nbformat": 4
 },
 "nbformat": 4,
 "nbformat_minor": 2
}
