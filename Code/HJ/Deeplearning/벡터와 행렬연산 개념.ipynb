{
 "cells": [
  {
   "cell_type": "markdown",
   "metadata": {},
   "source": [
    "# **벡터와 행렬 연산**"
   ]
  },
  {
   "cell_type": "markdown",
   "metadata": {},
   "source": [
    "## 1. 벡터와 행렬과 텐서 <br>"
   ]
  },
  {
   "cell_type": "markdown",
   "metadata": {},
   "source": [
    "벡터는 크기와 방향을 가진 양입니다.<br> 숫자가 나열된 형상이며 파이썬에서는 1차원 배열 또는 리스트로 표현합니다. <br>반면, 행렬은 행과 열을 가지는 2차원 형상을 가진 구조입니다. <br>파이썬에서는 2차원 배열로 표현합니다. <br>가로줄을 행(row)라고 하며, 세로줄을 열(column)이라고 합니다. <br>3차원부터는 주로 텐서라고 부릅니다. <br>텐서는 파이썬에서는 3차원 이상의 배열로 표현합니다."
   ]
  },
  {
   "cell_type": "markdown",
   "metadata": {},
   "source": [
    "## 2. 텐서(Tensor)"
   ]
  },
  {
   "cell_type": "markdown",
   "metadata": {},
   "source": [
    "### 1) 0차원 텐서 <br>"
   ]
  },
  {
   "cell_type": "markdown",
   "metadata": {},
   "source": [
    "- 스칼라는 하나의 실수값으로 이루어진 데이터를 말한다. (0차원 텐서) <br>\n",
    "- Numpy의 ndim은 축의 개수를 출력하는데, 이는 텐서에서의 차원수와 동일."
   ]
  },
  {
   "cell_type": "code",
   "execution_count": 4,
   "metadata": {},
   "outputs": [
    {
     "name": "stdout",
     "output_type": "stream",
     "text": [
      "0\n",
      "()\n"
     ]
    }
   ],
   "source": [
    "import numpy as np\n",
    "\n",
    "d = np.array(5)\n",
    "print(d.ndim) # 차원수 출력\n",
    "print(d.shape) # 텐서의 크기 출력 : 크기 없음"
   ]
  },
  {
   "cell_type": "markdown",
   "metadata": {},
   "source": [
    "### 2) 1차원 텐서"
   ]
  },
  {
   "cell_type": "markdown",
   "metadata": {},
   "source": [
    "- 숫자를 특정 순서대로 배열한 것을 벡터(1차원 텐서)라고 함. <br>\n",
    "- 주의할 점은 벡터의 차원과 텐서의 차원은 다른 개념이라는 점이다. <br>\n",
    "- 아래의 예제는 4차원 벡터이지만, 1차원 텐서."
   ]
  },
  {
   "cell_type": "markdown",
   "metadata": {},
   "source": [
    "- 벡터의 차원과 텐서의 차원의 정의로 인해 혼동할 수 있는데 <br>벡터에서의 차원(Dimensionality)은 하나의 축에 차원들이 존재하는 것이고, <br>텐서에서의 차원(Dimensionality)은 축의 개수를 의미한다."
   ]
  },
  {
   "cell_type": "code",
   "execution_count": 6,
   "metadata": {},
   "outputs": [
    {
     "name": "stdout",
     "output_type": "stream",
     "text": [
      "1\n",
      "(4,)\n"
     ]
    }
   ],
   "source": [
    "d = np.array([1, 2, 3, 4])\n",
    "print(d.ndim)\n",
    "print(d.shape)"
   ]
  },
  {
   "cell_type": "markdown",
   "metadata": {},
   "source": [
    "### 3) 2차원 텐서"
   ]
  },
  {
   "cell_type": "markdown",
   "metadata": {},
   "source": [
    "- 행과 열이 존재하는 벡터의 배열. 즉, 행렬(matrix)을 2차원 텐서(2D 텐서)라 함"
   ]
  },
  {
   "cell_type": "code",
   "execution_count": 7,
   "metadata": {},
   "outputs": [
    {
     "name": "stdout",
     "output_type": "stream",
     "text": [
      "2\n",
      "(3, 4)\n"
     ]
    }
   ],
   "source": [
    "d = np.array([[1, 2, 3, 4], [5, 6, 7, 8], [9, 10, 11, 12]])\n",
    "print(d.ndim)\n",
    "print(d.shape)"
   ]
  },
  {
   "cell_type": "markdown",
   "metadata": {},
   "source": [
    "### 4) 3차원 텐서"
   ]
  },
  {
   "cell_type": "markdown",
   "metadata": {},
   "source": [
    "- 행렬 또는 2차원 텐서를 단위로 한 번 더 배열하면 3차원 텐서라고 부릅니다. <br>\n",
    "- 3차원 이상의 텐서부터 본격적으로 텐서라고 부릅니다. <br>\n",
    "- 그렇다면 3D 텐서는 적어도 여기서는 3차원 배열로 이해하면 되겠습니다."
   ]
  },
  {
   "cell_type": "code",
   "execution_count": 8,
   "metadata": {},
   "outputs": [
    {
     "name": "stdout",
     "output_type": "stream",
     "text": [
      "3\n",
      "(2, 3, 5)\n"
     ]
    }
   ],
   "source": [
    "d = np.array([\n",
    "            [[1, 2, 3, 4, 5], [6, 7, 8, 9, 10], [10, 11, 12, 13, 14]],\n",
    "            [[15, 16, 17, 18, 19], [19, 20, 21, 22, 23], [23, 24, 25, 26, 27]]\n",
    "            ])\n",
    "print(d.ndim)\n",
    "print(d.shape)"
   ]
  },
  {
   "cell_type": "markdown",
   "metadata": {},
   "source": [
    "\n",
    "![screensh](tensor.png)"
   ]
  },
  {
   "cell_type": "markdown",
   "metadata": {},
   "source": [
    "- 자연어 처리에서 3D 텐서를 자주 보게 되는데, 이는 3D 텐서가 시퀀스 데이터를 표현할 때 자주 사용되기 때문 <br>\n",
    "- 시퀀스 데이터는 주로 단어의 시퀀스 의미 <br>\n",
    "- 시퀀스는 문장, 문서, 뉴스 기사의 텍스트가 될 수 있음 <br>\n",
    "- 이 경우 3D 텐서는 (samples(or batch_size), timesteps, word_dim) = (샘플 수, 시퀀스 길이, 단어 벡터 차원) <br>\n",
    "- 훈련 데이터를 여러개 묶어서 한 꺼번에 입력으로 사용하는 것을 <mark>배치</mark>(Batch)"
   ]
  },
  {
   "cell_type": "markdown",
   "metadata": {},
   "source": [
    "---"
   ]
  },
  {
   "cell_type": "markdown",
   "metadata": {},
   "source": [
    "### 자연어 처리에서 왜 3D 텐서의 개념이 사용되는가?"
   ]
  },
  {
   "cell_type": "markdown",
   "metadata": {},
   "source": [
    "<훈련데이터><br>\n",
    "문서1 : I like NLP <br>\n",
    "문서2 : I like DL <br>\n",
    "문서3 : DL is AI <br>"
   ]
  },
  {
   "cell_type": "markdown",
   "metadata": {},
   "source": [
    "이를 인공 신경망의 모델의 입력으로 사용하기 위해서는 각 단어를 벡터화해야 합니다. <br>\n",
    "원-핫 인코딩으로 모든 단어를 벡터화 해보겠습니다."
   ]
  },
  {
   "cell_type": "markdown",
   "metadata": {},
   "source": [
    "I  　:&nbsp; [1 0 0 0 0 0] <br>\n",
    "like　:&nbsp; [0 1 0 0 0 0] <br>\n",
    "NLP　: [0 0 1 0 0 0] <br>\n",
    "DL 　:&nbsp;[0 0 0 1 0 0] <br>\n",
    "is 　:&nbsp; [0 0 0 0 1 0] <br>\n",
    "AI 　: [0 0 0 0 0 1]"
   ]
  },
  {
   "cell_type": "markdown",
   "metadata": {},
   "source": [
    "기존에 있던 훈련 데이터를 모두 원-핫 벡터로 바꿔서 인공 신경망의 입력으로 한꺼번에 사용한다고 하면 다음과 같습니다."
   ]
  },
  {
   "cell_type": "markdown",
   "metadata": {},
   "source": [
    "[[[1, 0, 0, 0, 0, 0], [0, 1, 0, 0, 0, 0], [0, 0, 1, 0, 0, 0]], <br>\n",
    "[[1, 0, 0, 0, 0, 0], [0, 1, 0, 0, 0, 0], [0, 0, 0, 1, 0, 0]],<br>\n",
    "[[0, 0, 0, 1, 0, 0], [0, 0, 0, 0, 1, 0], [0, 0, 0, 0, 0, 1]]]<br>\n",
    "\n",
    "이는 (3, 3, 6)의 크기를 가지는 3D 텐서입니다."
   ]
  },
  {
   "cell_type": "markdown",
   "metadata": {},
   "source": []
  }
 ],
 "metadata": {
  "interpreter": {
   "hash": "ebda6461c70e927c93d4e52bf6ff9e26f339367ccf1729a776a61c300de201da"
  },
  "kernelspec": {
   "display_name": "Python 3.9.7 64-bit (system)",
   "language": "python",
   "name": "python3"
  },
  "language_info": {
   "codemirror_mode": {
    "name": "ipython",
    "version": 3
   },
   "file_extension": ".py",
   "mimetype": "text/x-python",
   "name": "python",
   "nbconvert_exporter": "python",
   "pygments_lexer": "ipython3",
   "version": "3.9.7"
  },
  "orig_nbformat": 4
 },
 "nbformat": 4,
 "nbformat_minor": 2
}
