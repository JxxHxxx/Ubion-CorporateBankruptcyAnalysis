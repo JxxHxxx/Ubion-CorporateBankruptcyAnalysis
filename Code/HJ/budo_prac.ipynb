{
 "cells": [
  {
   "cell_type": "code",
   "execution_count": 1,
   "metadata": {},
   "outputs": [],
   "source": [
    "import pandas as pd\n",
    "import numpy as np\n",
    "from tqdm import tqdm_notebook,tqdm"
   ]
  },
  {
   "cell_type": "code",
   "execution_count": 2,
   "metadata": {},
   "outputs": [
    {
     "data": {
      "text/html": [
       "<div>\n",
       "<style scoped>\n",
       "    .dataframe tbody tr th:only-of-type {\n",
       "        vertical-align: middle;\n",
       "    }\n",
       "\n",
       "    .dataframe tbody tr th {\n",
       "        vertical-align: top;\n",
       "    }\n",
       "\n",
       "    .dataframe thead th {\n",
       "        text-align: right;\n",
       "    }\n",
       "</style>\n",
       "<table border=\"1\" class=\"dataframe\">\n",
       "  <thead>\n",
       "    <tr style=\"text-align: right;\">\n",
       "      <th></th>\n",
       "      <th>회사명</th>\n",
       "      <th>거래소코드</th>\n",
       "      <th>회계년도</th>\n",
       "      <th>총자본증가율</th>\n",
       "      <th>유형자산증가율</th>\n",
       "      <th>유동자산증가율</th>\n",
       "      <th>영업이익증가율</th>\n",
       "      <th>경상이익증가율 (2007년 이전 발생)</th>\n",
       "      <th>순이익증가율</th>\n",
       "      <th>재고자산증가율</th>\n",
       "      <th>...</th>\n",
       "      <th>자본잉여금(요약)</th>\n",
       "      <th>자본조정(요약)</th>\n",
       "      <th>기타포괄손익누계액(요약)</th>\n",
       "      <th>이익잉여금(요약)</th>\n",
       "      <th>*미처분이익잉여금 및 차기이월미처분이익잉여금(요약)</th>\n",
       "      <th>*당기순이익(요약)</th>\n",
       "      <th>부채와자본총계(요약)</th>\n",
       "      <th>소속코드</th>\n",
       "      <th>상장폐지일</th>\n",
       "      <th>감사의견코드</th>\n",
       "    </tr>\n",
       "  </thead>\n",
       "  <tbody>\n",
       "    <tr>\n",
       "      <th>0</th>\n",
       "      <td>(주)CMG제약</td>\n",
       "      <td>58820</td>\n",
       "      <td>2000/12</td>\n",
       "      <td>NaN</td>\n",
       "      <td>NaN</td>\n",
       "      <td>NaN</td>\n",
       "      <td>NaN</td>\n",
       "      <td>NaN</td>\n",
       "      <td>NaN</td>\n",
       "      <td>NaN</td>\n",
       "      <td>...</td>\n",
       "      <td>NaN</td>\n",
       "      <td>NaN</td>\n",
       "      <td>NaN</td>\n",
       "      <td>NaN</td>\n",
       "      <td>NaN</td>\n",
       "      <td>NaN</td>\n",
       "      <td>NaN</td>\n",
       "      <td>5.0</td>\n",
       "      <td>NaN</td>\n",
       "      <td>UQ</td>\n",
       "    </tr>\n",
       "    <tr>\n",
       "      <th>1</th>\n",
       "      <td>(주)CMG제약</td>\n",
       "      <td>58820</td>\n",
       "      <td>2001/12</td>\n",
       "      <td>0.00</td>\n",
       "      <td>0.00</td>\n",
       "      <td>0.00</td>\n",
       "      <td>0.00</td>\n",
       "      <td>0.00</td>\n",
       "      <td>0.00</td>\n",
       "      <td>0.00</td>\n",
       "      <td>...</td>\n",
       "      <td>NaN</td>\n",
       "      <td>NaN</td>\n",
       "      <td>NaN</td>\n",
       "      <td>NaN</td>\n",
       "      <td>NaN</td>\n",
       "      <td>NaN</td>\n",
       "      <td>NaN</td>\n",
       "      <td>5.0</td>\n",
       "      <td>NaN</td>\n",
       "      <td>UQ</td>\n",
       "    </tr>\n",
       "    <tr>\n",
       "      <th>2</th>\n",
       "      <td>(주)CMG제약</td>\n",
       "      <td>58820</td>\n",
       "      <td>2002/12</td>\n",
       "      <td>-26.34</td>\n",
       "      <td>-17.72</td>\n",
       "      <td>-39.61</td>\n",
       "      <td>0.00</td>\n",
       "      <td>NaN</td>\n",
       "      <td>0.00</td>\n",
       "      <td>-39.91</td>\n",
       "      <td>...</td>\n",
       "      <td>NaN</td>\n",
       "      <td>NaN</td>\n",
       "      <td>NaN</td>\n",
       "      <td>NaN</td>\n",
       "      <td>NaN</td>\n",
       "      <td>NaN</td>\n",
       "      <td>NaN</td>\n",
       "      <td>5.0</td>\n",
       "      <td>NaN</td>\n",
       "      <td>UQ</td>\n",
       "    </tr>\n",
       "    <tr>\n",
       "      <th>3</th>\n",
       "      <td>(주)CMG제약</td>\n",
       "      <td>58820</td>\n",
       "      <td>2003/12</td>\n",
       "      <td>-28.17</td>\n",
       "      <td>-79.37</td>\n",
       "      <td>-13.62</td>\n",
       "      <td>0.00</td>\n",
       "      <td>0.00</td>\n",
       "      <td>0.00</td>\n",
       "      <td>-11.75</td>\n",
       "      <td>...</td>\n",
       "      <td>NaN</td>\n",
       "      <td>NaN</td>\n",
       "      <td>NaN</td>\n",
       "      <td>NaN</td>\n",
       "      <td>NaN</td>\n",
       "      <td>NaN</td>\n",
       "      <td>NaN</td>\n",
       "      <td>5.0</td>\n",
       "      <td>NaN</td>\n",
       "      <td>UQ</td>\n",
       "    </tr>\n",
       "    <tr>\n",
       "      <th>4</th>\n",
       "      <td>(주)CMG제약</td>\n",
       "      <td>58820</td>\n",
       "      <td>2004/12</td>\n",
       "      <td>-53.18</td>\n",
       "      <td>-25.94</td>\n",
       "      <td>-54.38</td>\n",
       "      <td>0.00</td>\n",
       "      <td>-2128.48</td>\n",
       "      <td>0.00</td>\n",
       "      <td>-53.72</td>\n",
       "      <td>...</td>\n",
       "      <td>NaN</td>\n",
       "      <td>NaN</td>\n",
       "      <td>NaN</td>\n",
       "      <td>NaN</td>\n",
       "      <td>NaN</td>\n",
       "      <td>NaN</td>\n",
       "      <td>NaN</td>\n",
       "      <td>5.0</td>\n",
       "      <td>NaN</td>\n",
       "      <td>UQ</td>\n",
       "    </tr>\n",
       "    <tr>\n",
       "      <th>...</th>\n",
       "      <td>...</td>\n",
       "      <td>...</td>\n",
       "      <td>...</td>\n",
       "      <td>...</td>\n",
       "      <td>...</td>\n",
       "      <td>...</td>\n",
       "      <td>...</td>\n",
       "      <td>...</td>\n",
       "      <td>...</td>\n",
       "      <td>...</td>\n",
       "      <td>...</td>\n",
       "      <td>...</td>\n",
       "      <td>...</td>\n",
       "      <td>...</td>\n",
       "      <td>...</td>\n",
       "      <td>...</td>\n",
       "      <td>...</td>\n",
       "      <td>...</td>\n",
       "      <td>...</td>\n",
       "      <td>...</td>\n",
       "      <td>...</td>\n",
       "    </tr>\n",
       "    <tr>\n",
       "      <th>27054</th>\n",
       "      <td>흥구석유(주)</td>\n",
       "      <td>24060</td>\n",
       "      <td>2004/12</td>\n",
       "      <td>0.21</td>\n",
       "      <td>0.07</td>\n",
       "      <td>-2.43</td>\n",
       "      <td>26.81</td>\n",
       "      <td>14.93</td>\n",
       "      <td>9.72</td>\n",
       "      <td>-61.31</td>\n",
       "      <td>...</td>\n",
       "      <td>NaN</td>\n",
       "      <td>NaN</td>\n",
       "      <td>NaN</td>\n",
       "      <td>NaN</td>\n",
       "      <td>NaN</td>\n",
       "      <td>NaN</td>\n",
       "      <td>NaN</td>\n",
       "      <td>5.0</td>\n",
       "      <td>NaN</td>\n",
       "      <td>UQ</td>\n",
       "    </tr>\n",
       "    <tr>\n",
       "      <th>27055</th>\n",
       "      <td>흥구석유(주)</td>\n",
       "      <td>24060</td>\n",
       "      <td>2006/12</td>\n",
       "      <td>1.60</td>\n",
       "      <td>1.69</td>\n",
       "      <td>24.04</td>\n",
       "      <td>-22.09</td>\n",
       "      <td>-15.73</td>\n",
       "      <td>-14.52</td>\n",
       "      <td>-18.56</td>\n",
       "      <td>...</td>\n",
       "      <td>NaN</td>\n",
       "      <td>NaN</td>\n",
       "      <td>NaN</td>\n",
       "      <td>NaN</td>\n",
       "      <td>NaN</td>\n",
       "      <td>NaN</td>\n",
       "      <td>NaN</td>\n",
       "      <td>5.0</td>\n",
       "      <td>NaN</td>\n",
       "      <td>UQ</td>\n",
       "    </tr>\n",
       "    <tr>\n",
       "      <th>27056</th>\n",
       "      <td>흥구석유(주)</td>\n",
       "      <td>24060</td>\n",
       "      <td>2002/12</td>\n",
       "      <td>4.71</td>\n",
       "      <td>-1.19</td>\n",
       "      <td>49.44</td>\n",
       "      <td>2.21</td>\n",
       "      <td>3.97</td>\n",
       "      <td>8.01</td>\n",
       "      <td>18.63</td>\n",
       "      <td>...</td>\n",
       "      <td>NaN</td>\n",
       "      <td>NaN</td>\n",
       "      <td>NaN</td>\n",
       "      <td>NaN</td>\n",
       "      <td>NaN</td>\n",
       "      <td>NaN</td>\n",
       "      <td>NaN</td>\n",
       "      <td>5.0</td>\n",
       "      <td>NaN</td>\n",
       "      <td>UQ</td>\n",
       "    </tr>\n",
       "    <tr>\n",
       "      <th>27057</th>\n",
       "      <td>흥구석유(주)</td>\n",
       "      <td>24060</td>\n",
       "      <td>2001/12</td>\n",
       "      <td>-8.26</td>\n",
       "      <td>-0.72</td>\n",
       "      <td>-33.74</td>\n",
       "      <td>2973.17</td>\n",
       "      <td>41.09</td>\n",
       "      <td>35.81</td>\n",
       "      <td>8.59</td>\n",
       "      <td>...</td>\n",
       "      <td>NaN</td>\n",
       "      <td>NaN</td>\n",
       "      <td>NaN</td>\n",
       "      <td>NaN</td>\n",
       "      <td>NaN</td>\n",
       "      <td>NaN</td>\n",
       "      <td>NaN</td>\n",
       "      <td>5.0</td>\n",
       "      <td>NaN</td>\n",
       "      <td>UQ</td>\n",
       "    </tr>\n",
       "    <tr>\n",
       "      <th>27058</th>\n",
       "      <td>흥구석유(주)</td>\n",
       "      <td>24060</td>\n",
       "      <td>2003/12</td>\n",
       "      <td>-2.16</td>\n",
       "      <td>-0.78</td>\n",
       "      <td>-21.26</td>\n",
       "      <td>-7.27</td>\n",
       "      <td>-21.43</td>\n",
       "      <td>-21.74</td>\n",
       "      <td>0.84</td>\n",
       "      <td>...</td>\n",
       "      <td>NaN</td>\n",
       "      <td>NaN</td>\n",
       "      <td>NaN</td>\n",
       "      <td>NaN</td>\n",
       "      <td>NaN</td>\n",
       "      <td>NaN</td>\n",
       "      <td>NaN</td>\n",
       "      <td>5.0</td>\n",
       "      <td>NaN</td>\n",
       "      <td>UQ</td>\n",
       "    </tr>\n",
       "  </tbody>\n",
       "</table>\n",
       "<p>27059 rows × 293 columns</p>\n",
       "</div>"
      ],
      "text/plain": [
       "            회사명  거래소코드     회계년도  총자본증가율  유형자산증가율  유동자산증가율  영업이익증가율  \\\n",
       "0      (주)CMG제약  58820  2000/12     NaN      NaN      NaN      NaN   \n",
       "1      (주)CMG제약  58820  2001/12    0.00     0.00     0.00     0.00   \n",
       "2      (주)CMG제약  58820  2002/12  -26.34   -17.72   -39.61     0.00   \n",
       "3      (주)CMG제약  58820  2003/12  -28.17   -79.37   -13.62     0.00   \n",
       "4      (주)CMG제약  58820  2004/12  -53.18   -25.94   -54.38     0.00   \n",
       "...         ...    ...      ...     ...      ...      ...      ...   \n",
       "27054   흥구석유(주)  24060  2004/12    0.21     0.07    -2.43    26.81   \n",
       "27055   흥구석유(주)  24060  2006/12    1.60     1.69    24.04   -22.09   \n",
       "27056   흥구석유(주)  24060  2002/12    4.71    -1.19    49.44     2.21   \n",
       "27057   흥구석유(주)  24060  2001/12   -8.26    -0.72   -33.74  2973.17   \n",
       "27058   흥구석유(주)  24060  2003/12   -2.16    -0.78   -21.26    -7.27   \n",
       "\n",
       "       경상이익증가율 (2007년 이전 발생)  순이익증가율  재고자산증가율  ...  자본잉여금(요약)  자본조정(요약)  \\\n",
       "0                        NaN     NaN      NaN  ...        NaN       NaN   \n",
       "1                       0.00    0.00     0.00  ...        NaN       NaN   \n",
       "2                        NaN    0.00   -39.91  ...        NaN       NaN   \n",
       "3                       0.00    0.00   -11.75  ...        NaN       NaN   \n",
       "4                   -2128.48    0.00   -53.72  ...        NaN       NaN   \n",
       "...                      ...     ...      ...  ...        ...       ...   \n",
       "27054                  14.93    9.72   -61.31  ...        NaN       NaN   \n",
       "27055                 -15.73  -14.52   -18.56  ...        NaN       NaN   \n",
       "27056                   3.97    8.01    18.63  ...        NaN       NaN   \n",
       "27057                  41.09   35.81     8.59  ...        NaN       NaN   \n",
       "27058                 -21.43  -21.74     0.84  ...        NaN       NaN   \n",
       "\n",
       "       기타포괄손익누계액(요약)  이익잉여금(요약)  *미처분이익잉여금 및 차기이월미처분이익잉여금(요약)  *당기순이익(요약)  \\\n",
       "0                NaN        NaN                           NaN         NaN   \n",
       "1                NaN        NaN                           NaN         NaN   \n",
       "2                NaN        NaN                           NaN         NaN   \n",
       "3                NaN        NaN                           NaN         NaN   \n",
       "4                NaN        NaN                           NaN         NaN   \n",
       "...              ...        ...                           ...         ...   \n",
       "27054            NaN        NaN                           NaN         NaN   \n",
       "27055            NaN        NaN                           NaN         NaN   \n",
       "27056            NaN        NaN                           NaN         NaN   \n",
       "27057            NaN        NaN                           NaN         NaN   \n",
       "27058            NaN        NaN                           NaN         NaN   \n",
       "\n",
       "       부채와자본총계(요약)  소속코드  상장폐지일  감사의견코드  \n",
       "0              NaN   5.0    NaN      UQ  \n",
       "1              NaN   5.0    NaN      UQ  \n",
       "2              NaN   5.0    NaN      UQ  \n",
       "3              NaN   5.0    NaN      UQ  \n",
       "4              NaN   5.0    NaN      UQ  \n",
       "...            ...   ...    ...     ...  \n",
       "27054          NaN   5.0    NaN      UQ  \n",
       "27055          NaN   5.0    NaN      UQ  \n",
       "27056          NaN   5.0    NaN      UQ  \n",
       "27057          NaN   5.0    NaN      UQ  \n",
       "27058          NaN   5.0    NaN      UQ  \n",
       "\n",
       "[27059 rows x 293 columns]"
      ]
     },
     "execution_count": 2,
     "metadata": {},
     "output_type": "execute_result"
    }
   ],
   "source": [
    "data = pd.read_csv(r'C:\\apps\\Ubion-CorporateBankruptcyAnalysis\\Code\\HJ\\재무데이터_최종_0.csv', index_col=0)\n",
    "data"
   ]
  },
  {
   "cell_type": "code",
   "execution_count": 3,
   "metadata": {},
   "outputs": [
    {
     "data": {
      "text/html": [
       "<div>\n",
       "<style scoped>\n",
       "    .dataframe tbody tr th:only-of-type {\n",
       "        vertical-align: middle;\n",
       "    }\n",
       "\n",
       "    .dataframe tbody tr th {\n",
       "        vertical-align: top;\n",
       "    }\n",
       "\n",
       "    .dataframe thead th {\n",
       "        text-align: right;\n",
       "    }\n",
       "</style>\n",
       "<table border=\"1\" class=\"dataframe\">\n",
       "  <thead>\n",
       "    <tr style=\"text-align: right;\">\n",
       "      <th></th>\n",
       "      <th>회사명</th>\n",
       "      <th>거래소코드</th>\n",
       "      <th>회계년도</th>\n",
       "      <th>총자본증가율</th>\n",
       "      <th>유형자산증가율</th>\n",
       "      <th>유동자산증가율</th>\n",
       "      <th>영업이익증가율</th>\n",
       "      <th>경상이익증가율 (2007년 이전 발생)</th>\n",
       "      <th>순이익증가율</th>\n",
       "      <th>재고자산증가율</th>\n",
       "      <th>...</th>\n",
       "      <th>기타포괄손익누계액(요약)</th>\n",
       "      <th>이익잉여금(요약)</th>\n",
       "      <th>*미처분이익잉여금 및 차기이월미처분이익잉여금(요약)</th>\n",
       "      <th>*당기순이익(요약)</th>\n",
       "      <th>부채와자본총계(요약)</th>\n",
       "      <th>소속코드</th>\n",
       "      <th>상장폐지일</th>\n",
       "      <th>감사의견코드</th>\n",
       "      <th>회계연도</th>\n",
       "      <th>회계월</th>\n",
       "    </tr>\n",
       "  </thead>\n",
       "  <tbody>\n",
       "    <tr>\n",
       "      <th>0</th>\n",
       "      <td>(주)CMG제약</td>\n",
       "      <td>58820</td>\n",
       "      <td>2000/12</td>\n",
       "      <td>NaN</td>\n",
       "      <td>NaN</td>\n",
       "      <td>NaN</td>\n",
       "      <td>NaN</td>\n",
       "      <td>NaN</td>\n",
       "      <td>NaN</td>\n",
       "      <td>NaN</td>\n",
       "      <td>...</td>\n",
       "      <td>NaN</td>\n",
       "      <td>NaN</td>\n",
       "      <td>NaN</td>\n",
       "      <td>NaN</td>\n",
       "      <td>NaN</td>\n",
       "      <td>5.0</td>\n",
       "      <td>NaN</td>\n",
       "      <td>UQ</td>\n",
       "      <td>0</td>\n",
       "      <td>0</td>\n",
       "    </tr>\n",
       "    <tr>\n",
       "      <th>1</th>\n",
       "      <td>(주)CMG제약</td>\n",
       "      <td>58820</td>\n",
       "      <td>2001/12</td>\n",
       "      <td>0.00</td>\n",
       "      <td>0.00</td>\n",
       "      <td>0.00</td>\n",
       "      <td>0.00</td>\n",
       "      <td>0.00</td>\n",
       "      <td>0.00</td>\n",
       "      <td>0.00</td>\n",
       "      <td>...</td>\n",
       "      <td>NaN</td>\n",
       "      <td>NaN</td>\n",
       "      <td>NaN</td>\n",
       "      <td>NaN</td>\n",
       "      <td>NaN</td>\n",
       "      <td>5.0</td>\n",
       "      <td>NaN</td>\n",
       "      <td>UQ</td>\n",
       "      <td>0</td>\n",
       "      <td>0</td>\n",
       "    </tr>\n",
       "    <tr>\n",
       "      <th>2</th>\n",
       "      <td>(주)CMG제약</td>\n",
       "      <td>58820</td>\n",
       "      <td>2002/12</td>\n",
       "      <td>-26.34</td>\n",
       "      <td>-17.72</td>\n",
       "      <td>-39.61</td>\n",
       "      <td>0.00</td>\n",
       "      <td>NaN</td>\n",
       "      <td>0.00</td>\n",
       "      <td>-39.91</td>\n",
       "      <td>...</td>\n",
       "      <td>NaN</td>\n",
       "      <td>NaN</td>\n",
       "      <td>NaN</td>\n",
       "      <td>NaN</td>\n",
       "      <td>NaN</td>\n",
       "      <td>5.0</td>\n",
       "      <td>NaN</td>\n",
       "      <td>UQ</td>\n",
       "      <td>0</td>\n",
       "      <td>0</td>\n",
       "    </tr>\n",
       "    <tr>\n",
       "      <th>3</th>\n",
       "      <td>(주)CMG제약</td>\n",
       "      <td>58820</td>\n",
       "      <td>2003/12</td>\n",
       "      <td>-28.17</td>\n",
       "      <td>-79.37</td>\n",
       "      <td>-13.62</td>\n",
       "      <td>0.00</td>\n",
       "      <td>0.00</td>\n",
       "      <td>0.00</td>\n",
       "      <td>-11.75</td>\n",
       "      <td>...</td>\n",
       "      <td>NaN</td>\n",
       "      <td>NaN</td>\n",
       "      <td>NaN</td>\n",
       "      <td>NaN</td>\n",
       "      <td>NaN</td>\n",
       "      <td>5.0</td>\n",
       "      <td>NaN</td>\n",
       "      <td>UQ</td>\n",
       "      <td>0</td>\n",
       "      <td>0</td>\n",
       "    </tr>\n",
       "    <tr>\n",
       "      <th>4</th>\n",
       "      <td>(주)CMG제약</td>\n",
       "      <td>58820</td>\n",
       "      <td>2004/12</td>\n",
       "      <td>-53.18</td>\n",
       "      <td>-25.94</td>\n",
       "      <td>-54.38</td>\n",
       "      <td>0.00</td>\n",
       "      <td>-2128.48</td>\n",
       "      <td>0.00</td>\n",
       "      <td>-53.72</td>\n",
       "      <td>...</td>\n",
       "      <td>NaN</td>\n",
       "      <td>NaN</td>\n",
       "      <td>NaN</td>\n",
       "      <td>NaN</td>\n",
       "      <td>NaN</td>\n",
       "      <td>5.0</td>\n",
       "      <td>NaN</td>\n",
       "      <td>UQ</td>\n",
       "      <td>0</td>\n",
       "      <td>0</td>\n",
       "    </tr>\n",
       "    <tr>\n",
       "      <th>...</th>\n",
       "      <td>...</td>\n",
       "      <td>...</td>\n",
       "      <td>...</td>\n",
       "      <td>...</td>\n",
       "      <td>...</td>\n",
       "      <td>...</td>\n",
       "      <td>...</td>\n",
       "      <td>...</td>\n",
       "      <td>...</td>\n",
       "      <td>...</td>\n",
       "      <td>...</td>\n",
       "      <td>...</td>\n",
       "      <td>...</td>\n",
       "      <td>...</td>\n",
       "      <td>...</td>\n",
       "      <td>...</td>\n",
       "      <td>...</td>\n",
       "      <td>...</td>\n",
       "      <td>...</td>\n",
       "      <td>...</td>\n",
       "      <td>...</td>\n",
       "    </tr>\n",
       "    <tr>\n",
       "      <th>27054</th>\n",
       "      <td>흥구석유(주)</td>\n",
       "      <td>24060</td>\n",
       "      <td>2004/12</td>\n",
       "      <td>0.21</td>\n",
       "      <td>0.07</td>\n",
       "      <td>-2.43</td>\n",
       "      <td>26.81</td>\n",
       "      <td>14.93</td>\n",
       "      <td>9.72</td>\n",
       "      <td>-61.31</td>\n",
       "      <td>...</td>\n",
       "      <td>NaN</td>\n",
       "      <td>NaN</td>\n",
       "      <td>NaN</td>\n",
       "      <td>NaN</td>\n",
       "      <td>NaN</td>\n",
       "      <td>5.0</td>\n",
       "      <td>NaN</td>\n",
       "      <td>UQ</td>\n",
       "      <td>0</td>\n",
       "      <td>0</td>\n",
       "    </tr>\n",
       "    <tr>\n",
       "      <th>27055</th>\n",
       "      <td>흥구석유(주)</td>\n",
       "      <td>24060</td>\n",
       "      <td>2006/12</td>\n",
       "      <td>1.60</td>\n",
       "      <td>1.69</td>\n",
       "      <td>24.04</td>\n",
       "      <td>-22.09</td>\n",
       "      <td>-15.73</td>\n",
       "      <td>-14.52</td>\n",
       "      <td>-18.56</td>\n",
       "      <td>...</td>\n",
       "      <td>NaN</td>\n",
       "      <td>NaN</td>\n",
       "      <td>NaN</td>\n",
       "      <td>NaN</td>\n",
       "      <td>NaN</td>\n",
       "      <td>5.0</td>\n",
       "      <td>NaN</td>\n",
       "      <td>UQ</td>\n",
       "      <td>0</td>\n",
       "      <td>0</td>\n",
       "    </tr>\n",
       "    <tr>\n",
       "      <th>27056</th>\n",
       "      <td>흥구석유(주)</td>\n",
       "      <td>24060</td>\n",
       "      <td>2002/12</td>\n",
       "      <td>4.71</td>\n",
       "      <td>-1.19</td>\n",
       "      <td>49.44</td>\n",
       "      <td>2.21</td>\n",
       "      <td>3.97</td>\n",
       "      <td>8.01</td>\n",
       "      <td>18.63</td>\n",
       "      <td>...</td>\n",
       "      <td>NaN</td>\n",
       "      <td>NaN</td>\n",
       "      <td>NaN</td>\n",
       "      <td>NaN</td>\n",
       "      <td>NaN</td>\n",
       "      <td>5.0</td>\n",
       "      <td>NaN</td>\n",
       "      <td>UQ</td>\n",
       "      <td>0</td>\n",
       "      <td>0</td>\n",
       "    </tr>\n",
       "    <tr>\n",
       "      <th>27057</th>\n",
       "      <td>흥구석유(주)</td>\n",
       "      <td>24060</td>\n",
       "      <td>2001/12</td>\n",
       "      <td>-8.26</td>\n",
       "      <td>-0.72</td>\n",
       "      <td>-33.74</td>\n",
       "      <td>2973.17</td>\n",
       "      <td>41.09</td>\n",
       "      <td>35.81</td>\n",
       "      <td>8.59</td>\n",
       "      <td>...</td>\n",
       "      <td>NaN</td>\n",
       "      <td>NaN</td>\n",
       "      <td>NaN</td>\n",
       "      <td>NaN</td>\n",
       "      <td>NaN</td>\n",
       "      <td>5.0</td>\n",
       "      <td>NaN</td>\n",
       "      <td>UQ</td>\n",
       "      <td>0</td>\n",
       "      <td>0</td>\n",
       "    </tr>\n",
       "    <tr>\n",
       "      <th>27058</th>\n",
       "      <td>흥구석유(주)</td>\n",
       "      <td>24060</td>\n",
       "      <td>2003/12</td>\n",
       "      <td>-2.16</td>\n",
       "      <td>-0.78</td>\n",
       "      <td>-21.26</td>\n",
       "      <td>-7.27</td>\n",
       "      <td>-21.43</td>\n",
       "      <td>-21.74</td>\n",
       "      <td>0.84</td>\n",
       "      <td>...</td>\n",
       "      <td>NaN</td>\n",
       "      <td>NaN</td>\n",
       "      <td>NaN</td>\n",
       "      <td>NaN</td>\n",
       "      <td>NaN</td>\n",
       "      <td>5.0</td>\n",
       "      <td>NaN</td>\n",
       "      <td>UQ</td>\n",
       "      <td>0</td>\n",
       "      <td>0</td>\n",
       "    </tr>\n",
       "  </tbody>\n",
       "</table>\n",
       "<p>27059 rows × 295 columns</p>\n",
       "</div>"
      ],
      "text/plain": [
       "            회사명  거래소코드     회계년도  총자본증가율  유형자산증가율  유동자산증가율  영업이익증가율  \\\n",
       "0      (주)CMG제약  58820  2000/12     NaN      NaN      NaN      NaN   \n",
       "1      (주)CMG제약  58820  2001/12    0.00     0.00     0.00     0.00   \n",
       "2      (주)CMG제약  58820  2002/12  -26.34   -17.72   -39.61     0.00   \n",
       "3      (주)CMG제약  58820  2003/12  -28.17   -79.37   -13.62     0.00   \n",
       "4      (주)CMG제약  58820  2004/12  -53.18   -25.94   -54.38     0.00   \n",
       "...         ...    ...      ...     ...      ...      ...      ...   \n",
       "27054   흥구석유(주)  24060  2004/12    0.21     0.07    -2.43    26.81   \n",
       "27055   흥구석유(주)  24060  2006/12    1.60     1.69    24.04   -22.09   \n",
       "27056   흥구석유(주)  24060  2002/12    4.71    -1.19    49.44     2.21   \n",
       "27057   흥구석유(주)  24060  2001/12   -8.26    -0.72   -33.74  2973.17   \n",
       "27058   흥구석유(주)  24060  2003/12   -2.16    -0.78   -21.26    -7.27   \n",
       "\n",
       "       경상이익증가율 (2007년 이전 발생)  순이익증가율  재고자산증가율  ...  기타포괄손익누계액(요약)  이익잉여금(요약)  \\\n",
       "0                        NaN     NaN      NaN  ...            NaN        NaN   \n",
       "1                       0.00    0.00     0.00  ...            NaN        NaN   \n",
       "2                        NaN    0.00   -39.91  ...            NaN        NaN   \n",
       "3                       0.00    0.00   -11.75  ...            NaN        NaN   \n",
       "4                   -2128.48    0.00   -53.72  ...            NaN        NaN   \n",
       "...                      ...     ...      ...  ...            ...        ...   \n",
       "27054                  14.93    9.72   -61.31  ...            NaN        NaN   \n",
       "27055                 -15.73  -14.52   -18.56  ...            NaN        NaN   \n",
       "27056                   3.97    8.01    18.63  ...            NaN        NaN   \n",
       "27057                  41.09   35.81     8.59  ...            NaN        NaN   \n",
       "27058                 -21.43  -21.74     0.84  ...            NaN        NaN   \n",
       "\n",
       "       *미처분이익잉여금 및 차기이월미처분이익잉여금(요약)  *당기순이익(요약)  부채와자본총계(요약)  소속코드  상장폐지일  \\\n",
       "0                               NaN         NaN          NaN   5.0    NaN   \n",
       "1                               NaN         NaN          NaN   5.0    NaN   \n",
       "2                               NaN         NaN          NaN   5.0    NaN   \n",
       "3                               NaN         NaN          NaN   5.0    NaN   \n",
       "4                               NaN         NaN          NaN   5.0    NaN   \n",
       "...                             ...         ...          ...   ...    ...   \n",
       "27054                           NaN         NaN          NaN   5.0    NaN   \n",
       "27055                           NaN         NaN          NaN   5.0    NaN   \n",
       "27056                           NaN         NaN          NaN   5.0    NaN   \n",
       "27057                           NaN         NaN          NaN   5.0    NaN   \n",
       "27058                           NaN         NaN          NaN   5.0    NaN   \n",
       "\n",
       "       감사의견코드  회계연도  회계월  \n",
       "0          UQ     0    0  \n",
       "1          UQ     0    0  \n",
       "2          UQ     0    0  \n",
       "3          UQ     0    0  \n",
       "4          UQ     0    0  \n",
       "...       ...   ...  ...  \n",
       "27054      UQ     0    0  \n",
       "27055      UQ     0    0  \n",
       "27056      UQ     0    0  \n",
       "27057      UQ     0    0  \n",
       "27058      UQ     0    0  \n",
       "\n",
       "[27059 rows x 295 columns]"
      ]
     },
     "execution_count": 3,
     "metadata": {},
     "output_type": "execute_result"
    }
   ],
   "source": [
    "data['회계연도']='0'\n",
    "data['회계월']='0'\n",
    "data"
   ]
  },
  {
   "cell_type": "code",
   "execution_count": 4,
   "metadata": {},
   "outputs": [
    {
     "name": "stderr",
     "output_type": "stream",
     "text": [
      "  0%|          | 0/27059 [00:00<?, ?it/s]C:\\Users\\sally\\AppData\\Local\\Temp/ipykernel_28696/2170843091.py:2: SettingWithCopyWarning: \n",
      "A value is trying to be set on a copy of a slice from a DataFrame\n",
      "\n",
      "See the caveats in the documentation: https://pandas.pydata.org/pandas-docs/stable/user_guide/indexing.html#returning-a-view-versus-a-copy\n",
      "  data['회계연도'][i] = data['회계년도'][i][0:4]\n",
      "C:\\Users\\sally\\AppData\\Local\\Temp/ipykernel_28696/2170843091.py:3: SettingWithCopyWarning: \n",
      "A value is trying to be set on a copy of a slice from a DataFrame\n",
      "\n",
      "See the caveats in the documentation: https://pandas.pydata.org/pandas-docs/stable/user_guide/indexing.html#returning-a-view-versus-a-copy\n",
      "  data['회계월'][i] = data['회계년도'][i][5:]\n",
      "100%|██████████| 27059/27059 [00:27<00:00, 985.14it/s]\n"
     ]
    },
    {
     "data": {
      "text/html": [
       "<div>\n",
       "<style scoped>\n",
       "    .dataframe tbody tr th:only-of-type {\n",
       "        vertical-align: middle;\n",
       "    }\n",
       "\n",
       "    .dataframe tbody tr th {\n",
       "        vertical-align: top;\n",
       "    }\n",
       "\n",
       "    .dataframe thead th {\n",
       "        text-align: right;\n",
       "    }\n",
       "</style>\n",
       "<table border=\"1\" class=\"dataframe\">\n",
       "  <thead>\n",
       "    <tr style=\"text-align: right;\">\n",
       "      <th></th>\n",
       "      <th>회사명</th>\n",
       "      <th>거래소코드</th>\n",
       "      <th>회계년도</th>\n",
       "      <th>총자본증가율</th>\n",
       "      <th>유형자산증가율</th>\n",
       "      <th>유동자산증가율</th>\n",
       "      <th>영업이익증가율</th>\n",
       "      <th>경상이익증가율 (2007년 이전 발생)</th>\n",
       "      <th>순이익증가율</th>\n",
       "      <th>재고자산증가율</th>\n",
       "      <th>...</th>\n",
       "      <th>기타포괄손익누계액(요약)</th>\n",
       "      <th>이익잉여금(요약)</th>\n",
       "      <th>*미처분이익잉여금 및 차기이월미처분이익잉여금(요약)</th>\n",
       "      <th>*당기순이익(요약)</th>\n",
       "      <th>부채와자본총계(요약)</th>\n",
       "      <th>소속코드</th>\n",
       "      <th>상장폐지일</th>\n",
       "      <th>감사의견코드</th>\n",
       "      <th>회계연도</th>\n",
       "      <th>회계월</th>\n",
       "    </tr>\n",
       "  </thead>\n",
       "  <tbody>\n",
       "    <tr>\n",
       "      <th>0</th>\n",
       "      <td>(주)CMG제약</td>\n",
       "      <td>58820</td>\n",
       "      <td>2000/12</td>\n",
       "      <td>NaN</td>\n",
       "      <td>NaN</td>\n",
       "      <td>NaN</td>\n",
       "      <td>NaN</td>\n",
       "      <td>NaN</td>\n",
       "      <td>NaN</td>\n",
       "      <td>NaN</td>\n",
       "      <td>...</td>\n",
       "      <td>NaN</td>\n",
       "      <td>NaN</td>\n",
       "      <td>NaN</td>\n",
       "      <td>NaN</td>\n",
       "      <td>NaN</td>\n",
       "      <td>5.0</td>\n",
       "      <td>NaN</td>\n",
       "      <td>UQ</td>\n",
       "      <td>2000</td>\n",
       "      <td>12</td>\n",
       "    </tr>\n",
       "    <tr>\n",
       "      <th>1</th>\n",
       "      <td>(주)CMG제약</td>\n",
       "      <td>58820</td>\n",
       "      <td>2001/12</td>\n",
       "      <td>0.00</td>\n",
       "      <td>0.00</td>\n",
       "      <td>0.00</td>\n",
       "      <td>0.00</td>\n",
       "      <td>0.00</td>\n",
       "      <td>0.00</td>\n",
       "      <td>0.00</td>\n",
       "      <td>...</td>\n",
       "      <td>NaN</td>\n",
       "      <td>NaN</td>\n",
       "      <td>NaN</td>\n",
       "      <td>NaN</td>\n",
       "      <td>NaN</td>\n",
       "      <td>5.0</td>\n",
       "      <td>NaN</td>\n",
       "      <td>UQ</td>\n",
       "      <td>2001</td>\n",
       "      <td>12</td>\n",
       "    </tr>\n",
       "    <tr>\n",
       "      <th>2</th>\n",
       "      <td>(주)CMG제약</td>\n",
       "      <td>58820</td>\n",
       "      <td>2002/12</td>\n",
       "      <td>-26.34</td>\n",
       "      <td>-17.72</td>\n",
       "      <td>-39.61</td>\n",
       "      <td>0.00</td>\n",
       "      <td>NaN</td>\n",
       "      <td>0.00</td>\n",
       "      <td>-39.91</td>\n",
       "      <td>...</td>\n",
       "      <td>NaN</td>\n",
       "      <td>NaN</td>\n",
       "      <td>NaN</td>\n",
       "      <td>NaN</td>\n",
       "      <td>NaN</td>\n",
       "      <td>5.0</td>\n",
       "      <td>NaN</td>\n",
       "      <td>UQ</td>\n",
       "      <td>2002</td>\n",
       "      <td>12</td>\n",
       "    </tr>\n",
       "    <tr>\n",
       "      <th>3</th>\n",
       "      <td>(주)CMG제약</td>\n",
       "      <td>58820</td>\n",
       "      <td>2003/12</td>\n",
       "      <td>-28.17</td>\n",
       "      <td>-79.37</td>\n",
       "      <td>-13.62</td>\n",
       "      <td>0.00</td>\n",
       "      <td>0.00</td>\n",
       "      <td>0.00</td>\n",
       "      <td>-11.75</td>\n",
       "      <td>...</td>\n",
       "      <td>NaN</td>\n",
       "      <td>NaN</td>\n",
       "      <td>NaN</td>\n",
       "      <td>NaN</td>\n",
       "      <td>NaN</td>\n",
       "      <td>5.0</td>\n",
       "      <td>NaN</td>\n",
       "      <td>UQ</td>\n",
       "      <td>2003</td>\n",
       "      <td>12</td>\n",
       "    </tr>\n",
       "    <tr>\n",
       "      <th>4</th>\n",
       "      <td>(주)CMG제약</td>\n",
       "      <td>58820</td>\n",
       "      <td>2004/12</td>\n",
       "      <td>-53.18</td>\n",
       "      <td>-25.94</td>\n",
       "      <td>-54.38</td>\n",
       "      <td>0.00</td>\n",
       "      <td>-2128.48</td>\n",
       "      <td>0.00</td>\n",
       "      <td>-53.72</td>\n",
       "      <td>...</td>\n",
       "      <td>NaN</td>\n",
       "      <td>NaN</td>\n",
       "      <td>NaN</td>\n",
       "      <td>NaN</td>\n",
       "      <td>NaN</td>\n",
       "      <td>5.0</td>\n",
       "      <td>NaN</td>\n",
       "      <td>UQ</td>\n",
       "      <td>2004</td>\n",
       "      <td>12</td>\n",
       "    </tr>\n",
       "    <tr>\n",
       "      <th>...</th>\n",
       "      <td>...</td>\n",
       "      <td>...</td>\n",
       "      <td>...</td>\n",
       "      <td>...</td>\n",
       "      <td>...</td>\n",
       "      <td>...</td>\n",
       "      <td>...</td>\n",
       "      <td>...</td>\n",
       "      <td>...</td>\n",
       "      <td>...</td>\n",
       "      <td>...</td>\n",
       "      <td>...</td>\n",
       "      <td>...</td>\n",
       "      <td>...</td>\n",
       "      <td>...</td>\n",
       "      <td>...</td>\n",
       "      <td>...</td>\n",
       "      <td>...</td>\n",
       "      <td>...</td>\n",
       "      <td>...</td>\n",
       "      <td>...</td>\n",
       "    </tr>\n",
       "    <tr>\n",
       "      <th>27054</th>\n",
       "      <td>흥구석유(주)</td>\n",
       "      <td>24060</td>\n",
       "      <td>2004/12</td>\n",
       "      <td>0.21</td>\n",
       "      <td>0.07</td>\n",
       "      <td>-2.43</td>\n",
       "      <td>26.81</td>\n",
       "      <td>14.93</td>\n",
       "      <td>9.72</td>\n",
       "      <td>-61.31</td>\n",
       "      <td>...</td>\n",
       "      <td>NaN</td>\n",
       "      <td>NaN</td>\n",
       "      <td>NaN</td>\n",
       "      <td>NaN</td>\n",
       "      <td>NaN</td>\n",
       "      <td>5.0</td>\n",
       "      <td>NaN</td>\n",
       "      <td>UQ</td>\n",
       "      <td>2004</td>\n",
       "      <td>12</td>\n",
       "    </tr>\n",
       "    <tr>\n",
       "      <th>27055</th>\n",
       "      <td>흥구석유(주)</td>\n",
       "      <td>24060</td>\n",
       "      <td>2006/12</td>\n",
       "      <td>1.60</td>\n",
       "      <td>1.69</td>\n",
       "      <td>24.04</td>\n",
       "      <td>-22.09</td>\n",
       "      <td>-15.73</td>\n",
       "      <td>-14.52</td>\n",
       "      <td>-18.56</td>\n",
       "      <td>...</td>\n",
       "      <td>NaN</td>\n",
       "      <td>NaN</td>\n",
       "      <td>NaN</td>\n",
       "      <td>NaN</td>\n",
       "      <td>NaN</td>\n",
       "      <td>5.0</td>\n",
       "      <td>NaN</td>\n",
       "      <td>UQ</td>\n",
       "      <td>2006</td>\n",
       "      <td>12</td>\n",
       "    </tr>\n",
       "    <tr>\n",
       "      <th>27056</th>\n",
       "      <td>흥구석유(주)</td>\n",
       "      <td>24060</td>\n",
       "      <td>2002/12</td>\n",
       "      <td>4.71</td>\n",
       "      <td>-1.19</td>\n",
       "      <td>49.44</td>\n",
       "      <td>2.21</td>\n",
       "      <td>3.97</td>\n",
       "      <td>8.01</td>\n",
       "      <td>18.63</td>\n",
       "      <td>...</td>\n",
       "      <td>NaN</td>\n",
       "      <td>NaN</td>\n",
       "      <td>NaN</td>\n",
       "      <td>NaN</td>\n",
       "      <td>NaN</td>\n",
       "      <td>5.0</td>\n",
       "      <td>NaN</td>\n",
       "      <td>UQ</td>\n",
       "      <td>2002</td>\n",
       "      <td>12</td>\n",
       "    </tr>\n",
       "    <tr>\n",
       "      <th>27057</th>\n",
       "      <td>흥구석유(주)</td>\n",
       "      <td>24060</td>\n",
       "      <td>2001/12</td>\n",
       "      <td>-8.26</td>\n",
       "      <td>-0.72</td>\n",
       "      <td>-33.74</td>\n",
       "      <td>2973.17</td>\n",
       "      <td>41.09</td>\n",
       "      <td>35.81</td>\n",
       "      <td>8.59</td>\n",
       "      <td>...</td>\n",
       "      <td>NaN</td>\n",
       "      <td>NaN</td>\n",
       "      <td>NaN</td>\n",
       "      <td>NaN</td>\n",
       "      <td>NaN</td>\n",
       "      <td>5.0</td>\n",
       "      <td>NaN</td>\n",
       "      <td>UQ</td>\n",
       "      <td>2001</td>\n",
       "      <td>12</td>\n",
       "    </tr>\n",
       "    <tr>\n",
       "      <th>27058</th>\n",
       "      <td>흥구석유(주)</td>\n",
       "      <td>24060</td>\n",
       "      <td>2003/12</td>\n",
       "      <td>-2.16</td>\n",
       "      <td>-0.78</td>\n",
       "      <td>-21.26</td>\n",
       "      <td>-7.27</td>\n",
       "      <td>-21.43</td>\n",
       "      <td>-21.74</td>\n",
       "      <td>0.84</td>\n",
       "      <td>...</td>\n",
       "      <td>NaN</td>\n",
       "      <td>NaN</td>\n",
       "      <td>NaN</td>\n",
       "      <td>NaN</td>\n",
       "      <td>NaN</td>\n",
       "      <td>5.0</td>\n",
       "      <td>NaN</td>\n",
       "      <td>UQ</td>\n",
       "      <td>2003</td>\n",
       "      <td>12</td>\n",
       "    </tr>\n",
       "  </tbody>\n",
       "</table>\n",
       "<p>27059 rows × 295 columns</p>\n",
       "</div>"
      ],
      "text/plain": [
       "            회사명  거래소코드     회계년도  총자본증가율  유형자산증가율  유동자산증가율  영업이익증가율  \\\n",
       "0      (주)CMG제약  58820  2000/12     NaN      NaN      NaN      NaN   \n",
       "1      (주)CMG제약  58820  2001/12    0.00     0.00     0.00     0.00   \n",
       "2      (주)CMG제약  58820  2002/12  -26.34   -17.72   -39.61     0.00   \n",
       "3      (주)CMG제약  58820  2003/12  -28.17   -79.37   -13.62     0.00   \n",
       "4      (주)CMG제약  58820  2004/12  -53.18   -25.94   -54.38     0.00   \n",
       "...         ...    ...      ...     ...      ...      ...      ...   \n",
       "27054   흥구석유(주)  24060  2004/12    0.21     0.07    -2.43    26.81   \n",
       "27055   흥구석유(주)  24060  2006/12    1.60     1.69    24.04   -22.09   \n",
       "27056   흥구석유(주)  24060  2002/12    4.71    -1.19    49.44     2.21   \n",
       "27057   흥구석유(주)  24060  2001/12   -8.26    -0.72   -33.74  2973.17   \n",
       "27058   흥구석유(주)  24060  2003/12   -2.16    -0.78   -21.26    -7.27   \n",
       "\n",
       "       경상이익증가율 (2007년 이전 발생)  순이익증가율  재고자산증가율  ...  기타포괄손익누계액(요약)  이익잉여금(요약)  \\\n",
       "0                        NaN     NaN      NaN  ...            NaN        NaN   \n",
       "1                       0.00    0.00     0.00  ...            NaN        NaN   \n",
       "2                        NaN    0.00   -39.91  ...            NaN        NaN   \n",
       "3                       0.00    0.00   -11.75  ...            NaN        NaN   \n",
       "4                   -2128.48    0.00   -53.72  ...            NaN        NaN   \n",
       "...                      ...     ...      ...  ...            ...        ...   \n",
       "27054                  14.93    9.72   -61.31  ...            NaN        NaN   \n",
       "27055                 -15.73  -14.52   -18.56  ...            NaN        NaN   \n",
       "27056                   3.97    8.01    18.63  ...            NaN        NaN   \n",
       "27057                  41.09   35.81     8.59  ...            NaN        NaN   \n",
       "27058                 -21.43  -21.74     0.84  ...            NaN        NaN   \n",
       "\n",
       "       *미처분이익잉여금 및 차기이월미처분이익잉여금(요약)  *당기순이익(요약)  부채와자본총계(요약)  소속코드  상장폐지일  \\\n",
       "0                               NaN         NaN          NaN   5.0    NaN   \n",
       "1                               NaN         NaN          NaN   5.0    NaN   \n",
       "2                               NaN         NaN          NaN   5.0    NaN   \n",
       "3                               NaN         NaN          NaN   5.0    NaN   \n",
       "4                               NaN         NaN          NaN   5.0    NaN   \n",
       "...                             ...         ...          ...   ...    ...   \n",
       "27054                           NaN         NaN          NaN   5.0    NaN   \n",
       "27055                           NaN         NaN          NaN   5.0    NaN   \n",
       "27056                           NaN         NaN          NaN   5.0    NaN   \n",
       "27057                           NaN         NaN          NaN   5.0    NaN   \n",
       "27058                           NaN         NaN          NaN   5.0    NaN   \n",
       "\n",
       "       감사의견코드  회계연도  회계월  \n",
       "0          UQ  2000   12  \n",
       "1          UQ  2001   12  \n",
       "2          UQ  2002   12  \n",
       "3          UQ  2003   12  \n",
       "4          UQ  2004   12  \n",
       "...       ...   ...  ...  \n",
       "27054      UQ  2004   12  \n",
       "27055      UQ  2006   12  \n",
       "27056      UQ  2002   12  \n",
       "27057      UQ  2001   12  \n",
       "27058      UQ  2003   12  \n",
       "\n",
       "[27059 rows x 295 columns]"
      ]
     },
     "execution_count": 4,
     "metadata": {},
     "output_type": "execute_result"
    }
   ],
   "source": [
    "for i in tqdm(range(len(data['회계년도']))):\n",
    "    data['회계연도'][i] = data['회계년도'][i][0:4]\n",
    "    data['회계월'][i] = data['회계년도'][i][5:]\n",
    "data"
   ]
  },
  {
   "cell_type": "code",
   "execution_count": 5,
   "metadata": {},
   "outputs": [],
   "source": [
    "data.drop(['회계년도'], axis=1, inplace=True)"
   ]
  },
  {
   "cell_type": "code",
   "execution_count": 6,
   "metadata": {},
   "outputs": [
    {
     "data": {
      "text/html": [
       "<div>\n",
       "<style scoped>\n",
       "    .dataframe tbody tr th:only-of-type {\n",
       "        vertical-align: middle;\n",
       "    }\n",
       "\n",
       "    .dataframe tbody tr th {\n",
       "        vertical-align: top;\n",
       "    }\n",
       "\n",
       "    .dataframe thead th {\n",
       "        text-align: right;\n",
       "    }\n",
       "</style>\n",
       "<table border=\"1\" class=\"dataframe\">\n",
       "  <thead>\n",
       "    <tr style=\"text-align: right;\">\n",
       "      <th></th>\n",
       "      <th>회사명</th>\n",
       "      <th>거래소코드</th>\n",
       "      <th>총자본증가율</th>\n",
       "      <th>유형자산증가율</th>\n",
       "      <th>유동자산증가율</th>\n",
       "      <th>영업이익증가율</th>\n",
       "      <th>경상이익증가율 (2007년 이전 발생)</th>\n",
       "      <th>순이익증가율</th>\n",
       "      <th>재고자산증가율</th>\n",
       "      <th>자기자본증가율</th>\n",
       "      <th>...</th>\n",
       "      <th>기타포괄손익누계액(요약)</th>\n",
       "      <th>이익잉여금(요약)</th>\n",
       "      <th>*미처분이익잉여금 및 차기이월미처분이익잉여금(요약)</th>\n",
       "      <th>*당기순이익(요약)</th>\n",
       "      <th>부채와자본총계(요약)</th>\n",
       "      <th>소속코드</th>\n",
       "      <th>상장폐지일</th>\n",
       "      <th>감사의견코드</th>\n",
       "      <th>회계연도</th>\n",
       "      <th>회계월</th>\n",
       "    </tr>\n",
       "  </thead>\n",
       "  <tbody>\n",
       "    <tr>\n",
       "      <th>0</th>\n",
       "      <td>(주)CMG제약</td>\n",
       "      <td>58820</td>\n",
       "      <td>NaN</td>\n",
       "      <td>NaN</td>\n",
       "      <td>NaN</td>\n",
       "      <td>NaN</td>\n",
       "      <td>NaN</td>\n",
       "      <td>NaN</td>\n",
       "      <td>NaN</td>\n",
       "      <td>NaN</td>\n",
       "      <td>...</td>\n",
       "      <td>NaN</td>\n",
       "      <td>NaN</td>\n",
       "      <td>NaN</td>\n",
       "      <td>NaN</td>\n",
       "      <td>NaN</td>\n",
       "      <td>5.0</td>\n",
       "      <td>NaN</td>\n",
       "      <td>UQ</td>\n",
       "      <td>2000</td>\n",
       "      <td>12</td>\n",
       "    </tr>\n",
       "    <tr>\n",
       "      <th>1</th>\n",
       "      <td>(주)CMG제약</td>\n",
       "      <td>58820</td>\n",
       "      <td>0.00</td>\n",
       "      <td>0.00</td>\n",
       "      <td>0.00</td>\n",
       "      <td>0.00</td>\n",
       "      <td>0.00</td>\n",
       "      <td>0.00</td>\n",
       "      <td>0.00</td>\n",
       "      <td>0.00</td>\n",
       "      <td>...</td>\n",
       "      <td>NaN</td>\n",
       "      <td>NaN</td>\n",
       "      <td>NaN</td>\n",
       "      <td>NaN</td>\n",
       "      <td>NaN</td>\n",
       "      <td>5.0</td>\n",
       "      <td>NaN</td>\n",
       "      <td>UQ</td>\n",
       "      <td>2001</td>\n",
       "      <td>12</td>\n",
       "    </tr>\n",
       "    <tr>\n",
       "      <th>2</th>\n",
       "      <td>(주)CMG제약</td>\n",
       "      <td>58820</td>\n",
       "      <td>-26.34</td>\n",
       "      <td>-17.72</td>\n",
       "      <td>-39.61</td>\n",
       "      <td>0.00</td>\n",
       "      <td>NaN</td>\n",
       "      <td>0.00</td>\n",
       "      <td>-39.91</td>\n",
       "      <td>-25.65</td>\n",
       "      <td>...</td>\n",
       "      <td>NaN</td>\n",
       "      <td>NaN</td>\n",
       "      <td>NaN</td>\n",
       "      <td>NaN</td>\n",
       "      <td>NaN</td>\n",
       "      <td>5.0</td>\n",
       "      <td>NaN</td>\n",
       "      <td>UQ</td>\n",
       "      <td>2002</td>\n",
       "      <td>12</td>\n",
       "    </tr>\n",
       "    <tr>\n",
       "      <th>3</th>\n",
       "      <td>(주)CMG제약</td>\n",
       "      <td>58820</td>\n",
       "      <td>-28.17</td>\n",
       "      <td>-79.37</td>\n",
       "      <td>-13.62</td>\n",
       "      <td>0.00</td>\n",
       "      <td>0.00</td>\n",
       "      <td>0.00</td>\n",
       "      <td>-11.75</td>\n",
       "      <td>-1.55</td>\n",
       "      <td>...</td>\n",
       "      <td>NaN</td>\n",
       "      <td>NaN</td>\n",
       "      <td>NaN</td>\n",
       "      <td>NaN</td>\n",
       "      <td>NaN</td>\n",
       "      <td>5.0</td>\n",
       "      <td>NaN</td>\n",
       "      <td>UQ</td>\n",
       "      <td>2003</td>\n",
       "      <td>12</td>\n",
       "    </tr>\n",
       "    <tr>\n",
       "      <th>4</th>\n",
       "      <td>(주)CMG제약</td>\n",
       "      <td>58820</td>\n",
       "      <td>-53.18</td>\n",
       "      <td>-25.94</td>\n",
       "      <td>-54.38</td>\n",
       "      <td>0.00</td>\n",
       "      <td>-2128.48</td>\n",
       "      <td>0.00</td>\n",
       "      <td>-53.72</td>\n",
       "      <td>-60.20</td>\n",
       "      <td>...</td>\n",
       "      <td>NaN</td>\n",
       "      <td>NaN</td>\n",
       "      <td>NaN</td>\n",
       "      <td>NaN</td>\n",
       "      <td>NaN</td>\n",
       "      <td>5.0</td>\n",
       "      <td>NaN</td>\n",
       "      <td>UQ</td>\n",
       "      <td>2004</td>\n",
       "      <td>12</td>\n",
       "    </tr>\n",
       "    <tr>\n",
       "      <th>...</th>\n",
       "      <td>...</td>\n",
       "      <td>...</td>\n",
       "      <td>...</td>\n",
       "      <td>...</td>\n",
       "      <td>...</td>\n",
       "      <td>...</td>\n",
       "      <td>...</td>\n",
       "      <td>...</td>\n",
       "      <td>...</td>\n",
       "      <td>...</td>\n",
       "      <td>...</td>\n",
       "      <td>...</td>\n",
       "      <td>...</td>\n",
       "      <td>...</td>\n",
       "      <td>...</td>\n",
       "      <td>...</td>\n",
       "      <td>...</td>\n",
       "      <td>...</td>\n",
       "      <td>...</td>\n",
       "      <td>...</td>\n",
       "      <td>...</td>\n",
       "    </tr>\n",
       "    <tr>\n",
       "      <th>27054</th>\n",
       "      <td>흥구석유(주)</td>\n",
       "      <td>24060</td>\n",
       "      <td>0.21</td>\n",
       "      <td>0.07</td>\n",
       "      <td>-2.43</td>\n",
       "      <td>26.81</td>\n",
       "      <td>14.93</td>\n",
       "      <td>9.72</td>\n",
       "      <td>-61.31</td>\n",
       "      <td>3.26</td>\n",
       "      <td>...</td>\n",
       "      <td>NaN</td>\n",
       "      <td>NaN</td>\n",
       "      <td>NaN</td>\n",
       "      <td>NaN</td>\n",
       "      <td>NaN</td>\n",
       "      <td>5.0</td>\n",
       "      <td>NaN</td>\n",
       "      <td>UQ</td>\n",
       "      <td>2004</td>\n",
       "      <td>12</td>\n",
       "    </tr>\n",
       "    <tr>\n",
       "      <th>27055</th>\n",
       "      <td>흥구석유(주)</td>\n",
       "      <td>24060</td>\n",
       "      <td>1.60</td>\n",
       "      <td>1.69</td>\n",
       "      <td>24.04</td>\n",
       "      <td>-22.09</td>\n",
       "      <td>-15.73</td>\n",
       "      <td>-14.52</td>\n",
       "      <td>-18.56</td>\n",
       "      <td>1.78</td>\n",
       "      <td>...</td>\n",
       "      <td>NaN</td>\n",
       "      <td>NaN</td>\n",
       "      <td>NaN</td>\n",
       "      <td>NaN</td>\n",
       "      <td>NaN</td>\n",
       "      <td>5.0</td>\n",
       "      <td>NaN</td>\n",
       "      <td>UQ</td>\n",
       "      <td>2006</td>\n",
       "      <td>12</td>\n",
       "    </tr>\n",
       "    <tr>\n",
       "      <th>27056</th>\n",
       "      <td>흥구석유(주)</td>\n",
       "      <td>24060</td>\n",
       "      <td>4.71</td>\n",
       "      <td>-1.19</td>\n",
       "      <td>49.44</td>\n",
       "      <td>2.21</td>\n",
       "      <td>3.97</td>\n",
       "      <td>8.01</td>\n",
       "      <td>18.63</td>\n",
       "      <td>1.64</td>\n",
       "      <td>...</td>\n",
       "      <td>NaN</td>\n",
       "      <td>NaN</td>\n",
       "      <td>NaN</td>\n",
       "      <td>NaN</td>\n",
       "      <td>NaN</td>\n",
       "      <td>5.0</td>\n",
       "      <td>NaN</td>\n",
       "      <td>UQ</td>\n",
       "      <td>2002</td>\n",
       "      <td>12</td>\n",
       "    </tr>\n",
       "    <tr>\n",
       "      <th>27057</th>\n",
       "      <td>흥구석유(주)</td>\n",
       "      <td>24060</td>\n",
       "      <td>-8.26</td>\n",
       "      <td>-0.72</td>\n",
       "      <td>-33.74</td>\n",
       "      <td>2973.17</td>\n",
       "      <td>41.09</td>\n",
       "      <td>35.81</td>\n",
       "      <td>8.59</td>\n",
       "      <td>3.58</td>\n",
       "      <td>...</td>\n",
       "      <td>NaN</td>\n",
       "      <td>NaN</td>\n",
       "      <td>NaN</td>\n",
       "      <td>NaN</td>\n",
       "      <td>NaN</td>\n",
       "      <td>5.0</td>\n",
       "      <td>NaN</td>\n",
       "      <td>UQ</td>\n",
       "      <td>2001</td>\n",
       "      <td>12</td>\n",
       "    </tr>\n",
       "    <tr>\n",
       "      <th>27058</th>\n",
       "      <td>흥구석유(주)</td>\n",
       "      <td>24060</td>\n",
       "      <td>-2.16</td>\n",
       "      <td>-0.78</td>\n",
       "      <td>-21.26</td>\n",
       "      <td>-7.27</td>\n",
       "      <td>-21.43</td>\n",
       "      <td>-21.74</td>\n",
       "      <td>0.84</td>\n",
       "      <td>-1.81</td>\n",
       "      <td>...</td>\n",
       "      <td>NaN</td>\n",
       "      <td>NaN</td>\n",
       "      <td>NaN</td>\n",
       "      <td>NaN</td>\n",
       "      <td>NaN</td>\n",
       "      <td>5.0</td>\n",
       "      <td>NaN</td>\n",
       "      <td>UQ</td>\n",
       "      <td>2003</td>\n",
       "      <td>12</td>\n",
       "    </tr>\n",
       "  </tbody>\n",
       "</table>\n",
       "<p>27059 rows × 294 columns</p>\n",
       "</div>"
      ],
      "text/plain": [
       "            회사명  거래소코드  총자본증가율  유형자산증가율  유동자산증가율  영업이익증가율  \\\n",
       "0      (주)CMG제약  58820     NaN      NaN      NaN      NaN   \n",
       "1      (주)CMG제약  58820    0.00     0.00     0.00     0.00   \n",
       "2      (주)CMG제약  58820  -26.34   -17.72   -39.61     0.00   \n",
       "3      (주)CMG제약  58820  -28.17   -79.37   -13.62     0.00   \n",
       "4      (주)CMG제약  58820  -53.18   -25.94   -54.38     0.00   \n",
       "...         ...    ...     ...      ...      ...      ...   \n",
       "27054   흥구석유(주)  24060    0.21     0.07    -2.43    26.81   \n",
       "27055   흥구석유(주)  24060    1.60     1.69    24.04   -22.09   \n",
       "27056   흥구석유(주)  24060    4.71    -1.19    49.44     2.21   \n",
       "27057   흥구석유(주)  24060   -8.26    -0.72   -33.74  2973.17   \n",
       "27058   흥구석유(주)  24060   -2.16    -0.78   -21.26    -7.27   \n",
       "\n",
       "       경상이익증가율 (2007년 이전 발생)  순이익증가율  재고자산증가율  자기자본증가율  ...  기타포괄손익누계액(요약)  \\\n",
       "0                        NaN     NaN      NaN      NaN  ...            NaN   \n",
       "1                       0.00    0.00     0.00     0.00  ...            NaN   \n",
       "2                        NaN    0.00   -39.91   -25.65  ...            NaN   \n",
       "3                       0.00    0.00   -11.75    -1.55  ...            NaN   \n",
       "4                   -2128.48    0.00   -53.72   -60.20  ...            NaN   \n",
       "...                      ...     ...      ...      ...  ...            ...   \n",
       "27054                  14.93    9.72   -61.31     3.26  ...            NaN   \n",
       "27055                 -15.73  -14.52   -18.56     1.78  ...            NaN   \n",
       "27056                   3.97    8.01    18.63     1.64  ...            NaN   \n",
       "27057                  41.09   35.81     8.59     3.58  ...            NaN   \n",
       "27058                 -21.43  -21.74     0.84    -1.81  ...            NaN   \n",
       "\n",
       "       이익잉여금(요약)  *미처분이익잉여금 및 차기이월미처분이익잉여금(요약)  *당기순이익(요약)  부채와자본총계(요약)  소속코드  \\\n",
       "0            NaN                           NaN         NaN          NaN   5.0   \n",
       "1            NaN                           NaN         NaN          NaN   5.0   \n",
       "2            NaN                           NaN         NaN          NaN   5.0   \n",
       "3            NaN                           NaN         NaN          NaN   5.0   \n",
       "4            NaN                           NaN         NaN          NaN   5.0   \n",
       "...          ...                           ...         ...          ...   ...   \n",
       "27054        NaN                           NaN         NaN          NaN   5.0   \n",
       "27055        NaN                           NaN         NaN          NaN   5.0   \n",
       "27056        NaN                           NaN         NaN          NaN   5.0   \n",
       "27057        NaN                           NaN         NaN          NaN   5.0   \n",
       "27058        NaN                           NaN         NaN          NaN   5.0   \n",
       "\n",
       "       상장폐지일  감사의견코드  회계연도  회계월  \n",
       "0        NaN      UQ  2000   12  \n",
       "1        NaN      UQ  2001   12  \n",
       "2        NaN      UQ  2002   12  \n",
       "3        NaN      UQ  2003   12  \n",
       "4        NaN      UQ  2004   12  \n",
       "...      ...     ...   ...  ...  \n",
       "27054    NaN      UQ  2004   12  \n",
       "27055    NaN      UQ  2006   12  \n",
       "27056    NaN      UQ  2002   12  \n",
       "27057    NaN      UQ  2001   12  \n",
       "27058    NaN      UQ  2003   12  \n",
       "\n",
       "[27059 rows x 294 columns]"
      ]
     },
     "execution_count": 6,
     "metadata": {},
     "output_type": "execute_result"
    }
   ],
   "source": [
    "data"
   ]
  },
  {
   "cell_type": "markdown",
   "metadata": {},
   "source": [
    "---"
   ]
  },
  {
   "cell_type": "code",
   "execution_count": 7,
   "metadata": {},
   "outputs": [
    {
     "data": {
      "text/html": [
       "<div>\n",
       "<style scoped>\n",
       "    .dataframe tbody tr th:only-of-type {\n",
       "        vertical-align: middle;\n",
       "    }\n",
       "\n",
       "    .dataframe tbody tr th {\n",
       "        vertical-align: top;\n",
       "    }\n",
       "\n",
       "    .dataframe thead th {\n",
       "        text-align: right;\n",
       "    }\n",
       "</style>\n",
       "<table border=\"1\" class=\"dataframe\">\n",
       "  <thead>\n",
       "    <tr style=\"text-align: right;\">\n",
       "      <th></th>\n",
       "      <th>번호</th>\n",
       "      <th>시간</th>\n",
       "      <th>회사명</th>\n",
       "      <th>종목코드</th>\n",
       "      <th>공시제목</th>\n",
       "      <th>제출인</th>\n",
       "    </tr>\n",
       "  </thead>\n",
       "  <tbody>\n",
       "    <tr>\n",
       "      <th>0</th>\n",
       "      <td>24</td>\n",
       "      <td>2002-10-31 18:27</td>\n",
       "      <td>정산애강</td>\n",
       "      <td>22220</td>\n",
       "      <td>부도발생및은행거래정지</td>\n",
       "      <td>정산애강</td>\n",
       "    </tr>\n",
       "    <tr>\n",
       "      <th>1</th>\n",
       "      <td>23</td>\n",
       "      <td>2002-10-08 12:06</td>\n",
       "      <td>대호특수강</td>\n",
       "      <td>21040</td>\n",
       "      <td>은행거래재개</td>\n",
       "      <td>대호특수강</td>\n",
       "    </tr>\n",
       "    <tr>\n",
       "      <th>2</th>\n",
       "      <td>22</td>\n",
       "      <td>2002-05-21 18:16</td>\n",
       "      <td>에이치엘비</td>\n",
       "      <td>28300</td>\n",
       "      <td>회사정리절차종결결정</td>\n",
       "      <td>에이치엘비</td>\n",
       "    </tr>\n",
       "    <tr>\n",
       "      <th>3</th>\n",
       "      <td>21</td>\n",
       "      <td>2002-04-17 17:42</td>\n",
       "      <td>에이치엘비</td>\n",
       "      <td>28300</td>\n",
       "      <td>회사정리절차종결신청</td>\n",
       "      <td>에이치엘비</td>\n",
       "    </tr>\n",
       "    <tr>\n",
       "      <th>4</th>\n",
       "      <td>20</td>\n",
       "      <td>2001-12-26 14:58</td>\n",
       "      <td>대호특수강</td>\n",
       "      <td>21040</td>\n",
       "      <td>회사정리절차개시결정</td>\n",
       "      <td>대호특수강</td>\n",
       "    </tr>\n",
       "    <tr>\n",
       "      <th>...</th>\n",
       "      <td>...</td>\n",
       "      <td>...</td>\n",
       "      <td>...</td>\n",
       "      <td>...</td>\n",
       "      <td>...</td>\n",
       "      <td>...</td>\n",
       "    </tr>\n",
       "    <tr>\n",
       "      <th>389</th>\n",
       "      <td>155</td>\n",
       "      <td>2020-02-12 16:21</td>\n",
       "      <td>에스앤더블류</td>\n",
       "      <td>103230</td>\n",
       "      <td>내부결산시점 관리종목 지정 또는 상장폐지 사유 발생</td>\n",
       "      <td>에스앤더블류</td>\n",
       "    </tr>\n",
       "    <tr>\n",
       "      <th>390</th>\n",
       "      <td>154</td>\n",
       "      <td>2020-02-11 17:02</td>\n",
       "      <td>파나진</td>\n",
       "      <td>46210</td>\n",
       "      <td>내부결산시점 관리종목 지정 또는 상장폐지 사유 발생</td>\n",
       "      <td>파나진</td>\n",
       "    </tr>\n",
       "    <tr>\n",
       "      <th>391</th>\n",
       "      <td>153</td>\n",
       "      <td>2020-02-10 16:32</td>\n",
       "      <td>국순당</td>\n",
       "      <td>43650</td>\n",
       "      <td>내부결산시점 관리종목 지정 또는 상장폐지 사유 발생[정]</td>\n",
       "      <td>국순당</td>\n",
       "    </tr>\n",
       "    <tr>\n",
       "      <th>392</th>\n",
       "      <td>152</td>\n",
       "      <td>2020-02-10 16:24</td>\n",
       "      <td>유아이디</td>\n",
       "      <td>69330</td>\n",
       "      <td>내부결산시점 관리종목 지정 또는 상장폐지 사유 발생</td>\n",
       "      <td>유아이디</td>\n",
       "    </tr>\n",
       "    <tr>\n",
       "      <th>393</th>\n",
       "      <td>151</td>\n",
       "      <td>2020-02-07 17:14</td>\n",
       "      <td>이녹스</td>\n",
       "      <td>88390</td>\n",
       "      <td>내부결산시점 관리종목 지정 또는 상장폐지 사유 발생(자회사의 주요경영사항)[정]</td>\n",
       "      <td>이녹스</td>\n",
       "    </tr>\n",
       "  </tbody>\n",
       "</table>\n",
       "<p>394 rows × 6 columns</p>\n",
       "</div>"
      ],
      "text/plain": [
       "      번호                시간     회사명    종목코드  \\\n",
       "0     24  2002-10-31 18:27    정산애강   22220   \n",
       "1     23  2002-10-08 12:06   대호특수강   21040   \n",
       "2     22  2002-05-21 18:16   에이치엘비   28300   \n",
       "3     21  2002-04-17 17:42   에이치엘비   28300   \n",
       "4     20  2001-12-26 14:58   대호특수강   21040   \n",
       "..   ...               ...     ...     ...   \n",
       "389  155  2020-02-12 16:21  에스앤더블류  103230   \n",
       "390  154  2020-02-11 17:02     파나진   46210   \n",
       "391  153  2020-02-10 16:32     국순당   43650   \n",
       "392  152  2020-02-10 16:24    유아이디   69330   \n",
       "393  151  2020-02-07 17:14     이녹스   88390   \n",
       "\n",
       "                                             공시제목     제출인  \n",
       "0                                     부도발생및은행거래정지    정산애강  \n",
       "1                                          은행거래재개   대호특수강  \n",
       "2                                      회사정리절차종결결정   에이치엘비  \n",
       "3                                      회사정리절차종결신청   에이치엘비  \n",
       "4                                      회사정리절차개시결정   대호특수강  \n",
       "..                                            ...     ...  \n",
       "389                  내부결산시점 관리종목 지정 또는 상장폐지 사유 발생  에스앤더블류  \n",
       "390                  내부결산시점 관리종목 지정 또는 상장폐지 사유 발생     파나진  \n",
       "391               내부결산시점 관리종목 지정 또는 상장폐지 사유 발생[정]     국순당  \n",
       "392                  내부결산시점 관리종목 지정 또는 상장폐지 사유 발생    유아이디  \n",
       "393  내부결산시점 관리종목 지정 또는 상장폐지 사유 발생(자회사의 주요경영사항)[정]     이녹스  \n",
       "\n",
       "[394 rows x 6 columns]"
      ]
     },
     "execution_count": 7,
     "metadata": {},
     "output_type": "execute_result"
    }
   ],
   "source": [
    "budo = pd.read_csv(r'C:\\apps\\Ubion-CorporateBankruptcyAnalysis\\Code\\JY\\bankrupt_df.csv', index_col=0)\n",
    "budo = budo.reset_index(drop=True)\n",
    "budo"
   ]
  },
  {
   "cell_type": "code",
   "execution_count": 8,
   "metadata": {},
   "outputs": [
    {
     "data": {
      "text/plain": [
       "Index(['번호', '시간', '회사명', '종목코드', '공시제목', '제출인'], dtype='object')"
      ]
     },
     "execution_count": 8,
     "metadata": {},
     "output_type": "execute_result"
    }
   ],
   "source": [
    "budo.columns"
   ]
  },
  {
   "cell_type": "code",
   "execution_count": 9,
   "metadata": {},
   "outputs": [
    {
     "data": {
      "text/html": [
       "<div>\n",
       "<style scoped>\n",
       "    .dataframe tbody tr th:only-of-type {\n",
       "        vertical-align: middle;\n",
       "    }\n",
       "\n",
       "    .dataframe tbody tr th {\n",
       "        vertical-align: top;\n",
       "    }\n",
       "\n",
       "    .dataframe thead th {\n",
       "        text-align: right;\n",
       "    }\n",
       "</style>\n",
       "<table border=\"1\" class=\"dataframe\">\n",
       "  <thead>\n",
       "    <tr style=\"text-align: right;\">\n",
       "      <th></th>\n",
       "      <th>시간</th>\n",
       "      <th>회사명</th>\n",
       "      <th>종목코드</th>\n",
       "      <th>공시제목</th>\n",
       "      <th>제출인</th>\n",
       "    </tr>\n",
       "  </thead>\n",
       "  <tbody>\n",
       "    <tr>\n",
       "      <th>0</th>\n",
       "      <td>2002-10-31 18:27</td>\n",
       "      <td>정산애강</td>\n",
       "      <td>22220</td>\n",
       "      <td>부도발생및은행거래정지</td>\n",
       "      <td>정산애강</td>\n",
       "    </tr>\n",
       "    <tr>\n",
       "      <th>1</th>\n",
       "      <td>2002-10-08 12:06</td>\n",
       "      <td>대호특수강</td>\n",
       "      <td>21040</td>\n",
       "      <td>은행거래재개</td>\n",
       "      <td>대호특수강</td>\n",
       "    </tr>\n",
       "    <tr>\n",
       "      <th>2</th>\n",
       "      <td>2002-05-21 18:16</td>\n",
       "      <td>에이치엘비</td>\n",
       "      <td>28300</td>\n",
       "      <td>회사정리절차종결결정</td>\n",
       "      <td>에이치엘비</td>\n",
       "    </tr>\n",
       "    <tr>\n",
       "      <th>3</th>\n",
       "      <td>2002-04-17 17:42</td>\n",
       "      <td>에이치엘비</td>\n",
       "      <td>28300</td>\n",
       "      <td>회사정리절차종결신청</td>\n",
       "      <td>에이치엘비</td>\n",
       "    </tr>\n",
       "    <tr>\n",
       "      <th>4</th>\n",
       "      <td>2001-12-26 14:58</td>\n",
       "      <td>대호특수강</td>\n",
       "      <td>21040</td>\n",
       "      <td>회사정리절차개시결정</td>\n",
       "      <td>대호특수강</td>\n",
       "    </tr>\n",
       "    <tr>\n",
       "      <th>...</th>\n",
       "      <td>...</td>\n",
       "      <td>...</td>\n",
       "      <td>...</td>\n",
       "      <td>...</td>\n",
       "      <td>...</td>\n",
       "    </tr>\n",
       "    <tr>\n",
       "      <th>389</th>\n",
       "      <td>2020-02-12 16:21</td>\n",
       "      <td>에스앤더블류</td>\n",
       "      <td>103230</td>\n",
       "      <td>내부결산시점 관리종목 지정 또는 상장폐지 사유 발생</td>\n",
       "      <td>에스앤더블류</td>\n",
       "    </tr>\n",
       "    <tr>\n",
       "      <th>390</th>\n",
       "      <td>2020-02-11 17:02</td>\n",
       "      <td>파나진</td>\n",
       "      <td>46210</td>\n",
       "      <td>내부결산시점 관리종목 지정 또는 상장폐지 사유 발생</td>\n",
       "      <td>파나진</td>\n",
       "    </tr>\n",
       "    <tr>\n",
       "      <th>391</th>\n",
       "      <td>2020-02-10 16:32</td>\n",
       "      <td>국순당</td>\n",
       "      <td>43650</td>\n",
       "      <td>내부결산시점 관리종목 지정 또는 상장폐지 사유 발생[정]</td>\n",
       "      <td>국순당</td>\n",
       "    </tr>\n",
       "    <tr>\n",
       "      <th>392</th>\n",
       "      <td>2020-02-10 16:24</td>\n",
       "      <td>유아이디</td>\n",
       "      <td>69330</td>\n",
       "      <td>내부결산시점 관리종목 지정 또는 상장폐지 사유 발생</td>\n",
       "      <td>유아이디</td>\n",
       "    </tr>\n",
       "    <tr>\n",
       "      <th>393</th>\n",
       "      <td>2020-02-07 17:14</td>\n",
       "      <td>이녹스</td>\n",
       "      <td>88390</td>\n",
       "      <td>내부결산시점 관리종목 지정 또는 상장폐지 사유 발생(자회사의 주요경영사항)[정]</td>\n",
       "      <td>이녹스</td>\n",
       "    </tr>\n",
       "  </tbody>\n",
       "</table>\n",
       "<p>394 rows × 5 columns</p>\n",
       "</div>"
      ],
      "text/plain": [
       "                   시간     회사명    종목코드  \\\n",
       "0    2002-10-31 18:27    정산애강   22220   \n",
       "1    2002-10-08 12:06   대호특수강   21040   \n",
       "2    2002-05-21 18:16   에이치엘비   28300   \n",
       "3    2002-04-17 17:42   에이치엘비   28300   \n",
       "4    2001-12-26 14:58   대호특수강   21040   \n",
       "..                ...     ...     ...   \n",
       "389  2020-02-12 16:21  에스앤더블류  103230   \n",
       "390  2020-02-11 17:02     파나진   46210   \n",
       "391  2020-02-10 16:32     국순당   43650   \n",
       "392  2020-02-10 16:24    유아이디   69330   \n",
       "393  2020-02-07 17:14     이녹스   88390   \n",
       "\n",
       "                                             공시제목     제출인  \n",
       "0                                     부도발생및은행거래정지    정산애강  \n",
       "1                                          은행거래재개   대호특수강  \n",
       "2                                      회사정리절차종결결정   에이치엘비  \n",
       "3                                      회사정리절차종결신청   에이치엘비  \n",
       "4                                      회사정리절차개시결정   대호특수강  \n",
       "..                                            ...     ...  \n",
       "389                  내부결산시점 관리종목 지정 또는 상장폐지 사유 발생  에스앤더블류  \n",
       "390                  내부결산시점 관리종목 지정 또는 상장폐지 사유 발생     파나진  \n",
       "391               내부결산시점 관리종목 지정 또는 상장폐지 사유 발생[정]     국순당  \n",
       "392                  내부결산시점 관리종목 지정 또는 상장폐지 사유 발생    유아이디  \n",
       "393  내부결산시점 관리종목 지정 또는 상장폐지 사유 발생(자회사의 주요경영사항)[정]     이녹스  \n",
       "\n",
       "[394 rows x 5 columns]"
      ]
     },
     "execution_count": 9,
     "metadata": {},
     "output_type": "execute_result"
    }
   ],
   "source": [
    "budo.drop(['번호'], axis=1, inplace=True)\n",
    "budo"
   ]
  },
  {
   "cell_type": "code",
   "execution_count": 10,
   "metadata": {},
   "outputs": [],
   "source": [
    "budo['회계연도']='0'"
   ]
  },
  {
   "cell_type": "code",
   "execution_count": 11,
   "metadata": {},
   "outputs": [
    {
     "name": "stderr",
     "output_type": "stream",
     "text": [
      "C:\\Users\\sally\\AppData\\Local\\Temp/ipykernel_28696/1566492859.py:2: SettingWithCopyWarning: \n",
      "A value is trying to be set on a copy of a slice from a DataFrame\n",
      "\n",
      "See the caveats in the documentation: https://pandas.pydata.org/pandas-docs/stable/user_guide/indexing.html#returning-a-view-versus-a-copy\n",
      "  budo['회계연도'][i] = budo['시간'][i][0:4]\n"
     ]
    },
    {
     "data": {
      "text/html": [
       "<div>\n",
       "<style scoped>\n",
       "    .dataframe tbody tr th:only-of-type {\n",
       "        vertical-align: middle;\n",
       "    }\n",
       "\n",
       "    .dataframe tbody tr th {\n",
       "        vertical-align: top;\n",
       "    }\n",
       "\n",
       "    .dataframe thead th {\n",
       "        text-align: right;\n",
       "    }\n",
       "</style>\n",
       "<table border=\"1\" class=\"dataframe\">\n",
       "  <thead>\n",
       "    <tr style=\"text-align: right;\">\n",
       "      <th></th>\n",
       "      <th>시간</th>\n",
       "      <th>회사명</th>\n",
       "      <th>종목코드</th>\n",
       "      <th>공시제목</th>\n",
       "      <th>제출인</th>\n",
       "      <th>회계연도</th>\n",
       "    </tr>\n",
       "  </thead>\n",
       "  <tbody>\n",
       "    <tr>\n",
       "      <th>0</th>\n",
       "      <td>2002-10-31 18:27</td>\n",
       "      <td>정산애강</td>\n",
       "      <td>22220</td>\n",
       "      <td>부도발생및은행거래정지</td>\n",
       "      <td>정산애강</td>\n",
       "      <td>2002</td>\n",
       "    </tr>\n",
       "    <tr>\n",
       "      <th>1</th>\n",
       "      <td>2002-10-08 12:06</td>\n",
       "      <td>대호특수강</td>\n",
       "      <td>21040</td>\n",
       "      <td>은행거래재개</td>\n",
       "      <td>대호특수강</td>\n",
       "      <td>2002</td>\n",
       "    </tr>\n",
       "    <tr>\n",
       "      <th>2</th>\n",
       "      <td>2002-05-21 18:16</td>\n",
       "      <td>에이치엘비</td>\n",
       "      <td>28300</td>\n",
       "      <td>회사정리절차종결결정</td>\n",
       "      <td>에이치엘비</td>\n",
       "      <td>2002</td>\n",
       "    </tr>\n",
       "    <tr>\n",
       "      <th>3</th>\n",
       "      <td>2002-04-17 17:42</td>\n",
       "      <td>에이치엘비</td>\n",
       "      <td>28300</td>\n",
       "      <td>회사정리절차종결신청</td>\n",
       "      <td>에이치엘비</td>\n",
       "      <td>2002</td>\n",
       "    </tr>\n",
       "    <tr>\n",
       "      <th>4</th>\n",
       "      <td>2001-12-26 14:58</td>\n",
       "      <td>대호특수강</td>\n",
       "      <td>21040</td>\n",
       "      <td>회사정리절차개시결정</td>\n",
       "      <td>대호특수강</td>\n",
       "      <td>2001</td>\n",
       "    </tr>\n",
       "    <tr>\n",
       "      <th>...</th>\n",
       "      <td>...</td>\n",
       "      <td>...</td>\n",
       "      <td>...</td>\n",
       "      <td>...</td>\n",
       "      <td>...</td>\n",
       "      <td>...</td>\n",
       "    </tr>\n",
       "    <tr>\n",
       "      <th>389</th>\n",
       "      <td>2020-02-12 16:21</td>\n",
       "      <td>에스앤더블류</td>\n",
       "      <td>103230</td>\n",
       "      <td>내부결산시점 관리종목 지정 또는 상장폐지 사유 발생</td>\n",
       "      <td>에스앤더블류</td>\n",
       "      <td>2020</td>\n",
       "    </tr>\n",
       "    <tr>\n",
       "      <th>390</th>\n",
       "      <td>2020-02-11 17:02</td>\n",
       "      <td>파나진</td>\n",
       "      <td>46210</td>\n",
       "      <td>내부결산시점 관리종목 지정 또는 상장폐지 사유 발생</td>\n",
       "      <td>파나진</td>\n",
       "      <td>2020</td>\n",
       "    </tr>\n",
       "    <tr>\n",
       "      <th>391</th>\n",
       "      <td>2020-02-10 16:32</td>\n",
       "      <td>국순당</td>\n",
       "      <td>43650</td>\n",
       "      <td>내부결산시점 관리종목 지정 또는 상장폐지 사유 발생[정]</td>\n",
       "      <td>국순당</td>\n",
       "      <td>2020</td>\n",
       "    </tr>\n",
       "    <tr>\n",
       "      <th>392</th>\n",
       "      <td>2020-02-10 16:24</td>\n",
       "      <td>유아이디</td>\n",
       "      <td>69330</td>\n",
       "      <td>내부결산시점 관리종목 지정 또는 상장폐지 사유 발생</td>\n",
       "      <td>유아이디</td>\n",
       "      <td>2020</td>\n",
       "    </tr>\n",
       "    <tr>\n",
       "      <th>393</th>\n",
       "      <td>2020-02-07 17:14</td>\n",
       "      <td>이녹스</td>\n",
       "      <td>88390</td>\n",
       "      <td>내부결산시점 관리종목 지정 또는 상장폐지 사유 발생(자회사의 주요경영사항)[정]</td>\n",
       "      <td>이녹스</td>\n",
       "      <td>2020</td>\n",
       "    </tr>\n",
       "  </tbody>\n",
       "</table>\n",
       "<p>394 rows × 6 columns</p>\n",
       "</div>"
      ],
      "text/plain": [
       "                   시간     회사명    종목코드  \\\n",
       "0    2002-10-31 18:27    정산애강   22220   \n",
       "1    2002-10-08 12:06   대호특수강   21040   \n",
       "2    2002-05-21 18:16   에이치엘비   28300   \n",
       "3    2002-04-17 17:42   에이치엘비   28300   \n",
       "4    2001-12-26 14:58   대호특수강   21040   \n",
       "..                ...     ...     ...   \n",
       "389  2020-02-12 16:21  에스앤더블류  103230   \n",
       "390  2020-02-11 17:02     파나진   46210   \n",
       "391  2020-02-10 16:32     국순당   43650   \n",
       "392  2020-02-10 16:24    유아이디   69330   \n",
       "393  2020-02-07 17:14     이녹스   88390   \n",
       "\n",
       "                                             공시제목     제출인  회계연도  \n",
       "0                                     부도발생및은행거래정지    정산애강  2002  \n",
       "1                                          은행거래재개   대호특수강  2002  \n",
       "2                                      회사정리절차종결결정   에이치엘비  2002  \n",
       "3                                      회사정리절차종결신청   에이치엘비  2002  \n",
       "4                                      회사정리절차개시결정   대호특수강  2001  \n",
       "..                                            ...     ...   ...  \n",
       "389                  내부결산시점 관리종목 지정 또는 상장폐지 사유 발생  에스앤더블류  2020  \n",
       "390                  내부결산시점 관리종목 지정 또는 상장폐지 사유 발생     파나진  2020  \n",
       "391               내부결산시점 관리종목 지정 또는 상장폐지 사유 발생[정]     국순당  2020  \n",
       "392                  내부결산시점 관리종목 지정 또는 상장폐지 사유 발생    유아이디  2020  \n",
       "393  내부결산시점 관리종목 지정 또는 상장폐지 사유 발생(자회사의 주요경영사항)[정]     이녹스  2020  \n",
       "\n",
       "[394 rows x 6 columns]"
      ]
     },
     "execution_count": 11,
     "metadata": {},
     "output_type": "execute_result"
    }
   ],
   "source": [
    "for i in range(len(budo['시간'])):\n",
    "    budo['회계연도'][i] = budo['시간'][i][0:4]\n",
    "budo"
   ]
  },
  {
   "cell_type": "code",
   "execution_count": 12,
   "metadata": {},
   "outputs": [
    {
     "data": {
      "text/html": [
       "<div>\n",
       "<style scoped>\n",
       "    .dataframe tbody tr th:only-of-type {\n",
       "        vertical-align: middle;\n",
       "    }\n",
       "\n",
       "    .dataframe tbody tr th {\n",
       "        vertical-align: top;\n",
       "    }\n",
       "\n",
       "    .dataframe thead th {\n",
       "        text-align: right;\n",
       "    }\n",
       "</style>\n",
       "<table border=\"1\" class=\"dataframe\">\n",
       "  <thead>\n",
       "    <tr style=\"text-align: right;\">\n",
       "      <th></th>\n",
       "      <th>회사명</th>\n",
       "      <th>거래소코드</th>\n",
       "      <th>총자본증가율</th>\n",
       "      <th>유형자산증가율</th>\n",
       "      <th>유동자산증가율</th>\n",
       "      <th>영업이익증가율</th>\n",
       "      <th>경상이익증가율 (2007년 이전 발생)</th>\n",
       "      <th>순이익증가율</th>\n",
       "      <th>재고자산증가율</th>\n",
       "      <th>자기자본증가율</th>\n",
       "      <th>...</th>\n",
       "      <th>이익잉여금(요약)</th>\n",
       "      <th>*미처분이익잉여금 및 차기이월미처분이익잉여금(요약)</th>\n",
       "      <th>*당기순이익(요약)</th>\n",
       "      <th>부채와자본총계(요약)</th>\n",
       "      <th>소속코드</th>\n",
       "      <th>상장폐지일</th>\n",
       "      <th>감사의견코드</th>\n",
       "      <th>회계연도</th>\n",
       "      <th>회계월</th>\n",
       "      <th>공시제목</th>\n",
       "    </tr>\n",
       "  </thead>\n",
       "  <tbody>\n",
       "    <tr>\n",
       "      <th>0</th>\n",
       "      <td>(주)CMG제약</td>\n",
       "      <td>58820</td>\n",
       "      <td>NaN</td>\n",
       "      <td>NaN</td>\n",
       "      <td>NaN</td>\n",
       "      <td>NaN</td>\n",
       "      <td>NaN</td>\n",
       "      <td>NaN</td>\n",
       "      <td>NaN</td>\n",
       "      <td>NaN</td>\n",
       "      <td>...</td>\n",
       "      <td>NaN</td>\n",
       "      <td>NaN</td>\n",
       "      <td>NaN</td>\n",
       "      <td>NaN</td>\n",
       "      <td>5.0</td>\n",
       "      <td>NaN</td>\n",
       "      <td>UQ</td>\n",
       "      <td>2000</td>\n",
       "      <td>12</td>\n",
       "      <td>0</td>\n",
       "    </tr>\n",
       "    <tr>\n",
       "      <th>1</th>\n",
       "      <td>(주)CMG제약</td>\n",
       "      <td>58820</td>\n",
       "      <td>0.00</td>\n",
       "      <td>0.00</td>\n",
       "      <td>0.00</td>\n",
       "      <td>0.00</td>\n",
       "      <td>0.00</td>\n",
       "      <td>0.00</td>\n",
       "      <td>0.00</td>\n",
       "      <td>0.00</td>\n",
       "      <td>...</td>\n",
       "      <td>NaN</td>\n",
       "      <td>NaN</td>\n",
       "      <td>NaN</td>\n",
       "      <td>NaN</td>\n",
       "      <td>5.0</td>\n",
       "      <td>NaN</td>\n",
       "      <td>UQ</td>\n",
       "      <td>2001</td>\n",
       "      <td>12</td>\n",
       "      <td>0</td>\n",
       "    </tr>\n",
       "    <tr>\n",
       "      <th>2</th>\n",
       "      <td>(주)CMG제약</td>\n",
       "      <td>58820</td>\n",
       "      <td>-26.34</td>\n",
       "      <td>-17.72</td>\n",
       "      <td>-39.61</td>\n",
       "      <td>0.00</td>\n",
       "      <td>NaN</td>\n",
       "      <td>0.00</td>\n",
       "      <td>-39.91</td>\n",
       "      <td>-25.65</td>\n",
       "      <td>...</td>\n",
       "      <td>NaN</td>\n",
       "      <td>NaN</td>\n",
       "      <td>NaN</td>\n",
       "      <td>NaN</td>\n",
       "      <td>5.0</td>\n",
       "      <td>NaN</td>\n",
       "      <td>UQ</td>\n",
       "      <td>2002</td>\n",
       "      <td>12</td>\n",
       "      <td>0</td>\n",
       "    </tr>\n",
       "    <tr>\n",
       "      <th>3</th>\n",
       "      <td>(주)CMG제약</td>\n",
       "      <td>58820</td>\n",
       "      <td>-28.17</td>\n",
       "      <td>-79.37</td>\n",
       "      <td>-13.62</td>\n",
       "      <td>0.00</td>\n",
       "      <td>0.00</td>\n",
       "      <td>0.00</td>\n",
       "      <td>-11.75</td>\n",
       "      <td>-1.55</td>\n",
       "      <td>...</td>\n",
       "      <td>NaN</td>\n",
       "      <td>NaN</td>\n",
       "      <td>NaN</td>\n",
       "      <td>NaN</td>\n",
       "      <td>5.0</td>\n",
       "      <td>NaN</td>\n",
       "      <td>UQ</td>\n",
       "      <td>2003</td>\n",
       "      <td>12</td>\n",
       "      <td>0</td>\n",
       "    </tr>\n",
       "    <tr>\n",
       "      <th>4</th>\n",
       "      <td>(주)CMG제약</td>\n",
       "      <td>58820</td>\n",
       "      <td>-53.18</td>\n",
       "      <td>-25.94</td>\n",
       "      <td>-54.38</td>\n",
       "      <td>0.00</td>\n",
       "      <td>-2128.48</td>\n",
       "      <td>0.00</td>\n",
       "      <td>-53.72</td>\n",
       "      <td>-60.20</td>\n",
       "      <td>...</td>\n",
       "      <td>NaN</td>\n",
       "      <td>NaN</td>\n",
       "      <td>NaN</td>\n",
       "      <td>NaN</td>\n",
       "      <td>5.0</td>\n",
       "      <td>NaN</td>\n",
       "      <td>UQ</td>\n",
       "      <td>2004</td>\n",
       "      <td>12</td>\n",
       "      <td>0</td>\n",
       "    </tr>\n",
       "    <tr>\n",
       "      <th>...</th>\n",
       "      <td>...</td>\n",
       "      <td>...</td>\n",
       "      <td>...</td>\n",
       "      <td>...</td>\n",
       "      <td>...</td>\n",
       "      <td>...</td>\n",
       "      <td>...</td>\n",
       "      <td>...</td>\n",
       "      <td>...</td>\n",
       "      <td>...</td>\n",
       "      <td>...</td>\n",
       "      <td>...</td>\n",
       "      <td>...</td>\n",
       "      <td>...</td>\n",
       "      <td>...</td>\n",
       "      <td>...</td>\n",
       "      <td>...</td>\n",
       "      <td>...</td>\n",
       "      <td>...</td>\n",
       "      <td>...</td>\n",
       "      <td>...</td>\n",
       "    </tr>\n",
       "    <tr>\n",
       "      <th>27054</th>\n",
       "      <td>흥구석유(주)</td>\n",
       "      <td>24060</td>\n",
       "      <td>0.21</td>\n",
       "      <td>0.07</td>\n",
       "      <td>-2.43</td>\n",
       "      <td>26.81</td>\n",
       "      <td>14.93</td>\n",
       "      <td>9.72</td>\n",
       "      <td>-61.31</td>\n",
       "      <td>3.26</td>\n",
       "      <td>...</td>\n",
       "      <td>NaN</td>\n",
       "      <td>NaN</td>\n",
       "      <td>NaN</td>\n",
       "      <td>NaN</td>\n",
       "      <td>5.0</td>\n",
       "      <td>NaN</td>\n",
       "      <td>UQ</td>\n",
       "      <td>2004</td>\n",
       "      <td>12</td>\n",
       "      <td>0</td>\n",
       "    </tr>\n",
       "    <tr>\n",
       "      <th>27055</th>\n",
       "      <td>흥구석유(주)</td>\n",
       "      <td>24060</td>\n",
       "      <td>1.60</td>\n",
       "      <td>1.69</td>\n",
       "      <td>24.04</td>\n",
       "      <td>-22.09</td>\n",
       "      <td>-15.73</td>\n",
       "      <td>-14.52</td>\n",
       "      <td>-18.56</td>\n",
       "      <td>1.78</td>\n",
       "      <td>...</td>\n",
       "      <td>NaN</td>\n",
       "      <td>NaN</td>\n",
       "      <td>NaN</td>\n",
       "      <td>NaN</td>\n",
       "      <td>5.0</td>\n",
       "      <td>NaN</td>\n",
       "      <td>UQ</td>\n",
       "      <td>2006</td>\n",
       "      <td>12</td>\n",
       "      <td>0</td>\n",
       "    </tr>\n",
       "    <tr>\n",
       "      <th>27056</th>\n",
       "      <td>흥구석유(주)</td>\n",
       "      <td>24060</td>\n",
       "      <td>4.71</td>\n",
       "      <td>-1.19</td>\n",
       "      <td>49.44</td>\n",
       "      <td>2.21</td>\n",
       "      <td>3.97</td>\n",
       "      <td>8.01</td>\n",
       "      <td>18.63</td>\n",
       "      <td>1.64</td>\n",
       "      <td>...</td>\n",
       "      <td>NaN</td>\n",
       "      <td>NaN</td>\n",
       "      <td>NaN</td>\n",
       "      <td>NaN</td>\n",
       "      <td>5.0</td>\n",
       "      <td>NaN</td>\n",
       "      <td>UQ</td>\n",
       "      <td>2002</td>\n",
       "      <td>12</td>\n",
       "      <td>0</td>\n",
       "    </tr>\n",
       "    <tr>\n",
       "      <th>27057</th>\n",
       "      <td>흥구석유(주)</td>\n",
       "      <td>24060</td>\n",
       "      <td>-8.26</td>\n",
       "      <td>-0.72</td>\n",
       "      <td>-33.74</td>\n",
       "      <td>2973.17</td>\n",
       "      <td>41.09</td>\n",
       "      <td>35.81</td>\n",
       "      <td>8.59</td>\n",
       "      <td>3.58</td>\n",
       "      <td>...</td>\n",
       "      <td>NaN</td>\n",
       "      <td>NaN</td>\n",
       "      <td>NaN</td>\n",
       "      <td>NaN</td>\n",
       "      <td>5.0</td>\n",
       "      <td>NaN</td>\n",
       "      <td>UQ</td>\n",
       "      <td>2001</td>\n",
       "      <td>12</td>\n",
       "      <td>0</td>\n",
       "    </tr>\n",
       "    <tr>\n",
       "      <th>27058</th>\n",
       "      <td>흥구석유(주)</td>\n",
       "      <td>24060</td>\n",
       "      <td>-2.16</td>\n",
       "      <td>-0.78</td>\n",
       "      <td>-21.26</td>\n",
       "      <td>-7.27</td>\n",
       "      <td>-21.43</td>\n",
       "      <td>-21.74</td>\n",
       "      <td>0.84</td>\n",
       "      <td>-1.81</td>\n",
       "      <td>...</td>\n",
       "      <td>NaN</td>\n",
       "      <td>NaN</td>\n",
       "      <td>NaN</td>\n",
       "      <td>NaN</td>\n",
       "      <td>5.0</td>\n",
       "      <td>NaN</td>\n",
       "      <td>UQ</td>\n",
       "      <td>2003</td>\n",
       "      <td>12</td>\n",
       "      <td>0</td>\n",
       "    </tr>\n",
       "  </tbody>\n",
       "</table>\n",
       "<p>27059 rows × 295 columns</p>\n",
       "</div>"
      ],
      "text/plain": [
       "            회사명  거래소코드  총자본증가율  유형자산증가율  유동자산증가율  영업이익증가율  \\\n",
       "0      (주)CMG제약  58820     NaN      NaN      NaN      NaN   \n",
       "1      (주)CMG제약  58820    0.00     0.00     0.00     0.00   \n",
       "2      (주)CMG제약  58820  -26.34   -17.72   -39.61     0.00   \n",
       "3      (주)CMG제약  58820  -28.17   -79.37   -13.62     0.00   \n",
       "4      (주)CMG제약  58820  -53.18   -25.94   -54.38     0.00   \n",
       "...         ...    ...     ...      ...      ...      ...   \n",
       "27054   흥구석유(주)  24060    0.21     0.07    -2.43    26.81   \n",
       "27055   흥구석유(주)  24060    1.60     1.69    24.04   -22.09   \n",
       "27056   흥구석유(주)  24060    4.71    -1.19    49.44     2.21   \n",
       "27057   흥구석유(주)  24060   -8.26    -0.72   -33.74  2973.17   \n",
       "27058   흥구석유(주)  24060   -2.16    -0.78   -21.26    -7.27   \n",
       "\n",
       "       경상이익증가율 (2007년 이전 발생)  순이익증가율  재고자산증가율  자기자본증가율  ...  이익잉여금(요약)  \\\n",
       "0                        NaN     NaN      NaN      NaN  ...        NaN   \n",
       "1                       0.00    0.00     0.00     0.00  ...        NaN   \n",
       "2                        NaN    0.00   -39.91   -25.65  ...        NaN   \n",
       "3                       0.00    0.00   -11.75    -1.55  ...        NaN   \n",
       "4                   -2128.48    0.00   -53.72   -60.20  ...        NaN   \n",
       "...                      ...     ...      ...      ...  ...        ...   \n",
       "27054                  14.93    9.72   -61.31     3.26  ...        NaN   \n",
       "27055                 -15.73  -14.52   -18.56     1.78  ...        NaN   \n",
       "27056                   3.97    8.01    18.63     1.64  ...        NaN   \n",
       "27057                  41.09   35.81     8.59     3.58  ...        NaN   \n",
       "27058                 -21.43  -21.74     0.84    -1.81  ...        NaN   \n",
       "\n",
       "       *미처분이익잉여금 및 차기이월미처분이익잉여금(요약)  *당기순이익(요약)  부채와자본총계(요약)  소속코드  상장폐지일  \\\n",
       "0                               NaN         NaN          NaN   5.0    NaN   \n",
       "1                               NaN         NaN          NaN   5.0    NaN   \n",
       "2                               NaN         NaN          NaN   5.0    NaN   \n",
       "3                               NaN         NaN          NaN   5.0    NaN   \n",
       "4                               NaN         NaN          NaN   5.0    NaN   \n",
       "...                             ...         ...          ...   ...    ...   \n",
       "27054                           NaN         NaN          NaN   5.0    NaN   \n",
       "27055                           NaN         NaN          NaN   5.0    NaN   \n",
       "27056                           NaN         NaN          NaN   5.0    NaN   \n",
       "27057                           NaN         NaN          NaN   5.0    NaN   \n",
       "27058                           NaN         NaN          NaN   5.0    NaN   \n",
       "\n",
       "       감사의견코드  회계연도  회계월  공시제목  \n",
       "0          UQ  2000   12     0  \n",
       "1          UQ  2001   12     0  \n",
       "2          UQ  2002   12     0  \n",
       "3          UQ  2003   12     0  \n",
       "4          UQ  2004   12     0  \n",
       "...       ...   ...  ...   ...  \n",
       "27054      UQ  2004   12     0  \n",
       "27055      UQ  2006   12     0  \n",
       "27056      UQ  2002   12     0  \n",
       "27057      UQ  2001   12     0  \n",
       "27058      UQ  2003   12     0  \n",
       "\n",
       "[27059 rows x 295 columns]"
      ]
     },
     "execution_count": 12,
     "metadata": {},
     "output_type": "execute_result"
    }
   ],
   "source": [
    "data['공시제목']='0'\n",
    "data"
   ]
  },
  {
   "cell_type": "code",
   "execution_count": 13,
   "metadata": {},
   "outputs": [],
   "source": [
    "data['거래소코드+회계연도']='0'\n",
    "budo['종목코드+회계연도']='0'"
   ]
  },
  {
   "cell_type": "markdown",
   "metadata": {},
   "source": [
    "## 데이터프레임 2개 비교하기 -> data에 ['공시제목'] 컬럼 추가하기"
   ]
  },
  {
   "cell_type": "code",
   "execution_count": 14,
   "metadata": {},
   "outputs": [],
   "source": [
    "data['거래소코드'] = data['거래소코드'].astype('str')"
   ]
  },
  {
   "cell_type": "code",
   "execution_count": 15,
   "metadata": {},
   "outputs": [
    {
     "name": "stderr",
     "output_type": "stream",
     "text": [
      "C:\\Users\\sally\\AppData\\Local\\Temp/ipykernel_28696/38944190.py:2: SettingWithCopyWarning: \n",
      "A value is trying to be set on a copy of a slice from a DataFrame\n",
      "\n",
      "See the caveats in the documentation: https://pandas.pydata.org/pandas-docs/stable/user_guide/indexing.html#returning-a-view-versus-a-copy\n",
      "  data['거래소코드+회계연도'][i] = data['거래소코드'][i] + data['회계연도'][i]\n"
     ]
    },
    {
     "data": {
      "text/html": [
       "<div>\n",
       "<style scoped>\n",
       "    .dataframe tbody tr th:only-of-type {\n",
       "        vertical-align: middle;\n",
       "    }\n",
       "\n",
       "    .dataframe tbody tr th {\n",
       "        vertical-align: top;\n",
       "    }\n",
       "\n",
       "    .dataframe thead th {\n",
       "        text-align: right;\n",
       "    }\n",
       "</style>\n",
       "<table border=\"1\" class=\"dataframe\">\n",
       "  <thead>\n",
       "    <tr style=\"text-align: right;\">\n",
       "      <th></th>\n",
       "      <th>회사명</th>\n",
       "      <th>거래소코드</th>\n",
       "      <th>총자본증가율</th>\n",
       "      <th>유형자산증가율</th>\n",
       "      <th>유동자산증가율</th>\n",
       "      <th>영업이익증가율</th>\n",
       "      <th>경상이익증가율 (2007년 이전 발생)</th>\n",
       "      <th>순이익증가율</th>\n",
       "      <th>재고자산증가율</th>\n",
       "      <th>자기자본증가율</th>\n",
       "      <th>...</th>\n",
       "      <th>*미처분이익잉여금 및 차기이월미처분이익잉여금(요약)</th>\n",
       "      <th>*당기순이익(요약)</th>\n",
       "      <th>부채와자본총계(요약)</th>\n",
       "      <th>소속코드</th>\n",
       "      <th>상장폐지일</th>\n",
       "      <th>감사의견코드</th>\n",
       "      <th>회계연도</th>\n",
       "      <th>회계월</th>\n",
       "      <th>공시제목</th>\n",
       "      <th>거래소코드+회계연도</th>\n",
       "    </tr>\n",
       "  </thead>\n",
       "  <tbody>\n",
       "    <tr>\n",
       "      <th>0</th>\n",
       "      <td>(주)CMG제약</td>\n",
       "      <td>58820</td>\n",
       "      <td>NaN</td>\n",
       "      <td>NaN</td>\n",
       "      <td>NaN</td>\n",
       "      <td>NaN</td>\n",
       "      <td>NaN</td>\n",
       "      <td>NaN</td>\n",
       "      <td>NaN</td>\n",
       "      <td>NaN</td>\n",
       "      <td>...</td>\n",
       "      <td>NaN</td>\n",
       "      <td>NaN</td>\n",
       "      <td>NaN</td>\n",
       "      <td>5.0</td>\n",
       "      <td>NaN</td>\n",
       "      <td>UQ</td>\n",
       "      <td>2000</td>\n",
       "      <td>12</td>\n",
       "      <td>0</td>\n",
       "      <td>588202000</td>\n",
       "    </tr>\n",
       "    <tr>\n",
       "      <th>1</th>\n",
       "      <td>(주)CMG제약</td>\n",
       "      <td>58820</td>\n",
       "      <td>0.00</td>\n",
       "      <td>0.00</td>\n",
       "      <td>0.00</td>\n",
       "      <td>0.00</td>\n",
       "      <td>0.00</td>\n",
       "      <td>0.00</td>\n",
       "      <td>0.00</td>\n",
       "      <td>0.00</td>\n",
       "      <td>...</td>\n",
       "      <td>NaN</td>\n",
       "      <td>NaN</td>\n",
       "      <td>NaN</td>\n",
       "      <td>5.0</td>\n",
       "      <td>NaN</td>\n",
       "      <td>UQ</td>\n",
       "      <td>2001</td>\n",
       "      <td>12</td>\n",
       "      <td>0</td>\n",
       "      <td>588202001</td>\n",
       "    </tr>\n",
       "    <tr>\n",
       "      <th>2</th>\n",
       "      <td>(주)CMG제약</td>\n",
       "      <td>58820</td>\n",
       "      <td>-26.34</td>\n",
       "      <td>-17.72</td>\n",
       "      <td>-39.61</td>\n",
       "      <td>0.00</td>\n",
       "      <td>NaN</td>\n",
       "      <td>0.00</td>\n",
       "      <td>-39.91</td>\n",
       "      <td>-25.65</td>\n",
       "      <td>...</td>\n",
       "      <td>NaN</td>\n",
       "      <td>NaN</td>\n",
       "      <td>NaN</td>\n",
       "      <td>5.0</td>\n",
       "      <td>NaN</td>\n",
       "      <td>UQ</td>\n",
       "      <td>2002</td>\n",
       "      <td>12</td>\n",
       "      <td>0</td>\n",
       "      <td>588202002</td>\n",
       "    </tr>\n",
       "    <tr>\n",
       "      <th>3</th>\n",
       "      <td>(주)CMG제약</td>\n",
       "      <td>58820</td>\n",
       "      <td>-28.17</td>\n",
       "      <td>-79.37</td>\n",
       "      <td>-13.62</td>\n",
       "      <td>0.00</td>\n",
       "      <td>0.00</td>\n",
       "      <td>0.00</td>\n",
       "      <td>-11.75</td>\n",
       "      <td>-1.55</td>\n",
       "      <td>...</td>\n",
       "      <td>NaN</td>\n",
       "      <td>NaN</td>\n",
       "      <td>NaN</td>\n",
       "      <td>5.0</td>\n",
       "      <td>NaN</td>\n",
       "      <td>UQ</td>\n",
       "      <td>2003</td>\n",
       "      <td>12</td>\n",
       "      <td>0</td>\n",
       "      <td>588202003</td>\n",
       "    </tr>\n",
       "    <tr>\n",
       "      <th>4</th>\n",
       "      <td>(주)CMG제약</td>\n",
       "      <td>58820</td>\n",
       "      <td>-53.18</td>\n",
       "      <td>-25.94</td>\n",
       "      <td>-54.38</td>\n",
       "      <td>0.00</td>\n",
       "      <td>-2128.48</td>\n",
       "      <td>0.00</td>\n",
       "      <td>-53.72</td>\n",
       "      <td>-60.20</td>\n",
       "      <td>...</td>\n",
       "      <td>NaN</td>\n",
       "      <td>NaN</td>\n",
       "      <td>NaN</td>\n",
       "      <td>5.0</td>\n",
       "      <td>NaN</td>\n",
       "      <td>UQ</td>\n",
       "      <td>2004</td>\n",
       "      <td>12</td>\n",
       "      <td>0</td>\n",
       "      <td>588202004</td>\n",
       "    </tr>\n",
       "    <tr>\n",
       "      <th>...</th>\n",
       "      <td>...</td>\n",
       "      <td>...</td>\n",
       "      <td>...</td>\n",
       "      <td>...</td>\n",
       "      <td>...</td>\n",
       "      <td>...</td>\n",
       "      <td>...</td>\n",
       "      <td>...</td>\n",
       "      <td>...</td>\n",
       "      <td>...</td>\n",
       "      <td>...</td>\n",
       "      <td>...</td>\n",
       "      <td>...</td>\n",
       "      <td>...</td>\n",
       "      <td>...</td>\n",
       "      <td>...</td>\n",
       "      <td>...</td>\n",
       "      <td>...</td>\n",
       "      <td>...</td>\n",
       "      <td>...</td>\n",
       "      <td>...</td>\n",
       "    </tr>\n",
       "    <tr>\n",
       "      <th>27054</th>\n",
       "      <td>흥구석유(주)</td>\n",
       "      <td>24060</td>\n",
       "      <td>0.21</td>\n",
       "      <td>0.07</td>\n",
       "      <td>-2.43</td>\n",
       "      <td>26.81</td>\n",
       "      <td>14.93</td>\n",
       "      <td>9.72</td>\n",
       "      <td>-61.31</td>\n",
       "      <td>3.26</td>\n",
       "      <td>...</td>\n",
       "      <td>NaN</td>\n",
       "      <td>NaN</td>\n",
       "      <td>NaN</td>\n",
       "      <td>5.0</td>\n",
       "      <td>NaN</td>\n",
       "      <td>UQ</td>\n",
       "      <td>2004</td>\n",
       "      <td>12</td>\n",
       "      <td>0</td>\n",
       "      <td>240602004</td>\n",
       "    </tr>\n",
       "    <tr>\n",
       "      <th>27055</th>\n",
       "      <td>흥구석유(주)</td>\n",
       "      <td>24060</td>\n",
       "      <td>1.60</td>\n",
       "      <td>1.69</td>\n",
       "      <td>24.04</td>\n",
       "      <td>-22.09</td>\n",
       "      <td>-15.73</td>\n",
       "      <td>-14.52</td>\n",
       "      <td>-18.56</td>\n",
       "      <td>1.78</td>\n",
       "      <td>...</td>\n",
       "      <td>NaN</td>\n",
       "      <td>NaN</td>\n",
       "      <td>NaN</td>\n",
       "      <td>5.0</td>\n",
       "      <td>NaN</td>\n",
       "      <td>UQ</td>\n",
       "      <td>2006</td>\n",
       "      <td>12</td>\n",
       "      <td>0</td>\n",
       "      <td>240602006</td>\n",
       "    </tr>\n",
       "    <tr>\n",
       "      <th>27056</th>\n",
       "      <td>흥구석유(주)</td>\n",
       "      <td>24060</td>\n",
       "      <td>4.71</td>\n",
       "      <td>-1.19</td>\n",
       "      <td>49.44</td>\n",
       "      <td>2.21</td>\n",
       "      <td>3.97</td>\n",
       "      <td>8.01</td>\n",
       "      <td>18.63</td>\n",
       "      <td>1.64</td>\n",
       "      <td>...</td>\n",
       "      <td>NaN</td>\n",
       "      <td>NaN</td>\n",
       "      <td>NaN</td>\n",
       "      <td>5.0</td>\n",
       "      <td>NaN</td>\n",
       "      <td>UQ</td>\n",
       "      <td>2002</td>\n",
       "      <td>12</td>\n",
       "      <td>0</td>\n",
       "      <td>240602002</td>\n",
       "    </tr>\n",
       "    <tr>\n",
       "      <th>27057</th>\n",
       "      <td>흥구석유(주)</td>\n",
       "      <td>24060</td>\n",
       "      <td>-8.26</td>\n",
       "      <td>-0.72</td>\n",
       "      <td>-33.74</td>\n",
       "      <td>2973.17</td>\n",
       "      <td>41.09</td>\n",
       "      <td>35.81</td>\n",
       "      <td>8.59</td>\n",
       "      <td>3.58</td>\n",
       "      <td>...</td>\n",
       "      <td>NaN</td>\n",
       "      <td>NaN</td>\n",
       "      <td>NaN</td>\n",
       "      <td>5.0</td>\n",
       "      <td>NaN</td>\n",
       "      <td>UQ</td>\n",
       "      <td>2001</td>\n",
       "      <td>12</td>\n",
       "      <td>0</td>\n",
       "      <td>240602001</td>\n",
       "    </tr>\n",
       "    <tr>\n",
       "      <th>27058</th>\n",
       "      <td>흥구석유(주)</td>\n",
       "      <td>24060</td>\n",
       "      <td>-2.16</td>\n",
       "      <td>-0.78</td>\n",
       "      <td>-21.26</td>\n",
       "      <td>-7.27</td>\n",
       "      <td>-21.43</td>\n",
       "      <td>-21.74</td>\n",
       "      <td>0.84</td>\n",
       "      <td>-1.81</td>\n",
       "      <td>...</td>\n",
       "      <td>NaN</td>\n",
       "      <td>NaN</td>\n",
       "      <td>NaN</td>\n",
       "      <td>5.0</td>\n",
       "      <td>NaN</td>\n",
       "      <td>UQ</td>\n",
       "      <td>2003</td>\n",
       "      <td>12</td>\n",
       "      <td>0</td>\n",
       "      <td>240602003</td>\n",
       "    </tr>\n",
       "  </tbody>\n",
       "</table>\n",
       "<p>27059 rows × 296 columns</p>\n",
       "</div>"
      ],
      "text/plain": [
       "            회사명  거래소코드  총자본증가율  유형자산증가율  유동자산증가율  영업이익증가율  \\\n",
       "0      (주)CMG제약  58820     NaN      NaN      NaN      NaN   \n",
       "1      (주)CMG제약  58820    0.00     0.00     0.00     0.00   \n",
       "2      (주)CMG제약  58820  -26.34   -17.72   -39.61     0.00   \n",
       "3      (주)CMG제약  58820  -28.17   -79.37   -13.62     0.00   \n",
       "4      (주)CMG제약  58820  -53.18   -25.94   -54.38     0.00   \n",
       "...         ...    ...     ...      ...      ...      ...   \n",
       "27054   흥구석유(주)  24060    0.21     0.07    -2.43    26.81   \n",
       "27055   흥구석유(주)  24060    1.60     1.69    24.04   -22.09   \n",
       "27056   흥구석유(주)  24060    4.71    -1.19    49.44     2.21   \n",
       "27057   흥구석유(주)  24060   -8.26    -0.72   -33.74  2973.17   \n",
       "27058   흥구석유(주)  24060   -2.16    -0.78   -21.26    -7.27   \n",
       "\n",
       "       경상이익증가율 (2007년 이전 발생)  순이익증가율  재고자산증가율  자기자본증가율  ...  \\\n",
       "0                        NaN     NaN      NaN      NaN  ...   \n",
       "1                       0.00    0.00     0.00     0.00  ...   \n",
       "2                        NaN    0.00   -39.91   -25.65  ...   \n",
       "3                       0.00    0.00   -11.75    -1.55  ...   \n",
       "4                   -2128.48    0.00   -53.72   -60.20  ...   \n",
       "...                      ...     ...      ...      ...  ...   \n",
       "27054                  14.93    9.72   -61.31     3.26  ...   \n",
       "27055                 -15.73  -14.52   -18.56     1.78  ...   \n",
       "27056                   3.97    8.01    18.63     1.64  ...   \n",
       "27057                  41.09   35.81     8.59     3.58  ...   \n",
       "27058                 -21.43  -21.74     0.84    -1.81  ...   \n",
       "\n",
       "       *미처분이익잉여금 및 차기이월미처분이익잉여금(요약)  *당기순이익(요약)  부채와자본총계(요약)  소속코드  상장폐지일  \\\n",
       "0                               NaN         NaN          NaN   5.0    NaN   \n",
       "1                               NaN         NaN          NaN   5.0    NaN   \n",
       "2                               NaN         NaN          NaN   5.0    NaN   \n",
       "3                               NaN         NaN          NaN   5.0    NaN   \n",
       "4                               NaN         NaN          NaN   5.0    NaN   \n",
       "...                             ...         ...          ...   ...    ...   \n",
       "27054                           NaN         NaN          NaN   5.0    NaN   \n",
       "27055                           NaN         NaN          NaN   5.0    NaN   \n",
       "27056                           NaN         NaN          NaN   5.0    NaN   \n",
       "27057                           NaN         NaN          NaN   5.0    NaN   \n",
       "27058                           NaN         NaN          NaN   5.0    NaN   \n",
       "\n",
       "       감사의견코드  회계연도  회계월  공시제목  거래소코드+회계연도  \n",
       "0          UQ  2000   12     0   588202000  \n",
       "1          UQ  2001   12     0   588202001  \n",
       "2          UQ  2002   12     0   588202002  \n",
       "3          UQ  2003   12     0   588202003  \n",
       "4          UQ  2004   12     0   588202004  \n",
       "...       ...   ...  ...   ...         ...  \n",
       "27054      UQ  2004   12     0   240602004  \n",
       "27055      UQ  2006   12     0   240602006  \n",
       "27056      UQ  2002   12     0   240602002  \n",
       "27057      UQ  2001   12     0   240602001  \n",
       "27058      UQ  2003   12     0   240602003  \n",
       "\n",
       "[27059 rows x 296 columns]"
      ]
     },
     "execution_count": 15,
     "metadata": {},
     "output_type": "execute_result"
    }
   ],
   "source": [
    "for i in range(len(data['거래소코드'])):\n",
    "    data['거래소코드+회계연도'][i] = data['거래소코드'][i] + data['회계연도'][i]\n",
    "data"
   ]
  },
  {
   "cell_type": "code",
   "execution_count": 16,
   "metadata": {},
   "outputs": [],
   "source": [
    "budo['종목코드'] = budo['종목코드'].astype('str')"
   ]
  },
  {
   "cell_type": "code",
   "execution_count": 17,
   "metadata": {},
   "outputs": [
    {
     "data": {
      "text/html": [
       "<div>\n",
       "<style scoped>\n",
       "    .dataframe tbody tr th:only-of-type {\n",
       "        vertical-align: middle;\n",
       "    }\n",
       "\n",
       "    .dataframe tbody tr th {\n",
       "        vertical-align: top;\n",
       "    }\n",
       "\n",
       "    .dataframe thead th {\n",
       "        text-align: right;\n",
       "    }\n",
       "</style>\n",
       "<table border=\"1\" class=\"dataframe\">\n",
       "  <thead>\n",
       "    <tr style=\"text-align: right;\">\n",
       "      <th></th>\n",
       "      <th>시간</th>\n",
       "      <th>회사명</th>\n",
       "      <th>종목코드</th>\n",
       "      <th>공시제목</th>\n",
       "      <th>제출인</th>\n",
       "      <th>회계연도</th>\n",
       "      <th>종목코드+회계연도</th>\n",
       "    </tr>\n",
       "  </thead>\n",
       "  <tbody>\n",
       "    <tr>\n",
       "      <th>0</th>\n",
       "      <td>2002-10-31 18:27</td>\n",
       "      <td>정산애강</td>\n",
       "      <td>22220</td>\n",
       "      <td>부도발생및은행거래정지</td>\n",
       "      <td>정산애강</td>\n",
       "      <td>2002</td>\n",
       "      <td>222202002</td>\n",
       "    </tr>\n",
       "    <tr>\n",
       "      <th>1</th>\n",
       "      <td>2002-10-08 12:06</td>\n",
       "      <td>대호특수강</td>\n",
       "      <td>21040</td>\n",
       "      <td>은행거래재개</td>\n",
       "      <td>대호특수강</td>\n",
       "      <td>2002</td>\n",
       "      <td>210402002</td>\n",
       "    </tr>\n",
       "    <tr>\n",
       "      <th>2</th>\n",
       "      <td>2002-05-21 18:16</td>\n",
       "      <td>에이치엘비</td>\n",
       "      <td>28300</td>\n",
       "      <td>회사정리절차종결결정</td>\n",
       "      <td>에이치엘비</td>\n",
       "      <td>2002</td>\n",
       "      <td>283002002</td>\n",
       "    </tr>\n",
       "    <tr>\n",
       "      <th>3</th>\n",
       "      <td>2002-04-17 17:42</td>\n",
       "      <td>에이치엘비</td>\n",
       "      <td>28300</td>\n",
       "      <td>회사정리절차종결신청</td>\n",
       "      <td>에이치엘비</td>\n",
       "      <td>2002</td>\n",
       "      <td>283002002</td>\n",
       "    </tr>\n",
       "    <tr>\n",
       "      <th>4</th>\n",
       "      <td>2001-12-26 14:58</td>\n",
       "      <td>대호특수강</td>\n",
       "      <td>21040</td>\n",
       "      <td>회사정리절차개시결정</td>\n",
       "      <td>대호특수강</td>\n",
       "      <td>2001</td>\n",
       "      <td>210402001</td>\n",
       "    </tr>\n",
       "    <tr>\n",
       "      <th>...</th>\n",
       "      <td>...</td>\n",
       "      <td>...</td>\n",
       "      <td>...</td>\n",
       "      <td>...</td>\n",
       "      <td>...</td>\n",
       "      <td>...</td>\n",
       "      <td>...</td>\n",
       "    </tr>\n",
       "    <tr>\n",
       "      <th>389</th>\n",
       "      <td>2020-02-12 16:21</td>\n",
       "      <td>에스앤더블류</td>\n",
       "      <td>103230</td>\n",
       "      <td>내부결산시점 관리종목 지정 또는 상장폐지 사유 발생</td>\n",
       "      <td>에스앤더블류</td>\n",
       "      <td>2020</td>\n",
       "      <td>1032302020</td>\n",
       "    </tr>\n",
       "    <tr>\n",
       "      <th>390</th>\n",
       "      <td>2020-02-11 17:02</td>\n",
       "      <td>파나진</td>\n",
       "      <td>46210</td>\n",
       "      <td>내부결산시점 관리종목 지정 또는 상장폐지 사유 발생</td>\n",
       "      <td>파나진</td>\n",
       "      <td>2020</td>\n",
       "      <td>462102020</td>\n",
       "    </tr>\n",
       "    <tr>\n",
       "      <th>391</th>\n",
       "      <td>2020-02-10 16:32</td>\n",
       "      <td>국순당</td>\n",
       "      <td>43650</td>\n",
       "      <td>내부결산시점 관리종목 지정 또는 상장폐지 사유 발생[정]</td>\n",
       "      <td>국순당</td>\n",
       "      <td>2020</td>\n",
       "      <td>436502020</td>\n",
       "    </tr>\n",
       "    <tr>\n",
       "      <th>392</th>\n",
       "      <td>2020-02-10 16:24</td>\n",
       "      <td>유아이디</td>\n",
       "      <td>69330</td>\n",
       "      <td>내부결산시점 관리종목 지정 또는 상장폐지 사유 발생</td>\n",
       "      <td>유아이디</td>\n",
       "      <td>2020</td>\n",
       "      <td>693302020</td>\n",
       "    </tr>\n",
       "    <tr>\n",
       "      <th>393</th>\n",
       "      <td>2020-02-07 17:14</td>\n",
       "      <td>이녹스</td>\n",
       "      <td>88390</td>\n",
       "      <td>내부결산시점 관리종목 지정 또는 상장폐지 사유 발생(자회사의 주요경영사항)[정]</td>\n",
       "      <td>이녹스</td>\n",
       "      <td>2020</td>\n",
       "      <td>883902020</td>\n",
       "    </tr>\n",
       "  </tbody>\n",
       "</table>\n",
       "<p>394 rows × 7 columns</p>\n",
       "</div>"
      ],
      "text/plain": [
       "                   시간     회사명    종목코드  \\\n",
       "0    2002-10-31 18:27    정산애강   22220   \n",
       "1    2002-10-08 12:06   대호특수강   21040   \n",
       "2    2002-05-21 18:16   에이치엘비   28300   \n",
       "3    2002-04-17 17:42   에이치엘비   28300   \n",
       "4    2001-12-26 14:58   대호특수강   21040   \n",
       "..                ...     ...     ...   \n",
       "389  2020-02-12 16:21  에스앤더블류  103230   \n",
       "390  2020-02-11 17:02     파나진   46210   \n",
       "391  2020-02-10 16:32     국순당   43650   \n",
       "392  2020-02-10 16:24    유아이디   69330   \n",
       "393  2020-02-07 17:14     이녹스   88390   \n",
       "\n",
       "                                             공시제목     제출인  회계연도   종목코드+회계연도  \n",
       "0                                     부도발생및은행거래정지    정산애강  2002   222202002  \n",
       "1                                          은행거래재개   대호특수강  2002   210402002  \n",
       "2                                      회사정리절차종결결정   에이치엘비  2002   283002002  \n",
       "3                                      회사정리절차종결신청   에이치엘비  2002   283002002  \n",
       "4                                      회사정리절차개시결정   대호특수강  2001   210402001  \n",
       "..                                            ...     ...   ...         ...  \n",
       "389                  내부결산시점 관리종목 지정 또는 상장폐지 사유 발생  에스앤더블류  2020  1032302020  \n",
       "390                  내부결산시점 관리종목 지정 또는 상장폐지 사유 발생     파나진  2020   462102020  \n",
       "391               내부결산시점 관리종목 지정 또는 상장폐지 사유 발생[정]     국순당  2020   436502020  \n",
       "392                  내부결산시점 관리종목 지정 또는 상장폐지 사유 발생    유아이디  2020   693302020  \n",
       "393  내부결산시점 관리종목 지정 또는 상장폐지 사유 발생(자회사의 주요경영사항)[정]     이녹스  2020   883902020  \n",
       "\n",
       "[394 rows x 7 columns]"
      ]
     },
     "execution_count": 17,
     "metadata": {},
     "output_type": "execute_result"
    }
   ],
   "source": [
    "for i in range(len(budo['종목코드'])):\n",
    "    budo['종목코드+회계연도'][i] = budo['종목코드'][i] + budo['회계연도'][i]\n",
    "budo"
   ]
  },
  {
   "cell_type": "markdown",
   "metadata": {},
   "source": [
    "---"
   ]
  },
  {
   "cell_type": "code",
   "execution_count": 18,
   "metadata": {},
   "outputs": [
    {
     "data": {
      "text/plain": [
       "\" for i in tqdm(range(len(data['거래소코드']))):    #27059개\\n        if(budo['종목코드+회계연도'][0]==data['거래소코드+회계연도'][i]):\\n            data['공시제목'][i] = budo['공시제목'][0]\\n            print(i) \""
      ]
     },
     "execution_count": 18,
     "metadata": {},
     "output_type": "execute_result"
    }
   ],
   "source": [
    "''' for i in tqdm(range(len(data['거래소코드']))):    #27059개\n",
    "        if(budo['종목코드+회계연도'][0]==data['거래소코드+회계연도'][i]):\n",
    "            data['공시제목'][i] = budo['공시제목'][0]\n",
    "            print(i) '''\n"
   ]
  },
  {
   "cell_type": "code",
   "execution_count": 19,
   "metadata": {},
   "outputs": [
    {
     "name": "stdout",
     "output_type": "stream",
     "text": [
      "394\n",
      "27059\n"
     ]
    }
   ],
   "source": [
    "print(len(budo))\n",
    "print(len(data))"
   ]
  },
  {
   "cell_type": "code",
   "execution_count": 20,
   "metadata": {},
   "outputs": [
    {
     "name": "stderr",
     "output_type": "stream",
     "text": [
      "  0%|          | 0/394 [00:00<?, ?it/s]C:\\Users\\sally\\AppData\\Local\\Temp/ipykernel_28696/4140355198.py:4: SettingWithCopyWarning: \n",
      "A value is trying to be set on a copy of a slice from a DataFrame\n",
      "\n",
      "See the caveats in the documentation: https://pandas.pydata.org/pandas-docs/stable/user_guide/indexing.html#returning-a-view-versus-a-copy\n",
      "  data['공시제목'][i] = budo['공시제목'][j]\n",
      "  0%|          | 1/394 [00:00<01:04,  6.12it/s]"
     ]
    },
    {
     "name": "stdout",
     "output_type": "stream",
     "text": [
      "0 13382\n"
     ]
    },
    {
     "name": "stderr",
     "output_type": "stream",
     "text": []
    },
    {
     "name": "stdout",
     "output_type": "stream",
     "text": [
      "1 1665\n"
     ]
    },
    {
     "name": "stderr",
     "output_type": "stream",
     "text": [
      "  1%|          | 3/394 [00:00<01:03,  6.20it/s]"
     ]
    },
    {
     "name": "stdout",
     "output_type": "stream",
     "text": [
      "2 23312\n"
     ]
    },
    {
     "name": "stderr",
     "output_type": "stream",
     "text": [
      "  1%|          | 4/394 [00:00<01:22,  4.71it/s]"
     ]
    },
    {
     "name": "stdout",
     "output_type": "stream",
     "text": [
      "3 23312\n"
     ]
    },
    {
     "name": "stderr",
     "output_type": "stream",
     "text": []
    },
    {
     "name": "stdout",
     "output_type": "stream",
     "text": [
      "4 1664\n"
     ]
    },
    {
     "name": "stderr",
     "output_type": "stream",
     "text": [
      "  2%|▏         | 6/394 [00:01<01:08,  5.64it/s]"
     ]
    },
    {
     "name": "stdout",
     "output_type": "stream",
     "text": [
      "5 20355\n"
     ]
    },
    {
     "name": "stderr",
     "output_type": "stream",
     "text": []
    },
    {
     "name": "stdout",
     "output_type": "stream",
     "text": [
      "6 1664\n"
     ]
    },
    {
     "name": "stderr",
     "output_type": "stream",
     "text": [
      "  2%|▏         | 8/394 [00:01<00:49,  7.86it/s]"
     ]
    },
    {
     "name": "stdout",
     "output_type": "stream",
     "text": [
      "7 5585\n"
     ]
    },
    {
     "name": "stderr",
     "output_type": "stream",
     "text": []
    },
    {
     "name": "stdout",
     "output_type": "stream",
     "text": [
      "8 1664\n"
     ]
    },
    {
     "name": "stderr",
     "output_type": "stream",
     "text": [
      "\n"
     ]
    },
    {
     "name": "stdout",
     "output_type": "stream",
     "text": [
      "9 1664\n"
     ]
    },
    {
     "name": "stderr",
     "output_type": "stream",
     "text": []
    },
    {
     "name": "stdout",
     "output_type": "stream",
     "text": [
      "10 1664\n"
     ]
    },
    {
     "name": "stderr",
     "output_type": "stream",
     "text": [
      "\n"
     ]
    },
    {
     "name": "stdout",
     "output_type": "stream",
     "text": [
      "11 9940\n"
     ]
    },
    {
     "name": "stderr",
     "output_type": "stream",
     "text": [
      "  3%|▎         | 12/394 [00:01<00:34, 11.11it/s]"
     ]
    },
    {
     "name": "stdout",
     "output_type": "stream",
     "text": [
      "12 8941\n"
     ]
    },
    {
     "name": "stderr",
     "output_type": "stream",
     "text": [
      "  4%|▎         | 14/394 [00:01<00:37, 10.14it/s]"
     ]
    },
    {
     "name": "stdout",
     "output_type": "stream",
     "text": [
      "13 8941\n"
     ]
    },
    {
     "name": "stderr",
     "output_type": "stream",
     "text": [
      "\n"
     ]
    },
    {
     "name": "stdout",
     "output_type": "stream",
     "text": [
      "14 14077\n"
     ]
    },
    {
     "name": "stderr",
     "output_type": "stream",
     "text": [
      "  4%|▍         | 16/394 [00:02<00:44,  8.43it/s]"
     ]
    },
    {
     "name": "stdout",
     "output_type": "stream",
     "text": [
      "15 10342\n"
     ]
    },
    {
     "name": "stderr",
     "output_type": "stream",
     "text": [
      "  5%|▍         | 18/394 [00:02<01:09,  5.40it/s]"
     ]
    },
    {
     "name": "stdout",
     "output_type": "stream",
     "text": [
      "17 23314\n"
     ]
    },
    {
     "name": "stderr",
     "output_type": "stream",
     "text": [
      "  5%|▍         | 19/394 [00:02<01:05,  5.72it/s]"
     ]
    },
    {
     "name": "stdout",
     "output_type": "stream",
     "text": [
      "18 8941\n"
     ]
    },
    {
     "name": "stderr",
     "output_type": "stream",
     "text": [
      "  5%|▌         | 20/394 [00:02<01:00,  6.13it/s]"
     ]
    },
    {
     "name": "stdout",
     "output_type": "stream",
     "text": [
      "19 8941\n"
     ]
    },
    {
     "name": "stderr",
     "output_type": "stream",
     "text": [
      "  5%|▌         | 21/394 [00:03<00:59,  6.28it/s]"
     ]
    },
    {
     "name": "stdout",
     "output_type": "stream",
     "text": [
      "20 9941\n"
     ]
    },
    {
     "name": "stderr",
     "output_type": "stream",
     "text": [
      "  6%|▌         | 22/394 [00:03<01:13,  5.09it/s]"
     ]
    },
    {
     "name": "stdout",
     "output_type": "stream",
     "text": [
      "21 23314\n"
     ]
    },
    {
     "name": "stderr",
     "output_type": "stream",
     "text": [
      "  6%|▌         | 23/394 [00:03<01:22,  4.52it/s]"
     ]
    },
    {
     "name": "stdout",
     "output_type": "stream",
     "text": [
      "22 23314\n"
     ]
    },
    {
     "name": "stderr",
     "output_type": "stream",
     "text": [
      "  6%|▌         | 24/394 [00:03<01:13,  5.01it/s]"
     ]
    },
    {
     "name": "stdout",
     "output_type": "stream",
     "text": [
      "23 10342\n"
     ]
    },
    {
     "name": "stderr",
     "output_type": "stream",
     "text": [
      "  6%|▋         | 25/394 [00:04<01:15,  4.89it/s]"
     ]
    },
    {
     "name": "stdout",
     "output_type": "stream",
     "text": [
      "24 17090\n"
     ]
    },
    {
     "name": "stderr",
     "output_type": "stream",
     "text": [
      "  7%|▋         | 26/394 [00:04<01:16,  4.82it/s]"
     ]
    },
    {
     "name": "stdout",
     "output_type": "stream",
     "text": [
      "25 17088\n"
     ]
    },
    {
     "name": "stderr",
     "output_type": "stream",
     "text": [
      "  7%|▋         | 27/394 [00:04<01:17,  4.73it/s]"
     ]
    },
    {
     "name": "stdout",
     "output_type": "stream",
     "text": [
      "26 17088\n"
     ]
    },
    {
     "name": "stderr",
     "output_type": "stream",
     "text": [
      "  7%|▋         | 28/394 [00:04<01:10,  5.18it/s]"
     ]
    },
    {
     "name": "stdout",
     "output_type": "stream",
     "text": [
      "27 11806\n"
     ]
    },
    {
     "name": "stderr",
     "output_type": "stream",
     "text": []
    },
    {
     "name": "stdout",
     "output_type": "stream",
     "text": [
      "28 1666\n"
     ]
    },
    {
     "name": "stderr",
     "output_type": "stream",
     "text": []
    },
    {
     "name": "stdout",
     "output_type": "stream",
     "text": [
      "29 1666\n"
     ]
    },
    {
     "name": "stderr",
     "output_type": "stream",
     "text": [
      "  8%|▊         | 31/394 [00:04<00:37,  9.57it/s]"
     ]
    },
    {
     "name": "stdout",
     "output_type": "stream",
     "text": [
      "30 2344\n"
     ]
    },
    {
     "name": "stderr",
     "output_type": "stream",
     "text": [
      "  8%|▊         | 33/394 [00:05<00:54,  6.60it/s]"
     ]
    },
    {
     "name": "stdout",
     "output_type": "stream",
     "text": [
      "32 7524\n"
     ]
    },
    {
     "name": "stderr",
     "output_type": "stream",
     "text": []
    },
    {
     "name": "stdout",
     "output_type": "stream",
     "text": [
      "33 7524\n"
     ]
    },
    {
     "name": "stderr",
     "output_type": "stream",
     "text": [
      "  9%|▉         | 35/394 [00:05<01:03,  5.62it/s]"
     ]
    },
    {
     "name": "stdout",
     "output_type": "stream",
     "text": [
      "34 25861\n"
     ]
    },
    {
     "name": "stderr",
     "output_type": "stream",
     "text": [
      "\n"
     ]
    },
    {
     "name": "stdout",
     "output_type": "stream",
     "text": [
      "35 14987\n"
     ]
    },
    {
     "name": "stderr",
     "output_type": "stream",
     "text": [
      "  9%|▉         | 36/394 [00:05<01:04,  5.54it/s]\n"
     ]
    },
    {
     "name": "stdout",
     "output_type": "stream",
     "text": [
      "36 14987\n"
     ]
    },
    {
     "name": "stderr",
     "output_type": "stream",
     "text": [
      "  9%|▉         | 37/394 [00:06<01:05,  5.44it/s]"
     ]
    },
    {
     "name": "stdout",
     "output_type": "stream",
     "text": [
      "37 589\n"
     ]
    },
    {
     "name": "stderr",
     "output_type": "stream",
     "text": []
    },
    {
     "name": "stdout",
     "output_type": "stream",
     "text": [
      "38 589\n"
     ]
    },
    {
     "name": "stderr",
     "output_type": "stream",
     "text": []
    },
    {
     "name": "stdout",
     "output_type": "stream",
     "text": [
      "39 589\n"
     ]
    },
    {
     "name": "stderr",
     "output_type": "stream",
     "text": [
      " 10%|█         | 41/394 [00:06<00:49,  7.18it/s]"
     ]
    },
    {
     "name": "stdout",
     "output_type": "stream",
     "text": [
      "40 26825\n"
     ]
    },
    {
     "name": "stderr",
     "output_type": "stream",
     "text": [
      " 11%|█         | 42/394 [00:06<01:00,  5.77it/s]"
     ]
    },
    {
     "name": "stdout",
     "output_type": "stream",
     "text": [
      "41 26825\n"
     ]
    },
    {
     "name": "stderr",
     "output_type": "stream",
     "text": [
      " 11%|█         | 43/394 [00:07<01:07,  5.19it/s]"
     ]
    },
    {
     "name": "stdout",
     "output_type": "stream",
     "text": [
      "42 21181\n"
     ]
    },
    {
     "name": "stderr",
     "output_type": "stream",
     "text": []
    },
    {
     "name": "stdout",
     "output_type": "stream",
     "text": [
      "43 3737\n"
     ]
    },
    {
     "name": "stderr",
     "output_type": "stream",
     "text": [
      " 11%|█▏        | 45/394 [00:07<00:52,  6.61it/s]"
     ]
    },
    {
     "name": "stdout",
     "output_type": "stream",
     "text": [
      "44 7166\n"
     ]
    },
    {
     "name": "stderr",
     "output_type": "stream",
     "text": [
      " 12%|█▏        | 46/394 [00:07<00:51,  6.80it/s]"
     ]
    },
    {
     "name": "stdout",
     "output_type": "stream",
     "text": [
      "45 10081\n"
     ]
    },
    {
     "name": "stderr",
     "output_type": "stream",
     "text": [
      " 12%|█▏        | 47/394 [00:07<00:49,  7.01it/s]"
     ]
    },
    {
     "name": "stdout",
     "output_type": "stream",
     "text": [
      "46 10081\n"
     ]
    },
    {
     "name": "stderr",
     "output_type": "stream",
     "text": []
    },
    {
     "name": "stdout",
     "output_type": "stream",
     "text": [
      "47 7166\n"
     ]
    },
    {
     "name": "stderr",
     "output_type": "stream",
     "text": [
      " 12%|█▏        | 49/394 [00:07<00:39,  8.70it/s]"
     ]
    },
    {
     "name": "stdout",
     "output_type": "stream",
     "text": [
      "48 3737\n"
     ]
    },
    {
     "name": "stderr",
     "output_type": "stream",
     "text": [
      " 13%|█▎        | 50/394 [00:07<00:50,  6.82it/s]"
     ]
    },
    {
     "name": "stdout",
     "output_type": "stream",
     "text": [
      "49 20786\n"
     ]
    },
    {
     "name": "stderr",
     "output_type": "stream",
     "text": [
      " 13%|█▎        | 51/394 [00:08<01:00,  5.68it/s]"
     ]
    },
    {
     "name": "stdout",
     "output_type": "stream",
     "text": [
      "50 20786\n"
     ]
    },
    {
     "name": "stderr",
     "output_type": "stream",
     "text": []
    },
    {
     "name": "stdout",
     "output_type": "stream",
     "text": [
      "51 4336\n"
     ]
    },
    {
     "name": "stderr",
     "output_type": "stream",
     "text": [
      " 13%|█▎        | 53/394 [00:08<00:58,  5.81it/s]"
     ]
    },
    {
     "name": "stdout",
     "output_type": "stream",
     "text": [
      "52 21181\n"
     ]
    },
    {
     "name": "stderr",
     "output_type": "stream",
     "text": [
      " 14%|█▎        | 54/394 [00:08<01:05,  5.22it/s]"
     ]
    },
    {
     "name": "stdout",
     "output_type": "stream",
     "text": [
      "53 21181\n"
     ]
    },
    {
     "name": "stderr",
     "output_type": "stream",
     "text": [
      " 14%|█▍        | 55/394 [00:09<01:12,  4.69it/s]"
     ]
    },
    {
     "name": "stdout",
     "output_type": "stream",
     "text": [
      "54 21181\n"
     ]
    },
    {
     "name": "stderr",
     "output_type": "stream",
     "text": []
    },
    {
     "name": "stdout",
     "output_type": "stream",
     "text": [
      "55 3335\n"
     ]
    },
    {
     "name": "stderr",
     "output_type": "stream",
     "text": [
      "\n"
     ]
    },
    {
     "name": "stdout",
     "output_type": "stream",
     "text": [
      "56 9696\n"
     ]
    },
    {
     "name": "stderr",
     "output_type": "stream",
     "text": [
      " 14%|█▍        | 57/394 [00:09<00:55,  6.11it/s]\n"
     ]
    },
    {
     "name": "stdout",
     "output_type": "stream",
     "text": [
      "57 3335\n"
     ]
    },
    {
     "name": "stderr",
     "output_type": "stream",
     "text": [
      " 15%|█▌        | 60/394 [00:09<00:58,  5.71it/s]"
     ]
    },
    {
     "name": "stdout",
     "output_type": "stream",
     "text": [
      "59 10624\n"
     ]
    },
    {
     "name": "stderr",
     "output_type": "stream",
     "text": [
      " 15%|█▌        | 61/394 [00:09<00:54,  6.11it/s]"
     ]
    },
    {
     "name": "stdout",
     "output_type": "stream",
     "text": [
      "60 9696\n"
     ]
    },
    {
     "name": "stderr",
     "output_type": "stream",
     "text": [
      " 16%|█▌        | 64/394 [00:10<01:08,  4.83it/s]"
     ]
    },
    {
     "name": "stdout",
     "output_type": "stream",
     "text": [
      "63 9696\n"
     ]
    },
    {
     "name": "stderr",
     "output_type": "stream",
     "text": [
      " 18%|█▊        | 69/394 [00:12<01:28,  3.66it/s]"
     ]
    },
    {
     "name": "stdout",
     "output_type": "stream",
     "text": [
      "68 14972\n"
     ]
    },
    {
     "name": "stderr",
     "output_type": "stream",
     "text": [
      "\n"
     ]
    },
    {
     "name": "stdout",
     "output_type": "stream",
     "text": [
      "69 14972\n"
     ]
    },
    {
     "name": "stderr",
     "output_type": "stream",
     "text": [
      " 20%|██        | 79/394 [00:15<01:45,  2.98it/s]"
     ]
    },
    {
     "name": "stdout",
     "output_type": "stream",
     "text": [
      "79 591\n"
     ]
    },
    {
     "name": "stderr",
     "output_type": "stream",
     "text": []
    },
    {
     "name": "stdout",
     "output_type": "stream",
     "text": [
      "80 591\n"
     ]
    },
    {
     "name": "stderr",
     "output_type": "stream",
     "text": [
      " 24%|██▍       | 95/394 [00:20<01:37,  3.06it/s]"
     ]
    },
    {
     "name": "stdout",
     "output_type": "stream",
     "text": [
      "94 23263\n"
     ]
    },
    {
     "name": "stderr",
     "output_type": "stream",
     "text": [
      " 24%|██▍       | 96/394 [00:20<01:34,  3.16it/s]"
     ]
    },
    {
     "name": "stdout",
     "output_type": "stream",
     "text": [
      "95 23263\n"
     ]
    },
    {
     "name": "stderr",
     "output_type": "stream",
     "text": [
      " 25%|██▍       | 97/394 [00:20<01:32,  3.20it/s]"
     ]
    },
    {
     "name": "stdout",
     "output_type": "stream",
     "text": [
      "96 24882\n"
     ]
    },
    {
     "name": "stderr",
     "output_type": "stream",
     "text": [
      " 25%|██▍       | 98/394 [00:21<01:17,  3.83it/s]"
     ]
    },
    {
     "name": "stdout",
     "output_type": "stream",
     "text": [
      "97 10458\n"
     ]
    },
    {
     "name": "stderr",
     "output_type": "stream",
     "text": [
      " 25%|██▌       | 99/394 [00:21<01:22,  3.59it/s]"
     ]
    },
    {
     "name": "stdout",
     "output_type": "stream",
     "text": [
      "98 24882\n"
     ]
    },
    {
     "name": "stderr",
     "output_type": "stream",
     "text": [
      " 25%|██▌       | 100/394 [00:21<01:09,  4.25it/s]"
     ]
    },
    {
     "name": "stdout",
     "output_type": "stream",
     "text": [
      "99 10458\n"
     ]
    },
    {
     "name": "stderr",
     "output_type": "stream",
     "text": [
      " 27%|██▋       | 107/394 [00:23<01:34,  3.03it/s]"
     ]
    },
    {
     "name": "stdout",
     "output_type": "stream",
     "text": [
      "106 23662\n"
     ]
    },
    {
     "name": "stderr",
     "output_type": "stream",
     "text": [
      " 27%|██▋       | 108/394 [00:24<01:26,  3.30it/s]"
     ]
    },
    {
     "name": "stdout",
     "output_type": "stream",
     "text": [
      "107 18683\n"
     ]
    },
    {
     "name": "stderr",
     "output_type": "stream",
     "text": []
    },
    {
     "name": "stdout",
     "output_type": "stream",
     "text": [
      "108 4879\n"
     ]
    },
    {
     "name": "stderr",
     "output_type": "stream",
     "text": [
      " 28%|██▊       | 110/394 [00:24<01:09,  4.10it/s]"
     ]
    },
    {
     "name": "stdout",
     "output_type": "stream",
     "text": [
      "109 23903\n"
     ]
    },
    {
     "name": "stderr",
     "output_type": "stream",
     "text": [
      " 28%|██▊       | 111/394 [00:24<01:01,  4.60it/s]"
     ]
    },
    {
     "name": "stdout",
     "output_type": "stream",
     "text": [
      "110 11008\n"
     ]
    },
    {
     "name": "stderr",
     "output_type": "stream",
     "text": [
      " 28%|██▊       | 112/394 [00:24<00:56,  5.03it/s]"
     ]
    },
    {
     "name": "stdout",
     "output_type": "stream",
     "text": [
      "111 11008\n"
     ]
    },
    {
     "name": "stderr",
     "output_type": "stream",
     "text": [
      " 29%|██▊       | 113/394 [00:25<01:02,  4.51it/s]"
     ]
    },
    {
     "name": "stdout",
     "output_type": "stream",
     "text": [
      "112 23903\n"
     ]
    },
    {
     "name": "stderr",
     "output_type": "stream",
     "text": [
      " 29%|██▉       | 115/394 [00:25<01:17,  3.58it/s]"
     ]
    },
    {
     "name": "stdout",
     "output_type": "stream",
     "text": [
      "115 3088\n"
     ]
    },
    {
     "name": "stderr",
     "output_type": "stream",
     "text": [
      " 30%|██▉       | 118/394 [00:26<01:11,  3.85it/s]"
     ]
    },
    {
     "name": "stdout",
     "output_type": "stream",
     "text": [
      "118 1518\n"
     ]
    },
    {
     "name": "stderr",
     "output_type": "stream",
     "text": []
    },
    {
     "name": "stdout",
     "output_type": "stream",
     "text": [
      "119 1518\n"
     ]
    },
    {
     "name": "stderr",
     "output_type": "stream",
     "text": [
      " 31%|███       | 121/394 [00:26<00:48,  5.68it/s]"
     ]
    },
    {
     "name": "stdout",
     "output_type": "stream",
     "text": [
      "120 18683\n"
     ]
    },
    {
     "name": "stderr",
     "output_type": "stream",
     "text": [
      " 31%|███       | 122/394 [00:26<00:51,  5.31it/s]"
     ]
    },
    {
     "name": "stdout",
     "output_type": "stream",
     "text": [
      "121 18683\n"
     ]
    },
    {
     "name": "stderr",
     "output_type": "stream",
     "text": [
      " 31%|███       | 123/394 [00:27<00:57,  4.71it/s]"
     ]
    },
    {
     "name": "stdout",
     "output_type": "stream",
     "text": [
      "122 23662\n"
     ]
    },
    {
     "name": "stderr",
     "output_type": "stream",
     "text": [
      " 31%|███▏      | 124/394 [00:27<01:03,  4.27it/s]"
     ]
    },
    {
     "name": "stdout",
     "output_type": "stream",
     "text": [
      "123 23662\n"
     ]
    },
    {
     "name": "stderr",
     "output_type": "stream",
     "text": [
      " 33%|███▎      | 131/394 [00:29<01:19,  3.30it/s]"
     ]
    },
    {
     "name": "stdout",
     "output_type": "stream",
     "text": [
      "130 17980\n"
     ]
    },
    {
     "name": "stderr",
     "output_type": "stream",
     "text": [
      " 34%|███▎      | 132/394 [00:30<01:20,  3.27it/s]"
     ]
    },
    {
     "name": "stdout",
     "output_type": "stream",
     "text": [
      "131 24403\n"
     ]
    },
    {
     "name": "stderr",
     "output_type": "stream",
     "text": [
      " 34%|███▍      | 133/394 [00:30<01:22,  3.17it/s]"
     ]
    },
    {
     "name": "stdout",
     "output_type": "stream",
     "text": [
      "132 25862\n"
     ]
    },
    {
     "name": "stderr",
     "output_type": "stream",
     "text": [
      " 34%|███▍      | 134/394 [00:30<01:23,  3.13it/s]"
     ]
    },
    {
     "name": "stdout",
     "output_type": "stream",
     "text": [
      "133 25862\n"
     ]
    },
    {
     "name": "stderr",
     "output_type": "stream",
     "text": [
      " 35%|███▍      | 136/394 [00:31<01:23,  3.10it/s]"
     ]
    },
    {
     "name": "stdout",
     "output_type": "stream",
     "text": [
      "135 23661\n"
     ]
    },
    {
     "name": "stderr",
     "output_type": "stream",
     "text": [
      " 35%|███▍      | 137/394 [00:31<01:20,  3.19it/s]"
     ]
    },
    {
     "name": "stdout",
     "output_type": "stream",
     "text": [
      "136 23661\n"
     ]
    },
    {
     "name": "stderr",
     "output_type": "stream",
     "text": []
    },
    {
     "name": "stdout",
     "output_type": "stream",
     "text": [
      "137 4878\n"
     ]
    },
    {
     "name": "stderr",
     "output_type": "stream",
     "text": [
      " 35%|███▌      | 139/394 [00:31<00:51,  4.95it/s]"
     ]
    },
    {
     "name": "stdout",
     "output_type": "stream",
     "text": [
      "138 4878\n"
     ]
    },
    {
     "name": "stderr",
     "output_type": "stream",
     "text": [
      "\n"
     ]
    },
    {
     "name": "stdout",
     "output_type": "stream",
     "text": [
      "139 4878\n"
     ]
    },
    {
     "name": "stderr",
     "output_type": "stream",
     "text": [
      " 36%|███▌      | 141/394 [00:32<00:47,  5.37it/s]"
     ]
    },
    {
     "name": "stdout",
     "output_type": "stream",
     "text": [
      "140 20778\n"
     ]
    },
    {
     "name": "stderr",
     "output_type": "stream",
     "text": [
      " 36%|███▌      | 142/394 [00:32<00:50,  4.96it/s]"
     ]
    },
    {
     "name": "stdout",
     "output_type": "stream",
     "text": [
      "141 20778\n"
     ]
    },
    {
     "name": "stderr",
     "output_type": "stream",
     "text": []
    },
    {
     "name": "stdout",
     "output_type": "stream",
     "text": [
      "142 4878\n"
     ]
    },
    {
     "name": "stderr",
     "output_type": "stream",
     "text": [
      " 37%|███▋      | 144/394 [00:32<00:47,  5.24it/s]"
     ]
    },
    {
     "name": "stdout",
     "output_type": "stream",
     "text": [
      "143 23756\n"
     ]
    },
    {
     "name": "stderr",
     "output_type": "stream",
     "text": [
      " 37%|███▋      | 145/394 [00:33<00:52,  4.71it/s]"
     ]
    },
    {
     "name": "stdout",
     "output_type": "stream",
     "text": [
      "144 23661\n"
     ]
    },
    {
     "name": "stderr",
     "output_type": "stream",
     "text": [
      " 39%|███▊      | 152/394 [00:35<01:10,  3.43it/s]"
     ]
    },
    {
     "name": "stdout",
     "output_type": "stream",
     "text": [
      "151 17830\n"
     ]
    },
    {
     "name": "stderr",
     "output_type": "stream",
     "text": [
      " 39%|███▉      | 153/394 [00:35<01:06,  3.60it/s]"
     ]
    },
    {
     "name": "stdout",
     "output_type": "stream",
     "text": [
      "152 17830\n"
     ]
    },
    {
     "name": "stderr",
     "output_type": "stream",
     "text": [
      " 39%|███▉      | 155/394 [00:36<01:08,  3.47it/s]"
     ]
    },
    {
     "name": "stdout",
     "output_type": "stream",
     "text": [
      "154 17830\n"
     ]
    },
    {
     "name": "stderr",
     "output_type": "stream",
     "text": [
      " 40%|███▉      | 156/394 [00:36<01:08,  3.46it/s]"
     ]
    },
    {
     "name": "stdout",
     "output_type": "stream",
     "text": [
      "155 23756\n"
     ]
    },
    {
     "name": "stderr",
     "output_type": "stream",
     "text": [
      " 40%|███▉      | 157/394 [00:36<01:11,  3.34it/s]"
     ]
    },
    {
     "name": "stdout",
     "output_type": "stream",
     "text": [
      "156 23661\n"
     ]
    },
    {
     "name": "stderr",
     "output_type": "stream",
     "text": [
      " 40%|████      | 159/394 [00:37<01:12,  3.24it/s]"
     ]
    },
    {
     "name": "stdout",
     "output_type": "stream",
     "text": [
      "158 23661\n"
     ]
    },
    {
     "name": "stderr",
     "output_type": "stream",
     "text": []
    },
    {
     "name": "stdout",
     "output_type": "stream",
     "text": [
      "159 7256\n"
     ]
    },
    {
     "name": "stderr",
     "output_type": "stream",
     "text": [
      " 41%|████      | 162/394 [00:38<00:52,  4.42it/s]"
     ]
    },
    {
     "name": "stdout",
     "output_type": "stream",
     "text": [
      "161 7909\n"
     ]
    },
    {
     "name": "stderr",
     "output_type": "stream",
     "text": [
      " 42%|████▏     | 164/394 [00:38<00:49,  4.62it/s]"
     ]
    },
    {
     "name": "stdout",
     "output_type": "stream",
     "text": [
      "163 7686\n"
     ]
    },
    {
     "name": "stderr",
     "output_type": "stream",
     "text": [
      " 42%|████▏     | 165/394 [00:38<00:52,  4.39it/s]"
     ]
    },
    {
     "name": "stdout",
     "output_type": "stream",
     "text": [
      "164 20805\n"
     ]
    },
    {
     "name": "stderr",
     "output_type": "stream",
     "text": [
      " 42%|████▏     | 166/394 [00:38<00:46,  4.92it/s]"
     ]
    },
    {
     "name": "stdout",
     "output_type": "stream",
     "text": [
      "165 10605\n"
     ]
    },
    {
     "name": "stderr",
     "output_type": "stream",
     "text": [
      " 43%|████▎     | 168/394 [00:39<00:58,  3.84it/s]"
     ]
    },
    {
     "name": "stdout",
     "output_type": "stream",
     "text": [
      "167 23756\n"
     ]
    },
    {
     "name": "stderr",
     "output_type": "stream",
     "text": [
      " 43%|████▎     | 169/394 [00:39<01:00,  3.74it/s]"
     ]
    },
    {
     "name": "stdout",
     "output_type": "stream",
     "text": [
      "168 23756\n"
     ]
    },
    {
     "name": "stderr",
     "output_type": "stream",
     "text": [
      " 43%|████▎     | 170/394 [00:40<01:03,  3.50it/s]"
     ]
    },
    {
     "name": "stdout",
     "output_type": "stream",
     "text": [
      "170 4780\n"
     ]
    },
    {
     "name": "stderr",
     "output_type": "stream",
     "text": [
      " 44%|████▎     | 172/394 [00:40<00:52,  4.27it/s]"
     ]
    },
    {
     "name": "stdout",
     "output_type": "stream",
     "text": [
      "171 23664\n"
     ]
    },
    {
     "name": "stderr",
     "output_type": "stream",
     "text": [
      " 44%|████▍     | 173/394 [00:40<00:54,  4.05it/s]"
     ]
    },
    {
     "name": "stdout",
     "output_type": "stream",
     "text": [
      "172 23664\n"
     ]
    },
    {
     "name": "stderr",
     "output_type": "stream",
     "text": [
      " 47%|████▋     | 187/394 [00:45<01:06,  3.10it/s]"
     ]
    },
    {
     "name": "stdout",
     "output_type": "stream",
     "text": [
      "186 22835\n"
     ]
    },
    {
     "name": "stderr",
     "output_type": "stream",
     "text": [
      " 48%|████▊     | 189/394 [00:46<01:06,  3.10it/s]"
     ]
    },
    {
     "name": "stdout",
     "output_type": "stream",
     "text": [
      "188 24078\n"
     ]
    },
    {
     "name": "stderr",
     "output_type": "stream",
     "text": [
      " 48%|████▊     | 190/394 [00:46<01:06,  3.07it/s]"
     ]
    },
    {
     "name": "stdout",
     "output_type": "stream",
     "text": [
      "190 6721\n"
     ]
    },
    {
     "name": "stderr",
     "output_type": "stream",
     "text": [
      " 49%|████▊     | 192/394 [00:46<00:43,  4.64it/s]"
     ]
    },
    {
     "name": "stdout",
     "output_type": "stream",
     "text": [
      "191 6930\n"
     ]
    },
    {
     "name": "stderr",
     "output_type": "stream",
     "text": []
    },
    {
     "name": "stdout",
     "output_type": "stream",
     "text": [
      "192"
     ]
    },
    {
     "name": "stderr",
     "output_type": "stream",
     "text": []
    },
    {
     "name": "stdout",
     "output_type": "stream",
     "text": [
      " 6930\n"
     ]
    },
    {
     "name": "stderr",
     "output_type": "stream",
     "text": [
      "\n"
     ]
    },
    {
     "name": "stdout",
     "output_type": "stream",
     "text": [
      "193 7986\n"
     ]
    },
    {
     "name": "stderr",
     "output_type": "stream",
     "text": [
      " 49%|████▉     | 194/394 [00:46<00:33,  5.96it/s]\n"
     ]
    },
    {
     "name": "stdout",
     "output_type": "stream",
     "text": [
      "194 8686\n"
     ]
    },
    {
     "name": "stderr",
     "output_type": "stream",
     "text": [
      " 50%|████▉     | 196/394 [00:47<00:30,  6.40it/s]"
     ]
    },
    {
     "name": "stdout",
     "output_type": "stream",
     "text": [
      "195 12642\n"
     ]
    },
    {
     "name": "stderr",
     "output_type": "stream",
     "text": [
      " 50%|█████     | 197/394 [00:47<00:31,  6.20it/s]"
     ]
    },
    {
     "name": "stdout",
     "output_type": "stream",
     "text": [
      "196 12642\n"
     ]
    },
    {
     "name": "stderr",
     "output_type": "stream",
     "text": [
      " 50%|█████     | 198/394 [00:47<00:29,  6.65it/s]"
     ]
    },
    {
     "name": "stdout",
     "output_type": "stream",
     "text": [
      "197 8686\n"
     ]
    },
    {
     "name": "stderr",
     "output_type": "stream",
     "text": [
      " 51%|█████     | 199/394 [00:47<00:35,  5.54it/s]"
     ]
    },
    {
     "name": "stdout",
     "output_type": "stream",
     "text": [
      "198 20936\n"
     ]
    },
    {
     "name": "stderr",
     "output_type": "stream",
     "text": [
      " 51%|█████     | 201/394 [00:48<00:45,  4.29it/s]"
     ]
    },
    {
     "name": "stdout",
     "output_type": "stream",
     "text": [
      "200 20936\n"
     ]
    },
    {
     "name": "stderr",
     "output_type": "stream",
     "text": [
      " 52%|█████▏    | 204/394 [00:49<00:55,  3.45it/s]"
     ]
    },
    {
     "name": "stdout",
     "output_type": "stream",
     "text": [
      "203 20936\n"
     ]
    },
    {
     "name": "stderr",
     "output_type": "stream",
     "text": [
      " 52%|█████▏    | 205/394 [00:49<00:53,  3.55it/s]"
     ]
    },
    {
     "name": "stdout",
     "output_type": "stream",
     "text": [
      "204 20936\n"
     ]
    },
    {
     "name": "stderr",
     "output_type": "stream",
     "text": [
      " 52%|█████▏    | 206/394 [00:49<00:51,  3.63it/s]"
     ]
    },
    {
     "name": "stdout",
     "output_type": "stream",
     "text": [
      "205 20936\n"
     ]
    },
    {
     "name": "stderr",
     "output_type": "stream",
     "text": [
      " 53%|█████▎    | 209/394 [00:50<00:49,  3.72it/s]"
     ]
    },
    {
     "name": "stdout",
     "output_type": "stream",
     "text": [
      "208 15632\n"
     ]
    },
    {
     "name": "stderr",
     "output_type": "stream",
     "text": [
      " 54%|█████▎    | 211/394 [00:51<00:54,  3.36it/s]"
     ]
    },
    {
     "name": "stdout",
     "output_type": "stream",
     "text": [
      "210 26411\n"
     ]
    },
    {
     "name": "stderr",
     "output_type": "stream",
     "text": [
      " 54%|█████▍    | 212/394 [00:51<00:46,  3.91it/s]"
     ]
    },
    {
     "name": "stdout",
     "output_type": "stream",
     "text": [
      "211 10609\n"
     ]
    },
    {
     "name": "stderr",
     "output_type": "stream",
     "text": [
      "\n"
     ]
    },
    {
     "name": "stdout",
     "output_type": "stream",
     "text": [
      "212 1719\n"
     ]
    },
    {
     "name": "stderr",
     "output_type": "stream",
     "text": []
    },
    {
     "name": "stdout",
     "output_type": "stream",
     "text": [
      "213 1719\n"
     ]
    },
    {
     "name": "stderr",
     "output_type": "stream",
     "text": [
      " 55%|█████▍    | 215/394 [00:51<00:25,  7.10it/s]"
     ]
    },
    {
     "name": "stdout",
     "output_type": "stream",
     "text": [
      "214 6994\n"
     ]
    },
    {
     "name": "stderr",
     "output_type": "stream",
     "text": [
      " 55%|█████▌    | 217/394 [00:52<00:37,  4.69it/s]"
     ]
    },
    {
     "name": "stdout",
     "output_type": "stream",
     "text": [
      "216 25875\n"
     ]
    },
    {
     "name": "stderr",
     "output_type": "stream",
     "text": [
      " 56%|█████▌    | 219/394 [00:52<00:40,  4.36it/s]"
     ]
    },
    {
     "name": "stdout",
     "output_type": "stream",
     "text": [
      "218 14979\n"
     ]
    },
    {
     "name": "stderr",
     "output_type": "stream",
     "text": [
      " 56%|█████▋    | 222/394 [00:53<00:47,  3.64it/s]"
     ]
    },
    {
     "name": "stdout",
     "output_type": "stream",
     "text": [
      "221 19785\n"
     ]
    },
    {
     "name": "stderr",
     "output_type": "stream",
     "text": []
    },
    {
     "name": "stdout",
     "output_type": "stream",
     "text": [
      "222 6994\n"
     ]
    },
    {
     "name": "stderr",
     "output_type": "stream",
     "text": [
      " 57%|█████▋    | 224/394 [00:53<00:32,  5.18it/s]"
     ]
    },
    {
     "name": "stdout",
     "output_type": "stream",
     "text": [
      "223 6258\n"
     ]
    },
    {
     "name": "stderr",
     "output_type": "stream",
     "text": [
      "\n"
     ]
    },
    {
     "name": "stdout",
     "output_type": "stream",
     "text": [
      "224 13994\n"
     ]
    },
    {
     "name": "stderr",
     "output_type": "stream",
     "text": [
      " 58%|█████▊    | 227/394 [00:54<00:35,  4.76it/s]"
     ]
    },
    {
     "name": "stdout",
     "output_type": "stream",
     "text": [
      "226 10609\n"
     ]
    },
    {
     "name": "stderr",
     "output_type": "stream",
     "text": [
      " 58%|█████▊    | 228/394 [00:54<00:41,  3.97it/s]"
     ]
    },
    {
     "name": "stdout",
     "output_type": "stream",
     "text": [
      "227 26411\n"
     ]
    },
    {
     "name": "stderr",
     "output_type": "stream",
     "text": [
      " 58%|█████▊    | 229/394 [00:55<00:41,  3.97it/s]"
     ]
    },
    {
     "name": "stdout",
     "output_type": "stream",
     "text": [
      "228 19785\n"
     ]
    },
    {
     "name": "stderr",
     "output_type": "stream",
     "text": [
      " 58%|█████▊    | 230/394 [00:55<00:39,  4.19it/s]"
     ]
    },
    {
     "name": "stdout",
     "output_type": "stream",
     "text": [
      "229 15632\n"
     ]
    },
    {
     "name": "stderr",
     "output_type": "stream",
     "text": [
      " 59%|█████▊    | 231/394 [00:55<00:32,  4.97it/s]"
     ]
    },
    {
     "name": "stdout",
     "output_type": "stream",
     "text": [
      "230 8629\n"
     ]
    },
    {
     "name": "stderr",
     "output_type": "stream",
     "text": [
      " 59%|█████▉    | 232/394 [00:55<00:34,  4.71it/s]"
     ]
    },
    {
     "name": "stdout",
     "output_type": "stream",
     "text": [
      "231 19783\n"
     ]
    },
    {
     "name": "stderr",
     "output_type": "stream",
     "text": [
      " 59%|█████▉    | 233/394 [00:55<00:29,  5.48it/s]"
     ]
    },
    {
     "name": "stdout",
     "output_type": "stream",
     "text": [
      "232 8629\n"
     ]
    },
    {
     "name": "stderr",
     "output_type": "stream",
     "text": [
      " 59%|█████▉    | 234/394 [00:55<00:25,  6.25it/s]"
     ]
    },
    {
     "name": "stdout",
     "output_type": "stream",
     "text": [
      "233 8629\n"
     ]
    },
    {
     "name": "stderr",
     "output_type": "stream",
     "text": [
      " 60%|█████▉    | 235/394 [00:56<00:27,  5.81it/s]"
     ]
    },
    {
     "name": "stdout",
     "output_type": "stream",
     "text": [
      "234 14978\n"
     ]
    },
    {
     "name": "stderr",
     "output_type": "stream",
     "text": [
      " 60%|█████▉    | 236/394 [00:56<00:24,  6.41it/s]"
     ]
    },
    {
     "name": "stdout",
     "output_type": "stream",
     "text": [
      "235 8629\n"
     ]
    },
    {
     "name": "stderr",
     "output_type": "stream",
     "text": [
      " 60%|██████    | 237/394 [00:56<00:26,  5.95it/s]"
     ]
    },
    {
     "name": "stdout",
     "output_type": "stream",
     "text": [
      "236 14978\n"
     ]
    },
    {
     "name": "stderr",
     "output_type": "stream",
     "text": [
      " 60%|██████    | 238/394 [00:56<00:27,  5.58it/s]"
     ]
    },
    {
     "name": "stdout",
     "output_type": "stream",
     "text": [
      "237 14978\n"
     ]
    },
    {
     "name": "stderr",
     "output_type": "stream",
     "text": []
    },
    {
     "name": "stdout",
     "output_type": "stream",
     "text": [
      "238 6373\n"
     ]
    },
    {
     "name": "stderr",
     "output_type": "stream",
     "text": [
      " 61%|██████    | 240/394 [00:56<00:20,  7.37it/s]"
     ]
    },
    {
     "name": "stdout",
     "output_type": "stream",
     "text": [
      "239 6373\n"
     ]
    },
    {
     "name": "stderr",
     "output_type": "stream",
     "text": []
    },
    {
     "name": "stdout",
     "output_type": "stream",
     "text": [
      "240 6373\n"
     ]
    },
    {
     "name": "stderr",
     "output_type": "stream",
     "text": [
      " 61%|██████▏   | 242/394 [00:57<00:22,  6.78it/s]"
     ]
    },
    {
     "name": "stdout",
     "output_type": "stream",
     "text": [
      "241 19783\n"
     ]
    },
    {
     "name": "stderr",
     "output_type": "stream",
     "text": [
      " 62%|██████▏   | 243/394 [00:57<00:26,  5.75it/s]"
     ]
    },
    {
     "name": "stdout",
     "output_type": "stream",
     "text": [
      "242 19783\n"
     ]
    },
    {
     "name": "stderr",
     "output_type": "stream",
     "text": [
      " 62%|██████▏   | 245/394 [00:57<00:27,  5.33it/s]"
     ]
    },
    {
     "name": "stdout",
     "output_type": "stream",
     "text": [
      "244 8629\n"
     ]
    },
    {
     "name": "stderr",
     "output_type": "stream",
     "text": []
    },
    {
     "name": "stdout",
     "output_type": "stream",
     "text": [
      "245 6373\n"
     ]
    },
    {
     "name": "stderr",
     "output_type": "stream",
     "text": [
      " 63%|██████▎   | 247/394 [00:58<00:21,  6.90it/s]"
     ]
    },
    {
     "name": "stdout",
     "output_type": "stream",
     "text": [
      "246 6497\n"
     ]
    },
    {
     "name": "stderr",
     "output_type": "stream",
     "text": [
      " 63%|██████▎   | 248/394 [00:58<00:28,  5.20it/s]"
     ]
    },
    {
     "name": "stdout",
     "output_type": "stream",
     "text": [
      "248 6373\n"
     ]
    },
    {
     "name": "stderr",
     "output_type": "stream",
     "text": [
      " 64%|██████▎   | 251/394 [00:59<00:27,  5.13it/s]"
     ]
    },
    {
     "name": "stdout",
     "output_type": "stream",
     "text": [
      "250 15421\n"
     ]
    },
    {
     "name": "stderr",
     "output_type": "stream",
     "text": [
      " 64%|██████▍   | 252/394 [00:59<00:27,  5.14it/s]"
     ]
    },
    {
     "name": "stdout",
     "output_type": "stream",
     "text": [
      "251 15421\n"
     ]
    },
    {
     "name": "stderr",
     "output_type": "stream",
     "text": [
      " 64%|██████▍   | 253/394 [00:59<00:29,  4.79it/s]"
     ]
    },
    {
     "name": "stdout",
     "output_type": "stream",
     "text": [
      "252 20404\n"
     ]
    },
    {
     "name": "stderr",
     "output_type": "stream",
     "text": [
      " 65%|██████▍   | 255/394 [00:59<00:29,  4.65it/s]"
     ]
    },
    {
     "name": "stdout",
     "output_type": "stream",
     "text": [
      "254 11174\n"
     ]
    },
    {
     "name": "stderr",
     "output_type": "stream",
     "text": []
    },
    {
     "name": "stdout",
     "output_type": "stream",
     "text": [
      "255 6373\n"
     ]
    },
    {
     "name": "stderr",
     "output_type": "stream",
     "text": [
      " 65%|██████▌   | 258/394 [01:00<00:25,  5.29it/s]"
     ]
    },
    {
     "name": "stdout",
     "output_type": "stream",
     "text": [
      "257 9095\n"
     ]
    },
    {
     "name": "stderr",
     "output_type": "stream",
     "text": [
      "\n"
     ]
    },
    {
     "name": "stdout",
     "output_type": "stream",
     "text": [
      "258 15421\n"
     ]
    },
    {
     "name": "stderr",
     "output_type": "stream",
     "text": [
      " 66%|██████▌   | 260/394 [01:00<00:28,  4.75it/s]"
     ]
    },
    {
     "name": "stdout",
     "output_type": "stream",
     "text": [
      "259 20774\n"
     ]
    },
    {
     "name": "stderr",
     "output_type": "stream",
     "text": [
      " 66%|██████▌   | 261/394 [01:01<00:24,  5.43it/s]"
     ]
    },
    {
     "name": "stdout",
     "output_type": "stream",
     "text": [
      "260 7633\n"
     ]
    },
    {
     "name": "stderr",
     "output_type": "stream",
     "text": [
      " 66%|██████▋   | 262/394 [01:01<00:25,  5.25it/s]"
     ]
    },
    {
     "name": "stdout",
     "output_type": "stream",
     "text": [
      "261 15421\n"
     ]
    },
    {
     "name": "stderr",
     "output_type": "stream",
     "text": [
      "\n"
     ]
    },
    {
     "name": "stdout",
     "output_type": "stream",
     "text": [
      "262 15420\n"
     ]
    },
    {
     "name": "stderr",
     "output_type": "stream",
     "text": [
      " 67%|██████▋   | 263/394 [01:01<00:24,  5.28it/s]\n"
     ]
    },
    {
     "name": "stdout",
     "output_type": "stream",
     "text": [
      "263 15420\n"
     ]
    },
    {
     "name": "stderr",
     "output_type": "stream",
     "text": [
      " 67%|██████▋   | 264/394 [01:01<00:24,  5.31it/s]"
     ]
    },
    {
     "name": "stdout",
     "output_type": "stream",
     "text": [
      "264 6372\n"
     ]
    },
    {
     "name": "stderr",
     "output_type": "stream",
     "text": []
    },
    {
     "name": "stdout",
     "output_type": "stream",
     "text": [
      "265 6372\n"
     ]
    },
    {
     "name": "stderr",
     "output_type": "stream",
     "text": [
      " 70%|██████▉   | 275/394 [01:04<00:33,  3.51it/s]"
     ]
    },
    {
     "name": "stdout",
     "output_type": "stream",
     "text": [
      "274 15420\n"
     ]
    },
    {
     "name": "stderr",
     "output_type": "stream",
     "text": [
      " 70%|███████   | 277/394 [01:05<00:28,  4.07it/s]"
     ]
    },
    {
     "name": "stdout",
     "output_type": "stream",
     "text": [
      "276 10059\n"
     ]
    },
    {
     "name": "stderr",
     "output_type": "stream",
     "text": [
      " 71%|███████   | 278/394 [01:05<00:23,  4.89it/s]"
     ]
    },
    {
     "name": "stdout",
     "output_type": "stream",
     "text": [
      "277 7911\n"
     ]
    },
    {
     "name": "stderr",
     "output_type": "stream",
     "text": [
      "\n"
     ]
    },
    {
     "name": "stdout",
     "output_type": "stream",
     "text": [
      "278 7515\n"
     ]
    },
    {
     "name": "stderr",
     "output_type": "stream",
     "text": [
      " 71%|███████   | 280/394 [01:05<00:23,  4.92it/s]"
     ]
    },
    {
     "name": "stdout",
     "output_type": "stream",
     "text": [
      "279 23902\n"
     ]
    },
    {
     "name": "stderr",
     "output_type": "stream",
     "text": [
      "\n"
     ]
    },
    {
     "name": "stdout",
     "output_type": "stream",
     "text": [
      "280 15420\n"
     ]
    },
    {
     "name": "stderr",
     "output_type": "stream",
     "text": [
      " 71%|███████▏  | 281/394 [01:05<00:22,  4.99it/s]"
     ]
    },
    {
     "name": "stdout",
     "output_type": "stream",
     "text": [
      "281 4880\n"
     ]
    },
    {
     "name": "stderr",
     "output_type": "stream",
     "text": [
      " 72%|███████▏  | 285/394 [01:06<00:24,  4.46it/s]"
     ]
    },
    {
     "name": "stdout",
     "output_type": "stream",
     "text": [
      "284 15420\n"
     ]
    },
    {
     "name": "stderr",
     "output_type": "stream",
     "text": [
      " 73%|███████▎  | 286/394 [01:07<00:27,  3.97it/s]"
     ]
    },
    {
     "name": "stdout",
     "output_type": "stream",
     "text": [
      "286 4880\n"
     ]
    },
    {
     "name": "stderr",
     "output_type": "stream",
     "text": [
      " 73%|███████▎  | 288/394 [01:07<00:21,  4.84it/s]"
     ]
    },
    {
     "name": "stdout",
     "output_type": "stream",
     "text": [
      "287 15420\n"
     ]
    },
    {
     "name": "stderr",
     "output_type": "stream",
     "text": [
      " 74%|███████▍  | 291/394 [01:08<00:25,  4.12it/s]"
     ]
    },
    {
     "name": "stdout",
     "output_type": "stream",
     "text": [
      "290 15630\n"
     ]
    },
    {
     "name": "stderr",
     "output_type": "stream",
     "text": []
    },
    {
     "name": "stdout",
     "output_type": "stream",
     "text": [
      "291 7515\n"
     ]
    },
    {
     "name": "stderr",
     "output_type": "stream",
     "text": [
      " 74%|███████▍  | 293/394 [01:08<00:19,  5.18it/s]"
     ]
    },
    {
     "name": "stdout",
     "output_type": "stream",
     "text": [
      "292 10607\n"
     ]
    },
    {
     "name": "stderr",
     "output_type": "stream",
     "text": [
      " 75%|███████▍  | 294/394 [01:08<00:20,  4.85it/s]"
     ]
    },
    {
     "name": "stdout",
     "output_type": "stream",
     "text": [
      "293 18788\n"
     ]
    },
    {
     "name": "stderr",
     "output_type": "stream",
     "text": [
      " 75%|███████▍  | 295/394 [01:09<00:27,  3.54it/s]"
     ]
    },
    {
     "name": "stdout",
     "output_type": "stream",
     "text": [
      "294 25785\n"
     ]
    },
    {
     "name": "stderr",
     "output_type": "stream",
     "text": [
      " 75%|███████▌  | 296/394 [01:09<00:23,  4.25it/s]"
     ]
    },
    {
     "name": "stdout",
     "output_type": "stream",
     "text": [
      "295 7275\n"
     ]
    },
    {
     "name": "stderr",
     "output_type": "stream",
     "text": [
      " 75%|███████▌  | 297/394 [01:09<00:25,  3.85it/s]"
     ]
    },
    {
     "name": "stdout",
     "output_type": "stream",
     "text": [
      "296 25785\n"
     ]
    },
    {
     "name": "stderr",
     "output_type": "stream",
     "text": [
      " 76%|███████▌  | 298/394 [01:10<00:26,  3.58it/s]"
     ]
    },
    {
     "name": "stdout",
     "output_type": "stream",
     "text": [
      "297 25785\n"
     ]
    },
    {
     "name": "stderr",
     "output_type": "stream",
     "text": [
      " 76%|███████▌  | 299/394 [01:10<00:21,  4.33it/s]"
     ]
    },
    {
     "name": "stdout",
     "output_type": "stream",
     "text": [
      "298 7275\n"
     ]
    },
    {
     "name": "stderr",
     "output_type": "stream",
     "text": [
      " 76%|███████▌  | 300/394 [01:10<00:23,  3.98it/s]"
     ]
    },
    {
     "name": "stdout",
     "output_type": "stream",
     "text": [
      "299 23290\n"
     ]
    },
    {
     "name": "stderr",
     "output_type": "stream",
     "text": [
      " 77%|███████▋  | 302/394 [01:11<00:27,  3.39it/s]"
     ]
    },
    {
     "name": "stdout",
     "output_type": "stream",
     "text": [
      "301 25388\n"
     ]
    },
    {
     "name": "stderr",
     "output_type": "stream",
     "text": [
      " 77%|███████▋  | 303/394 [01:11<00:27,  3.35it/s]"
     ]
    },
    {
     "name": "stdout",
     "output_type": "stream",
     "text": [
      "302 23290\n"
     ]
    },
    {
     "name": "stderr",
     "output_type": "stream",
     "text": [
      " 77%|███████▋  | 304/394 [01:11<00:25,  3.53it/s]"
     ]
    },
    {
     "name": "stdout",
     "output_type": "stream",
     "text": [
      "303 18793\n"
     ]
    },
    {
     "name": "stderr",
     "output_type": "stream",
     "text": [
      " 77%|███████▋  | 305/394 [01:11<00:24,  3.67it/s]"
     ]
    },
    {
     "name": "stdout",
     "output_type": "stream",
     "text": [
      "304 18793\n"
     ]
    },
    {
     "name": "stderr",
     "output_type": "stream",
     "text": []
    },
    {
     "name": "stdout",
     "output_type": "stream",
     "text": [
      "305 3239\n"
     ]
    },
    {
     "name": "stderr",
     "output_type": "stream",
     "text": [
      " 78%|███████▊  | 307/394 [01:12<00:14,  5.86it/s]"
     ]
    },
    {
     "name": "stdout",
     "output_type": "stream",
     "text": [
      "306 3239\n"
     ]
    },
    {
     "name": "stderr",
     "output_type": "stream",
     "text": []
    },
    {
     "name": "stdout",
     "output_type": "stream",
     "text": [
      "307 3239\n"
     ]
    },
    {
     "name": "stderr",
     "output_type": "stream",
     "text": [
      " 78%|███████▊  | 309/394 [01:12<00:16,  5.29it/s]"
     ]
    },
    {
     "name": "stdout",
     "output_type": "stream",
     "text": [
      "309 4558\n"
     ]
    },
    {
     "name": "stderr",
     "output_type": "stream",
     "text": [
      " 79%|███████▉  | 312/394 [01:13<00:18,  4.53it/s]"
     ]
    },
    {
     "name": "stdout",
     "output_type": "stream",
     "text": [
      "311 23290\n"
     ]
    },
    {
     "name": "stderr",
     "output_type": "stream",
     "text": []
    },
    {
     "name": "stdout",
     "output_type": "stream",
     "text": [
      "312 3239\n"
     ]
    },
    {
     "name": "stderr",
     "output_type": "stream",
     "text": [
      " 80%|███████▉  | 314/394 [01:13<00:12,  6.26it/s]"
     ]
    },
    {
     "name": "stdout",
     "output_type": "stream",
     "text": [
      "313 4558\n"
     ]
    },
    {
     "name": "stderr",
     "output_type": "stream",
     "text": [
      " 81%|████████  | 318/394 [01:14<00:19,  3.97it/s]"
     ]
    },
    {
     "name": "stdout",
     "output_type": "stream",
     "text": [
      "317 19272\n"
     ]
    },
    {
     "name": "stderr",
     "output_type": "stream",
     "text": [
      " 81%|████████  | 319/394 [01:14<00:18,  4.00it/s]"
     ]
    },
    {
     "name": "stdout",
     "output_type": "stream",
     "text": [
      "318 19272\n"
     ]
    },
    {
     "name": "stderr",
     "output_type": "stream",
     "text": [
      " 81%|████████  | 320/394 [01:15<00:18,  3.98it/s]"
     ]
    },
    {
     "name": "stdout",
     "output_type": "stream",
     "text": [
      "319 18793\n"
     ]
    },
    {
     "name": "stderr",
     "output_type": "stream",
     "text": []
    },
    {
     "name": "stdout",
     "output_type": "stream",
     "text": [
      "320 3094\n"
     ]
    },
    {
     "name": "stderr",
     "output_type": "stream",
     "text": [
      " 82%|████████▏ | 322/394 [01:15<00:11,  6.16it/s]"
     ]
    },
    {
     "name": "stdout",
     "output_type": "stream",
     "text": [
      "321 3094\n"
     ]
    },
    {
     "name": "stderr",
     "output_type": "stream",
     "text": [
      " 82%|████████▏ | 323/394 [01:15<00:12,  5.55it/s]"
     ]
    },
    {
     "name": "stdout",
     "output_type": "stream",
     "text": [
      "322 18793\n"
     ]
    },
    {
     "name": "stderr",
     "output_type": "stream",
     "text": [
      " 82%|████████▏ | 325/394 [01:16<00:16,  4.13it/s]"
     ]
    },
    {
     "name": "stdout",
     "output_type": "stream",
     "text": [
      "324 25388\n"
     ]
    },
    {
     "name": "stderr",
     "output_type": "stream",
     "text": [
      " 84%|████████▍ | 330/394 [01:17<00:20,  3.15it/s]"
     ]
    },
    {
     "name": "stdout",
     "output_type": "stream",
     "text": [
      "329 25388\n"
     ]
    },
    {
     "name": "stderr",
     "output_type": "stream",
     "text": [
      " 85%|████████▍ | 333/394 [01:18<00:20,  2.97it/s]"
     ]
    },
    {
     "name": "stdout",
     "output_type": "stream",
     "text": [
      "333 4558\n"
     ]
    },
    {
     "name": "stderr",
     "output_type": "stream",
     "text": [
      " 85%|████████▌ | 335/394 [01:18<00:12,  4.74it/s]"
     ]
    },
    {
     "name": "stdout",
     "output_type": "stream",
     "text": [
      "334 4558\n"
     ]
    },
    {
     "name": "stderr",
     "output_type": "stream",
     "text": [
      " 86%|████████▌ | 337/394 [01:19<00:13,  4.10it/s]"
     ]
    },
    {
     "name": "stdout",
     "output_type": "stream",
     "text": [
      "336 18793\n"
     ]
    },
    {
     "name": "stderr",
     "output_type": "stream",
     "text": [
      " 86%|████████▌ | 338/394 [01:19<00:12,  4.45it/s]"
     ]
    },
    {
     "name": "stdout",
     "output_type": "stream",
     "text": [
      "337 12628\n"
     ]
    },
    {
     "name": "stderr",
     "output_type": "stream",
     "text": [
      " 86%|████████▋ | 340/394 [01:20<00:15,  3.40it/s]"
     ]
    },
    {
     "name": "stdout",
     "output_type": "stream",
     "text": [
      "339 26917\n"
     ]
    },
    {
     "name": "stderr",
     "output_type": "stream",
     "text": [
      " 87%|████████▋ | 341/394 [01:20<00:13,  3.91it/s]"
     ]
    },
    {
     "name": "stdout",
     "output_type": "stream",
     "text": [
      "340 12628\n"
     ]
    },
    {
     "name": "stderr",
     "output_type": "stream",
     "text": []
    },
    {
     "name": "stdout",
     "output_type": "stream",
     "text": [
      "341"
     ]
    },
    {
     "name": "stderr",
     "output_type": "stream",
     "text": []
    },
    {
     "name": "stdout",
     "output_type": "stream",
     "text": [
      " 4558\n"
     ]
    },
    {
     "name": "stderr",
     "output_type": "stream",
     "text": [
      " 87%|████████▋ | 344/394 [01:21<00:10,  4.57it/s]"
     ]
    },
    {
     "name": "stdout",
     "output_type": "stream",
     "text": [
      "343 12628\n"
     ]
    },
    {
     "name": "stderr",
     "output_type": "stream",
     "text": [
      " 88%|████████▊ | 346/394 [01:21<00:10,  4.44it/s]"
     ]
    },
    {
     "name": "stdout",
     "output_type": "stream",
     "text": [
      "345 12628\n"
     ]
    },
    {
     "name": "stderr",
     "output_type": "stream",
     "text": [
      " 88%|████████▊ | 347/394 [01:22<00:11,  3.94it/s]"
     ]
    },
    {
     "name": "stdout",
     "output_type": "stream",
     "text": [
      "346 26917\n"
     ]
    },
    {
     "name": "stderr",
     "output_type": "stream",
     "text": []
    },
    {
     "name": "stdout",
     "output_type": "stream",
     "text": [
      "347 3843\n"
     ]
    },
    {
     "name": "stderr",
     "output_type": "stream",
     "text": [
      " 89%|████████▊ | 349/394 [01:22<00:07,  6.05it/s]"
     ]
    },
    {
     "name": "stdout",
     "output_type": "stream",
     "text": [
      "348 3843\n"
     ]
    },
    {
     "name": "stderr",
     "output_type": "stream",
     "text": [
      " 89%|████████▉ | 351/394 [01:22<00:08,  5.18it/s]"
     ]
    },
    {
     "name": "stdout",
     "output_type": "stream",
     "text": [
      "350 12628\n"
     ]
    },
    {
     "name": "stderr",
     "output_type": "stream",
     "text": [
      " 90%|████████▉ | 353/394 [01:23<00:08,  5.02it/s]"
     ]
    },
    {
     "name": "stdout",
     "output_type": "stream",
     "text": [
      "352 6983\n"
     ]
    },
    {
     "name": "stderr",
     "output_type": "stream",
     "text": [
      " 90%|████████▉ | 354/394 [01:23<00:09,  4.10it/s]"
     ]
    },
    {
     "name": "stdout",
     "output_type": "stream",
     "text": [
      "353 25785\n"
     ]
    },
    {
     "name": "stderr",
     "output_type": "stream",
     "text": []
    },
    {
     "name": "stdout",
     "output_type": "stream",
     "text": [
      "354 5985\n"
     ]
    },
    {
     "name": "stderr",
     "output_type": "stream",
     "text": [
      " 90%|█████████ | 356/394 [01:23<00:07,  5.29it/s]"
     ]
    },
    {
     "name": "stdout",
     "output_type": "stream",
     "text": [
      "355 12628\n"
     ]
    },
    {
     "name": "stderr",
     "output_type": "stream",
     "text": [
      " 91%|█████████ | 358/394 [01:24<00:07,  4.76it/s]"
     ]
    },
    {
     "name": "stdout",
     "output_type": "stream",
     "text": [
      "357 12306\n"
     ]
    },
    {
     "name": "stderr",
     "output_type": "stream",
     "text": [
      " 91%|█████████ | 359/394 [01:24<00:06,  5.42it/s]"
     ]
    },
    {
     "name": "stdout",
     "output_type": "stream",
     "text": [
      "358 8151\n"
     ]
    },
    {
     "name": "stderr",
     "output_type": "stream",
     "text": [
      " 92%|█████████▏| 361/394 [01:24<00:08,  4.06it/s]"
     ]
    },
    {
     "name": "stdout",
     "output_type": "stream",
     "text": [
      "360 25804\n"
     ]
    },
    {
     "name": "stderr",
     "output_type": "stream",
     "text": []
    },
    {
     "name": "stdout",
     "output_type": "stream",
     "text": [
      "361 319\n"
     ]
    },
    {
     "name": "stderr",
     "output_type": "stream",
     "text": [
      " 93%|█████████▎| 366/394 [01:26<00:07,  3.72it/s]"
     ]
    },
    {
     "name": "stdout",
     "output_type": "stream",
     "text": [
      "365 18793\n"
     ]
    },
    {
     "name": "stderr",
     "output_type": "stream",
     "text": [
      " 93%|█████████▎| 367/394 [01:26<00:07,  3.81it/s]"
     ]
    },
    {
     "name": "stdout",
     "output_type": "stream",
     "text": [
      "366 18793\n"
     ]
    },
    {
     "name": "stderr",
     "output_type": "stream",
     "text": []
    },
    {
     "name": "stdout",
     "output_type": "stream",
     "text": [
      "367 6172\n"
     ]
    },
    {
     "name": "stderr",
     "output_type": "stream",
     "text": [
      " 94%|█████████▎| 369/394 [01:26<00:05,  4.28it/s]"
     ]
    },
    {
     "name": "stdout",
     "output_type": "stream",
     "text": [
      "368 25785\n"
     ]
    },
    {
     "name": "stderr",
     "output_type": "stream",
     "text": [
      " 94%|█████████▍| 372/394 [01:27<00:05,  4.03it/s]"
     ]
    },
    {
     "name": "stdout",
     "output_type": "stream",
     "text": [
      "371 12645\n"
     ]
    },
    {
     "name": "stderr",
     "output_type": "stream",
     "text": [
      " 95%|█████████▍| 374/394 [01:28<00:05,  3.43it/s]"
     ]
    },
    {
     "name": "stdout",
     "output_type": "stream",
     "text": [
      "373 26917\n"
     ]
    },
    {
     "name": "stderr",
     "output_type": "stream",
     "text": [
      " 96%|█████████▌| 377/394 [01:29<00:05,  3.11it/s]"
     ]
    },
    {
     "name": "stdout",
     "output_type": "stream",
     "text": [
      "376 25804\n"
     ]
    },
    {
     "name": "stderr",
     "output_type": "stream",
     "text": [
      " 96%|█████████▋| 380/394 [01:30<00:04,  3.28it/s]"
     ]
    },
    {
     "name": "stdout",
     "output_type": "stream",
     "text": [
      "379 18793\n"
     ]
    },
    {
     "name": "stderr",
     "output_type": "stream",
     "text": [
      " 97%|█████████▋| 381/394 [01:30<00:03,  3.55it/s]"
     ]
    },
    {
     "name": "stdout",
     "output_type": "stream",
     "text": [
      "380 18793\n"
     ]
    },
    {
     "name": "stderr",
     "output_type": "stream",
     "text": [
      " 97%|█████████▋| 382/394 [01:30<00:03,  3.34it/s]"
     ]
    },
    {
     "name": "stdout",
     "output_type": "stream",
     "text": [
      "382 319\n"
     ]
    },
    {
     "name": "stderr",
     "output_type": "stream",
     "text": [
      " 97%|█████████▋| 384/394 [01:31<00:02,  4.53it/s]"
     ]
    },
    {
     "name": "stdout",
     "output_type": "stream",
     "text": [
      "383 18793\n"
     ]
    },
    {
     "name": "stderr",
     "output_type": "stream",
     "text": [
      " 98%|█████████▊| 385/394 [01:31<00:02,  3.97it/s]"
     ]
    },
    {
     "name": "stdout",
     "output_type": "stream",
     "text": [
      "385 5985\n"
     ]
    },
    {
     "name": "stderr",
     "output_type": "stream",
     "text": [
      " 98%|█████████▊| 387/394 [01:31<00:01,  5.47it/s]"
     ]
    },
    {
     "name": "stdout",
     "output_type": "stream",
     "text": [
      "386 6983\n"
     ]
    },
    {
     "name": "stderr",
     "output_type": "stream",
     "text": [
      " 98%|█████████▊| 388/394 [01:31<00:00,  6.01it/s]"
     ]
    },
    {
     "name": "stdout",
     "output_type": "stream",
     "text": [
      "387 8427\n"
     ]
    },
    {
     "name": "stderr",
     "output_type": "stream",
     "text": [
      " 99%|█████████▉| 390/394 [01:32<00:00,  5.20it/s]"
     ]
    },
    {
     "name": "stdout",
     "output_type": "stream",
     "text": [
      "389 8555\n"
     ]
    },
    {
     "name": "stderr",
     "output_type": "stream",
     "text": [
      " 99%|█████████▉| 391/394 [01:32<00:00,  4.98it/s]"
     ]
    },
    {
     "name": "stdout",
     "output_type": "stream",
     "text": [
      "390 16929\n"
     ]
    },
    {
     "name": "stderr",
     "output_type": "stream",
     "text": []
    },
    {
     "name": "stdout",
     "output_type": "stream",
     "text": [
      "391 319\n"
     ]
    },
    {
     "name": "stderr",
     "output_type": "stream",
     "text": [
      "100%|█████████▉| 393/394 [01:32<00:00,  6.59it/s]"
     ]
    },
    {
     "name": "stdout",
     "output_type": "stream",
     "text": [
      "392 12032\n"
     ]
    },
    {
     "name": "stderr",
     "output_type": "stream",
     "text": [
      "100%|██████████| 394/394 [01:32<00:00,  4.24it/s]"
     ]
    },
    {
     "name": "stdout",
     "output_type": "stream",
     "text": [
      "393 12306\n"
     ]
    },
    {
     "name": "stderr",
     "output_type": "stream",
     "text": [
      "\n"
     ]
    }
   ],
   "source": [
    "for j in tqdm(range(len(budo))):            #394개\n",
    "    for i in tqdm(range(len(data)), leave=False):    #27059개\n",
    "        if(budo['종목코드+회계연도'][j]==data['거래소코드+회계연도'][i]):\n",
    "            data['공시제목'][i] = budo['공시제목'][j]\n",
    "            print(j, i)\n",
    "            break\n",
    "    "
   ]
  },
  {
   "cell_type": "code",
   "execution_count": 21,
   "metadata": {},
   "outputs": [
    {
     "data": {
      "text/plain": [
       "array(['0', '내부결산시점 관리종목 지정 또는 상장폐지 사유 발생[정]', '회생절차개시신청', '회생절차 종결신청',\n",
       "       '부도발생및은행거래정지[정]', '은행거래재개', '회사정리절차종결신청',\n",
       "       '내부결산시점 관리종목 지정 또는 상장폐지 사유 발생', '파산신청', '회생계획 인가', '회생절차개시신청[정]',\n",
       "       '화의채무변제완료보고서제출', '[정정]내부결산시점 관리종목 지정 또는 상장폐지 사유 발생', '파산신청 기각',\n",
       "       '회사정리절차개시결정(씨티아이반도체(주) (2))', '은행거래재개((주)한올)', '은행거래재개((주)우진산전)',\n",
       "       '내부결산시점 관리종목 지정 또는 상장폐지 사유 발생(자회사의 주요경영사항)[정]', '부도발생및은행거래정지',\n",
       "       '회생계획 인가[정]', '회사정리절차개시신청', '회사정리절차개시결정', '해산사유발생(자회사의 주요경영사항)',\n",
       "       '회사정리절차개시결정(국제정공(주) (2))'], dtype=object)"
      ]
     },
     "execution_count": 21,
     "metadata": {},
     "output_type": "execute_result"
    }
   ],
   "source": [
    "data['공시제목'].unique()"
   ]
  },
  {
   "cell_type": "code",
   "execution_count": 22,
   "metadata": {},
   "outputs": [
    {
     "data": {
      "text/html": [
       "<div>\n",
       "<style scoped>\n",
       "    .dataframe tbody tr th:only-of-type {\n",
       "        vertical-align: middle;\n",
       "    }\n",
       "\n",
       "    .dataframe tbody tr th {\n",
       "        vertical-align: top;\n",
       "    }\n",
       "\n",
       "    .dataframe thead th {\n",
       "        text-align: right;\n",
       "    }\n",
       "</style>\n",
       "<table border=\"1\" class=\"dataframe\">\n",
       "  <thead>\n",
       "    <tr style=\"text-align: right;\">\n",
       "      <th></th>\n",
       "      <th>회사명</th>\n",
       "      <th>거래소코드</th>\n",
       "      <th>총자본증가율</th>\n",
       "      <th>유형자산증가율</th>\n",
       "      <th>유동자산증가율</th>\n",
       "      <th>영업이익증가율</th>\n",
       "      <th>경상이익증가율 (2007년 이전 발생)</th>\n",
       "      <th>순이익증가율</th>\n",
       "      <th>재고자산증가율</th>\n",
       "      <th>자기자본증가율</th>\n",
       "      <th>...</th>\n",
       "      <th>*미처분이익잉여금 및 차기이월미처분이익잉여금(요약)</th>\n",
       "      <th>*당기순이익(요약)</th>\n",
       "      <th>부채와자본총계(요약)</th>\n",
       "      <th>소속코드</th>\n",
       "      <th>상장폐지일</th>\n",
       "      <th>감사의견코드</th>\n",
       "      <th>회계연도</th>\n",
       "      <th>회계월</th>\n",
       "      <th>공시제목</th>\n",
       "      <th>거래소코드+회계연도</th>\n",
       "    </tr>\n",
       "  </thead>\n",
       "  <tbody>\n",
       "    <tr>\n",
       "      <th>0</th>\n",
       "      <td>(주)CMG제약</td>\n",
       "      <td>58820</td>\n",
       "      <td>NaN</td>\n",
       "      <td>NaN</td>\n",
       "      <td>NaN</td>\n",
       "      <td>NaN</td>\n",
       "      <td>NaN</td>\n",
       "      <td>NaN</td>\n",
       "      <td>NaN</td>\n",
       "      <td>NaN</td>\n",
       "      <td>...</td>\n",
       "      <td>NaN</td>\n",
       "      <td>NaN</td>\n",
       "      <td>NaN</td>\n",
       "      <td>5.0</td>\n",
       "      <td>NaN</td>\n",
       "      <td>UQ</td>\n",
       "      <td>2000</td>\n",
       "      <td>12</td>\n",
       "      <td>0</td>\n",
       "      <td>588202000</td>\n",
       "    </tr>\n",
       "    <tr>\n",
       "      <th>1</th>\n",
       "      <td>(주)CMG제약</td>\n",
       "      <td>58820</td>\n",
       "      <td>0.00</td>\n",
       "      <td>0.00</td>\n",
       "      <td>0.00</td>\n",
       "      <td>0.00</td>\n",
       "      <td>0.00</td>\n",
       "      <td>0.00</td>\n",
       "      <td>0.00</td>\n",
       "      <td>0.00</td>\n",
       "      <td>...</td>\n",
       "      <td>NaN</td>\n",
       "      <td>NaN</td>\n",
       "      <td>NaN</td>\n",
       "      <td>5.0</td>\n",
       "      <td>NaN</td>\n",
       "      <td>UQ</td>\n",
       "      <td>2001</td>\n",
       "      <td>12</td>\n",
       "      <td>0</td>\n",
       "      <td>588202001</td>\n",
       "    </tr>\n",
       "    <tr>\n",
       "      <th>2</th>\n",
       "      <td>(주)CMG제약</td>\n",
       "      <td>58820</td>\n",
       "      <td>-26.34</td>\n",
       "      <td>-17.72</td>\n",
       "      <td>-39.61</td>\n",
       "      <td>0.00</td>\n",
       "      <td>NaN</td>\n",
       "      <td>0.00</td>\n",
       "      <td>-39.91</td>\n",
       "      <td>-25.65</td>\n",
       "      <td>...</td>\n",
       "      <td>NaN</td>\n",
       "      <td>NaN</td>\n",
       "      <td>NaN</td>\n",
       "      <td>5.0</td>\n",
       "      <td>NaN</td>\n",
       "      <td>UQ</td>\n",
       "      <td>2002</td>\n",
       "      <td>12</td>\n",
       "      <td>0</td>\n",
       "      <td>588202002</td>\n",
       "    </tr>\n",
       "    <tr>\n",
       "      <th>3</th>\n",
       "      <td>(주)CMG제약</td>\n",
       "      <td>58820</td>\n",
       "      <td>-28.17</td>\n",
       "      <td>-79.37</td>\n",
       "      <td>-13.62</td>\n",
       "      <td>0.00</td>\n",
       "      <td>0.00</td>\n",
       "      <td>0.00</td>\n",
       "      <td>-11.75</td>\n",
       "      <td>-1.55</td>\n",
       "      <td>...</td>\n",
       "      <td>NaN</td>\n",
       "      <td>NaN</td>\n",
       "      <td>NaN</td>\n",
       "      <td>5.0</td>\n",
       "      <td>NaN</td>\n",
       "      <td>UQ</td>\n",
       "      <td>2003</td>\n",
       "      <td>12</td>\n",
       "      <td>0</td>\n",
       "      <td>588202003</td>\n",
       "    </tr>\n",
       "    <tr>\n",
       "      <th>4</th>\n",
       "      <td>(주)CMG제약</td>\n",
       "      <td>58820</td>\n",
       "      <td>-53.18</td>\n",
       "      <td>-25.94</td>\n",
       "      <td>-54.38</td>\n",
       "      <td>0.00</td>\n",
       "      <td>-2128.48</td>\n",
       "      <td>0.00</td>\n",
       "      <td>-53.72</td>\n",
       "      <td>-60.20</td>\n",
       "      <td>...</td>\n",
       "      <td>NaN</td>\n",
       "      <td>NaN</td>\n",
       "      <td>NaN</td>\n",
       "      <td>5.0</td>\n",
       "      <td>NaN</td>\n",
       "      <td>UQ</td>\n",
       "      <td>2004</td>\n",
       "      <td>12</td>\n",
       "      <td>0</td>\n",
       "      <td>588202004</td>\n",
       "    </tr>\n",
       "    <tr>\n",
       "      <th>...</th>\n",
       "      <td>...</td>\n",
       "      <td>...</td>\n",
       "      <td>...</td>\n",
       "      <td>...</td>\n",
       "      <td>...</td>\n",
       "      <td>...</td>\n",
       "      <td>...</td>\n",
       "      <td>...</td>\n",
       "      <td>...</td>\n",
       "      <td>...</td>\n",
       "      <td>...</td>\n",
       "      <td>...</td>\n",
       "      <td>...</td>\n",
       "      <td>...</td>\n",
       "      <td>...</td>\n",
       "      <td>...</td>\n",
       "      <td>...</td>\n",
       "      <td>...</td>\n",
       "      <td>...</td>\n",
       "      <td>...</td>\n",
       "      <td>...</td>\n",
       "    </tr>\n",
       "    <tr>\n",
       "      <th>27054</th>\n",
       "      <td>흥구석유(주)</td>\n",
       "      <td>24060</td>\n",
       "      <td>0.21</td>\n",
       "      <td>0.07</td>\n",
       "      <td>-2.43</td>\n",
       "      <td>26.81</td>\n",
       "      <td>14.93</td>\n",
       "      <td>9.72</td>\n",
       "      <td>-61.31</td>\n",
       "      <td>3.26</td>\n",
       "      <td>...</td>\n",
       "      <td>NaN</td>\n",
       "      <td>NaN</td>\n",
       "      <td>NaN</td>\n",
       "      <td>5.0</td>\n",
       "      <td>NaN</td>\n",
       "      <td>UQ</td>\n",
       "      <td>2004</td>\n",
       "      <td>12</td>\n",
       "      <td>0</td>\n",
       "      <td>240602004</td>\n",
       "    </tr>\n",
       "    <tr>\n",
       "      <th>27055</th>\n",
       "      <td>흥구석유(주)</td>\n",
       "      <td>24060</td>\n",
       "      <td>1.60</td>\n",
       "      <td>1.69</td>\n",
       "      <td>24.04</td>\n",
       "      <td>-22.09</td>\n",
       "      <td>-15.73</td>\n",
       "      <td>-14.52</td>\n",
       "      <td>-18.56</td>\n",
       "      <td>1.78</td>\n",
       "      <td>...</td>\n",
       "      <td>NaN</td>\n",
       "      <td>NaN</td>\n",
       "      <td>NaN</td>\n",
       "      <td>5.0</td>\n",
       "      <td>NaN</td>\n",
       "      <td>UQ</td>\n",
       "      <td>2006</td>\n",
       "      <td>12</td>\n",
       "      <td>0</td>\n",
       "      <td>240602006</td>\n",
       "    </tr>\n",
       "    <tr>\n",
       "      <th>27056</th>\n",
       "      <td>흥구석유(주)</td>\n",
       "      <td>24060</td>\n",
       "      <td>4.71</td>\n",
       "      <td>-1.19</td>\n",
       "      <td>49.44</td>\n",
       "      <td>2.21</td>\n",
       "      <td>3.97</td>\n",
       "      <td>8.01</td>\n",
       "      <td>18.63</td>\n",
       "      <td>1.64</td>\n",
       "      <td>...</td>\n",
       "      <td>NaN</td>\n",
       "      <td>NaN</td>\n",
       "      <td>NaN</td>\n",
       "      <td>5.0</td>\n",
       "      <td>NaN</td>\n",
       "      <td>UQ</td>\n",
       "      <td>2002</td>\n",
       "      <td>12</td>\n",
       "      <td>0</td>\n",
       "      <td>240602002</td>\n",
       "    </tr>\n",
       "    <tr>\n",
       "      <th>27057</th>\n",
       "      <td>흥구석유(주)</td>\n",
       "      <td>24060</td>\n",
       "      <td>-8.26</td>\n",
       "      <td>-0.72</td>\n",
       "      <td>-33.74</td>\n",
       "      <td>2973.17</td>\n",
       "      <td>41.09</td>\n",
       "      <td>35.81</td>\n",
       "      <td>8.59</td>\n",
       "      <td>3.58</td>\n",
       "      <td>...</td>\n",
       "      <td>NaN</td>\n",
       "      <td>NaN</td>\n",
       "      <td>NaN</td>\n",
       "      <td>5.0</td>\n",
       "      <td>NaN</td>\n",
       "      <td>UQ</td>\n",
       "      <td>2001</td>\n",
       "      <td>12</td>\n",
       "      <td>0</td>\n",
       "      <td>240602001</td>\n",
       "    </tr>\n",
       "    <tr>\n",
       "      <th>27058</th>\n",
       "      <td>흥구석유(주)</td>\n",
       "      <td>24060</td>\n",
       "      <td>-2.16</td>\n",
       "      <td>-0.78</td>\n",
       "      <td>-21.26</td>\n",
       "      <td>-7.27</td>\n",
       "      <td>-21.43</td>\n",
       "      <td>-21.74</td>\n",
       "      <td>0.84</td>\n",
       "      <td>-1.81</td>\n",
       "      <td>...</td>\n",
       "      <td>NaN</td>\n",
       "      <td>NaN</td>\n",
       "      <td>NaN</td>\n",
       "      <td>5.0</td>\n",
       "      <td>NaN</td>\n",
       "      <td>UQ</td>\n",
       "      <td>2003</td>\n",
       "      <td>12</td>\n",
       "      <td>0</td>\n",
       "      <td>240602003</td>\n",
       "    </tr>\n",
       "  </tbody>\n",
       "</table>\n",
       "<p>27059 rows × 296 columns</p>\n",
       "</div>"
      ],
      "text/plain": [
       "            회사명  거래소코드  총자본증가율  유형자산증가율  유동자산증가율  영업이익증가율  \\\n",
       "0      (주)CMG제약  58820     NaN      NaN      NaN      NaN   \n",
       "1      (주)CMG제약  58820    0.00     0.00     0.00     0.00   \n",
       "2      (주)CMG제약  58820  -26.34   -17.72   -39.61     0.00   \n",
       "3      (주)CMG제약  58820  -28.17   -79.37   -13.62     0.00   \n",
       "4      (주)CMG제약  58820  -53.18   -25.94   -54.38     0.00   \n",
       "...         ...    ...     ...      ...      ...      ...   \n",
       "27054   흥구석유(주)  24060    0.21     0.07    -2.43    26.81   \n",
       "27055   흥구석유(주)  24060    1.60     1.69    24.04   -22.09   \n",
       "27056   흥구석유(주)  24060    4.71    -1.19    49.44     2.21   \n",
       "27057   흥구석유(주)  24060   -8.26    -0.72   -33.74  2973.17   \n",
       "27058   흥구석유(주)  24060   -2.16    -0.78   -21.26    -7.27   \n",
       "\n",
       "       경상이익증가율 (2007년 이전 발생)  순이익증가율  재고자산증가율  자기자본증가율  ...  \\\n",
       "0                        NaN     NaN      NaN      NaN  ...   \n",
       "1                       0.00    0.00     0.00     0.00  ...   \n",
       "2                        NaN    0.00   -39.91   -25.65  ...   \n",
       "3                       0.00    0.00   -11.75    -1.55  ...   \n",
       "4                   -2128.48    0.00   -53.72   -60.20  ...   \n",
       "...                      ...     ...      ...      ...  ...   \n",
       "27054                  14.93    9.72   -61.31     3.26  ...   \n",
       "27055                 -15.73  -14.52   -18.56     1.78  ...   \n",
       "27056                   3.97    8.01    18.63     1.64  ...   \n",
       "27057                  41.09   35.81     8.59     3.58  ...   \n",
       "27058                 -21.43  -21.74     0.84    -1.81  ...   \n",
       "\n",
       "       *미처분이익잉여금 및 차기이월미처분이익잉여금(요약)  *당기순이익(요약)  부채와자본총계(요약)  소속코드  상장폐지일  \\\n",
       "0                               NaN         NaN          NaN   5.0    NaN   \n",
       "1                               NaN         NaN          NaN   5.0    NaN   \n",
       "2                               NaN         NaN          NaN   5.0    NaN   \n",
       "3                               NaN         NaN          NaN   5.0    NaN   \n",
       "4                               NaN         NaN          NaN   5.0    NaN   \n",
       "...                             ...         ...          ...   ...    ...   \n",
       "27054                           NaN         NaN          NaN   5.0    NaN   \n",
       "27055                           NaN         NaN          NaN   5.0    NaN   \n",
       "27056                           NaN         NaN          NaN   5.0    NaN   \n",
       "27057                           NaN         NaN          NaN   5.0    NaN   \n",
       "27058                           NaN         NaN          NaN   5.0    NaN   \n",
       "\n",
       "       감사의견코드  회계연도  회계월  공시제목  거래소코드+회계연도  \n",
       "0          UQ  2000   12     0   588202000  \n",
       "1          UQ  2001   12     0   588202001  \n",
       "2          UQ  2002   12     0   588202002  \n",
       "3          UQ  2003   12     0   588202003  \n",
       "4          UQ  2004   12     0   588202004  \n",
       "...       ...   ...  ...   ...         ...  \n",
       "27054      UQ  2004   12     0   240602004  \n",
       "27055      UQ  2006   12     0   240602006  \n",
       "27056      UQ  2002   12     0   240602002  \n",
       "27057      UQ  2001   12     0   240602001  \n",
       "27058      UQ  2003   12     0   240602003  \n",
       "\n",
       "[27059 rows x 296 columns]"
      ]
     },
     "execution_count": 22,
     "metadata": {},
     "output_type": "execute_result"
    }
   ],
   "source": [
    "data"
   ]
  },
  {
   "cell_type": "code",
   "execution_count": 25,
   "metadata": {},
   "outputs": [],
   "source": [
    "data['공시제목']=data['공시제목'].replace('0','NaN')"
   ]
  },
  {
   "cell_type": "code",
   "execution_count": 27,
   "metadata": {},
   "outputs": [
    {
     "data": {
      "text/plain": [
       "array(['NaN', '내부결산시점 관리종목 지정 또는 상장폐지 사유 발생[정]', '회생절차개시신청', '회생절차 종결신청',\n",
       "       '부도발생및은행거래정지[정]', '은행거래재개', '회사정리절차종결신청',\n",
       "       '내부결산시점 관리종목 지정 또는 상장폐지 사유 발생', '파산신청', '회생계획 인가', '회생절차개시신청[정]',\n",
       "       '화의채무변제완료보고서제출', '[정정]내부결산시점 관리종목 지정 또는 상장폐지 사유 발생', '파산신청 기각',\n",
       "       '회사정리절차개시결정(씨티아이반도체(주) (2))', '은행거래재개((주)한올)', '은행거래재개((주)우진산전)',\n",
       "       '내부결산시점 관리종목 지정 또는 상장폐지 사유 발생(자회사의 주요경영사항)[정]', '부도발생및은행거래정지',\n",
       "       '회생계획 인가[정]', '회사정리절차개시신청', '회사정리절차개시결정', '해산사유발생(자회사의 주요경영사항)',\n",
       "       '회사정리절차개시결정(국제정공(주) (2))'], dtype=object)"
      ]
     },
     "execution_count": 27,
     "metadata": {},
     "output_type": "execute_result"
    }
   ],
   "source": [
    "data['공시제목'].unique()"
   ]
  }
 ],
 "metadata": {
  "interpreter": {
   "hash": "ae38aae21618c8005c5a91e07f4be75fb513462cafeec314dc0d7a6823adf3fe"
  },
  "kernelspec": {
   "display_name": "Python 3.9.7 64-bit",
   "language": "python",
   "name": "python3"
  },
  "language_info": {
   "codemirror_mode": {
    "name": "ipython",
    "version": 3
   },
   "file_extension": ".py",
   "mimetype": "text/x-python",
   "name": "python",
   "nbconvert_exporter": "python",
   "pygments_lexer": "ipython3",
   "version": "3.9.7"
  },
  "orig_nbformat": 4
 },
 "nbformat": 4,
 "nbformat_minor": 2
}
