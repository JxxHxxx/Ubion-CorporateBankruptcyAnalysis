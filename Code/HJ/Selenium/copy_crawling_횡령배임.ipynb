{
 "cells": [
  {
   "cell_type": "code",
   "execution_count": null,
   "metadata": {},
   "outputs": [],
   "source": [
    "\"\"\" Traceback (most recent call last):\n",
    "  File \"/tmp/submission/20211204/05/46/hackerrank-547cc305965d64eda57824329f589ebd/code/Solution.py\", line 44, in <module>\n",
    "    result = solution(arr, x)\n",
    "  File \"/tmp/submission/20211204/05/46/hackerrank-547cc305965d64eda57824329f589ebd/code/Solution.py\", line 24, in solution\n",
    "    arr_count = int(input())\n",
    "EOFError: EOF when reading a line \"\"\""
   ]
  },
  {
   "cell_type": "code",
   "execution_count": 15,
   "metadata": {},
   "outputs": [],
   "source": [
    "from bs4 import BeautifulSoup\n",
    "import urllib.request\n",
    "\n",
    "from selenium import webdriver\n",
    "import pandas as pd\n",
    "import numpy as np\n",
    "\n",
    "from collections import OrderedDict\n",
    "\n",
    "import time\n",
    "from tqdm import tqdm\n",
    "\n",
    "from nltk.tokenize import word_tokenize\n",
    "\n",
    "import warnings\n",
    "warnings.filterwarnings(action='ignore')"
   ]
  },
  {
   "cell_type": "code",
   "execution_count": 16,
   "metadata": {},
   "outputs": [],
   "source": [
    "vocab = {} \n",
    "preprocessed_sentences = []"
   ]
  },
  {
   "cell_type": "markdown",
   "metadata": {},
   "source": [
    "# **공시가 발생한 회사명, 종목코드 추출**\n",
    "\n",
    "1. step one : 첨부서류 코드 모으기\n",
    "2. step two : 첨부서류에 들어가서 회사명, 종목코드 추출"
   ]
  },
  {
   "cell_type": "markdown",
   "metadata": {},
   "source": [
    "## **step one - 첨부서류 코드 수집**"
   ]
  },
  {
   "cell_type": "code",
   "execution_count": 17,
   "metadata": {},
   "outputs": [],
   "source": [
    "docscode_2 = []\n",
    "cpy_info = []\n",
    "link_box = []\n",
    "date = []\n",
    "topic = []\n",
    "checkbox = [67] # 11,10번은 따로 23소송도 따로\n",
    "\n",
    "\"\"\" 1:가족친화/녹색경영정보 3:기술도입 4:기술성장기업 14:벌금/과징금/행정조치 15:부도/은행거래정지 19:사채/대출원리금미지급 24:손상차손등 27:어음 위·변조 63:해산/파산 65:회계처리기준위반등 67:횡령\n",
    "11:대표이사변경 29:영업정지/조업중단등 10:담보제공/채무보증 23:소송 37:재해발생 40:제품수거/파기 50:증자/감자 54:차입 \"\"\"\n",
    "\n",
    "\"\"\"추출 리스트 1,3,4,14,15,19,24,27,63,65,67 \"\"\"\n",
    "start = 2000\n",
    "end = 2020\n",
    "section = 3\n",
    "\n"
   ]
  },
  {
   "cell_type": "code",
   "execution_count": 18,
   "metadata": {},
   "outputs": [
    {
     "name": "stderr",
     "output_type": "stream",
     "text": [
      " 14%|█▍        | 1/7 [00:04<00:29,  4.90s/it]"
     ]
    },
    {
     "name": "stdout",
     "output_type": "stream",
     "text": [
      "2000-2002년도의 해당 공시자료 수는 0입니다.\n",
      "남은 페이지 수는 0입니다. 수고했어\n",
      "잔여 날짜 RESPONSE 200\n",
      "잔여 문서 코드 RESPONSE 200\n",
      "공시 날짜 수:0 문서 코드 수:0\n",
      "2003-2005년도의 해당 공시자료 수는 26입니다.\n",
      "남은 페이지 수는 26입니다. 수고했어\n",
      "잔여 날짜 RESPONSE 200\n"
     ]
    },
    {
     "name": "stderr",
     "output_type": "stream",
     "text": [
      " 29%|██▊       | 2/7 [00:11<00:30,  6.10s/it]"
     ]
    },
    {
     "name": "stdout",
     "output_type": "stream",
     "text": [
      "잔여 문서 코드 RESPONSE 200\n",
      "공시 날짜 수:26 문서 코드 수:26\n",
      "2006-2008년도의 해당 공시자료 수는 220입니다.\n",
      "남은 페이지 수는 220입니다.\n",
      "잔여 날짜 RESPONSE 200\n",
      "잔여 문서 코드 RESPONSE 200\n",
      "공시 날짜 수:126 문서 코드 수:126\n",
      "남은 페이지 수는 120입니다.\n",
      "잔여 날짜 RESPONSE 200\n",
      "잔여 문서 코드 RESPONSE 200\n",
      "공시 날짜 수:226 문서 코드 수:226\n",
      "남은 페이지 수는 20입니다. 수고했어\n",
      "잔여 날짜 RESPONSE 200\n"
     ]
    },
    {
     "name": "stderr",
     "output_type": "stream",
     "text": [
      " 43%|████▎     | 3/7 [00:52<01:27, 21.86s/it]"
     ]
    },
    {
     "name": "stdout",
     "output_type": "stream",
     "text": [
      "잔여 문서 코드 RESPONSE 200\n",
      "공시 날짜 수:246 문서 코드 수:246\n",
      "2009-2011년도의 해당 공시자료 수는 191입니다.\n",
      "남은 페이지 수는 191입니다.\n",
      "잔여 날짜 RESPONSE 200\n",
      "잔여 문서 코드 RESPONSE 200\n",
      "공시 날짜 수:346 문서 코드 수:346\n",
      "남은 페이지 수는 91입니다. 수고했어\n",
      "잔여 날짜 RESPONSE 200\n"
     ]
    },
    {
     "name": "stderr",
     "output_type": "stream",
     "text": [
      " 57%|█████▋    | 4/7 [01:27<01:21, 27.09s/it]"
     ]
    },
    {
     "name": "stdout",
     "output_type": "stream",
     "text": [
      "잔여 문서 코드 RESPONSE 200\n",
      "공시 날짜 수:437 문서 코드 수:437\n",
      "2012-2014년도의 해당 공시자료 수는 81입니다.\n",
      "남은 페이지 수는 81입니다. 수고했어\n",
      "잔여 날짜 RESPONSE 200\n"
     ]
    },
    {
     "name": "stderr",
     "output_type": "stream",
     "text": [
      " 71%|███████▏  | 5/7 [01:43<00:46, 23.08s/it]"
     ]
    },
    {
     "name": "stdout",
     "output_type": "stream",
     "text": [
      "잔여 문서 코드 RESPONSE 200\n",
      "공시 날짜 수:518 문서 코드 수:518\n",
      "2015-2017년도의 해당 공시자료 수는 92입니다.\n",
      "남은 페이지 수는 92입니다. 수고했어\n",
      "잔여 날짜 RESPONSE 200\n"
     ]
    },
    {
     "name": "stderr",
     "output_type": "stream",
     "text": [
      " 86%|████████▌ | 6/7 [02:02<00:21, 21.81s/it]"
     ]
    },
    {
     "name": "stdout",
     "output_type": "stream",
     "text": [
      "잔여 문서 코드 RESPONSE 200\n",
      "공시 날짜 수:610 문서 코드 수:610\n",
      "2018-2020년도의 해당 공시자료 수는 220입니다.\n",
      "남은 페이지 수는 220입니다.\n",
      "잔여 날짜 RESPONSE 200\n",
      "잔여 문서 코드 RESPONSE 200\n",
      "공시 날짜 수:710 문서 코드 수:710\n",
      "남은 페이지 수는 120입니다.\n",
      "잔여 날짜 RESPONSE 200\n",
      "잔여 문서 코드 RESPONSE 200\n",
      "공시 날짜 수:810 문서 코드 수:810\n",
      "남은 페이지 수는 20입니다. 수고했어\n",
      "잔여 날짜 RESPONSE 200\n"
     ]
    },
    {
     "name": "stderr",
     "output_type": "stream",
     "text": [
      "100%|██████████| 7/7 [02:47<00:00, 24.00s/it]"
     ]
    },
    {
     "name": "stdout",
     "output_type": "stream",
     "text": [
      "잔여 문서 코드 RESPONSE 200\n",
      "공시 날짜 수:830 문서 코드 수:830\n"
     ]
    },
    {
     "name": "stderr",
     "output_type": "stream",
     "text": [
      "\n"
     ]
    }
   ],
   "source": [
    "# 회사명 추출\n",
    "url = \"https://kind.krx.co.kr/disclosure/details.do?method=searchDetailsMain#viewer\"\n",
    "driver = webdriver.Chrome(r'C:\\Users\\sally\\OneDrive\\바탕 화면\\chromedriver.exe')\n",
    "driver.get(url)\n",
    "driver.find_element_by_id('rKosdaq').click() # 코스닥\n",
    "#driver.find_element_by_xpath('//*[@id=\"business\"]/option[4]').click() # 산업군\n",
    "driver.find_element_by_xpath('//*[@id=\"bfrDsclsType\"]').click() # 공시유형 초기화 체크 해제\n",
    "driver.find_element_by_xpath('//*[@id=\"dsclsType01\"]').click() # 수시공시 클릭\n",
    "\n",
    "for i in range(len(checkbox)):\n",
    "    driver.find_element_by_xpath('//*[@id=\"dsclsLayer01_{num}\"]'.format(num = checkbox[i])).click() # checklist\n",
    "    #time.sleep(0.1)\n",
    "\n",
    "time.sleep(0.1)    \n",
    "driver.find_element_by_xpath('//*[@id=\"currentPageSize\"]/option[4]').click() # show 100 case\n",
    "time.sleep(0.1)\n",
    "\n",
    "for i in tqdm(range((end - start)//section + 1)):\n",
    "    \n",
    "    sty = driver.find_element_by_id(\"fromDate\")\n",
    "    #time.sleep(0.1)\n",
    "    sty.clear()\n",
    "    #time.sleep(0.1)\n",
    "    sty.send_keys(\"{fromD}-01-01\".format(fromD= start))\n",
    "    #time.sleep(0.1)\n",
    "\n",
    "    edy = driver.find_element_by_id(\"toDate\")\n",
    "    #time.sleep(0.1)\n",
    "    edy.clear()\n",
    "    #time.sleep(0.1)\n",
    "    edy.send_keys(\"{toD}-12-31\".format(toD = start + 2))\n",
    "\n",
    "    driver.find_element_by_xpath('//*[@id=\"searchForm\"]/section[1]/div/div[3]/a[1]').click()\n",
    "    time.sleep(2)\n",
    "\n",
    "    page = driver.find_element_by_xpath('//*[@id=\"main-contents\"]/section[2]/div[2]/em').text # 총 몇 페이지\n",
    "    page = page.replace(',','')\n",
    "    page = int(page)\n",
    "    page_ = page \n",
    "    print('{start}-{end_}년도의 해당 공시자료 수는 {page}입니다.'.format(start=start,end_=start+section-1, page=page))\n",
    "    \n",
    "    if page <= 1000:\n",
    "        # 남은 페이지가 100이 넘을 때\n",
    "        while page_ >=100:\n",
    "            print('남은 페이지 수는 {num}입니다.'.format(num = page_))\n",
    "            for i in range(100): # 공시 날짜 수집\n",
    "                date_value = driver.find_element_by_xpath('//*[@id=\"main-contents\"]/section[1]/table/tbody/tr[{num}]/td[2]'.format(num = i + 1)).text\n",
    "                date.append(date_value)\n",
    "                topic_value = driver.find_element_by_xpath('//*[@id=\"main-contents\"]/section[1]/table/tbody/tr[{num}]/td[4]'.format(num = i + 1)).text\n",
    "                topic.append(topic_value)\n",
    "                #time.sleep(0.3)\n",
    "            print('잔여 날짜 RESPONSE 200')\n",
    "\n",
    "            for i in range(100): # 문서 코드\n",
    "                onclick_value = driver.find_element_by_xpath('//*[@id=\"main-contents\"]/section[1]/table/tbody/tr[{num}]/td[4]/a'.format(num = i + 1)).get_attribute('onclick')\n",
    "                onclick_value = onclick_value[18:32]\n",
    "                #time.sleep(0.3)\n",
    "                docscode_2.append(onclick_value)\n",
    "            print('잔여 문서 코드 RESPONSE 200')\n",
    "            print('공시 날짜 수:{date} 문서 코드 수:{docscode_2}'.format(date=len(date),docscode_2=len(docscode_2)))\n",
    "            time.sleep(0.2)\n",
    "            driver.find_element_by_xpath('//*[@id=\"main-contents\"]/section[2]/div[1]/a[{num}]'.format(num = page//100 + 4)).click() # 페이지 넘기는 코드\n",
    "            time.sleep(2)\n",
    "            page_ = page_ - 100\n",
    "    else:\n",
    "        print('공시문서가 1000개가 넘어 오류가 발생합니다!!')\n",
    "\n",
    "    # 남은 페이지가 100보다 작을 떄     \n",
    "    \"\"\" if page_ < 100: \"\"\"\n",
    "    print('남은 페이지 수는 {num}입니다. 수고했어'.format(num = page_))\n",
    "\n",
    "    for i in range(page_): # 공시 날짜 수집\n",
    "        date_value = driver.find_element_by_xpath('//*[@id=\"main-contents\"]/section[1]/table/tbody/tr[{num}]/td[2]'.format(num = i + 1)).text\n",
    "        date.append(date_value)\n",
    "        topic_value = driver.find_element_by_xpath('//*[@id=\"main-contents\"]/section[1]/table/tbody/tr[{num}]/td[4]'.format(num = i + 1)).text\n",
    "        topic.append(topic_value)\n",
    "        #time.sleep(0.3)\n",
    "    print('잔여 날짜 RESPONSE 200')\n",
    "\n",
    "    for i in range(page_): # 문서 코드\n",
    "        onclick_value = driver.find_element_by_xpath('//*[@id=\"main-contents\"]/section[1]/table/tbody/tr[{num}]/td[4]/a'.format(num = i + 1)).get_attribute('onclick')\n",
    "        onclick_value = onclick_value[18:32]\n",
    "        #time.sleep(0.3)\n",
    "        docscode_2.append(onclick_value)\n",
    "    print('잔여 문서 코드 RESPONSE 200')\n",
    "\n",
    "    print('공시 날짜 수:{date} 문서 코드 수:{docscode_2}'.format(date=len(date),docscode_2=len(docscode_2)))\n",
    "\n",
    "    start += 3\n"
   ]
  },
  {
   "cell_type": "markdown",
   "metadata": {},
   "source": [
    "## **step two - 해당 공시문서가 발생한 회사명, 종목코드 추출**"
   ]
  },
  {
   "cell_type": "code",
   "execution_count": 19,
   "metadata": {},
   "outputs": [],
   "source": [
    "#warnings.filterwarnings(action='ignore')\n",
    "\n",
    "dftcodebox = []\n",
    "driver = webdriver.Chrome(r'C:\\Users\\sally\\OneDrive\\바탕 화면\\chromedriver.exe')\n",
    "for j in range(len(docscode_2)):\n",
    "        try:\n",
    "                url = 'https://kind.krx.co.kr/common/disclsviewer.do?method=search&acptno={0}&docno=&viewerhost=&viewerport='.format(docscode_2[j])\n",
    "                driver.get(url)\n",
    "                time.sleep(0.3)\n",
    "                cpy_nameAndcode = driver.find_element_by_xpath('//*[@id=\"frm\"]/header/h1').text\n",
    "                cpy_info.append(cpy_nameAndcode)\n",
    "        except ValueError as er:\n",
    "                print(er,'문서코드와 url주소 매칭에 실패하였습니다. 임시 코드 리스트에 해당 코드를 보관합니다.')\n",
    "                dftcodebox.append(docscode_2[j])\n",
    "driver.close()"
   ]
  },
  {
   "cell_type": "markdown",
   "metadata": {},
   "source": [
    "# **공시문서 텍스트 수집**"
   ]
  },
  {
   "cell_type": "code",
   "execution_count": 20,
   "metadata": {},
   "outputs": [
    {
     "data": {
      "text/plain": [
       "830"
      ]
     },
     "execution_count": 20,
     "metadata": {},
     "output_type": "execute_result"
    }
   ],
   "source": [
    "driver = webdriver.Chrome(r'C:\\Users\\sally\\OneDrive\\바탕 화면\\chromedriver.exe')\n",
    "for i in range(int(len(docscode_2)/3)): # 텍스트 링크 추출\n",
    "    url = 'https://kind.krx.co.kr/common/disclsviewer.do?method=search&acptno={0}&docno=&viewerhost=&viewerport='.format(docscode_2[i])\n",
    "    driver.get(url)\n",
    "    time.sleep(0.5)\n",
    "    link = driver.find_element_by_id('docLocPath').get_attribute('value')\n",
    "    link_box.append(link)\n",
    "\n",
    "time.sleep(1)\n",
    "\n",
    "for i in range(int(len(docscode_2)/3), int(len(docscode_2)/3*2)):\n",
    "    url = 'https://kind.krx.co.kr/common/disclsviewer.do?method=search&acptno={0}&docno=&viewerhost=&viewerport='.format(docscode_2[i])\n",
    "    driver.get(url)\n",
    "    time.sleep(0.5)\n",
    "    link = driver.find_element_by_id('docLocPath').get_attribute('value')\n",
    "    link_box.append(link)    \n",
    "\n",
    "time.sleep(1)\n",
    "\n",
    "for i in range(int(len(docscode_2)/3*2), len(docscode_2)):\n",
    "    url = 'https://kind.krx.co.kr/common/disclsviewer.do?method=search&acptno={0}&docno=&viewerhost=&viewerport='.format(docscode_2[i])\n",
    "    driver.get(url)\n",
    "    time.sleep(0.5)\n",
    "    link = driver.find_element_by_id('docLocPath').get_attribute('value')\n",
    "    link_box.append(link)   \n",
    "\n",
    "driver.close()\n",
    "len(link_box)\n"
   ]
  },
  {
   "cell_type": "markdown",
   "metadata": {},
   "source": [
    "## **공시 문서 URL 리스트에 결측치 유무 확인**"
   ]
  },
  {
   "cell_type": "code",
   "execution_count": 21,
   "metadata": {},
   "outputs": [
    {
     "name": "stdout",
     "output_type": "stream",
     "text": [
      "index:564 주소값에는 결측치가 전달되었습니다.\n",
      "총 결측치는 1개 입니다.\n"
     ]
    }
   ],
   "source": [
    "cnt = 0\n",
    "dftbox = []\n",
    "for i in range(len(link_box)):\n",
    "    \n",
    "    if link_box[i] == '':\n",
    "        print('index:{num} 주소값에는 결측치가 전달되었습니다.'.format(num = i))\n",
    "        dftbox.append(i)\n",
    "        cnt += 1\n",
    "print('총 결측치는 {num}개 입니다.'.format(num = cnt))"
   ]
  },
  {
   "cell_type": "code",
   "execution_count": 22,
   "metadata": {},
   "outputs": [],
   "source": [
    "driver = webdriver.Chrome(r'C:\\Users\\sally\\OneDrive\\바탕 화면\\chromedriver.exe')\n",
    "\n",
    "for i in dftbox:\n",
    "    url = 'https://kind.krx.co.kr/common/disclsviewer.do?method=search&acptno={num}&docno=&viewerhost=&viewerport='.format(num = docscode_2[i])\n",
    "    driver.get(url)\n",
    "    time.sleep(0.5)\n",
    "    link_box[i] = driver.find_element_by_id('docLocPath').get_attribute('value')\n",
    "\n",
    "driver.close()"
   ]
  },
  {
   "cell_type": "markdown",
   "metadata": {},
   "source": [
    "## **결측치 재확인**"
   ]
  },
  {
   "cell_type": "code",
   "execution_count": 23,
   "metadata": {},
   "outputs": [
    {
     "name": "stdout",
     "output_type": "stream",
     "text": [
      "총 결측치는 0개 입니다.\n"
     ]
    }
   ],
   "source": [
    "cnt_ = 0\n",
    "for i in range(len(link_box)):\n",
    "    \n",
    "    if link_box[i] == '':\n",
    "        print('index:{num} 주소값에는 결측치가 전달되었습니다.'.format(num = i))\n",
    "        cnt_ += 1\n",
    "print('총 결측치는 {num}개 입니다.'.format(num = cnt_))"
   ]
  },
  {
   "cell_type": "markdown",
   "metadata": {},
   "source": [
    "## **공시 text 추출**"
   ]
  },
  {
   "cell_type": "code",
   "execution_count": 24,
   "metadata": {},
   "outputs": [
    {
     "name": "stderr",
     "output_type": "stream",
     "text": [
      "100%|██████████| 830/830 [05:37<00:00,  2.46it/s]"
     ]
    },
    {
     "name": "stdout",
     "output_type": "stream",
     "text": [
      "830\n"
     ]
    },
    {
     "name": "stderr",
     "output_type": "stream",
     "text": [
      "\n"
     ]
    }
   ],
   "source": [
    "textbox = []\n",
    "\n",
    "for i in tqdm(range(len(link_box))):\n",
    "    html = urllib.request.urlopen(link_box[i])\n",
    "\n",
    "    soup = BeautifulSoup(html, 'html.parser').text\n",
    "    textbox.append(soup)\n",
    "\n",
    "print(len(link_box))    \n"
   ]
  },
  {
   "cell_type": "markdown",
   "metadata": {},
   "source": [
    "# **회사명, 코드 및 텍스트 DF, csv로 만들기**"
   ]
  },
  {
   "cell_type": "code",
   "execution_count": 25,
   "metadata": {},
   "outputs": [],
   "source": [
    "cpyname = []\n",
    "cpycode = []\n",
    "\n",
    "def replace_all(text, dic):\n",
    "    for i, j in dic.items():\n",
    "        text = text.replace(i, j)\n",
    "    return text\n",
    "\n",
    "con1 = OrderedDict([(\"(\", \"\"), (\")\", \"\")])"
   ]
  },
  {
   "cell_type": "code",
   "execution_count": 26,
   "metadata": {},
   "outputs": [],
   "source": [
    "for i in range(len(cpy_info)):\n",
    "    infm = cpy_info[i].split(' ')\n",
    "    cpyname.append(infm[0])\n",
    "\n",
    "    cpycode.append(replace_all(infm[1] , con1))"
   ]
  },
  {
   "cell_type": "code",
   "execution_count": 27,
   "metadata": {},
   "outputs": [
    {
     "data": {
      "text/html": [
       "<div>\n",
       "<style scoped>\n",
       "    .dataframe tbody tr th:only-of-type {\n",
       "        vertical-align: middle;\n",
       "    }\n",
       "\n",
       "    .dataframe tbody tr th {\n",
       "        vertical-align: top;\n",
       "    }\n",
       "\n",
       "    .dataframe thead th {\n",
       "        text-align: right;\n",
       "    }\n",
       "</style>\n",
       "<table border=\"1\" class=\"dataframe\">\n",
       "  <thead>\n",
       "    <tr style=\"text-align: right;\">\n",
       "      <th></th>\n",
       "      <th>회사명</th>\n",
       "      <th>거래소코드</th>\n",
       "      <th>공시발생일</th>\n",
       "      <th>공시제목</th>\n",
       "      <th>text</th>\n",
       "      <th>link</th>\n",
       "    </tr>\n",
       "  </thead>\n",
       "  <tbody>\n",
       "    <tr>\n",
       "      <th>0</th>\n",
       "      <td>씨엔씨엔터</td>\n",
       "      <td>038420</td>\n",
       "      <td>2005-12-23 19:53</td>\n",
       "      <td>횡령사고발생</td>\n",
       "      <td>\\n\\n\\n\\n\\n\\n\\n횡령사고 발생\\n\\n\\n\\n\\n\\n1. 횡령사고 발생금액 ...</td>\n",
       "      <td>https://kind.krx.co.kr/external/2005/12/23/K00...</td>\n",
       "    </tr>\n",
       "    <tr>\n",
       "      <th>1</th>\n",
       "      <td>넥슨지티</td>\n",
       "      <td>041140</td>\n",
       "      <td>2005-12-08 19:49</td>\n",
       "      <td>횡령사고발생</td>\n",
       "      <td>\\n\\n\\n\\n\\n\\n\\n횡령사고 발생\\n\\n\\n\\n\\n\\n1. 횡령사고 발생금액 ...</td>\n",
       "      <td>https://kind.krx.co.kr/external/2005/12/08/K00...</td>\n",
       "    </tr>\n",
       "    <tr>\n",
       "      <th>2</th>\n",
       "      <td>예일바이오텍</td>\n",
       "      <td>054250</td>\n",
       "      <td>2005-12-06 19:44</td>\n",
       "      <td>횡령사고발생</td>\n",
       "      <td>\\n\\n\\n\\n\\n\\n\\n횡령사고 발생\\n\\n\\n\\n\\n\\n1. 횡령사고 발생금액 ...</td>\n",
       "      <td>https://kind.krx.co.kr/external/2005/12/06/K00...</td>\n",
       "    </tr>\n",
       "    <tr>\n",
       "      <th>3</th>\n",
       "      <td>플러스프로핏</td>\n",
       "      <td>036660</td>\n",
       "      <td>2005-11-07 18:27</td>\n",
       "      <td>횡령사고발생</td>\n",
       "      <td>\\n\\n\\n\\n\\n\\n\\n횡령사고 발생\\n\\n\\n\\n\\n\\n1. 횡령사고 발생금액 ...</td>\n",
       "      <td>https://kind.krx.co.kr/external/2005/11/07/K00...</td>\n",
       "    </tr>\n",
       "    <tr>\n",
       "      <th>4</th>\n",
       "      <td>영진코퍼레이션</td>\n",
       "      <td>053330</td>\n",
       "      <td>2005-08-01 18:19</td>\n",
       "      <td>[정정]횡령사고발생</td>\n",
       "      <td>\\n\\n\\n\\n\\n\\n\\n정 정 신 고 (보고)\\n\\n\\n\\n\\n\\n\\n2005년 ...</td>\n",
       "      <td>https://kind.krx.co.kr/external/2005/08/01/K00...</td>\n",
       "    </tr>\n",
       "    <tr>\n",
       "      <th>...</th>\n",
       "      <td>...</td>\n",
       "      <td>...</td>\n",
       "      <td>...</td>\n",
       "      <td>...</td>\n",
       "      <td>...</td>\n",
       "      <td>...</td>\n",
       "    </tr>\n",
       "    <tr>\n",
       "      <th>825</th>\n",
       "      <td>시티랩스</td>\n",
       "      <td>139050</td>\n",
       "      <td>2018-02-12 16:54</td>\n",
       "      <td>횡령ㆍ배임 혐의 진행사항</td>\n",
       "      <td>\\n\\n\\n\\n\\n\\n:: 70057_횡령ㆍ배임 혐의 진행사항\\n\\n\\n\\n\\n\\n...</td>\n",
       "      <td>https://kind.krx.co.kr/external/2018/02/12/000...</td>\n",
       "    </tr>\n",
       "    <tr>\n",
       "      <th>826</th>\n",
       "      <td>이매진아시아</td>\n",
       "      <td>036260</td>\n",
       "      <td>2018-01-25 15:33</td>\n",
       "      <td>횡령ㆍ배임사실확인</td>\n",
       "      <td>\\n\\n\\n\\n\\n\\n:: 70009_횡령ㆍ배임 사실확인\\n\\n\\n\\n\\n\\n\\n\\...</td>\n",
       "      <td>https://kind.krx.co.kr/external/2018/01/25/000...</td>\n",
       "    </tr>\n",
       "    <tr>\n",
       "      <th>827</th>\n",
       "      <td>엠피대산</td>\n",
       "      <td>065150</td>\n",
       "      <td>2018-01-24 15:37</td>\n",
       "      <td>횡령ㆍ배임사실확인</td>\n",
       "      <td>\\n\\n\\n\\n\\n\\n:: 70009_횡령ㆍ배임 사실확인\\n\\n\\n\\n\\n\\n\\n\\...</td>\n",
       "      <td>https://kind.krx.co.kr/external/2018/01/24/000...</td>\n",
       "    </tr>\n",
       "    <tr>\n",
       "      <th>828</th>\n",
       "      <td>제이테크놀로지</td>\n",
       "      <td>035480</td>\n",
       "      <td>2018-01-05 18:43</td>\n",
       "      <td>횡령ㆍ배임혐의발생</td>\n",
       "      <td>\\n\\n\\n\\n\\n\\n:: 70008_횡령ㆍ배임 혐의발생\\n\\n\\n\\n\\n\\n\\n\\...</td>\n",
       "      <td>https://kind.krx.co.kr/external/2018/01/05/000...</td>\n",
       "    </tr>\n",
       "    <tr>\n",
       "      <th>829</th>\n",
       "      <td>케이에스피</td>\n",
       "      <td>073010</td>\n",
       "      <td>2018-01-04 17:08</td>\n",
       "      <td>횡령ㆍ배임 혐의 진행사항</td>\n",
       "      <td>\\n\\n\\n\\n\\n\\n:: 70057_횡령ㆍ배임 혐의 진행사항\\n\\n\\n\\n\\n\\n...</td>\n",
       "      <td>https://kind.krx.co.kr/external/2018/01/04/000...</td>\n",
       "    </tr>\n",
       "  </tbody>\n",
       "</table>\n",
       "<p>830 rows × 6 columns</p>\n",
       "</div>"
      ],
      "text/plain": [
       "         회사명   거래소코드             공시발생일           공시제목  \\\n",
       "0      씨엔씨엔터  038420  2005-12-23 19:53         횡령사고발생   \n",
       "1       넥슨지티  041140  2005-12-08 19:49         횡령사고발생   \n",
       "2     예일바이오텍  054250  2005-12-06 19:44         횡령사고발생   \n",
       "3     플러스프로핏  036660  2005-11-07 18:27         횡령사고발생   \n",
       "4    영진코퍼레이션  053330  2005-08-01 18:19     [정정]횡령사고발생   \n",
       "..       ...     ...               ...            ...   \n",
       "825     시티랩스  139050  2018-02-12 16:54  횡령ㆍ배임 혐의 진행사항   \n",
       "826   이매진아시아  036260  2018-01-25 15:33      횡령ㆍ배임사실확인   \n",
       "827     엠피대산  065150  2018-01-24 15:37      횡령ㆍ배임사실확인   \n",
       "828  제이테크놀로지  035480  2018-01-05 18:43      횡령ㆍ배임혐의발생   \n",
       "829    케이에스피  073010  2018-01-04 17:08  횡령ㆍ배임 혐의 진행사항   \n",
       "\n",
       "                                                  text  \\\n",
       "0    \\n\\n\\n\\n\\n\\n\\n횡령사고 발생\\n\\n\\n\\n\\n\\n1. 횡령사고 발생금액 ...   \n",
       "1    \\n\\n\\n\\n\\n\\n\\n횡령사고 발생\\n\\n\\n\\n\\n\\n1. 횡령사고 발생금액 ...   \n",
       "2    \\n\\n\\n\\n\\n\\n\\n횡령사고 발생\\n\\n\\n\\n\\n\\n1. 횡령사고 발생금액 ...   \n",
       "3    \\n\\n\\n\\n\\n\\n\\n횡령사고 발생\\n\\n\\n\\n\\n\\n1. 횡령사고 발생금액 ...   \n",
       "4    \\n\\n\\n\\n\\n\\n\\n정 정 신 고 (보고)\\n\\n\\n\\n\\n\\n\\n2005년 ...   \n",
       "..                                                 ...   \n",
       "825  \\n\\n\\n\\n\\n\\n:: 70057_횡령ㆍ배임 혐의 진행사항\\n\\n\\n\\n\\n\\n...   \n",
       "826  \\n\\n\\n\\n\\n\\n:: 70009_횡령ㆍ배임 사실확인\\n\\n\\n\\n\\n\\n\\n\\...   \n",
       "827  \\n\\n\\n\\n\\n\\n:: 70009_횡령ㆍ배임 사실확인\\n\\n\\n\\n\\n\\n\\n\\...   \n",
       "828  \\n\\n\\n\\n\\n\\n:: 70008_횡령ㆍ배임 혐의발생\\n\\n\\n\\n\\n\\n\\n\\...   \n",
       "829  \\n\\n\\n\\n\\n\\n:: 70057_횡령ㆍ배임 혐의 진행사항\\n\\n\\n\\n\\n\\n...   \n",
       "\n",
       "                                                  link  \n",
       "0    https://kind.krx.co.kr/external/2005/12/23/K00...  \n",
       "1    https://kind.krx.co.kr/external/2005/12/08/K00...  \n",
       "2    https://kind.krx.co.kr/external/2005/12/06/K00...  \n",
       "3    https://kind.krx.co.kr/external/2005/11/07/K00...  \n",
       "4    https://kind.krx.co.kr/external/2005/08/01/K00...  \n",
       "..                                                 ...  \n",
       "825  https://kind.krx.co.kr/external/2018/02/12/000...  \n",
       "826  https://kind.krx.co.kr/external/2018/01/25/000...  \n",
       "827  https://kind.krx.co.kr/external/2018/01/24/000...  \n",
       "828  https://kind.krx.co.kr/external/2018/01/05/000...  \n",
       "829  https://kind.krx.co.kr/external/2018/01/04/000...  \n",
       "\n",
       "[830 rows x 6 columns]"
      ]
     },
     "execution_count": 27,
     "metadata": {},
     "output_type": "execute_result"
    }
   ],
   "source": [
    "text_df = pd.DataFrame({'회사명': cpyname,\n",
    "                        '거래소코드' : cpycode,\n",
    "                        '공시발생일' : date,\n",
    "                        '공시제목' : topic,\n",
    "                        'text' : textbox, \n",
    "                        'link' : link_box})\n",
    "text_df"
   ]
  },
  {
   "cell_type": "markdown",
   "metadata": {},
   "source": [
    "## **텍스트 정보 CSV**"
   ]
  },
  {
   "cell_type": "code",
   "execution_count": 28,
   "metadata": {},
   "outputs": [
    {
     "data": {
      "text/plain": [
       "[67]"
      ]
     },
     "execution_count": 28,
     "metadata": {},
     "output_type": "execute_result"
    }
   ],
   "source": [
    "checkbox"
   ]
  },
  {
   "cell_type": "code",
   "execution_count": 31,
   "metadata": {},
   "outputs": [],
   "source": [
    "text_df.to_csv(r'C:\\apps\\Ubion-CorporateBankruptcyAnalysis\\Code\\HJ\\Preprocessing\\0020공시67.csv', encoding='utf-8-sig')"
   ]
  },
  {
   "cell_type": "markdown",
   "metadata": {},
   "source": [
    "# **NLP**"
   ]
  },
  {
   "cell_type": "markdown",
   "metadata": {},
   "source": [
    "## **토큰화**"
   ]
  },
  {
   "cell_type": "code",
   "execution_count": null,
   "metadata": {},
   "outputs": [],
   "source": [
    "wordbox = []\n",
    "\n",
    "for i in tqdm(range(len(textbox))):\n",
    "    wordbox.append(word_tokenize(textbox[i]))\n",
    "\n",
    "wordbox"
   ]
  },
  {
   "cell_type": "code",
   "execution_count": null,
   "metadata": {},
   "outputs": [],
   "source": [
    "len(wordbox)"
   ]
  },
  {
   "cell_type": "code",
   "execution_count": null,
   "metadata": {},
   "outputs": [],
   "source": [
    "for i in tqdm(range(len(wordbox))):\n",
    "    # 단어 토큰화\n",
    "    result = []\n",
    "    for word in wordbox[i]:        \n",
    "        if word not in vocab:\n",
    "            vocab[word] = 0 \n",
    "        vocab[word] += 1\n",
    "    preprocessed_sentences.append(result) "
   ]
  },
  {
   "cell_type": "code",
   "execution_count": null,
   "metadata": {},
   "outputs": [],
   "source": [
    "sorted(vocab.items(), key= lambda x :x[1], reverse= True)"
   ]
  },
  {
   "cell_type": "code",
   "execution_count": null,
   "metadata": {},
   "outputs": [],
   "source": []
  }
 ],
 "metadata": {
  "interpreter": {
   "hash": "71b59b5ba49ad06bb2a011e750699e3983d230921f30bf7f37eb3a01ae69aa26"
  },
  "kernelspec": {
   "display_name": "Python 3.9.6 64-bit",
   "language": "python",
   "name": "python3"
  },
  "language_info": {
   "codemirror_mode": {
    "name": "ipython",
    "version": 3
   },
   "file_extension": ".py",
   "mimetype": "text/x-python",
   "name": "python",
   "nbconvert_exporter": "python",
   "pygments_lexer": "ipython3",
   "version": "3.9.7"
  },
  "orig_nbformat": 4
 },
 "nbformat": 4,
 "nbformat_minor": 2
}
