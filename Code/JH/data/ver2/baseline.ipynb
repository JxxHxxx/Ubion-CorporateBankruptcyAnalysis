{
 "cells": [
  {
   "cell_type": "markdown",
   "metadata": {},
   "source": [
    "# **라이브러리**"
   ]
  },
  {
   "cell_type": "code",
   "execution_count": 2,
   "metadata": {},
   "outputs": [],
   "source": [
    "import pandas as pd\n",
    "import numpy as np\n",
    "\n",
    "from imblearn.under_sampling import *\n",
    "from imblearn.over_sampling import SMOTE\n",
    "from sklearn.model_selection import train_test_split\n",
    "\n",
    "from sklearn.linear_model import LogisticRegression\n",
    "from sklearn.tree import DecisionTreeClassifier\n",
    "from sklearn.ensemble import RandomForestClassifier\n",
    "from sklearn.ensemble import AdaBoostClassifier\n",
    "from sklearn.neighbors import KNeighborsClassifier\n",
    "from sklearn.svm import SVC\n",
    "from lightgbm import LGBMClassifier\n",
    "from catboost import CatBoostClassifier\n",
    "from sklearn.neural_network import MLPClassifier\n",
    "from xgboost import XGBClassifier\n",
    "\n",
    "from sklearn.metrics import confusion_matrix, ConfusionMatrixDisplay\n",
    "from sklearn.metrics import plot_confusion_matrix\n",
    "from sklearn.metrics import f1_score, recall_score, precision_score, accuracy_score, classification_report\n",
    "import warnings\n",
    "warnings.filterwarnings(action='ignore')\n",
    "\n",
    "import matplotlib.pyplot as plt\n",
    "\n",
    "plt.rcParams['font.family'] = 'malgun gothic'"
   ]
  },
  {
   "cell_type": "markdown",
   "metadata": {},
   "source": [
    "# **함수모음**"
   ]
  },
  {
   "cell_type": "markdown",
   "metadata": {},
   "source": [
    "## **모델링**"
   ]
  },
  {
   "cell_type": "code",
   "execution_count": 3,
   "metadata": {},
   "outputs": [],
   "source": [
    "def modeling(model, X, y, test):    \n",
    "    model.fit(X, y)\n",
    "    pred = model.predict_proba(test)\n",
    "    pred = (pred[:,0] < 0.5)*1         # threshold 부도기업일 확률이 10% 이상이면 부도로 판단해라.\n",
    "    return pred\n",
    "\n",
    "def modeling_(model, X, y, test):    \n",
    "    model.fit(X, y)\n",
    "    pred = model.predict_proba(test)         # threshold 부도기업일 확률이 10% 이상이면 부도로 판단해라.\n",
    "    return pred\n",
    "    "
   ]
  },
  {
   "cell_type": "markdown",
   "metadata": {},
   "source": [
    "## **스코어**"
   ]
  },
  {
   "cell_type": "code",
   "execution_count": 4,
   "metadata": {},
   "outputs": [],
   "source": [
    "def scoring(y_true, y_pred):\n",
    "    print('accuracy:', accuracy_score(y_true,y_pred))\n",
    "    print('f1-Score:', f1_score(y_true, y_pred, average='macro'))\n",
    "    print('Recall:',recall_score(y_true, y_pred, average='macro'))\n",
    "    print('Precision:',precision_score(y_true, y_pred, average='macro'))\n",
    "    print(confusion_matrix(y_true, y_pred))"
   ]
  },
  {
   "cell_type": "markdown",
   "metadata": {},
   "source": [
    "# **데이터 나누기**"
   ]
  },
  {
   "cell_type": "code",
   "execution_count": 49,
   "metadata": {},
   "outputs": [
    {
     "data": {
      "text/plain": [
       "(26832, 17)"
      ]
     },
     "execution_count": 49,
     "metadata": {},
     "output_type": "execute_result"
    }
   ],
   "source": [
    "dataset = pd.read_csv(r'C:\\Users\\JH\\Desktop\\Final\\Ubion-CorporateBankruptcyAnalysis\\Code\\JH\\data\\0y_finan.csv')\n",
    "dataset1 = pd.read_csv(r'C:\\Users\\JH\\Desktop\\Final\\Ubion-CorporateBankruptcyAnalysis\\Code\\JH\\data\\1y_finan.csv')\n",
    "dataset2 = pd.read_csv(r'C:\\Users\\JH\\Desktop\\Final\\Ubion-CorporateBankruptcyAnalysis\\Code\\JH\\data\\2y_finan.csv')\n",
    "dataset3 = pd.read_csv(r'C:\\Users\\JH\\Desktop\\Final\\Ubion-CorporateBankruptcyAnalysis\\Code\\JH\\data\\3y_finan.csv')\n",
    "dataset4 = pd.read_csv(r'C:\\Users\\JH\\Desktop\\Final\\Ubion-CorporateBankruptcyAnalysis\\Code\\JH\\data\\4y_finan.csv')\n",
    "\n",
    "dataset.shape"
   ]
  },
  {
   "cell_type": "code",
   "execution_count": 52,
   "metadata": {},
   "outputs": [
    {
     "data": {
      "text/plain": [
       "Index(['회사명', '거래소코드', '회계년도', '설비투자효율', '총자본투자효율', '부채구성비율', '비유동장기적합률',\n",
       "       '재고자산보유기간', '매출채권회수기간', '매입채무회전률', '경영자본회전률', '경영자본순이익률', '자기자본순이익률',\n",
       "       '자기자본증가율', '년', 'key', '부도'],\n",
       "      dtype='object')"
      ]
     },
     "execution_count": 52,
     "metadata": {},
     "output_type": "execute_result"
    }
   ],
   "source": [
    "dataset.columns"
   ]
  },
  {
   "cell_type": "code",
   "execution_count": 50,
   "metadata": {},
   "outputs": [],
   "source": [
    "def splittrain(data):\n",
    "    subdata = data.sort_values(by='년').reset_index(drop=True)\n",
    "    data = subdata.loc[subdata['년'] < 2015]\n",
    "    return data\n",
    "\n",
    "def splittesst(data):\n",
    "    global test\n",
    "    subdata = data.sort_values(by='년').reset_index(drop=True)\n",
    "    test = subdata.loc[subdata['년'] >= 2015]\n",
    "    return test"
   ]
  },
  {
   "cell_type": "code",
   "execution_count": 51,
   "metadata": {},
   "outputs": [],
   "source": [
    "dataset_ = splittrain(dataset)\n",
    "test_ = splittesst(dataset)\n",
    "dataset1_ = splittrain(dataset1)\n",
    "test1_ = splittesst(dataset1)\n",
    "dataset2_ = splittrain(dataset2)\n",
    "test2_ = splittesst(dataset2)\n",
    "dataset3_ = splittrain(dataset3)\n",
    "test3_ = splittesst(dataset3)\n",
    "dataset4_ = splittrain(dataset4)\n",
    "test4_ = splittesst(dataset4)"
   ]
  },
  {
   "cell_type": "code",
   "execution_count": 53,
   "metadata": {},
   "outputs": [],
   "source": [
    "drop_feature = ['회사명', '거래소코드', '회계년도','년', 'key', '부도']"
   ]
  },
  {
   "cell_type": "code",
   "execution_count": 54,
   "metadata": {},
   "outputs": [],
   "source": [
    "X = dataset_.drop(drop_feature, axis=1)\n",
    "X1 = dataset1_.drop(drop_feature, axis=1)\n",
    "X2 = dataset2_.drop(drop_feature, axis=1)\n",
    "X3 = dataset3_.drop(drop_feature, axis=1)\n",
    "X4 = dataset4_.drop(drop_feature, axis=1)\n",
    "\n",
    "y = dataset_['부도']\n",
    "y1 = dataset1_['부도']\n",
    "y2 = dataset2_['부도']\n",
    "y3 = dataset3_['부도']\n",
    "y4 = dataset4_['부도']\n"
   ]
  },
  {
   "cell_type": "code",
   "execution_count": 55,
   "metadata": {},
   "outputs": [],
   "source": [
    "X_test =test_.drop(drop_feature, axis=1)\n",
    "X1_test =test1_.drop(drop_feature, axis=1)\n",
    "X2_test =test2_.drop(drop_feature, axis=1)\n",
    "X3_test =test3_.drop(drop_feature, axis=1)\n",
    "X4_test =test4_.drop(drop_feature, axis=1)\n",
    "\n",
    "y_test= test_['부도']\n",
    "y1_test =test1_['부도']\n",
    "y2_test =test2_['부도']\n",
    "y3_test =test3_['부도']\n",
    "y4_test =test4_['부도']"
   ]
  },
  {
   "cell_type": "markdown",
   "metadata": {},
   "source": [
    "# **YEAR**"
   ]
  },
  {
   "cell_type": "code",
   "execution_count": 56,
   "metadata": {},
   "outputs": [],
   "source": [
    "X_train, X_val, y_train, y_val = train_test_split(X, y, test_size=0.2, stratify=y, random_state = 488)\n",
    "X_train , y_train = RandomUnderSampler(random_state=1).fit_resample(X , y)"
   ]
  },
  {
   "cell_type": "code",
   "execution_count": 57,
   "metadata": {},
   "outputs": [
    {
     "name": "stdout",
     "output_type": "stream",
     "text": [
      "[02:13:05] WARNING: C:/Users/Administrator/workspace/xgboost-win64_release_1.5.0/src/learner.cc:1115: Starting in XGBoost 1.3.0, the default evaluation metric used with the objective 'binary:logistic' was changed from 'error' to 'logloss'. Explicitly set eval_metric if you'd like to restore the old behavior.\n"
     ]
    }
   ],
   "source": [
    "dt_clf = modeling(DecisionTreeClassifier(), X_train, y_train, X_test)\n",
    "rf_clf = modeling(RandomForestClassifier(),X_train, y_train, X_test)\n",
    "ada_clf = modeling(AdaBoostClassifier(), X_train, y_train, X_test)\n",
    "lg_clf = modeling(LogisticRegression(), X_train, y_train, X_test)\n",
    "knn_clf = modeling(KNeighborsClassifier(), X_train, y_train, X_test)\n",
    "svc_clf = modeling(SVC(probability=True), X_train, y_train, X_test)\n",
    "lgmb_clf = modeling(LGBMClassifier(), X_train, y_train, X_test)\n",
    "cat_clf = modeling(CatBoostClassifier(silent=True),X_train, y_train, X_test)\n",
    "mlp_clf = modeling(MLPClassifier(),X_train, y_train, X_test)\n",
    "xgb_clf = modeling(XGBClassifier(),X_train, y_train, X_test)"
   ]
  },
  {
   "cell_type": "code",
   "execution_count": 60,
   "metadata": {},
   "outputs": [
    {
     "name": "stdout",
     "output_type": "stream",
     "text": [
      "accuracy: 0.6997883349012229\n",
      "f1-Score: 0.4246052307791387\n",
      "Recall: 0.6802064286240548\n",
      "Precision: 0.505292655002695\n",
      "[[5916 2535]\n",
      " [  18   35]]\n",
      "None\n",
      "------------------------------------------------------------\n",
      "accuracy: 0.8190263405456256\n",
      "f1-Score: 0.47643878607253765\n",
      "Recall: 0.8151977102185072\n",
      "Precision: 0.5129555522274543\n",
      "[[6922 1529]\n",
      " [  10   43]]\n",
      "None\n",
      "------------------------------------------------------------\n",
      "accuracy: 0.8179680150517403\n",
      "f1-Score: 0.47308700229782596\n",
      "Recall: 0.7677912405141292\n",
      "Precision: 0.5110124247331213\n",
      "[[6918 1533]\n",
      " [  15   38]]\n",
      "None\n",
      "------------------------------------------------------------\n",
      "accuracy: 0.7174270931326434\n",
      "f1-Score: 0.4348985548221583\n",
      "Recall: 0.7734542970241325\n",
      "Precision: 0.5082819502291853\n",
      "[[6057 2394]\n",
      " [   9   44]]\n",
      "None\n",
      "------------------------------------------------------------\n",
      "accuracy: 0.8563029162746942\n",
      "f1-Score: 0.48893818583690424\n",
      "Recall: 0.7683293034429329\n",
      "Precision: 0.5133341166130408\n",
      "[[7246 1205]\n",
      " [  17   36]]\n",
      "None\n",
      "------------------------------------------------------------\n",
      "accuracy: 0.006349952963311383\n",
      "f1-Score: 0.006312798595130171\n",
      "Recall: 0.5000591645959058\n",
      "Precision: 0.5031165471010232\n",
      "[[   1 8450]\n",
      " [   0   53]]\n",
      "None\n",
      "------------------------------------------------------------\n",
      "accuracy: 0.8033866415804327\n",
      "f1-Score: 0.4685698455600707\n",
      "Recall: 0.7885792236265441\n",
      "Precision: 0.5111697704344739\n",
      "[[6791 1660]\n",
      " [  12   41]]\n",
      "None\n",
      "------------------------------------------------------------\n",
      "accuracy: 0.8278457196613358\n",
      "f1-Score: 0.48038781464029484\n",
      "Recall: 0.8196350549114428\n",
      "Precision: 0.5136484853060862\n",
      "[[6997 1454]\n",
      " [  10   43]]\n",
      "None\n",
      "------------------------------------------------------------\n",
      "accuracy: 0.7602304797742239\n",
      "f1-Score: 0.44726791446125963\n",
      "Recall: 0.6918674355831508\n",
      "Precision: 0.506491028666935\n",
      "[[6432 2019]\n",
      " [  20   33]]\n",
      "None\n",
      "------------------------------------------------------------\n",
      "accuracy: 0.7949200376293509\n",
      "f1-Score: 0.46655832122887664\n",
      "Recall: 0.8124437657260613\n",
      "Precision: 0.5116973530511899\n",
      "[[6716 1735]\n",
      " [   9   44]]\n",
      "None\n",
      "------------------------------------------------------------\n"
     ]
    }
   ],
   "source": [
    "print(scoring(y_test , dt_clf))\n",
    "print('-'*60)\n",
    "print(scoring(y_test , rf_clf))\n",
    "print('-'*60)\n",
    "print(scoring(y_test , ada_clf))\n",
    "print('-'*60)\n",
    "print(scoring(y_test , lg_clf))\n",
    "print('-'*60)\n",
    "print(scoring(y_test , knn_clf))\n",
    "print('-'*60)\n",
    "print(scoring(y_test , svc_clf))\n",
    "print('-'*60)\n",
    "print(scoring(y_test , lgmb_clf))\n",
    "print('-'*60)\n",
    "print(scoring(y_test , cat_clf))\n",
    "print('-'*60)\n",
    "print(scoring(y_test , mlp_clf))\n",
    "print('-'*60)\n",
    "print(scoring(y_test , xgb_clf))\n",
    "print('-'*60)"
   ]
  },
  {
   "cell_type": "markdown",
   "metadata": {},
   "source": [
    "# **1YEAR AGO**"
   ]
  },
  {
   "cell_type": "code",
   "execution_count": 40,
   "metadata": {},
   "outputs": [],
   "source": [
    "X1_train, X1_val, y1_train, y1_val = train_test_split(X1, y1, test_size=0.2, stratify=y1, random_state = 488)\n",
    "X1_train , y1_train = RandomUnderSampler(random_state=0).fit_resample(X1 , y1)"
   ]
  },
  {
   "cell_type": "code",
   "execution_count": 41,
   "metadata": {},
   "outputs": [
    {
     "name": "stdout",
     "output_type": "stream",
     "text": [
      "[02:10:03] WARNING: C:/Users/Administrator/workspace/xgboost-win64_release_1.5.0/src/learner.cc:1115: Starting in XGBoost 1.3.0, the default evaluation metric used with the objective 'binary:logistic' was changed from 'error' to 'logloss'. Explicitly set eval_metric if you'd like to restore the old behavior.\n"
     ]
    }
   ],
   "source": [
    "dt_clf1 = modeling(DecisionTreeClassifier(), X1_train, y1_train, X1_test)\n",
    "rf_clf1 = modeling(RandomForestClassifier(),X1_train, y1_train, X1_test)\n",
    "ada_clf1 = modeling(AdaBoostClassifier(), X1_train, y1_train, X1_test)\n",
    "lg_clf1 = modeling(LogisticRegression(), X1_train, y1_train, X1_test)\n",
    "knn_clf1 = modeling(KNeighborsClassifier(), X1_train, y1_train, X1_test)\n",
    "svc_clf1 = modeling(SVC(probability=True), X1_train, y1_train, X1_test)\n",
    "lgmb_clf1 = modeling(LGBMClassifier(), X1_train, y1_train, X1_test)\n",
    "cat_clf1 = modeling(CatBoostClassifier(silent=True),X1_train, y1_train, X1_test)\n",
    "mlp_clf1 = modeling(MLPClassifier(),X1_train, y1_train, X1_test)\n",
    "xgb_clf1 = modeling(XGBClassifier(),X1_train, y1_train, X1_test)"
   ]
  },
  {
   "cell_type": "code",
   "execution_count": 65,
   "metadata": {},
   "outputs": [
    {
     "name": "stdout",
     "output_type": "stream",
     "text": [
      "accuracy: 0.6509877704609596\n",
      "f1-Score: 0.4068196346516857\n",
      "Recall: 0.7416430148218227\n",
      "Precision: 0.5059399224806201\n",
      "[[5496 2960]\n",
      " [   8   40]]\n",
      "None\n",
      "------------------------------------------------------------\n",
      "accuracy: 0.7429444967074318\n",
      "f1-Score: 0.44351034318671856\n",
      "Recall: 0.787882371491643\n",
      "Precision: 0.50838079783979\n",
      "[[6278 2178]\n",
      " [   8   40]]\n",
      "None\n",
      "------------------------------------------------------------\n",
      "accuracy: 0.7538805268109126\n",
      "f1-Score: 0.44612356054961094\n",
      "Recall: 0.7519512771996215\n",
      "Precision: 0.5075631898432094\n",
      "[[6375 2081]\n",
      " [  12   36]]\n",
      "None\n",
      "------------------------------------------------------------\n",
      "accuracy: 0.811618062088429\n",
      "f1-Score: 0.4709569788249329\n",
      "Recall: 0.8120565279091769\n",
      "Precision: 0.511293698212696\n",
      "[[6863 1593]\n",
      " [   9   39]]\n",
      "None\n",
      "------------------------------------------------------------\n",
      "accuracy: 0.753645343367827\n",
      "f1-Score: 0.446467542152374\n",
      "Recall: 0.762190555029959\n",
      "Precision: 0.5078606370070547\n",
      "[[6372 2084]\n",
      " [  11   37]]\n",
      "None\n",
      "------------------------------------------------------------\n",
      "accuracy: 0.005761994355597366\n",
      "f1-Score: 0.00573162379284518\n",
      "Recall: 0.5000591296121097\n",
      "Precision: 0.5028225332235682\n",
      "[[   1 8455]\n",
      " [   0   48]]\n",
      "None\n",
      "------------------------------------------------------------\n",
      "accuracy: 0.7370649106302917\n",
      "f1-Score: 0.43913372141520296\n",
      "Recall: 0.7331382056133712\n",
      "Precision: 0.5067095554086414\n",
      "[[6233 2223]\n",
      " [  13   35]]\n",
      "None\n",
      "------------------------------------------------------------\n",
      "accuracy: 0.7477657572906867\n",
      "f1-Score: 0.4450041234299817\n",
      "Recall: 0.7799491485335857\n",
      "Precision: 0.5082545044431489\n",
      "[[6320 2136]\n",
      " [   9   39]]\n",
      "None\n",
      "------------------------------------------------------------\n",
      "accuracy: 0.7227187206020697\n",
      "f1-Score: 0.4339395232796248\n",
      "Recall: 0.7362819299905392\n",
      "Precision: 0.506576603191035\n",
      "[[6110 2346]\n",
      " [  12   36]]\n",
      "None\n",
      "------------------------------------------------------------\n",
      "accuracy: 0.730832549388523\n",
      "f1-Score: 0.4383056626316933\n",
      "Recall: 0.7714344843897825\n",
      "Precision: 0.5076812302015998\n",
      "[[6176 2280]\n",
      " [   9   39]]\n",
      "None\n",
      "------------------------------------------------------------\n"
     ]
    }
   ],
   "source": [
    "print(scoring(y1_test , dt_clf1))\n",
    "print('-'*60)\n",
    "print(scoring(y1_test , rf_clf1))\n",
    "print('-'*60)\n",
    "print(scoring(y1_test , ada_clf1))\n",
    "print('-'*60)\n",
    "print(scoring(y1_test , lg_clf1))\n",
    "print('-'*60)\n",
    "print(scoring(y1_test , knn_clf1))\n",
    "print('-'*60)\n",
    "print(scoring(y1_test , svc_clf1))\n",
    "print('-'*60)\n",
    "print(scoring(y1_test , lgmb_clf1))\n",
    "print('-'*60)\n",
    "print(scoring(y1_test , cat_clf1))\n",
    "print('-'*60)\n",
    "print(scoring(y1_test , mlp_clf1))\n",
    "print('-'*60)\n",
    "print(scoring(y1_test , xgb_clf1))\n",
    "print('-'*60)"
   ]
  },
  {
   "cell_type": "markdown",
   "metadata": {},
   "source": [
    "# **2YEARS AGO**"
   ]
  },
  {
   "cell_type": "code",
   "execution_count": 63,
   "metadata": {},
   "outputs": [],
   "source": [
    "X2_train, X2_val, y2_train, y2_val = train_test_split(X2, y2, test_size=0.2, stratify=y2, random_state = 488)\n",
    "X2_train , y2_train = RandomUnderSampler(random_state=1).fit_resample(X2 , y2)"
   ]
  },
  {
   "cell_type": "code",
   "execution_count": 64,
   "metadata": {},
   "outputs": [
    {
     "name": "stdout",
     "output_type": "stream",
     "text": [
      "[02:19:43] WARNING: C:/Users/Administrator/workspace/xgboost-win64_release_1.5.0/src/learner.cc:1115: Starting in XGBoost 1.3.0, the default evaluation metric used with the objective 'binary:logistic' was changed from 'error' to 'logloss'. Explicitly set eval_metric if you'd like to restore the old behavior.\n"
     ]
    }
   ],
   "source": [
    "dt_clf2 = modeling(DecisionTreeClassifier(), X2_train, y2_train, X2_test)\n",
    "rf_clf2 = modeling(RandomForestClassifier(),X2_train, y2_train, X2_test)\n",
    "ada_clf2 = modeling(AdaBoostClassifier(), X2_train, y2_train, X2_test)\n",
    "lg_clf2 = modeling(LogisticRegression(), X2_train, y2_train, X2_test)\n",
    "knn_clf2 = modeling(KNeighborsClassifier(), X2_train, y2_train, X2_test)\n",
    "svc_clf2 = modeling(SVC(probability=True), X2_train, y2_train, X2_test)\n",
    "lgmb_clf2 = modeling(LGBMClassifier(), X2_train, y2_train, X2_test)\n",
    "cat_clf2 = modeling(CatBoostClassifier(silent=True),X2_train, y2_train, X2_test)\n",
    "mlp_clf2 = modeling(MLPClassifier(),X2_train, y2_train, X2_test)\n",
    "xgb_clf2 = modeling(XGBClassifier(),X2_train, y2_train, X2_test)"
   ]
  },
  {
   "cell_type": "code",
   "execution_count": 66,
   "metadata": {},
   "outputs": [
    {
     "name": "stdout",
     "output_type": "stream",
     "text": [
      "accuracy: 0.5798447789275635\n",
      "f1-Score: 0.37443665715519764\n",
      "Recall: 0.6119727837543183\n",
      "Precision: 0.5024168249985768\n",
      "[[4902 3557]\n",
      " [  16   29]]\n",
      "None\n",
      "------------------------------------------------------------\n",
      "accuracy: 0.7079021636876763\n",
      "f1-Score: 0.4262957244290452\n",
      "Recall: 0.6984460994864116\n",
      "Precision: 0.505031437366749\n",
      "[[5989 2470]\n",
      " [  14   31]]\n",
      "None\n",
      "------------------------------------------------------------\n",
      "accuracy: 0.714722483537159\n",
      "f1-Score: 0.4292999522542575\n",
      "Recall: 0.7129264031734773\n",
      "Precision: 0.5054711829923273\n",
      "[[6046 2413]\n",
      " [  13   32]]\n",
      "None\n",
      "------------------------------------------------------------\n",
      "accuracy: 0.794214487300094\n",
      "f1-Score: 0.4574160960092776\n",
      "Recall: 0.6976238326043267\n",
      "Precision: 0.5063404935161371\n",
      "[[6727 1732]\n",
      " [  18   27]]\n",
      "None\n",
      "------------------------------------------------------------\n",
      "accuracy: 0.7070790216368767\n",
      "f1-Score: 0.42597862025170163\n",
      "Recall: 0.6980323389946277\n",
      "Precision: 0.5050127783221775\n",
      "[[5982 2477]\n",
      " [  14   31]]\n",
      "None\n",
      "------------------------------------------------------------\n",
      "accuracy: 0.005291627469426153\n",
      "f1-Score: 0.0052637735407650025\n",
      "Recall: 0.5\n",
      "Precision: 0.0026458137347130763\n",
      "[[   0 8459]\n",
      " [   0   45]]\n",
      "None\n",
      "------------------------------------------------------------\n",
      "accuracy: 0.6679209783631233\n",
      "f1-Score: 0.41205147657846625\n",
      "Recall: 0.7225571711917615\n",
      "Precision: 0.5052583328445397\n",
      "[[5645 2814]\n",
      " [  10   35]]\n",
      "None\n",
      "------------------------------------------------------------\n",
      "accuracy: 0.7188381937911571\n",
      "f1-Score: 0.43088661249848337\n",
      "Recall: 0.7149952056323968\n",
      "Precision: 0.5055723812415994\n",
      "[[6081 2378]\n",
      " [  13   32]]\n",
      "None\n",
      "------------------------------------------------------------\n",
      "accuracy: 0.7208372530573848\n",
      "f1-Score: 0.42852976106971347\n",
      "Recall: 0.6275840327855933\n",
      "Precision: 0.5033346541810736\n",
      "[[6106 2353]\n",
      " [  21   24]]\n",
      "None\n",
      "------------------------------------------------------------\n",
      "accuracy: 0.6682737535277516\n",
      "f1-Score: 0.41219154142627823\n",
      "Recall: 0.7227344971168118\n",
      "Precision: 0.5052652765367825\n",
      "[[5648 2811]\n",
      " [  10   35]]\n",
      "None\n",
      "------------------------------------------------------------\n"
     ]
    }
   ],
   "source": [
    "print(scoring(y2_test , dt_clf2))\n",
    "print('-'*60)\n",
    "print(scoring(y2_test , rf_clf2))\n",
    "print('-'*60)\n",
    "print(scoring(y2_test , ada_clf2))\n",
    "print('-'*60)\n",
    "print(scoring(y2_test , lg_clf2))\n",
    "print('-'*60)\n",
    "print(scoring(y2_test , knn_clf2))\n",
    "print('-'*60)\n",
    "print(scoring(y2_test , svc_clf2))\n",
    "print('-'*60)\n",
    "print(scoring(y2_test , lgmb_clf2))\n",
    "print('-'*60)\n",
    "print(scoring(y2_test , cat_clf2))\n",
    "print('-'*60)\n",
    "print(scoring(y2_test , mlp_clf2))\n",
    "print('-'*60)\n",
    "print(scoring(y2_test , xgb_clf2))\n",
    "print('-'*60)"
   ]
  },
  {
   "cell_type": "code",
   "execution_count": 32,
   "metadata": {},
   "outputs": [
    {
     "name": "stdout",
     "output_type": "stream",
     "text": [
      "accuracy: 0.69379115710254\n",
      "f1-Score: 0.4211990239190028\n",
      "Recall: 0.7024050649538296\n",
      "Precision: 0.5049946314186765\n",
      "[[5868 2591]\n",
      " [  13   32]]\n"
     ]
    }
   ],
   "source": [
    "scoring(y2_test , cat_clf2)"
   ]
  },
  {
   "cell_type": "markdown",
   "metadata": {},
   "source": [
    "# **3YEARS AGO**"
   ]
  },
  {
   "cell_type": "code",
   "execution_count": 22,
   "metadata": {},
   "outputs": [
    {
     "name": "stdout",
     "output_type": "stream",
     "text": [
      "[19:16:34] WARNING: C:/Users/Administrator/workspace/xgboost-win64_release_1.5.0/src/learner.cc:1115: Starting in XGBoost 1.3.0, the default evaluation metric used with the objective 'binary:logistic' was changed from 'error' to 'logloss'. Explicitly set eval_metric if you'd like to restore the old behavior.\n"
     ]
    }
   ],
   "source": [
    "X3_train, X3_val, y3_train, y3_val = train_test_split(X3, y3, test_size=0.2, stratify=y3, random_state = 488)\n",
    "X3_train , y3_train = RandomUnderSampler(random_state=0).fit_resample(X3 , y3)\n",
    "\n",
    "dt_clf3 = modeling(DecisionTreeClassifier(), X3_train, y3_train, X3_test)\n",
    "rf_clf3 = modeling(RandomForestClassifier(),X3_train, y3_train, X3_test)\n",
    "ada_clf3 = modeling(AdaBoostClassifier(), X3_train, y3_train, X3_test)\n",
    "lg_clf3 = modeling(LogisticRegression(), X3_train, y3_train, X3_test)\n",
    "knn_clf3 = modeling(KNeighborsClassifier(), X3_train, y3_train, X3_test)\n",
    "svc_clf3 = modeling(SVC(probability=True), X3_train, y3_train, X3_test)\n",
    "lgmb_clf3 = modeling(LGBMClassifier(), X3_train, y3_train, X3_test)\n",
    "cat_clf3 = modeling(CatBoostClassifier(silent=True),X3_train, y3_train, X3_test)\n",
    "mlp_clf3 = modeling(MLPClassifier(),X3_train, y3_train, X3_test)\n",
    "xgb_clf3 = modeling(XGBClassifier(),X3_train, y3_train, X3_test)"
   ]
  },
  {
   "cell_type": "code",
   "execution_count": 23,
   "metadata": {},
   "outputs": [
    {
     "data": {
      "text/plain": [
       "0.7220403709765412"
      ]
     },
     "execution_count": 23,
     "metadata": {},
     "output_type": "execute_result"
    }
   ],
   "source": [
    "models = CatBoostClassifier(silent=True)\n",
    "models.fit(X3_train,y3_train)\n",
    "accuracy_score(y3_val, models.predict(X3_val))"
   ]
  },
  {
   "cell_type": "code",
   "execution_count": 24,
   "metadata": {},
   "outputs": [
    {
     "name": "stdout",
     "output_type": "stream",
     "text": [
      "accuracy: 0.6000705550329257\n",
      "f1-Score: 0.3815436851040985\n",
      "Recall: 0.6634238739657226\n",
      "Precision: 0.5026284465997967\n",
      "[[5079 3392]\n",
      " [   9   24]]\n"
     ]
    }
   ],
   "source": [
    "scoring(y3_test , cat_clf3)"
   ]
  },
  {
   "cell_type": "markdown",
   "metadata": {},
   "source": [
    "# **4YEARS AGO**"
   ]
  },
  {
   "cell_type": "code",
   "execution_count": 25,
   "metadata": {},
   "outputs": [
    {
     "name": "stdout",
     "output_type": "stream",
     "text": [
      "[19:16:45] WARNING: C:/Users/Administrator/workspace/xgboost-win64_release_1.5.0/src/learner.cc:1115: Starting in XGBoost 1.3.0, the default evaluation metric used with the objective 'binary:logistic' was changed from 'error' to 'logloss'. Explicitly set eval_metric if you'd like to restore the old behavior.\n"
     ]
    }
   ],
   "source": [
    "# X4_train, X4_test, y4_train, y4_test = train_test_split(X4, y4, test_size=0.2, stratify=y4, random_state = 488)\n",
    "X4_train , y4_train = RandomUnderSampler(random_state=0).fit_resample(X4 , y4)\n",
    "\n",
    "dt_clf4 = modeling(DecisionTreeClassifier(), X4_train, y4_train, X4_test)\n",
    "rf_clf4 = modeling(RandomForestClassifier(),X4_train, y4_train, X4_test)\n",
    "ada_clf4 = modeling(AdaBoostClassifier(), X4_train, y4_train, X4_test)\n",
    "lg_clf4 = modeling(LogisticRegression(), X4_train, y4_train, X4_test)\n",
    "knn_clf4 = modeling(KNeighborsClassifier(), X4_train, y4_train, X4_test)\n",
    "svc_clf4 = modeling(SVC(probability=True), X4_train, y4_train, X4_test)\n",
    "lgmb_clf4 = modeling(LGBMClassifier(), X4_train, y4_train, X4_test)\n",
    "cat_clf4 = modeling(CatBoostClassifier(silent=True),X4_train, y4_train, X4_test)\n",
    "mlp_clf4 = modeling(MLPClassifier(),X4_train, y4_train, X4_test)\n",
    "xgb_clf4 = modeling(XGBClassifier(),X4_train, y4_train, X4_test)"
   ]
  },
  {
   "cell_type": "code",
   "execution_count": 26,
   "metadata": {},
   "outputs": [
    {
     "name": "stdout",
     "output_type": "stream",
     "text": [
      "accuracy: 0.644167450611477\n",
      "f1-Score: 0.39615646094722873\n",
      "Recall: 0.6402756639729053\n",
      "Precision: 0.5015777129719637\n",
      "[[5464 3018]\n",
      " [   8   14]]\n"
     ]
    }
   ],
   "source": [
    "scoring(y4_test , cat_clf4)"
   ]
  },
  {
   "cell_type": "code",
   "execution_count": 27,
   "metadata": {},
   "outputs": [
    {
     "data": {
      "text/plain": [
       "<BarContainer object of 11 artists>"
      ]
     },
     "execution_count": 27,
     "metadata": {},
     "output_type": "execute_result"
    },
    {
     "data": {
      "image/png": "[encoded data removed]",
      "text/plain": [
       "<Figure size 432x288 with 1 Axes>"
      ]
     },
     "metadata": {
      "needs_background": "light"
     },
     "output_type": "display_data"
    }
   ],
   "source": [
    "model = CatBoostClassifier(silent=True)\n",
    "model.fit(X_train, y_train)\n",
    "plt.barh(X_train.columns, model.feature_importances_ )"
   ]
  },
  {
   "cell_type": "code",
   "execution_count": null,
   "metadata": {},
   "outputs": [],
   "source": []
  }
 ],
 "metadata": {
  "interpreter": {
   "hash": "71b59b5ba49ad06bb2a011e750699e3983d230921f30bf7f37eb3a01ae69aa26"
  },
  "kernelspec": {
   "display_name": "Python 3.9.6 64-bit",
   "language": "python",
   "name": "python3"
  },
  "language_info": {
   "codemirror_mode": {
    "name": "ipython",
    "version": 3
   },
   "file_extension": ".py",
   "mimetype": "text/x-python",
   "name": "python",
   "nbconvert_exporter": "python",
   "pygments_lexer": "ipython3",
   "version": "3.9.6"
  },
  "orig_nbformat": 4
 },
 "nbformat": 4,
 "nbformat_minor": 2
}
