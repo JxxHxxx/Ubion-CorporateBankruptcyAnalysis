{
 "cells": [
  {
   "cell_type": "code",
   "execution_count": 1,
   "metadata": {},
   "outputs": [],
   "source": [
    "from bs4 import BeautifulSoup\n",
    "from selenium import webdriver\n",
    "import requests\n",
    "import time\n",
    "import pandas as pd"
   ]
  },
  {
   "cell_type": "code",
   "execution_count": 4,
   "metadata": {},
   "outputs": [
    {
     "ename": "AttributeError",
     "evalue": "'list' object has no attribute 'click'",
     "output_type": "error",
     "traceback": [
      "\u001b[1;31m---------------------------------------------------------------------------\u001b[0m",
      "\u001b[1;31mAttributeError\u001b[0m                            Traceback (most recent call last)",
      "\u001b[1;32m~\\AppData\\Local\\Temp/ipykernel_37860/1767185863.py\u001b[0m in \u001b[0;36m<module>\u001b[1;34m\u001b[0m\n\u001b[0;32m     23\u001b[0m \u001b[0mdriver\u001b[0m\u001b[1;33m.\u001b[0m\u001b[0mfind_element_by_xpath\u001b[0m\u001b[1;33m(\u001b[0m\u001b[1;34m'//*[@id=\"ui-datepicker-div\"]/table/tbody/tr[5]/td[3]/a'\u001b[0m\u001b[1;33m)\u001b[0m\u001b[1;33m.\u001b[0m\u001b[0mclick\u001b[0m\u001b[1;33m(\u001b[0m\u001b[1;33m)\u001b[0m\u001b[1;33m\u001b[0m\u001b[1;33m\u001b[0m\u001b[0m\n\u001b[0;32m     24\u001b[0m \u001b[0mtime\u001b[0m\u001b[1;33m.\u001b[0m\u001b[0msleep\u001b[0m\u001b[1;33m(\u001b[0m\u001b[1;36m0.3\u001b[0m\u001b[1;33m)\u001b[0m\u001b[1;33m\u001b[0m\u001b[1;33m\u001b[0m\u001b[0m\n\u001b[1;32m---> 25\u001b[1;33m \u001b[0mdriver\u001b[0m\u001b[1;33m.\u001b[0m\u001b[0mfind_elements_by_xpath\u001b[0m\u001b[1;33m(\u001b[0m\u001b[1;34m'//*[@id=\"dsclsType01\"]'\u001b[0m\u001b[1;33m)\u001b[0m\u001b[1;33m.\u001b[0m\u001b[0mclick\u001b[0m\u001b[1;33m(\u001b[0m\u001b[1;33m)\u001b[0m\u001b[1;33m\u001b[0m\u001b[1;33m\u001b[0m\u001b[0m\n\u001b[0m",
      "\u001b[1;31mAttributeError\u001b[0m: 'list' object has no attribute 'click'"
     ]
    }
   ],
   "source": [
    "url = \"https://kind.krx.co.kr/disclosure/details.do?method=searchDetailsMain#viewer\"\n",
    "\n",
    "driver = webdriver.Chrome('C:/Users/JH/Desktop/chromedriver')\n",
    "driver.get(url)\n",
    "driver.find_element_by_id('rKosdaq').click()\n",
    "time.sleep(0.3)\n",
    "driver.find_element_by_xpath('//*[@id=\"business\"]/option[4]').click()\n",
    "time.sleep(0.3)\n",
    "driver.find_element_by_id(\"fromDate\").click()\n",
    "time.sleep(0.3)\n",
    "driver.find_element_by_xpath('//*[@id=\"ui-datepicker-div\"]/div/div/select[1]/option[1]').click()\n",
    "time.sleep(0.3)\n",
    "driver.find_element_by_xpath('//*[@id=\"ui-datepicker-div\"]/div/div/select[2]/option[10]').click()\n",
    "time.sleep(0.3)\n",
    "driver.find_element_by_xpath('//*[@id=\"ui-datepicker-div\"]/table/tbody/tr[1]/td[7]/a').click()\n",
    "time.sleep(0.3)\n",
    "txtItemName = driver.find_element_by_id(\"toDate\").click()\n",
    "time.sleep(0.3)\n",
    "driver.find_element_by_xpath('//*[@id=\"ui-datepicker-div\"]/div/div/select[1]/option[12]').click()\n",
    "time.sleep(0.3)\n",
    "driver.find_element_by_xpath('//*[@id=\"ui-datepicker-div\"]/div/div/select[2]/option[12]').click()\n",
    "time.sleep(0.3)\n",
    "driver.find_element_by_xpath('//*[@id=\"ui-datepicker-div\"]/table/tbody/tr[5]/td[3]/a').click()\n",
    "time.sleep(0.3)\n",
    "driver.find_elements_by_xpath('//*[@id=\"dsclsType01\"]').click()\n"
   ]
  },
  {
   "cell_type": "code",
   "execution_count": null,
   "metadata": {},
   "outputs": [],
   "source": []
  }
 ],
 "metadata": {
  "interpreter": {
   "hash": "71b59b5ba49ad06bb2a011e750699e3983d230921f30bf7f37eb3a01ae69aa26"
  },
  "kernelspec": {
   "display_name": "Python 3.9.6 64-bit",
   "language": "python",
   "name": "python3"
  },
  "language_info": {
   "codemirror_mode": {
    "name": "ipython",
    "version": 3
   },
   "file_extension": ".py",
   "mimetype": "text/x-python",
   "name": "python",
   "nbconvert_exporter": "python",
   "pygments_lexer": "ipython3",
   "version": "3.9.6"
  },
  "orig_nbformat": 4
 },
 "nbformat": 4,
 "nbformat_minor": 2
}
