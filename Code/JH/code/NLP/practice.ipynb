{
 "cells": [
  {
   "cell_type": "code",
   "execution_count": 1,
   "metadata": {},
   "outputs": [
    {
     "name": "stdout",
     "output_type": "stream",
     "text": [
      "3.10.0\n"
     ]
    }
   ],
   "source": [
    "import tweepy\n",
    "print(tweepy.__version__)"
   ]
  },
  {
   "cell_type": "code",
   "execution_count": 2,
   "metadata": {},
   "outputs": [],
   "source": [
    "import pandas as pd\n",
    "import matplotlib.pyplot as plt\n",
    "import urllib.request\n",
    "from gensim.models.word2vec import Word2Vec\n",
    "from konlpy.tag import Okt\n",
    "from tqdm import tqdm"
   ]
  },
  {
   "cell_type": "code",
   "execution_count": 37,
   "metadata": {},
   "outputs": [],
   "source": [
    "subset1 = pd.read_csv(r'C:\\Users\\JH\\Desktop\\Final\\CBA\\Code\\JH\\data\\0020공시11.csv',index_col=0)\n",
    "subset2 = pd.read_csv(r'C:\\Users\\JH\\Desktop\\Final\\CBA\\Code\\JH\\data\\0014공시1,3,4,14,15,19,24,27,63,65,67.csv',index_col=0)\n",
    "subset3 = pd.read_csv(r'C:\\Users\\JH\\Desktop\\Final\\CBA\\Code\\JH\\data\\1520공시1,3,4,14,15,19,24,27,63,65,67.csv',index_col=0)"
   ]
  },
  {
   "cell_type": "code",
   "execution_count": 49,
   "metadata": {},
   "outputs": [],
   "source": [
    "train_data = pd.concat([subset1, subset2, subset3], axis=0)\n",
    "train_data = train_data.reset_index()"
   ]
  },
  {
   "cell_type": "code",
   "execution_count": 50,
   "metadata": {},
   "outputs": [
    {
     "name": "stderr",
     "output_type": "stream",
     "text": [
      "C:\\Users\\JH\\AppData\\Local\\Temp/ipykernel_21968/1482995617.py:1: FutureWarning: The default value of regex will change from True to False in a future version.\n",
      "  train_data['text'] = train_data['text'].str.replace(\"[^ㄱ-ㅎㅏ-ㅣ가-힣]\",\"\")\n"
     ]
    },
    {
     "data": {
      "text/html": [
       "<div>\n",
       "<style scoped>\n",
       "    .dataframe tbody tr th:only-of-type {\n",
       "        vertical-align: middle;\n",
       "    }\n",
       "\n",
       "    .dataframe tbody tr th {\n",
       "        vertical-align: top;\n",
       "    }\n",
       "\n",
       "    .dataframe thead th {\n",
       "        text-align: right;\n",
       "    }\n",
       "</style>\n",
       "<table border=\"1\" class=\"dataframe\">\n",
       "  <thead>\n",
       "    <tr style=\"text-align: right;\">\n",
       "      <th></th>\n",
       "      <th>index</th>\n",
       "      <th>회사명</th>\n",
       "      <th>거래소코드</th>\n",
       "      <th>공시발생일</th>\n",
       "      <th>text</th>\n",
       "      <th>link</th>\n",
       "    </tr>\n",
       "  </thead>\n",
       "  <tbody>\n",
       "    <tr>\n",
       "      <th>0</th>\n",
       "      <td>0</td>\n",
       "      <td>데코</td>\n",
       "      <td>013650</td>\n",
       "      <td>2002-12-31 15:11</td>\n",
       "      <td>대표이사등변경안내구분대표이사변경내용가변경전대표이사이재성대표이사김우영나변경후대표이사김...</td>\n",
       "      <td>https://kind.krx.co.kr/external/2002/12/31/K00...</td>\n",
       "    </tr>\n",
       "    <tr>\n",
       "      <th>1</th>\n",
       "      <td>1</td>\n",
       "      <td>다휘</td>\n",
       "      <td>055250</td>\n",
       "      <td>2002-12-30 14:18</td>\n",
       "      <td>대표이사등변경안내구분대표이사변경내용가변경전오석인나변경후오석인고지환각자대표이사변경이유...</td>\n",
       "      <td>https://kind.krx.co.kr/external/2002/12/30/K00...</td>\n",
       "    </tr>\n",
       "    <tr>\n",
       "      <th>2</th>\n",
       "      <td>2</td>\n",
       "      <td>이수페타시스</td>\n",
       "      <td>007660</td>\n",
       "      <td>2002-12-23 13:56</td>\n",
       "      <td>대표이사등변경안내구분대표이사변경내용가변경전김상범김종택각자대표이사나변경후김상범김종택김...</td>\n",
       "      <td>https://kind.krx.co.kr/external/2002/12/23/K00...</td>\n",
       "    </tr>\n",
       "    <tr>\n",
       "      <th>3</th>\n",
       "      <td>3</td>\n",
       "      <td>인지디스플레</td>\n",
       "      <td>037330</td>\n",
       "      <td>2002-12-14 14:00</td>\n",
       "      <td>정정공시년월일정정관련공시서류대표이사등변경안내정정관련공시서류제출일정정사유변경후대표이사...</td>\n",
       "      <td>https://kind.krx.co.kr/external/2002/12/14/K00...</td>\n",
       "    </tr>\n",
       "    <tr>\n",
       "      <th>4</th>\n",
       "      <td>4</td>\n",
       "      <td>인지디스플레</td>\n",
       "      <td>037330</td>\n",
       "      <td>2002-12-14 13:28</td>\n",
       "      <td>대표이사등변경안내구분대표이사변경내용가변경전임상호나변경후정구용이경주변경이유임상호대표이...</td>\n",
       "      <td>https://kind.krx.co.kr/external/2002/12/14/K00...</td>\n",
       "    </tr>\n",
       "    <tr>\n",
       "      <th>...</th>\n",
       "      <td>...</td>\n",
       "      <td>...</td>\n",
       "      <td>...</td>\n",
       "      <td>...</td>\n",
       "      <td>...</td>\n",
       "      <td>...</td>\n",
       "    </tr>\n",
       "    <tr>\n",
       "      <th>5306</th>\n",
       "      <td>423</td>\n",
       "      <td>매일홀딩스</td>\n",
       "      <td>005990</td>\n",
       "      <td>2018-01-31 17:37</td>\n",
       "      <td>해산사유발생해산사유발생자회사인엠즈푸드주식회사의주요경영사항신고해산사유자회사간합병해산내...</td>\n",
       "      <td>https://kind.krx.co.kr/external/2018/01/31/000...</td>\n",
       "    </tr>\n",
       "    <tr>\n",
       "      <th>5307</th>\n",
       "      <td>424</td>\n",
       "      <td>메디톡스</td>\n",
       "      <td>086900</td>\n",
       "      <td>2018-01-26 17:21</td>\n",
       "      <td>벌금등의부과정정신고보고정정일자정정관련공시서류벌금등의부과정정관련공시서류제출일정정사유조...</td>\n",
       "      <td>https://kind.krx.co.kr/external/2018/01/26/000...</td>\n",
       "    </tr>\n",
       "    <tr>\n",
       "      <th>5308</th>\n",
       "      <td>425</td>\n",
       "      <td>행남사</td>\n",
       "      <td>008800</td>\n",
       "      <td>2018-01-11 17:52</td>\n",
       "      <td>파산신청파산신청사건번호하합파산선고신청인회사와의관계농업회사법인주식회사엔트네이처팜채권자...</td>\n",
       "      <td>https://kind.krx.co.kr/external/2018/01/11/000...</td>\n",
       "    </tr>\n",
       "    <tr>\n",
       "      <th>5309</th>\n",
       "      <td>426</td>\n",
       "      <td>레이젠</td>\n",
       "      <td>047440</td>\n",
       "      <td>2018-01-04 18:30</td>\n",
       "      <td>파산신청기각파산신청기각사건번호하합기각일자관할법원대구지방법원기각사유법원의파산신청기각결...</td>\n",
       "      <td>https://kind.krx.co.kr/external/2018/01/04/000...</td>\n",
       "    </tr>\n",
       "    <tr>\n",
       "      <th>5310</th>\n",
       "      <td>427</td>\n",
       "      <td>케이에스피</td>\n",
       "      <td>073010</td>\n",
       "      <td>2018-01-04 17:08</td>\n",
       "      <td>횡령배임혐의진행사항횡령배임혐의진행사항사고발생내용해임임원의특정경제범죄가중처벌에관한법률...</td>\n",
       "      <td>https://kind.krx.co.kr/external/2018/01/04/000...</td>\n",
       "    </tr>\n",
       "  </tbody>\n",
       "</table>\n",
       "<p>5311 rows × 6 columns</p>\n",
       "</div>"
      ],
      "text/plain": [
       "      index     회사명   거래소코드             공시발생일  \\\n",
       "0         0      데코  013650  2002-12-31 15:11   \n",
       "1         1      다휘  055250  2002-12-30 14:18   \n",
       "2         2  이수페타시스  007660  2002-12-23 13:56   \n",
       "3         3  인지디스플레  037330  2002-12-14 14:00   \n",
       "4         4  인지디스플레  037330  2002-12-14 13:28   \n",
       "...     ...     ...     ...               ...   \n",
       "5306    423   매일홀딩스  005990  2018-01-31 17:37   \n",
       "5307    424    메디톡스  086900  2018-01-26 17:21   \n",
       "5308    425     행남사  008800  2018-01-11 17:52   \n",
       "5309    426     레이젠  047440  2018-01-04 18:30   \n",
       "5310    427   케이에스피  073010  2018-01-04 17:08   \n",
       "\n",
       "                                                   text  \\\n",
       "0     대표이사등변경안내구분대표이사변경내용가변경전대표이사이재성대표이사김우영나변경후대표이사김...   \n",
       "1     대표이사등변경안내구분대표이사변경내용가변경전오석인나변경후오석인고지환각자대표이사변경이유...   \n",
       "2     대표이사등변경안내구분대표이사변경내용가변경전김상범김종택각자대표이사나변경후김상범김종택김...   \n",
       "3     정정공시년월일정정관련공시서류대표이사등변경안내정정관련공시서류제출일정정사유변경후대표이사...   \n",
       "4     대표이사등변경안내구분대표이사변경내용가변경전임상호나변경후정구용이경주변경이유임상호대표이...   \n",
       "...                                                 ...   \n",
       "5306  해산사유발생해산사유발생자회사인엠즈푸드주식회사의주요경영사항신고해산사유자회사간합병해산내...   \n",
       "5307  벌금등의부과정정신고보고정정일자정정관련공시서류벌금등의부과정정관련공시서류제출일정정사유조...   \n",
       "5308  파산신청파산신청사건번호하합파산선고신청인회사와의관계농업회사법인주식회사엔트네이처팜채권자...   \n",
       "5309  파산신청기각파산신청기각사건번호하합기각일자관할법원대구지방법원기각사유법원의파산신청기각결...   \n",
       "5310  횡령배임혐의진행사항횡령배임혐의진행사항사고발생내용해임임원의특정경제범죄가중처벌에관한법률...   \n",
       "\n",
       "                                                   link  \n",
       "0     https://kind.krx.co.kr/external/2002/12/31/K00...  \n",
       "1     https://kind.krx.co.kr/external/2002/12/30/K00...  \n",
       "2     https://kind.krx.co.kr/external/2002/12/23/K00...  \n",
       "3     https://kind.krx.co.kr/external/2002/12/14/K00...  \n",
       "4     https://kind.krx.co.kr/external/2002/12/14/K00...  \n",
       "...                                                 ...  \n",
       "5306  https://kind.krx.co.kr/external/2018/01/31/000...  \n",
       "5307  https://kind.krx.co.kr/external/2018/01/26/000...  \n",
       "5308  https://kind.krx.co.kr/external/2018/01/11/000...  \n",
       "5309  https://kind.krx.co.kr/external/2018/01/04/000...  \n",
       "5310  https://kind.krx.co.kr/external/2018/01/04/000...  \n",
       "\n",
       "[5311 rows x 6 columns]"
      ]
     },
     "execution_count": 50,
     "metadata": {},
     "output_type": "execute_result"
    }
   ],
   "source": [
    "train_data['text'] = train_data['text'].str.replace(\"[^ㄱ-ㅎㅏ-ㅣ가-힣]\",\"\")\n",
    "train_data"
   ]
  },
  {
   "cell_type": "code",
   "execution_count": 51,
   "metadata": {},
   "outputs": [
    {
     "data": {
      "text/plain": [
       "'정정공시년월일정정관련공시서류대표이사등변경안내정정관련공시서류제출일정정사유변경후대표이사의내용을자세히기재정정사항항목정정전정정후변경내용나변경후정구용이경주정구용이경주각자대표이사대표이사등변경안내구분대표이사변경내용가변경전임상호나변경후정구용이경주각자대표이사변경이유임상호대표이사해임변경일년월일기타'"
      ]
     },
     "execution_count": 51,
     "metadata": {},
     "output_type": "execute_result"
    }
   ],
   "source": [
    "train_data['text'][3]"
   ]
  },
  {
   "cell_type": "code",
   "execution_count": 52,
   "metadata": {},
   "outputs": [],
   "source": [
    "stopwords = ['등','의','을','기타','년','월','일','공시']"
   ]
  },
  {
   "cell_type": "code",
   "execution_count": 53,
   "metadata": {},
   "outputs": [
    {
     "name": "stderr",
     "output_type": "stream",
     "text": [
      " 96%|█████████▌| 5084/5311 [3:20:50<05:14,  1.39s/it]"
     ]
    }
   ],
   "source": [
    "# 형태소 분석기 OKT를 사용한 토큰화 작업 (다소 시간 소요)\n",
    "okt = Okt()\n",
    "\n",
    "tokenized_data = []\n",
    "for sentence in tqdm(train_data['text']):\n",
    "    tokenized_sentence = okt.morphs(sentence, stem=True) # 토큰화\n",
    "    stopwords_removed_sentence = [word for word in tokenized_sentence if not word in stopwords] # 불용어 제거\n",
    "    tokenized_data.append(stopwords_removed_sentence)"
   ]
  },
  {
   "cell_type": "code",
   "execution_count": 11,
   "metadata": {},
   "outputs": [],
   "source": [
    "from gensim.models import Word2Vec\n",
    "model = Word2Vec(sentences = tokenized_data, vector_size = 100, window = 5, min_count = 5, workers = 4, sg = 0)"
   ]
  },
  {
   "cell_type": "code",
   "execution_count": 12,
   "metadata": {},
   "outputs": [
    {
     "data": {
      "text/plain": [
       "(3713, 100)"
      ]
     },
     "execution_count": 12,
     "metadata": {},
     "output_type": "execute_result"
    }
   ],
   "source": [
    "model.wv.vectors.shape"
   ]
  },
  {
   "cell_type": "code",
   "execution_count": 33,
   "metadata": {},
   "outputs": [
    {
     "data": {
      "text/plain": [
       "['대표이사',\n",
       " '변경',\n",
       " '안내',\n",
       " '1',\n",
       " '구분',\n",
       " '대표이사',\n",
       " '2',\n",
       " '변경',\n",
       " '내용',\n",
       " '가',\n",
       " '변경',\n",
       " '전',\n",
       " '대표이사',\n",
       " '이재성',\n",
       " '대표이사',\n",
       " '김우영',\n",
       " '나',\n",
       " '변경',\n",
       " '후',\n",
       " '대표이사',\n",
       " '김인식',\n",
       " '3',\n",
       " '변경',\n",
       " '이유',\n",
       " '대표이사',\n",
       " '사임',\n",
       " '에',\n",
       " '따르다',\n",
       " '신규',\n",
       " '선임',\n",
       " '4',\n",
       " '변경',\n",
       " '일',\n",
       " '2002년',\n",
       " '12월',\n",
       " '31일',\n",
       " '5']"
      ]
     },
     "execution_count": 33,
     "metadata": {},
     "output_type": "execute_result"
    }
   ],
   "source": [
    "tokenized_data[:][0]"
   ]
  },
  {
   "cell_type": "code",
   "execution_count": 35,
   "metadata": {},
   "outputs": [
    {
     "name": "stdout",
     "output_type": "stream",
     "text": [
      "[('김용호', 0.9004698991775513), ('배변', 0.8789714574813843), ('박희', 0.8769700527191162), ('가변', 0.8765009045600891), ('안종', 0.873893678188324), ('정', 0.8723775744438171), ('최상', 0.8696200847625732), ('윤종근', 0.8694169521331787), ('전이', 0.8666578531265259), ('권혁', 0.863219141960144)]\n"
     ]
    }
   ],
   "source": [
    "print(model.wv.most_similar('강태우'))"
   ]
  },
  {
   "cell_type": "code",
   "execution_count": null,
   "metadata": {},
   "outputs": [],
   "source": []
  }
 ],
 "metadata": {
  "interpreter": {
   "hash": "71b59b5ba49ad06bb2a011e750699e3983d230921f30bf7f37eb3a01ae69aa26"
  },
  "kernelspec": {
   "display_name": "Python 3.9.6 64-bit",
   "language": "python",
   "name": "python3"
  },
  "language_info": {
   "codemirror_mode": {
    "name": "ipython",
    "version": 3
   },
   "file_extension": ".py",
   "mimetype": "text/x-python",
   "name": "python",
   "nbconvert_exporter": "python",
   "pygments_lexer": "ipython3",
   "version": "3.9.6"
  },
  "orig_nbformat": 4
 },
 "nbformat": 4,
 "nbformat_minor": 2
}
