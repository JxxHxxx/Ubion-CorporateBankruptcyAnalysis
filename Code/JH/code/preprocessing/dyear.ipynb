{
 "cells": [
  {
   "cell_type": "code",
   "execution_count": 2,
   "metadata": {},
   "outputs": [
    {
     "data": {
      "text/plain": [
       "\" '회사명', '거래소코드', '회계년도', '설비투자효율', '총자본투자효율', '부채구성비율', '비유동장기적합률',\\n       '재고자산보유기간', '매출채권회수기간', '매입채무회전률', '경영자본회전률', '경영자본순이익률', '자기자본순이익률',\\n       '자기자본증가율', '년', 'key', '부도' \""
      ]
     },
     "execution_count": 2,
     "metadata": {},
     "output_type": "execute_result"
    }
   ],
   "source": [
    "import pandas as pd\n",
    "\n",
    "\"\"\" '회사명', '거래소코드', '회계년도', '설비투자효율', '총자본투자효율', '부채구성비율', '비유동장기적합률',\n",
    "       '재고자산보유기간', '매출채권회수기간', '매입채무회전률', '경영자본회전률', '경영자본순이익률', '자기자본순이익률',\n",
    "       '자기자본증가율', '년', 'key', '부도' \"\"\""
   ]
  },
  {
   "cell_type": "code",
   "execution_count": 34,
   "metadata": {},
   "outputs": [
    {
     "data": {
      "text/plain": [
       "(26832, 36)"
      ]
     },
     "execution_count": 34,
     "metadata": {},
     "output_type": "execute_result"
    }
   ],
   "source": [
    "dataset = pd.read_csv(r'C:\\Users\\JH\\Desktop\\Final\\Ubion-CorporateBankruptcyAnalysis\\Data\\최종데이터셋\\finaldataset_ver7.4.csv')\n",
    "dataset.loc[dataset['회사명'] == '(주)경윤하이드로에너지']"
   ]
  },
  {
   "cell_type": "markdown",
   "metadata": {},
   "source": [
    "# **회계년도가 짧은 회사 모음**"
   ]
  },
  {
   "cell_type": "code",
   "execution_count": 7,
   "metadata": {},
   "outputs": [
    {
     "data": {
      "text/plain": [
       "[871,\n",
       " 984,\n",
       " 1163,\n",
       " 1324,\n",
       " 1944,\n",
       " 2584,\n",
       " 3029,\n",
       " 3496,\n",
       " 3527,\n",
       " 3980,\n",
       " 4104,\n",
       " 4134,\n",
       " 5918,\n",
       " 6075,\n",
       " 6199,\n",
       " 6329,\n",
       " 6387,\n",
       " 6497,\n",
       " 6543,\n",
       " 6633,\n",
       " 6802,\n",
       " 6830,\n",
       " 7570,\n",
       " 7731,\n",
       " 8279,\n",
       " 8799,\n",
       " 9949,\n",
       " 10811,\n",
       " 11094,\n",
       " 11387,\n",
       " 11459,\n",
       " 11719,\n",
       " 11728,\n",
       " 12330,\n",
       " 14568,\n",
       " 14637,\n",
       " 15321,\n",
       " 15449,\n",
       " 16130,\n",
       " 16185,\n",
       " 16259,\n",
       " 16336,\n",
       " 16502,\n",
       " 17611,\n",
       " 18049,\n",
       " 18068,\n",
       " 18518,\n",
       " 18928,\n",
       " 18973,\n",
       " 19007,\n",
       " 19122,\n",
       " 20385,\n",
       " 20452,\n",
       " 20751,\n",
       " 20770,\n",
       " 20921,\n",
       " 21613,\n",
       " 21643,\n",
       " 21862,\n",
       " 21910,\n",
       " 21989,\n",
       " 22227,\n",
       " 22940,\n",
       " 23475,\n",
       " 23598,\n",
       " 25434,\n",
       " 25714,\n",
       " 26320]"
      ]
     },
     "execution_count": 7,
     "metadata": {},
     "output_type": "execute_result"
    }
   ],
   "source": [
    "cpyname = dataset.loc[dataset['부도'] == 1]['회사명'].unique()\n",
    "\n",
    "shtcpy = [] # 회계기간이 짧은 회사 list\n",
    "shtidx = [] # 회계기간이 짧은 회사의 idx\n",
    "for i in cpyname:\n",
    "    if len(dataset.loc[dataset['회사명'] == i]) < 5:\n",
    "        shtcpy.append(i)\n",
    "for i in shtcpy:\n",
    "    shtidx.append(dataset.loc[dataset['회사명'] == i].index[-1])\n",
    "\n",
    "shtidx"
   ]
  },
  {
   "cell_type": "markdown",
   "metadata": {},
   "source": [
    "# **N년 전 부도 데이터 만들기**"
   ]
  },
  {
   "cell_type": "code",
   "execution_count": 8,
   "metadata": {},
   "outputs": [],
   "source": [
    "num = 1"
   ]
  },
  {
   "cell_type": "code",
   "execution_count": 11,
   "metadata": {},
   "outputs": [
    {
     "name": "stdout",
     "output_type": "stream",
     "text": [
      "871\n",
      "14637\n",
      "19122\n",
      "20452\n",
      "20751\n"
     ]
    }
   ],
   "source": [
    "cpyidx = []\n",
    "bfidx = []\n",
    "for idx_ in dataset.loc[dataset['부도'] == 1].index:\n",
    "    cpyidx.append(idx_)\n",
    "\n",
    "for name in shtidx:\n",
    "    try:\n",
    "        cpyidx.remove(name)\n",
    "    except ValueError:\n",
    "        print(name)\n",
    "        \n",
    "\n",
    "for idx_ in cpyidx:\n",
    "    bfidx.append(idx_ - num)"
   ]
  },
  {
   "cell_type": "code",
   "execution_count": 10,
   "metadata": {},
   "outputs": [],
   "source": [
    "dataset.at[bfidx, '부도'] = 1\n",
    "dataset = dataset.drop(index = cpyidx)"
   ]
  },
  {
   "cell_type": "code",
   "execution_count": 67,
   "metadata": {},
   "outputs": [],
   "source": [
    "dataset.to_csv(r'C:\\Users\\JH\\Desktop\\Final\\Ubion-CorporateBankruptcyAnalysis\\Code\\JH\\data\\ver2\\0years_agostep3.csv',index=False)"
   ]
  },
  {
   "cell_type": "code",
   "execution_count": 68,
   "metadata": {},
   "outputs": [
    {
     "data": {
      "text/html": [
       "<div>\n",
       "<style scoped>\n",
       "    .dataframe tbody tr th:only-of-type {\n",
       "        vertical-align: middle;\n",
       "    }\n",
       "\n",
       "    .dataframe tbody tr th {\n",
       "        vertical-align: top;\n",
       "    }\n",
       "\n",
       "    .dataframe thead th {\n",
       "        text-align: right;\n",
       "    }\n",
       "</style>\n",
       "<table border=\"1\" class=\"dataframe\">\n",
       "  <thead>\n",
       "    <tr style=\"text-align: right;\">\n",
       "      <th></th>\n",
       "      <th>회사명</th>\n",
       "      <th>거래소코드</th>\n",
       "      <th>회계년도</th>\n",
       "      <th>설비투자효율</th>\n",
       "      <th>총자본투자효율</th>\n",
       "      <th>부채구성비율</th>\n",
       "      <th>비유동장기적합률</th>\n",
       "      <th>재고자산보유기간</th>\n",
       "      <th>매출채권회수기간</th>\n",
       "      <th>매입채무회전률</th>\n",
       "      <th>...</th>\n",
       "      <th>회계처리위반</th>\n",
       "      <th>횡령배임</th>\n",
       "      <th>영업조업중단</th>\n",
       "      <th>종가변동률</th>\n",
       "      <th>출자목적_투자</th>\n",
       "      <th>출자목적_경영권</th>\n",
       "      <th>출자목적_영업이익</th>\n",
       "      <th>신종채권_운영</th>\n",
       "      <th>신종채권_시설</th>\n",
       "      <th>신종채권_기타</th>\n",
       "    </tr>\n",
       "  </thead>\n",
       "  <tbody>\n",
       "    <tr>\n",
       "      <th>109</th>\n",
       "      <td>(주)경윤하이드로에너지</td>\n",
       "      <td>19120.0</td>\n",
       "      <td>2000/12</td>\n",
       "      <td>182.22</td>\n",
       "      <td>27.08</td>\n",
       "      <td>42.879257</td>\n",
       "      <td>44.47</td>\n",
       "      <td>44.512195</td>\n",
       "      <td>23.685918</td>\n",
       "      <td>116.01</td>\n",
       "      <td>...</td>\n",
       "      <td>1.0</td>\n",
       "      <td>0.0</td>\n",
       "      <td>0.0</td>\n",
       "      <td>0.000000</td>\n",
       "      <td>0.0</td>\n",
       "      <td>0.0</td>\n",
       "      <td>0.0</td>\n",
       "      <td>0.0</td>\n",
       "      <td>0.0</td>\n",
       "      <td>0.0</td>\n",
       "    </tr>\n",
       "    <tr>\n",
       "      <th>110</th>\n",
       "      <td>(주)경윤하이드로에너지</td>\n",
       "      <td>19120.0</td>\n",
       "      <td>2001/12</td>\n",
       "      <td>203.92</td>\n",
       "      <td>28.52</td>\n",
       "      <td>43.149698</td>\n",
       "      <td>39.80</td>\n",
       "      <td>54.154303</td>\n",
       "      <td>30.932203</td>\n",
       "      <td>64.44</td>\n",
       "      <td>...</td>\n",
       "      <td>0.0</td>\n",
       "      <td>0.0</td>\n",
       "      <td>0.0</td>\n",
       "      <td>0.455939</td>\n",
       "      <td>0.0</td>\n",
       "      <td>0.0</td>\n",
       "      <td>0.0</td>\n",
       "      <td>0.0</td>\n",
       "      <td>0.0</td>\n",
       "      <td>0.0</td>\n",
       "    </tr>\n",
       "    <tr>\n",
       "      <th>111</th>\n",
       "      <td>(주)경윤하이드로에너지</td>\n",
       "      <td>19120.0</td>\n",
       "      <td>2002/12</td>\n",
       "      <td>137.84</td>\n",
       "      <td>26.89</td>\n",
       "      <td>40.737914</td>\n",
       "      <td>69.52</td>\n",
       "      <td>63.588850</td>\n",
       "      <td>22.955975</td>\n",
       "      <td>57.57</td>\n",
       "      <td>...</td>\n",
       "      <td>0.0</td>\n",
       "      <td>0.0</td>\n",
       "      <td>0.0</td>\n",
       "      <td>-0.924737</td>\n",
       "      <td>0.0</td>\n",
       "      <td>0.0</td>\n",
       "      <td>0.0</td>\n",
       "      <td>0.0</td>\n",
       "      <td>0.0</td>\n",
       "      <td>0.0</td>\n",
       "    </tr>\n",
       "    <tr>\n",
       "      <th>112</th>\n",
       "      <td>(주)경윤하이드로에너지</td>\n",
       "      <td>19120.0</td>\n",
       "      <td>2003/12</td>\n",
       "      <td>106.14</td>\n",
       "      <td>19.01</td>\n",
       "      <td>40.441237</td>\n",
       "      <td>79.04</td>\n",
       "      <td>67.095588</td>\n",
       "      <td>43.608124</td>\n",
       "      <td>45.33</td>\n",
       "      <td>...</td>\n",
       "      <td>0.0</td>\n",
       "      <td>0.0</td>\n",
       "      <td>0.0</td>\n",
       "      <td>0.013986</td>\n",
       "      <td>0.0</td>\n",
       "      <td>0.0</td>\n",
       "      <td>0.0</td>\n",
       "      <td>0.0</td>\n",
       "      <td>0.0</td>\n",
       "      <td>0.0</td>\n",
       "    </tr>\n",
       "    <tr>\n",
       "      <th>113</th>\n",
       "      <td>(주)경윤하이드로에너지</td>\n",
       "      <td>19120.0</td>\n",
       "      <td>2004/12</td>\n",
       "      <td>77.06</td>\n",
       "      <td>11.69</td>\n",
       "      <td>43.210858</td>\n",
       "      <td>75.32</td>\n",
       "      <td>82.954545</td>\n",
       "      <td>62.822719</td>\n",
       "      <td>42.17</td>\n",
       "      <td>...</td>\n",
       "      <td>0.0</td>\n",
       "      <td>0.0</td>\n",
       "      <td>0.0</td>\n",
       "      <td>0.306897</td>\n",
       "      <td>0.0</td>\n",
       "      <td>0.0</td>\n",
       "      <td>0.0</td>\n",
       "      <td>0.0</td>\n",
       "      <td>0.0</td>\n",
       "      <td>0.0</td>\n",
       "    </tr>\n",
       "    <tr>\n",
       "      <th>114</th>\n",
       "      <td>(주)경윤하이드로에너지</td>\n",
       "      <td>19120.0</td>\n",
       "      <td>2005/12</td>\n",
       "      <td>8.10</td>\n",
       "      <td>1.12</td>\n",
       "      <td>42.030492</td>\n",
       "      <td>77.46</td>\n",
       "      <td>105.491329</td>\n",
       "      <td>87.112172</td>\n",
       "      <td>51.95</td>\n",
       "      <td>...</td>\n",
       "      <td>0.0</td>\n",
       "      <td>0.0</td>\n",
       "      <td>0.0</td>\n",
       "      <td>-0.174142</td>\n",
       "      <td>0.0</td>\n",
       "      <td>0.0</td>\n",
       "      <td>0.0</td>\n",
       "      <td>0.0</td>\n",
       "      <td>0.0</td>\n",
       "      <td>0.0</td>\n",
       "    </tr>\n",
       "    <tr>\n",
       "      <th>115</th>\n",
       "      <td>(주)경윤하이드로에너지</td>\n",
       "      <td>19120.0</td>\n",
       "      <td>2006/12</td>\n",
       "      <td>-4.52</td>\n",
       "      <td>-0.53</td>\n",
       "      <td>50.210258</td>\n",
       "      <td>94.08</td>\n",
       "      <td>68.224299</td>\n",
       "      <td>105.491329</td>\n",
       "      <td>32.48</td>\n",
       "      <td>...</td>\n",
       "      <td>0.0</td>\n",
       "      <td>0.0</td>\n",
       "      <td>0.0</td>\n",
       "      <td>-0.038339</td>\n",
       "      <td>0.0</td>\n",
       "      <td>0.0</td>\n",
       "      <td>0.0</td>\n",
       "      <td>0.0</td>\n",
       "      <td>0.0</td>\n",
       "      <td>0.0</td>\n",
       "    </tr>\n",
       "  </tbody>\n",
       "</table>\n",
       "<p>7 rows × 29 columns</p>\n",
       "</div>"
      ],
      "text/plain": [
       "              회사명    거래소코드     회계년도  설비투자효율  총자본투자효율     부채구성비율  비유동장기적합률  \\\n",
       "109  (주)경윤하이드로에너지  19120.0  2000/12  182.22    27.08  42.879257     44.47   \n",
       "110  (주)경윤하이드로에너지  19120.0  2001/12  203.92    28.52  43.149698     39.80   \n",
       "111  (주)경윤하이드로에너지  19120.0  2002/12  137.84    26.89  40.737914     69.52   \n",
       "112  (주)경윤하이드로에너지  19120.0  2003/12  106.14    19.01  40.441237     79.04   \n",
       "113  (주)경윤하이드로에너지  19120.0  2004/12   77.06    11.69  43.210858     75.32   \n",
       "114  (주)경윤하이드로에너지  19120.0  2005/12    8.10     1.12  42.030492     77.46   \n",
       "115  (주)경윤하이드로에너지  19120.0  2006/12   -4.52    -0.53  50.210258     94.08   \n",
       "\n",
       "       재고자산보유기간    매출채권회수기간  매입채무회전률  ...  회계처리위반  횡령배임  영업조업중단     종가변동률  \\\n",
       "109   44.512195   23.685918   116.01  ...     1.0   0.0     0.0  0.000000   \n",
       "110   54.154303   30.932203    64.44  ...     0.0   0.0     0.0  0.455939   \n",
       "111   63.588850   22.955975    57.57  ...     0.0   0.0     0.0 -0.924737   \n",
       "112   67.095588   43.608124    45.33  ...     0.0   0.0     0.0  0.013986   \n",
       "113   82.954545   62.822719    42.17  ...     0.0   0.0     0.0  0.306897   \n",
       "114  105.491329   87.112172    51.95  ...     0.0   0.0     0.0 -0.174142   \n",
       "115   68.224299  105.491329    32.48  ...     0.0   0.0     0.0 -0.038339   \n",
       "\n",
       "     출자목적_투자  출자목적_경영권  출자목적_영업이익  신종채권_운영  신종채권_시설  신종채권_기타  \n",
       "109      0.0       0.0        0.0      0.0      0.0      0.0  \n",
       "110      0.0       0.0        0.0      0.0      0.0      0.0  \n",
       "111      0.0       0.0        0.0      0.0      0.0      0.0  \n",
       "112      0.0       0.0        0.0      0.0      0.0      0.0  \n",
       "113      0.0       0.0        0.0      0.0      0.0      0.0  \n",
       "114      0.0       0.0        0.0      0.0      0.0      0.0  \n",
       "115      0.0       0.0        0.0      0.0      0.0      0.0  \n",
       "\n",
       "[7 rows x 29 columns]"
      ]
     },
     "execution_count": 68,
     "metadata": {},
     "output_type": "execute_result"
    }
   ],
   "source": [
    "dataset.loc[dataset['회사명'] == '(주)경윤하이드로에너지']"
   ]
  },
  {
   "cell_type": "markdown",
   "metadata": {},
   "source": [
    "# **데이터 클리닝**"
   ]
  },
  {
   "cell_type": "code",
   "execution_count": 31,
   "metadata": {},
   "outputs": [
    {
     "data": {
      "text/plain": [
       "20748    0.0\n",
       "20749    0.0\n",
       "20750    0.0\n",
       "20751    1.0\n",
       "Name: 부도, dtype: float64"
      ]
     },
     "execution_count": 31,
     "metadata": {},
     "output_type": "execute_result"
    }
   ],
   "source": [
    "dataset.loc[dataset['회사명'] == dataset.at[20751, '회사명']]['부도']\n"
   ]
  },
  {
   "cell_type": "code",
   "execution_count": null,
   "metadata": {},
   "outputs": [],
   "source": [
    "871\n",
    "14637\n",
    "19122\n",
    "20452\n",
    "20751"
   ]
  },
  {
   "cell_type": "code",
   "execution_count": 25,
   "metadata": {},
   "outputs": [],
   "source": [
    "dataset.at[20749,'부도'] = 0\n",
    "dataset.at[20751,'부도'] = 1"
   ]
  },
  {
   "cell_type": "code",
   "execution_count": 32,
   "metadata": {},
   "outputs": [],
   "source": [
    "dataset.to_csv(r'C:\\Users\\JH\\Desktop\\Final\\Ubion-CorporateBankruptcyAnalysis\\Data\\최종데이터셋\\finaldataset_ver7.4.csv', index=False)"
   ]
  },
  {
   "cell_type": "code",
   "execution_count": null,
   "metadata": {},
   "outputs": [],
   "source": []
  }
 ],
 "metadata": {
  "interpreter": {
   "hash": "71b59b5ba49ad06bb2a011e750699e3983d230921f30bf7f37eb3a01ae69aa26"
  },
  "kernelspec": {
   "display_name": "Python 3.9.6 64-bit",
   "language": "python",
   "name": "python3"
  },
  "language_info": {
   "codemirror_mode": {
    "name": "ipython",
    "version": 3
   },
   "file_extension": ".py",
   "mimetype": "text/x-python",
   "name": "python",
   "nbconvert_exporter": "python",
   "pygments_lexer": "ipython3",
   "version": "3.9.6"
  },
  "orig_nbformat": 4
 },
 "nbformat": 4,
 "nbformat_minor": 2
}
