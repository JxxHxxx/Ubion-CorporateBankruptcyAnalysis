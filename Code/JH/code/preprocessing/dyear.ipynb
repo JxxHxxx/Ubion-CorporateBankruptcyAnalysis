{
 "cells": [
  {
   "cell_type": "code",
   "execution_count": 2,
   "metadata": {},
   "outputs": [
    {
     "data": {
      "text/plain": [
       "\" '회사명', '거래소코드', '회계년도', '설비투자효율', '총자본투자효율', '부채구성비율', '비유동장기적합률',\\n       '재고자산보유기간', '매출채권회수기간', '매입채무회전률', '경영자본회전률', '경영자본순이익률', '자기자본순이익률',\\n       '자기자본증가율', '년', 'key', '부도' \""
      ]
     },
     "execution_count": 2,
     "metadata": {},
     "output_type": "execute_result"
    }
   ],
   "source": [
    "import pandas as pd\n",
    "\n",
    "\"\"\" '회사명', '거래소코드', '회계년도', '설비투자효율', '총자본투자효율', '부채구성비율', '비유동장기적합률',\n",
    "       '재고자산보유기간', '매출채권회수기간', '매입채무회전률', '경영자본회전률', '경영자본순이익률', '자기자본순이익률',\n",
    "       '자기자본증가율', '년', 'key', '부도' \"\"\""
   ]
  },
  {
   "cell_type": "code",
   "execution_count": 34,
   "metadata": {},
   "outputs": [
    {
     "data": {
      "text/plain": [
       "(26832, 36)"
      ]
     },
     "execution_count": 34,
     "metadata": {},
     "output_type": "execute_result"
    }
   ],
   "source": [
    "dataset = pd.read_csv(r'C:\\Users\\JH\\Desktop\\Final\\Ubion-CorporateBankruptcyAnalysis\\Data\\최종데이터셋\\finaldataset_ver7.4.csv')\n",
    "dataset.loc[dataset['회사명'] == '(주)경윤하이드로에너지']"
   ]
  },
  {
   "cell_type": "markdown",
   "metadata": {},
   "source": [
    "# **회계년도가 짧은 회사 모음**"
   ]
  },
  {
   "cell_type": "code",
   "execution_count": 7,
   "metadata": {},
   "outputs": [
    {
     "data": {
      "text/plain": [
       "[871,\n",
       " 984,\n",
       " 1163,\n",
       " 1324,\n",
       " 1944,\n",
       " 2584,\n",
       " 3029,\n",
       " 3496,\n",
       " 3527,\n",
       " 3980,\n",
       " 4104,\n",
       " 4134,\n",
       " 5918,\n",
       " 6075,\n",
       " 6199,\n",
       " 6329,\n",
       " 6387,\n",
       " 6497,\n",
       " 6543,\n",
       " 6633,\n",
       " 6802,\n",
       " 6830,\n",
       " 7570,\n",
       " 7731,\n",
       " 8279,\n",
       " 8799,\n",
       " 9949,\n",
       " 10811,\n",
       " 11094,\n",
       " 11387,\n",
       " 11459,\n",
       " 11719,\n",
       " 11728,\n",
       " 12330,\n",
       " 14568,\n",
       " 14637,\n",
       " 15321,\n",
       " 15449,\n",
       " 16130,\n",
       " 16185,\n",
       " 16259,\n",
       " 16336,\n",
       " 16502,\n",
       " 17611,\n",
       " 18049,\n",
       " 18068,\n",
       " 18518,\n",
       " 18928,\n",
       " 18973,\n",
       " 19007,\n",
       " 19122,\n",
       " 20385,\n",
       " 20452,\n",
       " 20751,\n",
       " 20770,\n",
       " 20921,\n",
       " 21613,\n",
       " 21643,\n",
       " 21862,\n",
       " 21910,\n",
       " 21989,\n",
       " 22227,\n",
       " 22940,\n",
       " 23475,\n",
       " 23598,\n",
       " 25434,\n",
       " 25714,\n",
       " 26320]"
      ]
     },
     "execution_count": 7,
     "metadata": {},
     "output_type": "execute_result"
    }
   ],
   "source": [
    "cpyname = dataset.loc[dataset['부도'] == 1]['회사명'].unique()\n",
    "\n",
    "shtcpy = [] # 회계기간이 짧은 회사 list\n",
    "shtidx = [] # 회계기간이 짧은 회사의 idx\n",
    "for i in cpyname:\n",
    "    if len(dataset.loc[dataset['회사명'] == i]) < 5:\n",
    "        shtcpy.append(i)\n",
    "for i in shtcpy:\n",
    "    shtidx.append(dataset.loc[dataset['회사명'] == i].index[-1])\n",
    "\n",
    "shtidx"
   ]
  },
  {
   "cell_type": "markdown",
   "metadata": {},
   "source": [
    "# **N년 전 부도 데이터 만들기**"
   ]
  },
  {
   "cell_type": "code",
   "execution_count": 8,
   "metadata": {},
   "outputs": [],
   "source": [
    "num = 1"
   ]
  },
  {
   "cell_type": "code",
   "execution_count": 11,
   "metadata": {},
   "outputs": [
    {
     "name": "stdout",
     "output_type": "stream",
     "text": [
      "871\n",
      "14637\n",
      "19122\n",
      "20452\n",
      "20751\n"
     ]
    }
   ],
   "source": [
    "cpyidx = []\n",
    "bfidx = []\n",
    "for idx_ in dataset.loc[dataset['부도'] == 1].index:\n",
    "    cpyidx.append(idx_)\n",
    "\n",
    "for name in shtidx:\n",
    "    try:\n",
    "        cpyidx.remove(name)\n",
    "    except ValueError:\n",
    "        print(name)\n",
    "        \n",
    "\n",
    "for idx_ in cpyidx:\n",
    "    bfidx.append(idx_ - num)"
   ]
  },
  {
   "cell_type": "code",
   "execution_count": 10,
   "metadata": {},
   "outputs": [],
   "source": [
    "dataset.at[bfidx, '부도'] = 1\n",
    "dataset = dataset.drop(index = cpyidx)"
   ]
  },
  {
   "cell_type": "code",
   "execution_count": 67,
   "metadata": {},
   "outputs": [],
   "source": [
    "dataset.to_csv(r'C:\\Users\\JH\\Desktop\\Final\\Ubion-CorporateBankruptcyAnalysis\\Code\\JH\\data\\ver2\\0years_agostep3.csv',index=False)"
   ]
  },
  {
   "cell_type": "code",
   "execution_count": null,
   "metadata": {},
   "outputs": [],
   "source": [
    "def get_divdf():\n",
    "    cpyidx = []\n",
    "    bfidx = []\n",
    "\n",
    "    for idx_ in dataset.loc[dataset['부도'] == 1].index:\n",
    "        cpyidx.append(idx_)\n",
    "\n",
    "    for name in shtidx:\n",
    "        try:\n",
    "            cpyidx.remove(name)\n",
    "        except ValueError:\n",
    "            print(name)\n",
    "            \n",
    "    for idx_ in cpyidx:\n",
    "        bfidx.append(idx_ - num)"
   ]
  },
  {
   "cell_type": "markdown",
   "metadata": {},
   "source": [
    "# **데이터 클리닝**"
   ]
  },
  {
   "cell_type": "code",
   "execution_count": 31,
   "metadata": {},
   "outputs": [
    {
     "data": {
      "text/plain": [
       "20748    0.0\n",
       "20749    0.0\n",
       "20750    0.0\n",
       "20751    1.0\n",
       "Name: 부도, dtype: float64"
      ]
     },
     "execution_count": 31,
     "metadata": {},
     "output_type": "execute_result"
    }
   ],
   "source": [
    "dataset.loc[dataset['회사명'] == dataset.at[20751, '회사명']]['부도']\n"
   ]
  },
  {
   "cell_type": "code",
   "execution_count": null,
   "metadata": {},
   "outputs": [],
   "source": [
    "871\n",
    "14637\n",
    "19122\n",
    "20452\n",
    "20751"
   ]
  },
  {
   "cell_type": "code",
   "execution_count": 25,
   "metadata": {},
   "outputs": [],
   "source": [
    "dataset.at[20749,'부도'] = 0\n",
    "dataset.at[20751,'부도'] = 1"
   ]
  },
  {
   "cell_type": "code",
   "execution_count": 32,
   "metadata": {},
   "outputs": [],
   "source": [
    "dataset.to_csv(r'C:\\Users\\JH\\Desktop\\Final\\Ubion-CorporateBankruptcyAnalysis\\Data\\최종데이터셋\\finaldataset_ver7.4.csv', index=False)"
   ]
  },
  {
   "cell_type": "code",
   "execution_count": null,
   "metadata": {},
   "outputs": [],
   "source": []
  }
 ],
 "metadata": {
  "interpreter": {
   "hash": "71b59b5ba49ad06bb2a011e750699e3983d230921f30bf7f37eb3a01ae69aa26"
  },
  "kernelspec": {
   "display_name": "Python 3.9.6 64-bit",
   "language": "python",
   "name": "python3"
  },
  "language_info": {
   "codemirror_mode": {
    "name": "ipython",
    "version": 3
   },
   "file_extension": ".py",
   "mimetype": "text/x-python",
   "name": "python",
   "nbconvert_exporter": "python",
   "pygments_lexer": "ipython3",
   "version": "3.9.6"
  },
  "orig_nbformat": 4
 },
 "nbformat": 4,
 "nbformat_minor": 2
}
