{
 "cells": [
  {
   "cell_type": "code",
   "execution_count": 2,
   "metadata": {},
   "outputs": [],
   "source": [
    "import pandas as pd"
   ]
  },
  {
   "cell_type": "code",
   "execution_count": 4,
   "metadata": {},
   "outputs": [],
   "source": [
    "dataset = pd.read_csv(r'C:\\Users\\JH\\Desktop\\Final\\CBA\\Data\\최종데이터셋\\Finaldataset.csv')\n",
    "budo = pd.read_csv(r'C:\\Users\\JH\\Desktop\\Final\\CBA\\Data\\데이터정리중\\시장조치부도판단ver2.csv')"
   ]
  },
  {
   "cell_type": "code",
   "execution_count": 15,
   "metadata": {},
   "outputs": [],
   "source": [
    "dataset['정기공시제목'] = dataset['공시제목_x']\n",
    "dataset['수시공시제목'] = dataset['공시제목_y']"
   ]
  },
  {
   "cell_type": "code",
   "execution_count": 16,
   "metadata": {},
   "outputs": [],
   "source": [
    "dataset.drop(['공시제목_x','공시제목_y'], axis=1, inplace=True)"
   ]
  },
  {
   "cell_type": "code",
   "execution_count": 30,
   "metadata": {},
   "outputs": [],
   "source": [
    "bankrupt = dataset.loc[(dataset['소속코드'] == 4) & ((dataset['감사의견코드'] == 'DS') | (dataset['감사의견코드'] == 'DU') | (dataset['감사의견코드'] == 'AG') | (dataset['감사의견코드'] == 'DI') |\n",
    "(dataset['감사의견코드'] == 'QS') | (dataset['정기공시제목'] != \"0\") | (dataset['수시공시제목'] != \"0\"))][['회사명','소속코드','부도','정기공시제목','수시공시제목','감사의견코드']]"
   ]
  },
  {
   "cell_type": "code",
   "execution_count": 33,
   "metadata": {},
   "outputs": [
    {
     "data": {
      "text/plain": [
       "501"
      ]
     },
     "execution_count": 33,
     "metadata": {},
     "output_type": "execute_result"
    }
   ],
   "source": [
    "len(bankrupt['회사명'].unique())"
   ]
  },
  {
   "cell_type": "code",
   "execution_count": 17,
   "metadata": {},
   "outputs": [
    {
     "data": {
      "text/html": [
       "<div>\n",
       "<style scoped>\n",
       "    .dataframe tbody tr th:only-of-type {\n",
       "        vertical-align: middle;\n",
       "    }\n",
       "\n",
       "    .dataframe tbody tr th {\n",
       "        vertical-align: top;\n",
       "    }\n",
       "\n",
       "    .dataframe thead th {\n",
       "        text-align: right;\n",
       "    }\n",
       "</style>\n",
       "<table border=\"1\" class=\"dataframe\">\n",
       "  <thead>\n",
       "    <tr style=\"text-align: right;\">\n",
       "      <th></th>\n",
       "      <th>회사명</th>\n",
       "      <th>거래소코드</th>\n",
       "      <th>회계년도</th>\n",
       "      <th>소속코드</th>\n",
       "      <th>상장폐지일</th>\n",
       "      <th>자기자본배당률</th>\n",
       "      <th>금융비용 대 부채비율</th>\n",
       "      <th>자기자본배율</th>\n",
       "      <th>유동부채비율</th>\n",
       "      <th>매입채무회전률</th>\n",
       "      <th>...</th>\n",
       "      <th>누적수익성비율</th>\n",
       "      <th>총자산영업이익률</th>\n",
       "      <th>총자산회전율</th>\n",
       "      <th>key</th>\n",
       "      <th>부도</th>\n",
       "      <th>공시발생일</th>\n",
       "      <th>공시제목</th>\n",
       "      <th>text</th>\n",
       "      <th>폐지사유</th>\n",
       "      <th>폐지사유요약</th>\n",
       "    </tr>\n",
       "  </thead>\n",
       "  <tbody>\n",
       "    <tr>\n",
       "      <th>574</th>\n",
       "      <td>(주)나노트로닉스</td>\n",
       "      <td>10670.0</td>\n",
       "      <td>2012/12</td>\n",
       "      <td>4.0</td>\n",
       "      <td>2014/04/11</td>\n",
       "      <td>0.0</td>\n",
       "      <td>0.080710</td>\n",
       "      <td>369.83</td>\n",
       "      <td>102.12</td>\n",
       "      <td>5.62</td>\n",
       "      <td>...</td>\n",
       "      <td>0.027377</td>\n",
       "      <td>0.080339</td>\n",
       "      <td>0.364774</td>\n",
       "      <td>106702013</td>\n",
       "      <td>0.0</td>\n",
       "      <td>0</td>\n",
       "      <td>0</td>\n",
       "      <td>0</td>\n",
       "      <td>0</td>\n",
       "      <td>0</td>\n",
       "    </tr>\n",
       "    <tr>\n",
       "      <th>583</th>\n",
       "      <td>(주)나노하이텍</td>\n",
       "      <td>71360.0</td>\n",
       "      <td>2008/12</td>\n",
       "      <td>4.0</td>\n",
       "      <td>2009/04/29</td>\n",
       "      <td>0.0</td>\n",
       "      <td>0.034642</td>\n",
       "      <td>76.14</td>\n",
       "      <td>181.05</td>\n",
       "      <td>3.71</td>\n",
       "      <td>...</td>\n",
       "      <td>-0.657429</td>\n",
       "      <td>-0.405456</td>\n",
       "      <td>0.656222</td>\n",
       "      <td>713602009</td>\n",
       "      <td>0.0</td>\n",
       "      <td>0</td>\n",
       "      <td>0</td>\n",
       "      <td>0</td>\n",
       "      <td>0</td>\n",
       "      <td>0</td>\n",
       "    </tr>\n",
       "    <tr>\n",
       "      <th>590</th>\n",
       "      <td>(주)나리지*온</td>\n",
       "      <td>36850.0</td>\n",
       "      <td>2006/12</td>\n",
       "      <td>4.0</td>\n",
       "      <td>2010/07/14</td>\n",
       "      <td>0.0</td>\n",
       "      <td>0.055963</td>\n",
       "      <td>167.72</td>\n",
       "      <td>93.11</td>\n",
       "      <td>27.44</td>\n",
       "      <td>...</td>\n",
       "      <td>-0.185122</td>\n",
       "      <td>-0.167348</td>\n",
       "      <td>0.657439</td>\n",
       "      <td>368502007</td>\n",
       "      <td>0.0</td>\n",
       "      <td>0</td>\n",
       "      <td>0</td>\n",
       "      <td>0</td>\n",
       "      <td>0</td>\n",
       "      <td>0</td>\n",
       "    </tr>\n",
       "  </tbody>\n",
       "</table>\n",
       "<p>3 rows × 23 columns</p>\n",
       "</div>"
      ],
      "text/plain": [
       "           회사명    거래소코드     회계년도  소속코드       상장폐지일  자기자본배당률  금융비용 대 부채비율  \\\n",
       "574  (주)나노트로닉스  10670.0  2012/12   4.0  2014/04/11      0.0     0.080710   \n",
       "583   (주)나노하이텍  71360.0  2008/12   4.0  2009/04/29      0.0     0.034642   \n",
       "590   (주)나리지*온  36850.0  2006/12   4.0  2010/07/14      0.0     0.055963   \n",
       "\n",
       "     자기자본배율  유동부채비율  매입채무회전률  ...   누적수익성비율  총자산영업이익률    총자산회전율        key  \\\n",
       "574  369.83  102.12     5.62  ...  0.027377  0.080339  0.364774  106702013   \n",
       "583   76.14  181.05     3.71  ... -0.657429 -0.405456  0.656222  713602009   \n",
       "590  167.72   93.11    27.44  ... -0.185122 -0.167348  0.657439  368502007   \n",
       "\n",
       "      부도  공시발생일  공시제목  text 폐지사유 폐지사유요약  \n",
       "574  0.0      0     0     0    0      0  \n",
       "583  0.0      0     0     0    0      0  \n",
       "590  0.0      0     0     0    0      0  \n",
       "\n",
       "[3 rows x 23 columns]"
      ]
     },
     "execution_count": 17,
     "metadata": {},
     "output_type": "execute_result"
    }
   ],
   "source": [
    "dataset.loc[dataset['부도'] == 0].head(3)"
   ]
  },
  {
   "cell_type": "code",
   "execution_count": 23,
   "metadata": {},
   "outputs": [
    {
     "data": {
      "text/plain": [
       "(50, 23)"
      ]
     },
     "execution_count": 23,
     "metadata": {},
     "output_type": "execute_result"
    }
   ],
   "source": [
    "dataset.loc[dataset['공시제목'] != '0'].shape"
   ]
  },
  {
   "cell_type": "code",
   "execution_count": null,
   "metadata": {},
   "outputs": [],
   "source": []
  }
 ],
 "metadata": {
  "interpreter": {
   "hash": "71b59b5ba49ad06bb2a011e750699e3983d230921f30bf7f37eb3a01ae69aa26"
  },
  "kernelspec": {
   "display_name": "Python 3.9.6 64-bit",
   "language": "python",
   "name": "python3"
  },
  "language_info": {
   "codemirror_mode": {
    "name": "ipython",
    "version": 3
   },
   "file_extension": ".py",
   "mimetype": "text/x-python",
   "name": "python",
   "nbconvert_exporter": "python",
   "pygments_lexer": "ipython3",
   "version": "3.9.6"
  },
  "orig_nbformat": 4
 },
 "nbformat": 4,
 "nbformat_minor": 2
}
