{
 "cells": [
  {
   "cell_type": "code",
   "execution_count": 81,
   "metadata": {},
   "outputs": [],
   "source": [
    "import pandas as pd"
   ]
  },
  {
   "cell_type": "code",
   "execution_count": 82,
   "metadata": {},
   "outputs": [
    {
     "data": {
      "text/html": [
       "<div>\n",
       "<style scoped>\n",
       "    .dataframe tbody tr th:only-of-type {\n",
       "        vertical-align: middle;\n",
       "    }\n",
       "\n",
       "    .dataframe tbody tr th {\n",
       "        vertical-align: top;\n",
       "    }\n",
       "\n",
       "    .dataframe thead th {\n",
       "        text-align: right;\n",
       "    }\n",
       "</style>\n",
       "<table border=\"1\" class=\"dataframe\">\n",
       "  <thead>\n",
       "    <tr style=\"text-align: right;\">\n",
       "      <th></th>\n",
       "      <th>회사명</th>\n",
       "      <th>거래소코드</th>\n",
       "      <th>회계년도</th>\n",
       "      <th>유동비율</th>\n",
       "      <th>당좌비율</th>\n",
       "      <th>유동부채비율</th>\n",
       "      <th>비유동비율</th>\n",
       "      <th>순운전자본비율</th>\n",
       "      <th>부채비율</th>\n",
       "      <th>차입금의존도</th>\n",
       "      <th>...</th>\n",
       "      <th>기타</th>\n",
       "      <th>외국인_주식분포비율</th>\n",
       "      <th>종가</th>\n",
       "      <th>종가변동률</th>\n",
       "      <th>년</th>\n",
       "      <th>key</th>\n",
       "      <th>부도</th>\n",
       "      <th>신종채권_운영</th>\n",
       "      <th>신종채권_시설</th>\n",
       "      <th>신종채권_기타</th>\n",
       "    </tr>\n",
       "  </thead>\n",
       "  <tbody>\n",
       "    <tr>\n",
       "      <th>0</th>\n",
       "      <td>(주)CMG제약</td>\n",
       "      <td>58820.0</td>\n",
       "      <td>2000/12</td>\n",
       "      <td>0.00</td>\n",
       "      <td>0.00</td>\n",
       "      <td>0.00</td>\n",
       "      <td>0.00</td>\n",
       "      <td>0.00</td>\n",
       "      <td>0.00</td>\n",
       "      <td>0.00</td>\n",
       "      <td>...</td>\n",
       "      <td>0.0</td>\n",
       "      <td>0.0</td>\n",
       "      <td>0.0</td>\n",
       "      <td>0.000000</td>\n",
       "      <td>2000.0</td>\n",
       "      <td>588202001.0</td>\n",
       "      <td>0.0</td>\n",
       "      <td>0.0</td>\n",
       "      <td>0.0</td>\n",
       "      <td>0.0</td>\n",
       "    </tr>\n",
       "    <tr>\n",
       "      <th>1</th>\n",
       "      <td>(주)CMG제약</td>\n",
       "      <td>58820.0</td>\n",
       "      <td>2001/12</td>\n",
       "      <td>141.01</td>\n",
       "      <td>19.89</td>\n",
       "      <td>131.99</td>\n",
       "      <td>51.76</td>\n",
       "      <td>22.76</td>\n",
       "      <td>137.88</td>\n",
       "      <td>50.60</td>\n",
       "      <td>...</td>\n",
       "      <td>0.0</td>\n",
       "      <td>0.0</td>\n",
       "      <td>1420.0</td>\n",
       "      <td>-0.633803</td>\n",
       "      <td>2001.0</td>\n",
       "      <td>588202002.0</td>\n",
       "      <td>0.0</td>\n",
       "      <td>0.0</td>\n",
       "      <td>0.0</td>\n",
       "      <td>0.0</td>\n",
       "    </tr>\n",
       "    <tr>\n",
       "      <th>2</th>\n",
       "      <td>(주)CMG제약</td>\n",
       "      <td>58820.0</td>\n",
       "      <td>2002/12</td>\n",
       "      <td>114.21</td>\n",
       "      <td>16.60</td>\n",
       "      <td>132.37</td>\n",
       "      <td>84.50</td>\n",
       "      <td>7.98</td>\n",
       "      <td>135.68</td>\n",
       "      <td>53.16</td>\n",
       "      <td>...</td>\n",
       "      <td>0.0</td>\n",
       "      <td>0.0</td>\n",
       "      <td>520.0</td>\n",
       "      <td>-0.633803</td>\n",
       "      <td>2002.0</td>\n",
       "      <td>588202003.0</td>\n",
       "      <td>0.0</td>\n",
       "      <td>0.0</td>\n",
       "      <td>0.0</td>\n",
       "      <td>0.0</td>\n",
       "    </tr>\n",
       "    <tr>\n",
       "      <th>3</th>\n",
       "      <td>(주)CMG제약</td>\n",
       "      <td>58820.0</td>\n",
       "      <td>2003/12</td>\n",
       "      <td>185.63</td>\n",
       "      <td>23.55</td>\n",
       "      <td>71.46</td>\n",
       "      <td>39.31</td>\n",
       "      <td>35.58</td>\n",
       "      <td>71.96</td>\n",
       "      <td>29.13</td>\n",
       "      <td>...</td>\n",
       "      <td>0.0</td>\n",
       "      <td>0.0</td>\n",
       "      <td>800.0</td>\n",
       "      <td>0.538462</td>\n",
       "      <td>2003.0</td>\n",
       "      <td>588202004.0</td>\n",
       "      <td>0.0</td>\n",
       "      <td>0.0</td>\n",
       "      <td>0.0</td>\n",
       "      <td>0.0</td>\n",
       "    </tr>\n",
       "    <tr>\n",
       "      <th>4</th>\n",
       "      <td>(주)CMG제약</td>\n",
       "      <td>58820.0</td>\n",
       "      <td>2004/12</td>\n",
       "      <td>149.73</td>\n",
       "      <td>17.11</td>\n",
       "      <td>101.56</td>\n",
       "      <td>50.23</td>\n",
       "      <td>24.97</td>\n",
       "      <td>102.30</td>\n",
       "      <td>29.59</td>\n",
       "      <td>...</td>\n",
       "      <td>0.0</td>\n",
       "      <td>0.0</td>\n",
       "      <td>550.0</td>\n",
       "      <td>-0.312500</td>\n",
       "      <td>2004.0</td>\n",
       "      <td>588202005.0</td>\n",
       "      <td>0.0</td>\n",
       "      <td>0.0</td>\n",
       "      <td>0.0</td>\n",
       "      <td>0.0</td>\n",
       "    </tr>\n",
       "  </tbody>\n",
       "</table>\n",
       "<p>5 rows × 84 columns</p>\n",
       "</div>"
      ],
      "text/plain": [
       "        회사명    거래소코드     회계년도    유동비율   당좌비율  유동부채비율  비유동비율  순운전자본비율    부채비율  \\\n",
       "0  (주)CMG제약  58820.0  2000/12    0.00   0.00    0.00   0.00     0.00    0.00   \n",
       "1  (주)CMG제약  58820.0  2001/12  141.01  19.89  131.99  51.76    22.76  137.88   \n",
       "2  (주)CMG제약  58820.0  2002/12  114.21  16.60  132.37  84.50     7.98  135.68   \n",
       "3  (주)CMG제약  58820.0  2003/12  185.63  23.55   71.46  39.31    35.58   71.96   \n",
       "4  (주)CMG제약  58820.0  2004/12  149.73  17.11  101.56  50.23    24.97  102.30   \n",
       "\n",
       "   차입금의존도  ...   기타  외국인_주식분포비율      종가     종가변동률       년          key   부도  \\\n",
       "0    0.00  ...  0.0         0.0     0.0  0.000000  2000.0  588202001.0  0.0   \n",
       "1   50.60  ...  0.0         0.0  1420.0 -0.633803  2001.0  588202002.0  0.0   \n",
       "2   53.16  ...  0.0         0.0   520.0 -0.633803  2002.0  588202003.0  0.0   \n",
       "3   29.13  ...  0.0         0.0   800.0  0.538462  2003.0  588202004.0  0.0   \n",
       "4   29.59  ...  0.0         0.0   550.0 -0.312500  2004.0  588202005.0  0.0   \n",
       "\n",
       "   신종채권_운영  신종채권_시설  신종채권_기타  \n",
       "0      0.0      0.0      0.0  \n",
       "1      0.0      0.0      0.0  \n",
       "2      0.0      0.0      0.0  \n",
       "3      0.0      0.0      0.0  \n",
       "4      0.0      0.0      0.0  \n",
       "\n",
       "[5 rows x 84 columns]"
      ]
     },
     "execution_count": 82,
     "metadata": {},
     "output_type": "execute_result"
    }
   ],
   "source": [
    "dataset = pd.read_csv(r'C:\\Users\\JH\\Desktop\\Final\\Ubion-CorporateBankruptcyAnalysis\\Data\\최종데이터셋\\finaldataset_ver7.6.1.csv')\n",
    "subset = pd.read_csv(r'C:\\Users\\JH\\Desktop\\Final\\Ubion-CorporateBankruptcyAnalysis\\Data\\최종데이터셋\\finaldataset_ver6.csv',encoding='cp949')\n",
    "dataset.head(5)"
   ]
  },
  {
   "cell_type": "code",
   "execution_count": 83,
   "metadata": {},
   "outputs": [
    {
     "data": {
      "text/plain": [
       "0.0    26415\n",
       "1.0      417\n",
       "Name: 부도, dtype: int64"
      ]
     },
     "execution_count": 83,
     "metadata": {},
     "output_type": "execute_result"
    }
   ],
   "source": [
    "dataset['부도'].value_counts()"
   ]
  },
  {
   "cell_type": "markdown",
   "metadata": {},
   "source": [
    "# **추가 처리 목록**\n",
    "\n",
    "- (주)네프로아이티\t계속성 상폐\n",
    "- 135\t(주)알에스넷\t계속성 상폐\n",
    "- 148\t(주)에스브이에이치\t계속성 상폐\n",
    "- 159\t(주)에이치앤아이\t코넥스\n",
    "- 178\t(주)엘피케이로보틱스\t감사의견 부적정\n",
    "- 191\t(주)웨스테이트디벨롭먼트\t정상기업 처리\n",
    "- 212\t(주)이푸른\t코넥스\n",
    "- 223\t(주)제이에스피브이 코넥스\t\n",
    "- 248\t(주)캐로스\t코넥스\n",
    "- 294\t(주)프리젠\t5년도 연속손실\n",
    "- 300\t(주)피엠에스\t코넥스\n",
    "- 312\t(주)한진피앤씨\t피인수\n",
    "- 315\t(주)행남사\t파산 및 계속성\n",
    "- 324\t(주)휴먼이노텍\t감사의견\n",
    "- 339\t덴소풍성(주) 정상처리\n",
    "- 343\t디와이엘엔제이(주)\t코넥스\n",
    "- 363\t아스팩오일(주)\t코넥스"
   ]
  },
  {
   "cell_type": "markdown",
   "metadata": {},
   "source": [
    "## **코넥스 기업 제거**"
   ]
  },
  {
   "cell_type": "code",
   "execution_count": 84,
   "metadata": {},
   "outputs": [],
   "source": [
    "# 에이치앤아이\n",
    "dataset = dataset.drop(index=dataset.loc[dataset['회사명'] == '(주)에이치앤아이'].index)"
   ]
  },
  {
   "cell_type": "code",
   "execution_count": 85,
   "metadata": {},
   "outputs": [],
   "source": [
    "# 제이에스피브이\n",
    "dataset = dataset.drop(index=dataset.loc[dataset['회사명'] == '(주)제이에스피브이'].index)"
   ]
  },
  {
   "cell_type": "code",
   "execution_count": 86,
   "metadata": {},
   "outputs": [],
   "source": [
    "dataset = dataset.drop(index=dataset.loc[dataset['회사명'] == '(주)이푸른'].index)"
   ]
  },
  {
   "cell_type": "code",
   "execution_count": 87,
   "metadata": {},
   "outputs": [],
   "source": [
    "dataset = dataset.drop(index=dataset.loc[dataset['회사명'] == '(주)캐로스'].index)"
   ]
  },
  {
   "cell_type": "code",
   "execution_count": 88,
   "metadata": {},
   "outputs": [],
   "source": [
    "dataset = dataset.drop(index=dataset.loc[dataset['회사명'] == '(주)피엠에스'].index)"
   ]
  },
  {
   "cell_type": "code",
   "execution_count": 89,
   "metadata": {},
   "outputs": [],
   "source": [
    "dataset = dataset.drop(index=dataset.loc[dataset['회사명'] == '디와이엘엔제이(주)'].index)"
   ]
  },
  {
   "cell_type": "code",
   "execution_count": 90,
   "metadata": {},
   "outputs": [],
   "source": [
    "dataset = dataset.drop(index=dataset.loc[dataset['회사명'] == '아스팩오일(주)'].index)"
   ]
  },
  {
   "cell_type": "code",
   "execution_count": 91,
   "metadata": {},
   "outputs": [],
   "source": [
    "dataset.reset_index(inplace=True, drop= True)"
   ]
  },
  {
   "cell_type": "markdown",
   "metadata": {},
   "source": [
    "## **그 외 작업**\n"
   ]
  },
  {
   "cell_type": "markdown",
   "metadata": {},
   "source": [
    "### **정상기업 처리**\n",
    "\n",
    "- 191\t(주)웨스테이트디벨롭먼트\t정상기업 처리\n",
    "- 339\t덴소풍성(주) 정상처리\n",
    "- 312\t(주)한진피앤씨\t피인수"
   ]
  },
  {
   "cell_type": "code",
   "execution_count": 92,
   "metadata": {},
   "outputs": [],
   "source": [
    "dataset.loc[dataset['회사명']=='덴소풍성(주)']\n",
    "dataset.at[20411,'부도'] = 0"
   ]
  },
  {
   "cell_type": "code",
   "execution_count": 93,
   "metadata": {},
   "outputs": [],
   "source": [
    "dataset.loc[dataset['회사명']=='(주)웨스테이트디벨롭먼트']\n",
    "dataset.at[11395,'부도'] = 0"
   ]
  },
  {
   "cell_type": "code",
   "execution_count": 94,
   "metadata": {},
   "outputs": [],
   "source": [
    "dataset.loc[dataset['회사명'] == '(주)한진피앤씨']\n",
    "dataset.at[18532,'부도'] = 0\n"
   ]
  },
  {
   "cell_type": "markdown",
   "metadata": {},
   "source": [
    "### **부도 설정**\n",
    "\n",
    "- (주)네프로아이티\t계속성 상폐\n",
    "- 135\t(주)알에스넷\t계속성 상폐\n",
    "- 148\t(주)에스브이에이치\t계속성 상폐\n",
    "- 178\t(주)엘피케이로보틱스\t감사의견 부적정\n",
    "- 294\t(주)프리젠\t5년도 연속손실\n",
    "- 315\t(주)행남사\t파산 및 계속성\n",
    "- 324\t(주)휴먼이노텍\t감사의견"
   ]
  },
  {
   "cell_type": "code",
   "execution_count": 95,
   "metadata": {},
   "outputs": [
    {
     "data": {
      "text/plain": [
       "869    0.0\n",
       "870    1.0\n",
       "871    0.0\n",
       "Name: 부도, dtype: float64"
      ]
     },
     "execution_count": 95,
     "metadata": {},
     "output_type": "execute_result"
    }
   ],
   "source": [
    "dataset.loc[dataset['회사명']=='(주)네프로아이티']['부도']"
   ]
  },
  {
   "cell_type": "code",
   "execution_count": 96,
   "metadata": {},
   "outputs": [
    {
     "data": {
      "text/plain": [
       "8039    0.0\n",
       "8040    0.0\n",
       "8041    0.0\n",
       "8042    0.0\n",
       "8043    0.0\n",
       "8044    0.0\n",
       "8045    0.0\n",
       "8046    0.0\n",
       "8047    0.0\n",
       "8048    1.0\n",
       "8049    0.0\n",
       "Name: 부도, dtype: float64"
      ]
     },
     "execution_count": 96,
     "metadata": {},
     "output_type": "execute_result"
    }
   ],
   "source": [
    "dataset.loc[dataset['회사명']=='(주)알에스넷']['부도']"
   ]
  },
  {
   "cell_type": "code",
   "execution_count": 97,
   "metadata": {},
   "outputs": [
    {
     "data": {
      "text/plain": [
       "8434    0.0\n",
       "8435    0.0\n",
       "8436    0.0\n",
       "8437    0.0\n",
       "8438    1.0\n",
       "8439    0.0\n",
       "8440    0.0\n",
       "8441    0.0\n",
       "8442    0.0\n",
       "8443    0.0\n",
       "Name: 부도, dtype: float64"
      ]
     },
     "execution_count": 97,
     "metadata": {},
     "output_type": "execute_result"
    }
   ],
   "source": [
    "dataset.loc[dataset['회사명']=='(주)에스브이에이치']['부도']"
   ]
  },
  {
   "cell_type": "code",
   "execution_count": 98,
   "metadata": {},
   "outputs": [
    {
     "data": {
      "text/plain": [
       "10148    0.0\n",
       "10149    0.0\n",
       "10150    0.0\n",
       "10151    0.0\n",
       "10152    0.0\n",
       "10153    1.0\n",
       "10154    0.0\n",
       "Name: 부도, dtype: float64"
      ]
     },
     "execution_count": 98,
     "metadata": {},
     "output_type": "execute_result"
    }
   ],
   "source": [
    "dataset.loc[dataset['회사명']=='(주)엘피케이로보틱스']['부도']"
   ]
  },
  {
   "cell_type": "code",
   "execution_count": 99,
   "metadata": {},
   "outputs": [
    {
     "data": {
      "text/plain": [
       "17679    0.0\n",
       "17680    0.0\n",
       "17681    0.0\n",
       "17682    0.0\n",
       "17683    0.0\n",
       "17684    0.0\n",
       "17685    0.0\n",
       "17686    0.0\n",
       "17687    0.0\n",
       "17688    0.0\n",
       "17689    0.0\n",
       "17690    0.0\n",
       "17691    1.0\n",
       "17692    0.0\n",
       "17693    0.0\n",
       "17694    0.0\n",
       "Name: 부도, dtype: float64"
      ]
     },
     "execution_count": 99,
     "metadata": {},
     "output_type": "execute_result"
    }
   ],
   "source": [
    "dataset.loc[dataset['회사명']=='(주)프리젠']['부도']"
   ]
  },
  {
   "cell_type": "code",
   "execution_count": 100,
   "metadata": {},
   "outputs": [
    {
     "data": {
      "text/plain": [
       "18710    0.0\n",
       "18711    0.0\n",
       "18712    0.0\n",
       "18713    0.0\n",
       "18714    0.0\n",
       "18715    0.0\n",
       "18716    0.0\n",
       "18717    0.0\n",
       "18718    0.0\n",
       "18719    0.0\n",
       "18720    0.0\n",
       "18721    0.0\n",
       "18722    0.0\n",
       "18723    0.0\n",
       "18724    0.0\n",
       "18725    0.0\n",
       "18726    1.0\n",
       "18727    0.0\n",
       "18728    0.0\n",
       "18729    0.0\n",
       "18730    0.0\n",
       "Name: 부도, dtype: float64"
      ]
     },
     "execution_count": 100,
     "metadata": {},
     "output_type": "execute_result"
    }
   ],
   "source": [
    "dataset.loc[dataset['회사명']=='(주)행남사']['부도']"
   ]
  },
  {
   "cell_type": "code",
   "execution_count": 101,
   "metadata": {},
   "outputs": [
    {
     "data": {
      "text/plain": [
       "19081    1.0\n",
       "19082    0.0\n",
       "Name: 부도, dtype: float64"
      ]
     },
     "execution_count": 101,
     "metadata": {},
     "output_type": "execute_result"
    }
   ],
   "source": [
    "dataset.loc[dataset['회사명']=='(주)휴먼이노텍']['부도']"
   ]
  },
  {
   "cell_type": "code",
   "execution_count": 102,
   "metadata": {},
   "outputs": [],
   "source": [
    "idx_bf = [870, 8048, 8438,10153,17691,18726,19081]\n",
    "idx_at = [871, 8049, 8443,10154,17694,18730,19082]"
   ]
  },
  {
   "cell_type": "code",
   "execution_count": 103,
   "metadata": {},
   "outputs": [],
   "source": [
    "dataset.at[idx_bf, '부도'] = 0\n",
    "dataset.at[idx_at, '부도'] = 1"
   ]
  },
  {
   "cell_type": "code",
   "execution_count": 118,
   "metadata": {},
   "outputs": [],
   "source": [
    "dataset.loc[dataset['회사명'] == '(주)썬테크놀로지스']\n",
    "\n",
    "dataset.at[6671,'부도'] = 0"
   ]
  },
  {
   "cell_type": "code",
   "execution_count": 119,
   "metadata": {},
   "outputs": [
    {
     "data": {
      "text/plain": [
       "0.0    26385\n",
       "1.0      406\n",
       "Name: 부도, dtype: int64"
      ]
     },
     "execution_count": 119,
     "metadata": {},
     "output_type": "execute_result"
    }
   ],
   "source": [
    "dataset['부도'].value_counts()"
   ]
  },
  {
   "cell_type": "code",
   "execution_count": 120,
   "metadata": {},
   "outputs": [
    {
     "data": {
      "text/plain": [
       "1986"
      ]
     },
     "execution_count": 120,
     "metadata": {},
     "output_type": "execute_result"
    }
   ],
   "source": [
    "len(dataset.loc[dataset['부도'] == 0]['회사명'].unique())"
   ]
  },
  {
   "cell_type": "code",
   "execution_count": 121,
   "metadata": {},
   "outputs": [
    {
     "data": {
      "text/plain": [
       "406"
      ]
     },
     "execution_count": 121,
     "metadata": {},
     "output_type": "execute_result"
    }
   ],
   "source": [
    "len(dataset.loc[dataset['부도'] == 1]['회사명'].unique())"
   ]
  },
  {
   "cell_type": "code",
   "execution_count": 122,
   "metadata": {},
   "outputs": [],
   "source": [
    "dataset.to_csv(r'C:\\Users\\JH\\Desktop\\Final\\Ubion-CorporateBankruptcyAnalysis\\Data\\최종데이터셋\\finaldataset_ver7.6.2.csv', index=False)"
   ]
  },
  {
   "cell_type": "code",
   "execution_count": null,
   "metadata": {},
   "outputs": [],
   "source": []
  }
 ],
 "metadata": {
  "interpreter": {
   "hash": "71b59b5ba49ad06bb2a011e750699e3983d230921f30bf7f37eb3a01ae69aa26"
  },
  "kernelspec": {
   "display_name": "Python 3.9.6 64-bit",
   "language": "python",
   "name": "python3"
  },
  "language_info": {
   "codemirror_mode": {
    "name": "ipython",
    "version": 3
   },
   "file_extension": ".py",
   "mimetype": "text/x-python",
   "name": "python",
   "nbconvert_exporter": "python",
   "pygments_lexer": "ipython3",
   "version": "3.9.6"
  },
  "orig_nbformat": 4
 },
 "nbformat": 4,
 "nbformat_minor": 2
}
