{
 "cells": [
  {
   "cell_type": "code",
   "execution_count": 6,
   "metadata": {},
   "outputs": [],
   "source": [
    "from nltk.tokenize import sent_tokenize"
   ]
  },
  {
   "cell_type": "code",
   "execution_count": 23,
   "metadata": {},
   "outputs": [],
   "source": [
    "import pandas as pd\n",
    "\n",
    "dataset = pd.read_csv(r'C:\\Users\\JH\\Desktop\\Final\\CBA\\Code\\JH\\data\\0020공시19.csv', index_col=0)"
   ]
  },
  {
   "cell_type": "code",
   "execution_count": 24,
   "metadata": {},
   "outputs": [
    {
     "data": {
      "text/html": [
       "<div>\n",
       "<style scoped>\n",
       "    .dataframe tbody tr th:only-of-type {\n",
       "        vertical-align: middle;\n",
       "    }\n",
       "\n",
       "    .dataframe tbody tr th {\n",
       "        vertical-align: top;\n",
       "    }\n",
       "\n",
       "    .dataframe thead th {\n",
       "        text-align: right;\n",
       "    }\n",
       "</style>\n",
       "<table border=\"1\" class=\"dataframe\">\n",
       "  <thead>\n",
       "    <tr style=\"text-align: right;\">\n",
       "      <th></th>\n",
       "      <th>회사명</th>\n",
       "      <th>거래소코드</th>\n",
       "      <th>공시발생일</th>\n",
       "      <th>text</th>\n",
       "      <th>link</th>\n",
       "    </tr>\n",
       "  </thead>\n",
       "  <tbody>\n",
       "    <tr>\n",
       "      <th>0</th>\n",
       "      <td>미성포리테크</td>\n",
       "      <td>94700</td>\n",
       "      <td>2011-12-02 17:02</td>\n",
       "      <td>\\n\\n\\n\\n\\n\\n:: 70344_사채 원리금 미지급 발생\\n\\n\\n\\n\\n\\n...</td>\n",
       "      <td>https://kind.krx.co.kr/external/2011/12/02/000...</td>\n",
       "    </tr>\n",
       "    <tr>\n",
       "      <th>1</th>\n",
       "      <td>엔스퍼트</td>\n",
       "      <td>98400</td>\n",
       "      <td>2011-11-30 16:25</td>\n",
       "      <td>\\n\\n\\n\\n\\n\\n:: 70344_사채 원리금 미지급 발생\\n\\n\\n\\n\\n\\n...</td>\n",
       "      <td>https://kind.krx.co.kr/external/2011/11/30/000...</td>\n",
       "    </tr>\n",
       "    <tr>\n",
       "      <th>2</th>\n",
       "      <td>릭스솔루션</td>\n",
       "      <td>29480</td>\n",
       "      <td>2011-07-06 16:45</td>\n",
       "      <td>\\n\\n\\n\\n\\n\\n:: 70344_사채 원리금 미지급 발생\\n\\n\\n\\n\\n\\n...</td>\n",
       "      <td>https://kind.krx.co.kr/external/2011/07/06/000...</td>\n",
       "    </tr>\n",
       "    <tr>\n",
       "      <th>3</th>\n",
       "      <td>엘앤피아너스</td>\n",
       "      <td>61140</td>\n",
       "      <td>2011-06-21 07:19</td>\n",
       "      <td>\\n\\n\\n\\n\\n\\n:: 70344_사채 원리금 미지급 발생\\n\\n\\n\\n\\n\\n...</td>\n",
       "      <td>https://kind.krx.co.kr/external/2011/06/21/000...</td>\n",
       "    </tr>\n",
       "    <tr>\n",
       "      <th>4</th>\n",
       "      <td>엘앤피아너스</td>\n",
       "      <td>61140</td>\n",
       "      <td>2011-06-21 07:19</td>\n",
       "      <td>\\n\\n\\n\\n\\n\\n:: 70344_사채 원리금 미지급 발생\\n\\n\\n\\n\\n\\n...</td>\n",
       "      <td>https://kind.krx.co.kr/external/2011/06/21/000...</td>\n",
       "    </tr>\n",
       "    <tr>\n",
       "      <th>...</th>\n",
       "      <td>...</td>\n",
       "      <td>...</td>\n",
       "      <td>...</td>\n",
       "      <td>...</td>\n",
       "      <td>...</td>\n",
       "    </tr>\n",
       "    <tr>\n",
       "      <th>145</th>\n",
       "      <td>지디</td>\n",
       "      <td>155960</td>\n",
       "      <td>2018-08-13 18:00</td>\n",
       "      <td>\\n\\n\\n\\n\\n\\n:: 70345_대출원리금 연체사실 발생\\n\\n\\n\\n\\n\\n...</td>\n",
       "      <td>https://kind.krx.co.kr/external/2018/08/13/000...</td>\n",
       "    </tr>\n",
       "    <tr>\n",
       "      <th>146</th>\n",
       "      <td>상상인인더스트리</td>\n",
       "      <td>101000</td>\n",
       "      <td>2018-07-09 15:56</td>\n",
       "      <td>\\n\\n\\n\\n\\n\\n:: 70345_대출원리금 연체사실 발생\\n\\n\\n\\n\\n\\n...</td>\n",
       "      <td>https://kind.krx.co.kr/external/2018/07/09/000...</td>\n",
       "    </tr>\n",
       "    <tr>\n",
       "      <th>147</th>\n",
       "      <td>상상인인더스트리</td>\n",
       "      <td>101000</td>\n",
       "      <td>2018-07-04 17:03</td>\n",
       "      <td>\\n\\n\\n\\n\\n\\n:: 70345_대출원리금 연체사실 발생\\n\\n\\n\\n\\n\\n...</td>\n",
       "      <td>https://kind.krx.co.kr/external/2018/07/04/000...</td>\n",
       "    </tr>\n",
       "    <tr>\n",
       "      <th>148</th>\n",
       "      <td>신텍</td>\n",
       "      <td>99660</td>\n",
       "      <td>2018-06-26 07:10</td>\n",
       "      <td>\\n\\n\\n\\n\\n\\n:: 70345_대출원리금 연체사실 발생\\n\\n\\n\\n\\n\\n...</td>\n",
       "      <td>https://kind.krx.co.kr/external/2018/06/26/000...</td>\n",
       "    </tr>\n",
       "    <tr>\n",
       "      <th>149</th>\n",
       "      <td>신텍</td>\n",
       "      <td>99660</td>\n",
       "      <td>2018-06-12 07:05</td>\n",
       "      <td>\\n\\n\\n\\n\\n\\n:: 70345_대출원리금 연체사실 발생\\n\\n\\n\\n\\n\\n...</td>\n",
       "      <td>https://kind.krx.co.kr/external/2018/06/12/000...</td>\n",
       "    </tr>\n",
       "  </tbody>\n",
       "</table>\n",
       "<p>150 rows × 5 columns</p>\n",
       "</div>"
      ],
      "text/plain": [
       "          회사명   거래소코드             공시발생일  \\\n",
       "0      미성포리테크   94700  2011-12-02 17:02   \n",
       "1        엔스퍼트   98400  2011-11-30 16:25   \n",
       "2       릭스솔루션   29480  2011-07-06 16:45   \n",
       "3      엘앤피아너스   61140  2011-06-21 07:19   \n",
       "4      엘앤피아너스   61140  2011-06-21 07:19   \n",
       "..        ...     ...               ...   \n",
       "145        지디  155960  2018-08-13 18:00   \n",
       "146  상상인인더스트리  101000  2018-07-09 15:56   \n",
       "147  상상인인더스트리  101000  2018-07-04 17:03   \n",
       "148        신텍   99660  2018-06-26 07:10   \n",
       "149        신텍   99660  2018-06-12 07:05   \n",
       "\n",
       "                                                  text  \\\n",
       "0    \\n\\n\\n\\n\\n\\n:: 70344_사채 원리금 미지급 발생\\n\\n\\n\\n\\n\\n...   \n",
       "1    \\n\\n\\n\\n\\n\\n:: 70344_사채 원리금 미지급 발생\\n\\n\\n\\n\\n\\n...   \n",
       "2    \\n\\n\\n\\n\\n\\n:: 70344_사채 원리금 미지급 발생\\n\\n\\n\\n\\n\\n...   \n",
       "3    \\n\\n\\n\\n\\n\\n:: 70344_사채 원리금 미지급 발생\\n\\n\\n\\n\\n\\n...   \n",
       "4    \\n\\n\\n\\n\\n\\n:: 70344_사채 원리금 미지급 발생\\n\\n\\n\\n\\n\\n...   \n",
       "..                                                 ...   \n",
       "145  \\n\\n\\n\\n\\n\\n:: 70345_대출원리금 연체사실 발생\\n\\n\\n\\n\\n\\n...   \n",
       "146  \\n\\n\\n\\n\\n\\n:: 70345_대출원리금 연체사실 발생\\n\\n\\n\\n\\n\\n...   \n",
       "147  \\n\\n\\n\\n\\n\\n:: 70345_대출원리금 연체사실 발생\\n\\n\\n\\n\\n\\n...   \n",
       "148  \\n\\n\\n\\n\\n\\n:: 70345_대출원리금 연체사실 발생\\n\\n\\n\\n\\n\\n...   \n",
       "149  \\n\\n\\n\\n\\n\\n:: 70345_대출원리금 연체사실 발생\\n\\n\\n\\n\\n\\n...   \n",
       "\n",
       "                                                  link  \n",
       "0    https://kind.krx.co.kr/external/2011/12/02/000...  \n",
       "1    https://kind.krx.co.kr/external/2011/11/30/000...  \n",
       "2    https://kind.krx.co.kr/external/2011/07/06/000...  \n",
       "3    https://kind.krx.co.kr/external/2011/06/21/000...  \n",
       "4    https://kind.krx.co.kr/external/2011/06/21/000...  \n",
       "..                                                 ...  \n",
       "145  https://kind.krx.co.kr/external/2018/08/13/000...  \n",
       "146  https://kind.krx.co.kr/external/2018/07/09/000...  \n",
       "147  https://kind.krx.co.kr/external/2018/07/04/000...  \n",
       "148  https://kind.krx.co.kr/external/2018/06/26/000...  \n",
       "149  https://kind.krx.co.kr/external/2018/06/12/000...  \n",
       "\n",
       "[150 rows x 5 columns]"
      ]
     },
     "execution_count": 24,
     "metadata": {},
     "output_type": "execute_result"
    }
   ],
   "source": [
    "dataset "
   ]
  },
  {
   "cell_type": "code",
   "execution_count": 9,
   "metadata": {},
   "outputs": [],
   "source": [
    "tokenizer = sent_tokenize(dataset['text'][1])"
   ]
  },
  {
   "cell_type": "code",
   "execution_count": 19,
   "metadata": {},
   "outputs": [
    {
     "data": {
      "text/plain": [
       "['\\n\\n\\n\\n\\n\\n:: 70057_횡령ㆍ배임 혐의 진행사항\\n\\n\\n\\n\\n\\n\\n\\n\\n횡령ㆍ배임 혐의 진행사항\\n\\n\\n\\n\\n\\n\\n\\n\\n1.',\n",
       " '사고발생내용\\n\\n\\n당사 전직 임원의 특정경제범죄가중처벌등에관한법률위반(사기,횡령) 등에 대한 서울고등법원의 2심 판결 내용 입니다.',\n",
       " '1.',\n",
       " '판결내용\\n         \\xa0\\xa0가.',\n",
       " '노선봉 (전 대표이사): 징역3년,\\n         \\xa0\\xa0 \\xa0 \\xa0 \\xa0 \\xa0 \\xa0 \\xa0 \\xa0 \\xa0 \\xa0 \\xa0 \\xa0 \\xa0 \\xa0집행유예5년\\n         \\xa0\\xa0 \\xa0 \\xa0 \\xa0 \\xa0 \\xa0 \\xa0 \\xa0 \\xa0 \\xa0 \\xa0 \\xa0 \\xa0 \\xa0사회봉사 120시간\\n         \\xa0\\xa0나.',\n",
       " '이종석 (전 부사장): 징역3년,\\n         \\xa0\\xa0 \\xa0 \\xa0 \\xa0 \\xa0 \\xa0 \\xa0 \\xa0 \\xa0 \\xa0 \\xa0 \\xa0 \\xa0집행유예5년\\n         \\xa0\\xa0 \\xa0 \\xa0 \\xa0 \\xa0 \\xa0 \\xa0 \\xa0 \\xa0 \\xa0 \\xa0 \\xa0 \\xa0사회봉사 120시간 \\xa0\\n         2.',\n",
       " '판결선고일 : 2017년 12월 21일\\n\\n\\n\\n\\n2.',\n",
       " '횡령 등 관련사항\\n\\n\\n발생금액(원)\\n\\n\\n1,155,000,000\\n\\n\\n\\n\\n자기자본(원)\\n\\n\\n32,870,757,725\\n\\n\\n\\n\\n자기자본대비(%)\\n\\n\\n3.51\\n\\n\\n\\n\\n대기업해당여부\\n\\n\\n미해당\\n\\n\\n\\n\\n최초 공시일자\\n\\n\\n2017-06-19\\n\\n\\n\\n\\n3.',\n",
       " '진행사항\\n\\n\\n1.',\n",
       " '서울지방법원 1심 판결 결과\\n         \\xa0(1) 판결선고일 : 2017년 6월 14일\\n         \\xa0(2) 판결내용\\n         \\xa0\\xa0 가.',\n",
       " '노선봉 (전 대표이사): 징역3년,\\n         \\xa0\\xa0 \\xa0 \\xa0 \\xa0 \\xa0 \\xa0 \\xa0 \\xa0 \\xa0 \\xa0 \\xa0 \\xa0 \\xa0 \\xa0 집행유예5년\\n         \\xa0\\xa0 \\xa0 \\xa0 \\xa0 \\xa0 \\xa0 \\xa0 \\xa0 \\xa0 \\xa0 \\xa0 \\xa0 \\xa0 \\xa0 사회봉사 120시간\\n         \\xa0\\xa0 나.',\n",
       " '이종석 (전 부사장): 징역3년,\\n         \\xa0\\xa0 \\xa0 \\xa0 \\xa0 \\xa0 \\xa0 \\xa0 \\xa0 \\xa0 \\xa0 \\xa0 \\xa0 \\xa0 집행유예5년\\n         \\xa0\\xa0 \\xa0 \\xa0 \\xa0 \\xa0 \\xa0 \\xa0 \\xa0 \\xa0 \\xa0 \\xa0 \\xa0 \\xa0 사회봉사 120시간\\n         2.',\n",
       " '서울고등법원 2심 판결 결과 \\xa0\\n         \\xa0\\xa0(1) 판결선고일 : 2017년 12월 21일\\n         \\xa0\\xa0(2) 판결내용\\n         \\xa0\\xa0 가.',\n",
       " '노선봉 (전 대표이사): 징역3년,\\n         \\xa0\\xa0 \\xa0 \\xa0 \\xa0 \\xa0 \\xa0 \\xa0 \\xa0 \\xa0 \\xa0 \\xa0 \\xa0 \\xa0 \\xa0 집행유예5년\\n         \\xa0\\xa0 \\xa0 \\xa0 \\xa0 \\xa0 \\xa0 \\xa0 \\xa0 \\xa0 \\xa0 \\xa0 \\xa0 \\xa0 \\xa0 사회봉사 120시간\\n         \\xa0\\xa0 나.',\n",
       " '이종석 (전 부사장): 징역3년,\\n         \\xa0\\xa0 \\xa0 \\xa0 \\xa0 \\xa0 \\xa0 \\xa0 \\xa0 \\xa0 \\xa0 \\xa0 \\xa0 \\xa0 집행유예5년\\n         \\xa0\\xa0 \\xa0 \\xa0 \\xa0 \\xa0 \\xa0 \\xa0 \\xa0 \\xa0 \\xa0 \\xa0 \\xa0 \\xa0 사회봉사 120시간\\n\\n\\n\\n\\n4.',\n",
       " '진행사항 확인일자\\n\\n\\n2017-12-22\\n\\n\\n\\n\\n5.',\n",
       " '기타 투자판단에 참고할 사항\\n\\n\\n- 상기 내용은 서울고등법원의 2심 판결에 따른 것이며, 향후 항소심 결과에 따라 변동될 수 있습니다.',\n",
       " '- 상기 자기자본은 2015년말 별도재무제표 기준 입니다.',\n",
       " '- 당사는 본 사건과 관련하여 상기 발생금액 전액을 회수 완료 하였습니다.',\n",
       " '- 상기 확인일자는 판결문을 수령한 날자 입니다.',\n",
       " '※ 관련공시\\n\\n\\n\\n2017-06-19 횡령ㆍ배임사실확인']"
      ]
     },
     "execution_count": 19,
     "metadata": {},
     "output_type": "execute_result"
    }
   ],
   "source": [
    "tokenizer"
   ]
  },
  {
   "cell_type": "code",
   "execution_count": 17,
   "metadata": {},
   "outputs": [
    {
     "data": {
      "text/plain": [
       "':: 70057_횡령ㆍ배임 혐의 진행사항횡령ㆍ배임 혐의 진행사항1.'"
      ]
     },
     "execution_count": 17,
     "metadata": {},
     "output_type": "execute_result"
    }
   ],
   "source": [
    "tokenizer[0].replace('\\n','')"
   ]
  },
  {
   "cell_type": "code",
   "execution_count": null,
   "metadata": {},
   "outputs": [],
   "source": []
  }
 ],
 "metadata": {
  "interpreter": {
   "hash": "71b59b5ba49ad06bb2a011e750699e3983d230921f30bf7f37eb3a01ae69aa26"
  },
  "kernelspec": {
   "display_name": "Python 3.9.6 64-bit",
   "language": "python",
   "name": "python3"
  },
  "language_info": {
   "codemirror_mode": {
    "name": "ipython",
    "version": 3
   },
   "file_extension": ".py",
   "mimetype": "text/x-python",
   "name": "python",
   "nbconvert_exporter": "python",
   "pygments_lexer": "ipython3",
   "version": "3.9.6"
  },
  "orig_nbformat": 4
 },
 "nbformat": 4,
 "nbformat_minor": 2
}
