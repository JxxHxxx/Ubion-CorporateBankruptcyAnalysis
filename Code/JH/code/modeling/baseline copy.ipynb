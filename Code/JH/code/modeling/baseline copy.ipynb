{
 "cells": [
  {
   "cell_type": "markdown",
   "metadata": {},
   "source": [
    "# **라이브러리**"
   ]
  },
  {
   "cell_type": "code",
   "execution_count": 1,
   "metadata": {},
   "outputs": [],
   "source": [
    "import pandas as pd\n",
    "import numpy as np\n",
    "\n",
    "from imblearn.under_sampling import *\n",
    "from sklearn.model_selection import train_test_split\n",
    "\n",
    "from sklearn.linear_model import LogisticRegression\n",
    "from sklearn.tree import DecisionTreeClassifier\n",
    "from sklearn.ensemble import RandomForestClassifier\n",
    "from sklearn.ensemble import AdaBoostClassifier\n",
    "from sklearn.neighbors import KNeighborsClassifier\n",
    "from sklearn.svm import SVC\n",
    "from lightgbm import LGBMClassifier\n",
    "from catboost import CatBoostClassifier\n",
    "from sklearn.neural_network import MLPClassifier\n",
    "from xgboost import XGBClassifier\n",
    "\n",
    "from sklearn.metrics import confusion_matrix, ConfusionMatrixDisplay\n",
    "from sklearn.metrics import plot_confusion_matrix\n",
    "from sklearn.metrics import f1_score, recall_score, precision_score, accuracy_score\n",
    "import warnings\n",
    "warnings.filterwarnings(action='ignore')\n",
    "\n",
    "import matplotlib.pyplot as plt\n",
    "\n",
    "plt.rcParams['font.family'] = 'malgun gothic'"
   ]
  },
  {
   "cell_type": "markdown",
   "metadata": {},
   "source": [
    "# **함수모음**"
   ]
  },
  {
   "cell_type": "markdown",
   "metadata": {},
   "source": [
    "## **모델링**"
   ]
  },
  {
   "cell_type": "code",
   "execution_count": 2,
   "metadata": {},
   "outputs": [],
   "source": [
    "def modeling(model, X, y, test):    \n",
    "    model.fit(X, y)\n",
    "    pred = model.predict_proba(test)\n",
    "    pred = (pred[:,0] < 0.5)*1         # threshold 부도기업일 확률이 10% 이상이면 부도로 판단해라.\n",
    "    return pred\n",
    "\n",
    "def modeling_(model, X, y, test):    \n",
    "    model.fit(X, y)\n",
    "    pred = model.predict_proba(test)         # threshold 부도기업일 확률이 10% 이상이면 부도로 판단해라.\n",
    "    return pred\n",
    "\n",
    "######################################## Split train, test\n",
    "def splittrain(data):\n",
    "    subdata = data.sort_values(by='년').reset_index(drop=True)\n",
    "    data = subdata.loc[subdata['년'] < 2015]\n",
    "    return data\n",
    "\n",
    "def splittesst(data):\n",
    "    global test\n",
    "    subdata = data.sort_values(by='년').reset_index(drop=True)\n",
    "    test = subdata.loc[subdata['년'] >= 2015]\n",
    "    return test"
   ]
  },
  {
   "cell_type": "markdown",
   "metadata": {},
   "source": [
    "## **스코어**"
   ]
  },
  {
   "cell_type": "code",
   "execution_count": 3,
   "metadata": {},
   "outputs": [],
   "source": [
    "def scoring(y_true, y_pred):\n",
    "    print('accuracy:', accuracy_score(y_true,y_pred))\n",
    "    print('f1-Score:', f1_score(y_true, y_pred, average='macro'))\n",
    "    print('Recall:',recall_score(y_true, y_pred, average='macro'))\n",
    "    print('Precision:',precision_score(y_true, y_pred, average='macro'))\n",
    "    print(confusion_matrix(y_true, y_pred))"
   ]
  },
  {
   "cell_type": "markdown",
   "metadata": {},
   "source": [
    "## **귀찮다 귀찮아**"
   ]
  },
  {
   "cell_type": "markdown",
   "metadata": {},
   "source": [
    "# **데이터 나누기**"
   ]
  },
  {
   "cell_type": "markdown",
   "metadata": {},
   "source": [
    "## **재무데이터**"
   ]
  },
  {
   "cell_type": "code",
   "execution_count": 24,
   "metadata": {},
   "outputs": [
    {
     "data": {
      "text/plain": [
       "Index(['회사명', '거래소코드', '회계년도', '설비투자효율', '총자본투자효율', '부채구성비율', '비유동장기적합률',\n",
       "       '재고자산보유기간', '매출채권회수기간', '매입채무회전률', '경영자본회전률', '경영자본순이익률', '자기자본순이익률',\n",
       "       '자기자본증가율', '년', 'key', '부도'],\n",
       "      dtype='object')"
      ]
     },
     "execution_count": 24,
     "metadata": {},
     "output_type": "execute_result"
    }
   ],
   "source": [
    "dataset = pd.read_csv(r'C:\\Users\\JH\\Desktop\\Final\\Ubion-CorporateBankruptcyAnalysis\\Code\\JH\\data\\0y_finan.csv')\n",
    "dataset1 = pd.read_csv(r'C:\\Users\\JH\\Desktop\\Final\\Ubion-CorporateBankruptcyAnalysis\\Code\\JH\\data\\1y_finan.csv')\n",
    "dataset2 = pd.read_csv(r'C:\\Users\\JH\\Desktop\\Final\\Ubion-CorporateBankruptcyAnalysis\\Code\\JH\\data\\2y_finan.csv')\n",
    "dataset3 = pd.read_csv(r'C:\\Users\\JH\\Desktop\\Final\\Ubion-CorporateBankruptcyAnalysis\\Code\\JH\\data\\3y_finan.csv')\n",
    "dataset4 = pd.read_csv(r'C:\\Users\\JH\\Desktop\\Final\\Ubion-CorporateBankruptcyAnalysis\\Code\\JH\\data\\4y_finan.csv')\n",
    "\n",
    "dataset.columns"
   ]
  },
  {
   "cell_type": "markdown",
   "metadata": {},
   "source": [
    "## **재무데이터 + 비재무데이터**"
   ]
  },
  {
   "cell_type": "code",
   "execution_count": 25,
   "metadata": {},
   "outputs": [
    {
     "data": {
      "text/plain": [
       "Index(['회사명', '거래소코드', '회계년도', '설비투자효율', '총자본투자효율', '부채구성비율', '비유동장기적합률',\n",
       "       '재고자산보유기간', '매출채권회수기간', '매입채무회전률', '경영자본회전률', '경영자본순이익률', '자기자본순이익률',\n",
       "       '자기자본증가율', '년', 'key', '부도', '대표이사_변경', '최대주주_변경', '회계처리위반', '횡령배임',\n",
       "       '영업조업중단', '종가변동률', '출자목적_투자', '출자목적_경영권', '출자목적_영업이익', '신종채권_운영',\n",
       "       '신종채권_시설', '신종채권_기타'],\n",
       "      dtype='object')"
      ]
     },
     "execution_count": 25,
     "metadata": {},
     "output_type": "execute_result"
    }
   ],
   "source": [
    "ajdataset = pd.read_csv(r'C:\\Users\\JH\\Desktop\\Final\\Ubion-CorporateBankruptcyAnalysis\\Code\\SH\\csv\\step3\\dataset_step3.csv',index_col=0)\n",
    "ajdataset1 = pd.read_csv(r'C:\\Users\\JH\\Desktop\\Final\\Ubion-CorporateBankruptcyAnalysis\\Code\\SH\\csv\\step3\\dataset1_step3.csv',index_col=0)\n",
    "ajdataset2 = pd.read_csv(r'C:\\Users\\JH\\Desktop\\Final\\Ubion-CorporateBankruptcyAnalysis\\Code\\SH\\csv\\step3\\dataset2_step3.csv',index_col=0)\n",
    "ajdataset3 = pd.read_csv(r'C:\\Users\\JH\\Desktop\\Final\\Ubion-CorporateBankruptcyAnalysis\\Code\\SH\\csv\\step3\\dataset3_step3.csv',index_col=0)\n",
    "ajdataset4 = pd.read_csv(r'C:\\Users\\JH\\Desktop\\Final\\Ubion-CorporateBankruptcyAnalysis\\Code\\SH\\csv\\step3\\dataset4_step3.csv',index_col=0)\n",
    "\n",
    "drop_feature = ['회사명', '거래소코드', '회계년도','년', 'key', '부도']\n",
    "\n",
    "ajdataset.columns"
   ]
  },
  {
   "cell_type": "code",
   "execution_count": 26,
   "metadata": {},
   "outputs": [],
   "source": [
    "dataset_ = splittrain(dataset)\n",
    "test_ = splittesst(dataset)\n",
    "dataset1_ = splittrain(dataset1)\n",
    "test1_ = splittesst(dataset1)\n",
    "dataset2_ = splittrain(dataset2)\n",
    "test2_ = splittesst(dataset2)\n",
    "dataset3_ = splittrain(dataset3)\n",
    "test3_ = splittesst(dataset3)\n",
    "dataset4_ = splittrain(dataset4)\n",
    "test4_ = splittesst(dataset4)\n",
    "\n",
    "ajdataset_ = splittrain(ajdataset)\n",
    "ajtest_ = splittesst(ajdataset)\n",
    "ajdataset1_ = splittrain(ajdataset1)\n",
    "ajtest1_ = splittesst(ajdataset1)\n",
    "ajdataset2_ = splittrain(ajdataset2)\n",
    "ajtest2_ = splittesst(ajdataset2)\n",
    "ajdataset3_ = splittrain(ajdataset3)\n",
    "ajtest3_ = splittesst(ajdataset3)\n",
    "ajdataset4_ = splittrain(ajdataset4)\n",
    "ajtest4_ = splittesst(ajdataset4)\n"
   ]
  },
  {
   "cell_type": "markdown",
   "metadata": {},
   "source": [
    "## **세트 1. 재무데이터 train,test 분리**"
   ]
  },
  {
   "cell_type": "code",
   "execution_count": 27,
   "metadata": {},
   "outputs": [
    {
     "name": "stdout",
     "output_type": "stream",
     "text": [
      "(8504, 11) (8504,)\n"
     ]
    }
   ],
   "source": [
    "X = dataset_.drop(drop_feature, axis=1)\n",
    "X1 = dataset1_.drop(drop_feature, axis=1)\n",
    "X2 = dataset2_.drop(drop_feature, axis=1)\n",
    "X3 = dataset3_.drop(drop_feature, axis=1)\n",
    "X4 = dataset4_.drop(drop_feature, axis=1)\n",
    "\n",
    "y = dataset_['부도']\n",
    "y1 = dataset1_['부도']\n",
    "y2 = dataset2_['부도']\n",
    "y3 = dataset3_['부도']\n",
    "y4 = dataset4_['부도']\n",
    "\n",
    "X_test =test_.drop(drop_feature, axis=1)\n",
    "X1_test =test1_.drop(drop_feature, axis=1)\n",
    "X2_test =test2_.drop(drop_feature, axis=1)\n",
    "X3_test =test3_.drop(drop_feature, axis=1)\n",
    "X4_test =test4_.drop(drop_feature, axis=1)\n",
    "\n",
    "y_test= test_['부도']\n",
    "y1_test =test1_['부도']\n",
    "y2_test =test2_['부도']\n",
    "y3_test =test3_['부도']\n",
    "y4_test =test4_['부도']\n",
    "\n",
    "print(X_test.shape, y_test.shape)\n"
   ]
  },
  {
   "cell_type": "markdown",
   "metadata": {},
   "source": [
    "## **세트2 재무 + 비재무데이터 train, test 분리**"
   ]
  },
  {
   "cell_type": "code",
   "execution_count": 28,
   "metadata": {},
   "outputs": [
    {
     "name": "stdout",
     "output_type": "stream",
     "text": [
      "(8504, 23) (8504,)\n"
     ]
    }
   ],
   "source": [
    "ajX = ajdataset_.drop(drop_feature, axis=1)\n",
    "ajX1 = ajdataset1_.drop(drop_feature, axis=1)\n",
    "ajX2 = ajdataset2_.drop(drop_feature, axis=1)\n",
    "ajX3 = ajdataset3_.drop(drop_feature, axis=1)\n",
    "ajX4 = ajdataset4_.drop(drop_feature, axis=1)\n",
    "\n",
    "ajy = ajdataset_['부도']\n",
    "ajy1 = ajdataset1_['부도']\n",
    "ajy2 = ajdataset2_['부도']\n",
    "ajy3 = ajdataset3_['부도']\n",
    "ajy4 = ajdataset4_['부도']\n",
    "\n",
    "ajX_test =ajtest_.drop(drop_feature, axis=1)\n",
    "ajX1_test =ajtest1_.drop(drop_feature, axis=1)\n",
    "ajX2_test =ajtest2_.drop(drop_feature, axis=1)\n",
    "ajX3_test =ajtest3_.drop(drop_feature, axis=1)\n",
    "ajX4_test =ajtest4_.drop(drop_feature, axis=1)\n",
    "\n",
    "ajy_test= ajtest_['부도']\n",
    "ajy1_test =ajtest1_['부도']\n",
    "ajy2_test =ajtest2_['부도']\n",
    "ajy3_test =ajtest3_['부도']\n",
    "ajy4_test =ajtest4_['부도']\n",
    "\n",
    "print(ajX_test.shape, ajy_test.shape)\n"
   ]
  },
  {
   "cell_type": "markdown",
   "metadata": {},
   "source": [
    "# **YEAR**"
   ]
  },
  {
   "cell_type": "markdown",
   "metadata": {},
   "source": [
    "# **데이터 검증 및 언더샘플링**"
   ]
  },
  {
   "cell_type": "code",
   "execution_count": 9,
   "metadata": {},
   "outputs": [],
   "source": [
    "from sklearn.model_selection import StratifiedKFold\n",
    "import numpy as np\n",
    "\n",
    "mdn = ['Decision Tree','Random Forest','Adaboost','logistic', 'KNN','SVC','lightGBM','Catboost','MLP','Xgboost']\n",
    "\n",
    "def run_skfold(feature, target):\n",
    "    X, y = RandomUnderSampler(random_state=1).fit_resample(feature, target) # RandomUnderSampling\n",
    "    skf = StratifiedKFold(n_splits=4, shuffle=True)\n",
    "    arr = [] # Validation Set's Accuracy\n",
    "    models = [DecisionTreeClassifier(),RandomForestClassifier(),AdaBoostClassifier(),LogisticRegression(),KNeighborsClassifier(),\n",
    "    SVC(probability=True),LGBMClassifier(),CatBoostClassifier(silent=True),MLPClassifier(),XGBClassifier()]\n",
    "\n",
    "    for model in models:\n",
    "        val_pred = 0\n",
    "        for train_index, val_index in skf.split(X,y):\n",
    "            # print(\"TRAIN:\", train_index, \"TEST:\", val_index)\n",
    "            X_train, X_val = X[train_index], X[val_index]\n",
    "            y_train, y_val = y[train_index], y[val_index]\n",
    "            val_pred += accuracy_score(y_val, modeling(model, X_train, y_train, X_val))\n",
    "        arr.append(val_pred/4)\n",
    "    return arr # each models accuracy"
   ]
  },
  {
   "cell_type": "code",
   "execution_count": 33,
   "metadata": {},
   "outputs": [
    {
     "name": "stdout",
     "output_type": "stream",
     "text": [
      "[17:48:06] WARNING: C:/Users/Administrator/workspace/xgboost-win64_release_1.5.0/src/learner.cc:1115: Starting in XGBoost 1.3.0, the default evaluation metric used with the objective 'binary:logistic' was changed from 'error' to 'logloss'. Explicitly set eval_metric if you'd like to restore the old behavior.\n",
      "[17:48:06] WARNING: C:/Users/Administrator/workspace/xgboost-win64_release_1.5.0/src/learner.cc:1115: Starting in XGBoost 1.3.0, the default evaluation metric used with the objective 'binary:logistic' was changed from 'error' to 'logloss'. Explicitly set eval_metric if you'd like to restore the old behavior.\n",
      "[17:48:08] WARNING: C:/Users/Administrator/workspace/xgboost-win64_release_1.5.0/src/learner.cc:1115: Starting in XGBoost 1.3.0, the default evaluation metric used with the objective 'binary:logistic' was changed from 'error' to 'logloss'. Explicitly set eval_metric if you'd like to restore the old behavior.\n",
      "[17:48:08] WARNING: C:/Users/Administrator/workspace/xgboost-win64_release_1.5.0/src/learner.cc:1115: Starting in XGBoost 1.3.0, the default evaluation metric used with the objective 'binary:logistic' was changed from 'error' to 'logloss'. Explicitly set eval_metric if you'd like to restore the old behavior.\n",
      "[17:48:34] WARNING: C:/Users/Administrator/workspace/xgboost-win64_release_1.5.0/src/learner.cc:1115: Starting in XGBoost 1.3.0, the default evaluation metric used with the objective 'binary:logistic' was changed from 'error' to 'logloss'. Explicitly set eval_metric if you'd like to restore the old behavior.\n",
      "[17:48:35] WARNING: C:/Users/Administrator/workspace/xgboost-win64_release_1.5.0/src/learner.cc:1115: Starting in XGBoost 1.3.0, the default evaluation metric used with the objective 'binary:logistic' was changed from 'error' to 'logloss'. Explicitly set eval_metric if you'd like to restore the old behavior.\n",
      "[17:48:35] WARNING: C:/Users/Administrator/workspace/xgboost-win64_release_1.5.0/src/learner.cc:1115: Starting in XGBoost 1.3.0, the default evaluation metric used with the objective 'binary:logistic' was changed from 'error' to 'logloss'. Explicitly set eval_metric if you'd like to restore the old behavior.\n",
      "[17:48:36] WARNING: C:/Users/Administrator/workspace/xgboost-win64_release_1.5.0/src/learner.cc:1115: Starting in XGBoost 1.3.0, the default evaluation metric used with the objective 'binary:logistic' was changed from 'error' to 'logloss'. Explicitly set eval_metric if you'd like to restore the old behavior.\n"
     ]
    }
   ],
   "source": [
    "# 1,2,3,4 숫자구분해줘야함\n",
    "\n",
    "X = np.array(X4)\n",
    "ajX = np.array(ajX4)\n",
    "\n",
    "y = y4\n",
    "ajy = ajy4\n",
    "\n",
    "y_test = y4_test\n",
    "ajy_test = ajy4_test\n",
    "\n",
    "vanval = run_skfold(X, y)\n",
    "ajval = run_skfold(ajX,ajy)"
   ]
  },
  {
   "cell_type": "markdown",
   "metadata": {},
   "source": [
    "## **테스트 셋 검증**"
   ]
  },
  {
   "cell_type": "code",
   "execution_count": 34,
   "metadata": {},
   "outputs": [
    {
     "name": "stdout",
     "output_type": "stream",
     "text": [
      "[17:48:45] WARNING: C:/Users/Administrator/workspace/xgboost-win64_release_1.5.0/src/learner.cc:1115: Starting in XGBoost 1.3.0, the default evaluation metric used with the objective 'binary:logistic' was changed from 'error' to 'logloss'. Explicitly set eval_metric if you'd like to restore the old behavior.\n",
      "[17:48:56] WARNING: C:/Users/Administrator/workspace/xgboost-win64_release_1.5.0/src/learner.cc:1115: Starting in XGBoost 1.3.0, the default evaluation metric used with the objective 'binary:logistic' was changed from 'error' to 'logloss'. Explicitly set eval_metric if you'd like to restore the old behavior.\n"
     ]
    }
   ],
   "source": [
    "X, y = RandomUnderSampler(random_state=1).fit_resample(X, y)\n",
    "########################################################################################## 데이터셋 1\n",
    "dt_clf = modeling(DecisionTreeClassifier(), X, y, X_test)\n",
    "rf_clf = modeling(RandomForestClassifier(),X, y, X_test)\n",
    "ada_clf = modeling(AdaBoostClassifier(), X, y, X_test)\n",
    "lg_clf = modeling(LogisticRegression(), X, y, X_test)\n",
    "knn_clf = modeling(KNeighborsClassifier(), X, y, X_test)\n",
    "svc_clf = modeling(SVC(probability=True), X, y, X_test)\n",
    "lgmb_clf = modeling(LGBMClassifier(), X, y, X_test)\n",
    "cat_clf = modeling(CatBoostClassifier(silent=True),X, y, X_test)\n",
    "mlp_clf = modeling(MLPClassifier(),X, y, X_test)\n",
    "xgb_clf = modeling(XGBClassifier(),X, y, X_test)\n",
    "\n",
    "ajX, ajy = RandomUnderSampler(random_state=1).fit_resample(ajX, ajy)\n",
    "########################################################################################## 데이터셋 2\n",
    "ajdt_clf = modeling(DecisionTreeClassifier(), ajX, ajy, ajX_test)\n",
    "ajrf_clf = modeling(RandomForestClassifier(),ajX, ajy, ajX_test)\n",
    "ajada_clf = modeling(AdaBoostClassifier(), ajX, ajy, ajX_test)\n",
    "ajlg_clf = modeling(LogisticRegression(), ajX, ajy, ajX_test)\n",
    "ajknn_clf = modeling(KNeighborsClassifier(), ajX, ajy, ajX_test)\n",
    "ajsvc_clf = modeling(SVC(probability=True), ajX, ajy, ajX_test)\n",
    "ajlgmb_clf = modeling(LGBMClassifier(), ajX, ajy, ajX_test)\n",
    "ajcat_clf = modeling(CatBoostClassifier(silent=True),ajX, ajy, ajX_test)\n",
    "ajmlp_clf = modeling(MLPClassifier(),ajX, ajy, ajX_test)\n",
    "ajxgb_clf = modeling(XGBClassifier(),ajX, ajy, ajX_test)\n"
   ]
  },
  {
   "cell_type": "code",
   "execution_count": 21,
   "metadata": {},
   "outputs": [
    {
     "name": "stdout",
     "output_type": "stream",
     "text": [
      "accuracy: 0.5727892756349953\n",
      "f1-Score: 0.3672241540008709\n",
      "Recall: 0.5591573599708473\n",
      "Precision: 0.5006237140735128\n",
      "[[4859 3623]\n",
      " [  10   12]]\n",
      "None\n",
      "------------------------------------------------------------\n",
      "accuracy: 0.6575729068673566\n",
      "f1-Score: 0.4006193139835149\n",
      "Recall: 0.6016591284216843\n",
      "Precision: 0.5011645710118201\n",
      "[[5580 2902]\n",
      " [  10   12]]\n",
      "None\n",
      "------------------------------------------------------------\n",
      "accuracy: 0.6559266227657573\n",
      "f1-Score: 0.3993551784006103\n",
      "Recall: 0.5554972026323123\n",
      "Precision: 0.5006347175029051\n",
      "[[5568 2914]\n",
      " [  12   10]]\n",
      "None\n",
      "------------------------------------------------------------\n",
      "accuracy: 0.7557619943555973\n",
      "f1-Score: 0.43419437330731775\n",
      "Recall: 0.5602077125892264\n",
      "Precision: 0.5008432948079836\n",
      "[[6419 2063]\n",
      " [  14    8]]\n",
      "None\n",
      "------------------------------------------------------------\n",
      "accuracy: 0.6603951081843838\n",
      "f1-Score: 0.40135419271774064\n",
      "Recall: 0.5804055647253006\n",
      "Precision: 0.5009250874036193\n",
      "[[5605 2877]\n",
      " [  11   11]]\n",
      "None\n",
      "------------------------------------------------------------\n",
      "accuracy: 0.0025870178739416747\n",
      "f1-Score: 0.0025803424818203143\n",
      "Recall: 0.5\n",
      "Precision: 0.0012935089369708374\n",
      "[[   0 8482]\n",
      " [   0   22]]\n",
      "None\n",
      "------------------------------------------------------------\n",
      "accuracy: 0.6234713076199435\n",
      "f1-Score: 0.38755376317241025\n",
      "Recall: 0.5845641036633726\n",
      "Precision: 0.5009292629496148\n",
      "[[5290 3192]\n",
      " [  10   12]]\n",
      "None\n",
      "------------------------------------------------------------\n",
      "accuracy: 0.6843838193791157\n",
      "f1-Score: 0.4098783143375295\n",
      "Recall: 0.5697627060513172\n",
      "Precision: 0.5008337067017518\n",
      "[[5810 2672]\n",
      " [  12   10]]\n",
      "None\n",
      "------------------------------------------------------------\n",
      "accuracy: 0.5804327375352775\n",
      "f1-Score: 0.369593652295891\n",
      "Recall: 0.49498403035304706\n",
      "Precision: 0.49994683678894203\n",
      "[[4927 3555]\n",
      " [  13    9]]\n",
      "None\n",
      "------------------------------------------------------------\n",
      "accuracy: 0.633349012229539\n",
      "f1-Score: 0.39078587797186204\n",
      "Recall: 0.5441791172750852\n",
      "Precision: 0.5004910355632686\n",
      "[[5376 3106]\n",
      " [  12   10]]\n",
      "None\n",
      "------------------------------------------------------------\n",
      "accuracy: 0.5876058325493885\n",
      "f1-Score: 0.3740723719705995\n",
      "Recall: 0.634589826584639\n",
      "Precision: 0.5014321692645585\n",
      "[[4982 3500]\n",
      " [   7   15]]\n",
      "None\n",
      "------------------------------------------------------------\n",
      "accuracy: 0.6836782690498588\n",
      "f1-Score: 0.4103260934008312\n",
      "Recall: 0.6147456646159781\n",
      "Precision: 0.501368537094437\n",
      "[[5802 2680]\n",
      " [  10   12]]\n",
      "None\n",
      "------------------------------------------------------------\n",
      "accuracy: 0.6857949200376293\n",
      "f1-Score: 0.4107479514244054\n",
      "Recall: 0.5931384107521811\n",
      "Precision: 0.501115310531201\n",
      "[[5821 2661]\n",
      " [  11   11]]\n",
      "None\n",
      "------------------------------------------------------------\n",
      "accuracy: 0.7538805268109126\n",
      "f1-Score: 0.43355365355428943\n",
      "Recall: 0.5592645388094575\n",
      "Precision: 0.5008257743136922\n",
      "[[6403 2079]\n",
      " [  14    8]]\n",
      "None\n",
      "------------------------------------------------------------\n",
      "accuracy: 0.6594543744120414\n",
      "f1-Score: 0.4010017847665867\n",
      "Recall: 0.5799339778354162\n",
      "Precision: 0.500918429473286\n",
      "[[5597 2885]\n",
      " [  11   11]]\n",
      "None\n",
      "------------------------------------------------------------\n",
      "accuracy: 0.002704609595484478\n",
      "f1-Score: 0.002698527985762797\n",
      "Recall: 0.5000589483612355\n",
      "Precision: 0.5012936610608021\n",
      "[[   1 8481]\n",
      " [   0   22]]\n",
      "None\n",
      "------------------------------------------------------------\n",
      "accuracy: 0.6575729068673566\n",
      "f1-Score: 0.3996478905677631\n",
      "Recall: 0.533654155323573\n",
      "Precision: 0.5003859113357645\n",
      "[[5583 2899]\n",
      " [  13    9]]\n",
      "None\n",
      "------------------------------------------------------------\n",
      "accuracy: 0.7076669802445907\n",
      "f1-Score: 0.41866182698124627\n",
      "Recall: 0.6041028059419948\n",
      "Precision: 0.5012984644885402\n",
      "[[6007 2475]\n",
      " [  11   11]]\n",
      "None\n",
      "------------------------------------------------------------\n",
      "accuracy: 0.5643226716839135\n",
      "f1-Score: 0.36395731897580874\n",
      "Recall: 0.5775814023279244\n",
      "Precision: 0.5008140163528615\n",
      "[[4786 3696]\n",
      " [   9   13]]\n",
      "None\n",
      "------------------------------------------------------------\n",
      "accuracy: 0.6505174035747884\n",
      "f1-Score: 0.3973205564915879\n",
      "Recall: 0.5527855780154766\n",
      "Precision: 0.50059929496142\n",
      "[[5522 2960]\n",
      " [  12   10]]\n",
      "None\n",
      "------------------------------------------------------------\n"
     ]
    }
   ],
   "source": [
    "for i in arr:\n",
    "    print(scoring(y_test , i))\n",
    "    print('-'*60)\n",
    "\n",
    "for i in ajarr:\n",
    "    print(scoring(y_test , i))\n",
    "    print('-'*60)"
   ]
  },
  {
   "cell_type": "code",
   "execution_count": 35,
   "metadata": {},
   "outputs": [],
   "source": [
    "arr =[dt_clf,rf_clf,ada_clf,lg_clf,knn_clf,svc_clf,lgmb_clf,cat_clf,mlp_clf,xgb_clf]\n",
    "ajarr = [ajdt_clf,ajrf_clf,ajada_clf,ajlg_clf,ajknn_clf,ajsvc_clf,ajlgmb_clf,ajcat_clf,ajmlp_clf,ajxgb_clf]\n",
    "\n",
    "def test_acc(y_true, arr_):\n",
    "    acc = []\n",
    "    for i in arr_:\n",
    "        acc.append(round(accuracy_score(y_true, i),4))\n",
    "    return acc\n",
    "\n",
    "ogntest = test_acc(y_test, arr)\n",
    "ajdtest = test_acc(ajy_test, ajarr)\n",
    "\n",
    "def get_f1(y_true, arr_):\n",
    "    f1 = []\n",
    "    for i in arr_:\n",
    "        f1.append(round(f1_score(y_true, i, average='macro'),4))\n",
    "    return f1\n",
    "     \n",
    "ognf1 = get_f1(y_test, arr)\n",
    "ajdf1 = get_f1(ajy_test, ajarr)\n",
    "\n",
    "def get_rc(y_true, arr_):\n",
    "    rc = []\n",
    "    for i in arr_:\n",
    "        rc.append(round(recall_score(y_true, i, average='macro'),4))\n",
    "    return rc\n",
    "\n",
    "ognrc = get_rc(y_test, arr)\n",
    "ajdrc = get_rc(ajy_test, ajarr)\n",
    "\n",
    "def get_pc(y_true, arr_):\n",
    "    pc = []\n",
    "    for i in arr_:\n",
    "        pc.append(round(precision_score(y_true, i, average='macro'),4))\n",
    "    return pc\n",
    "\n",
    "ognpc = get_pc(y_test, arr)\n",
    "ajdpc = get_pc(ajy_test, ajarr)\n"
   ]
  },
  {
   "cell_type": "code",
   "execution_count": 36,
   "metadata": {},
   "outputs": [],
   "source": [
    "subsetone = pd.DataFrame({'model': mdn, 'SET1 val Accuracy': vanval, 'SET1 test Accuracy' : ogntest, 'SET1 test f1-Score': ognf1, 'SET1 test Precision': ognpc, 'SET1 test Recall': ognrc, \n",
    "                                        'SET2 val Accuracy' : ajval, 'SET2 test Accuracy' : ajdtest, 'SET2 test f1_Score': ajdf1, 'SET2 test Precision': ajdpc, 'SET2 test Recall': ajdrc})\n",
    "subsetone.to_csv('셋1vs셋2정확도비교및교차검증4년전.csv', index=False)"
   ]
  },
  {
   "cell_type": "code",
   "execution_count": null,
   "metadata": {},
   "outputs": [],
   "source": []
  }
 ],
 "metadata": {
  "interpreter": {
   "hash": "71b59b5ba49ad06bb2a011e750699e3983d230921f30bf7f37eb3a01ae69aa26"
  },
  "kernelspec": {
   "display_name": "Python 3.9.6 64-bit",
   "language": "python",
   "name": "python3"
  },
  "language_info": {
   "codemirror_mode": {
    "name": "ipython",
    "version": 3
   },
   "file_extension": ".py",
   "mimetype": "text/x-python",
   "name": "python",
   "nbconvert_exporter": "python",
   "pygments_lexer": "ipython3",
   "version": "3.9.6"
  },
  "orig_nbformat": 4
 },
 "nbformat": 4,
 "nbformat_minor": 2
}
