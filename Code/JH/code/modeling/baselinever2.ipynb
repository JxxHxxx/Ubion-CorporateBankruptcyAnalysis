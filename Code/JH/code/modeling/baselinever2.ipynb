{
 "cells": [
  {
   "cell_type": "markdown",
   "metadata": {},
   "source": [
    "# **라이브러리**"
   ]
  },
  {
   "cell_type": "code",
   "execution_count": 1,
   "metadata": {},
   "outputs": [],
   "source": [
    "import pandas as pd\n",
    "import numpy as np\n",
    "\n",
    "from imblearn.under_sampling import *\n",
    "from sklearn.model_selection import train_test_split\n",
    "from sklearn.metrics import roc_curve\n",
    "\n",
    "from sklearn.linear_model import LogisticRegression\n",
    "from sklearn.tree import DecisionTreeClassifier\n",
    "from sklearn.ensemble import RandomForestClassifier\n",
    "from sklearn.ensemble import AdaBoostClassifier\n",
    "from sklearn.neighbors import KNeighborsClassifier\n",
    "from sklearn.svm import SVC\n",
    "from lightgbm import LGBMClassifier\n",
    "from catboost import CatBoostClassifier\n",
    "from sklearn.neural_network import MLPClassifier\n",
    "from xgboost import XGBClassifier\n",
    "\n",
    "from sklearn.metrics import f1_score, recall_score, precision_score, accuracy_score, confusion_matrix, roc_auc_score\n",
    "import warnings\n",
    "warnings.filterwarnings(action='ignore')\n",
    "\n",
    "import matplotlib.pyplot as plt\n",
    "\n",
    "plt.rcParams['font.family'] = 'malgun gothic'"
   ]
  },
  {
   "cell_type": "markdown",
   "metadata": {},
   "source": [
    "# **함수모음**"
   ]
  },
  {
   "cell_type": "markdown",
   "metadata": {},
   "source": [
    "## **모델링**"
   ]
  },
  {
   "cell_type": "code",
   "execution_count": 2,
   "metadata": {},
   "outputs": [],
   "source": [
    "def modeling(model, X, y, test):    \n",
    "    model.fit(X, y)\n",
    "    pred = model.predict_proba(test)\n",
    "    pred = (pred[:,0] < 0.5)*1         # threshold 부도기업일 확률이 10% 이상이면 부도로 판단해라.\n",
    "    return pred\n",
    "\n",
    "def modeling_(model, X, y, test):    \n",
    "    model.fit(X, y)\n",
    "    pred = model.predict_proba(test)\n",
    "    pred = (pred[:,0] < optimal_threshold)*1         # threshold 부도기업일 확률이 10% 이상이면 부도로 판단해라.\n",
    "    return pred\n",
    "\n",
    "######################################## Split train, test\n",
    "def splittrain(data):\n",
    "    subdata = data.sort_values(by='년').reset_index(drop=True)\n",
    "    data = subdata.loc[subdata['년'] < 2015]\n",
    "    return data\n",
    "\n",
    "def splittesst(data):\n",
    "    global test\n",
    "    subdata = data.sort_values(by='년').reset_index(drop=True)\n",
    "    test = subdata.loc[subdata['년'] >= 2015]\n",
    "    return test"
   ]
  },
  {
   "cell_type": "markdown",
   "metadata": {},
   "source": [
    "## **스코어**"
   ]
  },
  {
   "cell_type": "code",
   "execution_count": 3,
   "metadata": {},
   "outputs": [],
   "source": [
    "def scoring(y_true, y_pred):\n",
    "    print('accuracy:', accuracy_score(y_true,y_pred))\n",
    "    print('f1-Score:', f1_score(y_true, y_pred))\n",
    "    print('Recall:',recall_score(y_true, y_pred))\n",
    "    print('Precision:',precision_score(y_true, y_pred))\n",
    "    print(confusion_matrix(y_true, y_pred))"
   ]
  },
  {
   "cell_type": "markdown",
   "metadata": {},
   "source": [
    "# **데이터 나누기**"
   ]
  },
  {
   "cell_type": "markdown",
   "metadata": {},
   "source": [
    "## **재무데이터**"
   ]
  },
  {
   "cell_type": "code",
   "execution_count": 4,
   "metadata": {},
   "outputs": [
    {
     "data": {
      "text/plain": [
       "Index(['회사명', '거래소코드', '회계년도', '설비투자효율', '총자본투자효율', '부채구성비율', '비유동장기적합률',\n",
       "       '재고자산보유기간', '매출채권회수기간', '매입채무회전률', '경영자본회전률', '경영자본순이익률', '자기자본순이익률',\n",
       "       '자기자본증가율', '년', 'key', '대표이사_변경', '최대주주_변경', '회계처리위반', '횡령배임', '신종채권',\n",
       "       '영업조업중단', '종가변동률', '신종채권_운영', '신종채권_시설', '신종채권_기타', '출자목적_투자',\n",
       "       '출자목적_경영권', '출자목적_영업이익', '부도'],\n",
       "      dtype='object')"
      ]
     },
     "execution_count": 4,
     "metadata": {},
     "output_type": "execute_result"
    }
   ],
   "source": [
    "dataset = pd.read_csv(r'C:\\Users\\JH\\Desktop\\Final\\Ubion-CorporateBankruptcyAnalysis\\Code\\JH\\data\\ver3\\aj_0year.csv')\n",
    "dataset1 = pd.read_csv(r'C:\\Users\\JH\\Desktop\\Final\\Ubion-CorporateBankruptcyAnalysis\\Code\\JH\\data\\ver3\\aj_1year.csv')\n",
    "dataset2 = pd.read_csv(r'C:\\Users\\JH\\Desktop\\Final\\Ubion-CorporateBankruptcyAnalysis\\Code\\JH\\data\\ver3\\aj_2year.csv')\n",
    "dataset3 = pd.read_csv(r'C:\\Users\\JH\\Desktop\\Final\\Ubion-CorporateBankruptcyAnalysis\\Code\\JH\\data\\ver3\\aj_3year.csv')\n",
    "dataset4 = pd.read_csv(r'C:\\Users\\JH\\Desktop\\Final\\Ubion-CorporateBankruptcyAnalysis\\Code\\JH\\data\\ver3\\aj_4year.csv')\n",
    "\n",
    "drop_features = ['회사명', '거래소코드', '회계년도','년', 'key', '부도','최대주주_변경', '회계처리위반', '횡령배임', '신종채권', '영업조업중단',\n",
    "'출자목적_투자','출자목적_경영권', '출자목적_영업이익','종가변동률','신종채권_운영', '신종채권_시설', '신종채권_기타']\n",
    "\n",
    "dataset.columns"
   ]
  },
  {
   "cell_type": "markdown",
   "metadata": {},
   "source": [
    "## **재무데이터 + 비재무데이터**"
   ]
  },
  {
   "cell_type": "code",
   "execution_count": 23,
   "metadata": {},
   "outputs": [
    {
     "name": "stdout",
     "output_type": "stream",
     "text": [
      "(26832, 29) (26498, 29) (26165, 29)\n",
      "(26832, 31) (26498, 31) (26165, 31)\n"
     ]
    }
   ],
   "source": [
    "print(ajdataset.shape,ajdataset1.shape,ajdataset2.shape)\n",
    "print(dataset.shape,dataset1.shape,dataset2.shape)"
   ]
  },
  {
   "cell_type": "code",
   "execution_count": 5,
   "metadata": {},
   "outputs": [
    {
     "data": {
      "text/plain": [
       "Index(['회사명', '거래소코드', '회계년도', '설비투자효율', '총자본투자효율', '부채구성비율', '비유동장기적합률',\n",
       "       '재고자산보유기간', '매출채권회수기간', '매입채무회전률', '경영자본회전률', '경영자본순이익률', '자기자본순이익률',\n",
       "       '자기자본증가율', '년', 'key', '부도', '대표이사_변경', '최대주주_변경', '회계처리위반', '횡령배임',\n",
       "       '영업조업중단', '종가변동률', '출자목적_투자', '출자목적_경영권', '출자목적_영업이익', '신종채권_운영',\n",
       "       '신종채권_시설', '신종채권_기타'],\n",
       "      dtype='object')"
      ]
     },
     "execution_count": 5,
     "metadata": {},
     "output_type": "execute_result"
    }
   ],
   "source": [
    "ajdataset = pd.read_csv(r'C:\\Users\\JH\\Desktop\\Final\\Ubion-CorporateBankruptcyAnalysis\\Code\\JH\\data\\ver2\\0years_agostep3.csv')\n",
    "ajdataset1 = pd.read_csv(r'C:\\Users\\JH\\Desktop\\Final\\Ubion-CorporateBankruptcyAnalysis\\Code\\JH\\data\\ver2\\1years_agostep3.csv')\n",
    "ajdataset2 = pd.read_csv(r'C:\\Users\\JH\\Desktop\\Final\\Ubion-CorporateBankruptcyAnalysis\\Code\\JH\\data\\ver2\\2years_agostep3.csv')\n",
    "ajdataset3 = pd.read_csv(r'C:\\Users\\JH\\Desktop\\Final\\Ubion-CorporateBankruptcyAnalysis\\Code\\JH\\data\\ver2\\3years_agostep3.csv')\n",
    "ajdataset4 = pd.read_csv(r'C:\\Users\\JH\\Desktop\\Final\\Ubion-CorporateBankruptcyAnalysis\\Code\\JH\\data\\ver2\\4years_agostep3.csv')\n",
    "\n",
    "drop_feature = ['회사명', '거래소코드', '회계년도','년', 'key', '부도']\n",
    "\n",
    "ajdataset.columns"
   ]
  },
  {
   "cell_type": "code",
   "execution_count": 6,
   "metadata": {},
   "outputs": [
    {
     "name": "stdout",
     "output_type": "stream",
     "text": [
      "(8381, 12) (8381,)\n",
      "(8381, 23) (8381,)\n"
     ]
    }
   ],
   "source": [
    "dataset_ = splittrain(dataset)\n",
    "test_ = splittesst(dataset)\n",
    "dataset1_ = splittrain(dataset1)\n",
    "test1_ = splittesst(dataset1)\n",
    "dataset2_ = splittrain(dataset2)\n",
    "test2_ = splittesst(dataset2)\n",
    "dataset3_ = splittrain(dataset3)\n",
    "test3_ = splittesst(dataset3)\n",
    "dataset4_ = splittrain(dataset4)\n",
    "test4_ = splittesst(dataset4)\n",
    "\n",
    "ajdataset_ = splittrain(ajdataset)\n",
    "ajtest_ = splittesst(ajdataset)\n",
    "ajdataset1_ = splittrain(ajdataset1)\n",
    "ajtest1_ = splittesst(ajdataset1)\n",
    "ajdataset2_ = splittrain(ajdataset2)\n",
    "ajtest2_ = splittesst(ajdataset2)\n",
    "ajdataset3_ = splittrain(ajdataset3)\n",
    "ajtest3_ = splittesst(ajdataset3)\n",
    "ajdataset4_ = splittrain(ajdataset4)\n",
    "ajtest4_ = splittesst(ajdataset4)\n",
    "\n",
    "X = dataset_.drop(drop_features, axis=1)\n",
    "X1 = dataset1_.drop(drop_features, axis=1)\n",
    "X2 = dataset2_.drop(drop_features, axis=1)\n",
    "X3 = dataset3_.drop(drop_features, axis=1)\n",
    "X4 = dataset4_.drop(drop_features, axis=1)\n",
    "\n",
    "y = dataset_['부도']\n",
    "y1 = dataset1_['부도']\n",
    "y2 = dataset2_['부도']\n",
    "y3 = dataset3_['부도']\n",
    "y4 = dataset4_['부도']\n",
    "\n",
    "X_test =test_.drop(drop_features, axis=1)\n",
    "X1_test =test1_.drop(drop_features, axis=1)\n",
    "X2_test =test2_.drop(drop_features, axis=1)\n",
    "X3_test =test3_.drop(drop_features, axis=1)\n",
    "X4_test =test4_.drop(drop_features, axis=1)\n",
    "\n",
    "y_test= test_['부도']\n",
    "y1_test =test1_['부도']\n",
    "y2_test =test2_['부도']\n",
    "y3_test =test3_['부도']\n",
    "y4_test =test4_['부도']\n",
    "\n",
    "print(X3_test.shape, y3_test.shape)\n",
    "\n",
    "ajX = ajdataset_.drop(drop_feature, axis=1)\n",
    "ajX1 = ajdataset1_.drop(drop_feature, axis=1)\n",
    "ajX2 = ajdataset2_.drop(drop_feature, axis=1)\n",
    "ajX3 = ajdataset3_.drop(drop_feature, axis=1)\n",
    "ajX4 = ajdataset4_.drop(drop_feature, axis=1)\n",
    "\n",
    "ajy = ajdataset_['부도']\n",
    "ajy1 = ajdataset1_['부도']\n",
    "ajy2 = ajdataset2_['부도']\n",
    "ajy3 = ajdataset3_['부도']\n",
    "ajy4 = ajdataset4_['부도']\n",
    "\n",
    "ajX_test =ajtest_.drop(drop_feature, axis=1)\n",
    "ajX1_test =ajtest1_.drop(drop_feature, axis=1)\n",
    "ajX2_test =ajtest2_.drop(drop_feature, axis=1)\n",
    "ajX3_test =ajtest3_.drop(drop_feature, axis=1)\n",
    "ajX4_test =ajtest4_.drop(drop_feature, axis=1)\n",
    "\n",
    "ajy_test= ajtest_['부도']\n",
    "ajy1_test =ajtest1_['부도']\n",
    "ajy2_test =ajtest2_['부도']\n",
    "ajy3_test =ajtest3_['부도']\n",
    "ajy4_test =ajtest4_['부도']\n",
    "\n",
    "print(ajX3_test.shape, ajy3_test.shape)"
   ]
  },
  {
   "cell_type": "markdown",
   "metadata": {},
   "source": [
    "# **데이터 검증 및 언더샘플링**"
   ]
  },
  {
   "cell_type": "code",
   "execution_count": 7,
   "metadata": {},
   "outputs": [],
   "source": [
    "from sklearn.model_selection import StratifiedKFold\n",
    "import numpy as np\n",
    "\n",
    "mdn = ['Decision Tree','Random Forest','Adaboost','logistic', 'KNN','SVC','lightGBM','Catboost','MLP','Xgboost']\n",
    "\n",
    "def run_skfold(feature, target):\n",
    "    X, y = RandomUnderSampler(random_state=1).fit_resample(feature, target) # RandomUnderSampling\n",
    "    skf = StratifiedKFold(n_splits=4, shuffle=True)\n",
    "    arr = [] # Validation Set's Accuracy\n",
    "    models = [DecisionTreeClassifier(),RandomForestClassifier(),AdaBoostClassifier(),LogisticRegression(),KNeighborsClassifier(),\n",
    "    SVC(probability=True),LGBMClassifier(),CatBoostClassifier(silent=True),MLPClassifier(),XGBClassifier()]\n",
    "\n",
    "    for model in models:\n",
    "        val_pred = 0\n",
    "        for train_index, val_index in skf.split(X,y):\n",
    "            # print(\"TRAIN:\", train_index, \"TEST:\", val_index)\n",
    "            X_train, X_val = X[train_index], X[val_index]\n",
    "            y_train, y_val = y[train_index], y[val_index]\n",
    "            val_pred += accuracy_score(y_val, modeling(model, X_train, y_train, X_val))\n",
    "        arr.append(val_pred/4)\n",
    "    return arr # each models accuracy"
   ]
  },
  {
   "cell_type": "code",
   "execution_count": 59,
   "metadata": {},
   "outputs": [
    {
     "name": "stdout",
     "output_type": "stream",
     "text": [
      "[13:09:40] WARNING: C:/Users/Administrator/workspace/xgboost-win64_release_1.5.0/src/learner.cc:1115: Starting in XGBoost 1.3.0, the default evaluation metric used with the objective 'binary:logistic' was changed from 'error' to 'logloss'. Explicitly set eval_metric if you'd like to restore the old behavior.\n",
      "[13:09:40] WARNING: C:/Users/Administrator/workspace/xgboost-win64_release_1.5.0/src/learner.cc:1115: Starting in XGBoost 1.3.0, the default evaluation metric used with the objective 'binary:logistic' was changed from 'error' to 'logloss'. Explicitly set eval_metric if you'd like to restore the old behavior.\n",
      "[13:09:41] WARNING: C:/Users/Administrator/workspace/xgboost-win64_release_1.5.0/src/learner.cc:1115: Starting in XGBoost 1.3.0, the default evaluation metric used with the objective 'binary:logistic' was changed from 'error' to 'logloss'. Explicitly set eval_metric if you'd like to restore the old behavior.\n",
      "[13:09:41] WARNING: C:/Users/Administrator/workspace/xgboost-win64_release_1.5.0/src/learner.cc:1115: Starting in XGBoost 1.3.0, the default evaluation metric used with the objective 'binary:logistic' was changed from 'error' to 'logloss'. Explicitly set eval_metric if you'd like to restore the old behavior.\n",
      "[13:09:57] WARNING: C:/Users/Administrator/workspace/xgboost-win64_release_1.5.0/src/learner.cc:1115: Starting in XGBoost 1.3.0, the default evaluation metric used with the objective 'binary:logistic' was changed from 'error' to 'logloss'. Explicitly set eval_metric if you'd like to restore the old behavior.\n",
      "[13:09:58] WARNING: C:/Users/Administrator/workspace/xgboost-win64_release_1.5.0/src/learner.cc:1115: Starting in XGBoost 1.3.0, the default evaluation metric used with the objective 'binary:logistic' was changed from 'error' to 'logloss'. Explicitly set eval_metric if you'd like to restore the old behavior.\n",
      "[13:09:58] WARNING: C:/Users/Administrator/workspace/xgboost-win64_release_1.5.0/src/learner.cc:1115: Starting in XGBoost 1.3.0, the default evaluation metric used with the objective 'binary:logistic' was changed from 'error' to 'logloss'. Explicitly set eval_metric if you'd like to restore the old behavior.\n",
      "[13:09:58] WARNING: C:/Users/Administrator/workspace/xgboost-win64_release_1.5.0/src/learner.cc:1115: Starting in XGBoost 1.3.0, the default evaluation metric used with the objective 'binary:logistic' was changed from 'error' to 'logloss'. Explicitly set eval_metric if you'd like to restore the old behavior.\n"
     ]
    }
   ],
   "source": [
    "# ,2,3,4 숫자구분해줘야함\n",
    "X = np.array(X3)\n",
    "ajX = np.array(ajX3)\n",
    "\n",
    "y = y3\n",
    "ajy = ajy3\n",
    "\n",
    "ajX_test = ajX3_test\n",
    "X_test = X3_test\n",
    "\n",
    "y_test = np.array(y3_test)\n",
    "ajy_test = np.array(ajy3_test)\n",
    "\n",
    "vanval = run_skfold(X, y)\n",
    "ajval = run_skfold(ajX,ajy)"
   ]
  },
  {
   "cell_type": "markdown",
   "metadata": {},
   "source": [
    "## **테스트 셋 검증**"
   ]
  },
  {
   "cell_type": "code",
   "execution_count": 60,
   "metadata": {},
   "outputs": [
    {
     "name": "stdout",
     "output_type": "stream",
     "text": [
      "[13:10:04] WARNING: C:/Users/Administrator/workspace/xgboost-win64_release_1.5.0/src/learner.cc:1115: Starting in XGBoost 1.3.0, the default evaluation metric used with the objective 'binary:logistic' was changed from 'error' to 'logloss'. Explicitly set eval_metric if you'd like to restore the old behavior.\n",
      "[13:10:10] WARNING: C:/Users/Administrator/workspace/xgboost-win64_release_1.5.0/src/learner.cc:1115: Starting in XGBoost 1.3.0, the default evaluation metric used with the objective 'binary:logistic' was changed from 'error' to 'logloss'. Explicitly set eval_metric if you'd like to restore the old behavior.\n"
     ]
    }
   ],
   "source": [
    "X, y = RandomUnderSampler(random_state=1).fit_resample(X, y)\n",
    "########################################################################################## 데이터셋 1\n",
    "dt_clf = modeling(DecisionTreeClassifier(), X, y, X_test)\n",
    "rf_clf = modeling(RandomForestClassifier(),X, y, X_test)\n",
    "ada_clf = modeling(AdaBoostClassifier(), X, y, X_test)\n",
    "lg_clf = modeling(LogisticRegression(), X, y, X_test)\n",
    "knn_clf = modeling(KNeighborsClassifier(), X, y, X_test)\n",
    "svc_clf = modeling(SVC(probability=True), X, y, X_test)\n",
    "lgmb_clf = modeling(LGBMClassifier(), X, y, X_test)\n",
    "cat_clf = modeling(CatBoostClassifier(silent=True),X, y, X_test)\n",
    "mlp_clf = modeling(MLPClassifier(),X, y, X_test)\n",
    "xgb_clf = modeling(XGBClassifier(),X, y, X_test)\n",
    "\n",
    "ajX, ajy = RandomUnderSampler(random_state=1).fit_resample(ajX, ajy)\n",
    "########################################################################################## 데이터셋 2\n",
    "ajdt_clf = modeling(DecisionTreeClassifier(), ajX, ajy, ajX_test)\n",
    "ajrf_clf = modeling(RandomForestClassifier(),ajX, ajy, ajX_test)\n",
    "ajada_clf = modeling(AdaBoostClassifier(), ajX, ajy, ajX_test)\n",
    "ajlg_clf = modeling(LogisticRegression(), ajX, ajy, ajX_test)\n",
    "ajknn_clf = modeling(KNeighborsClassifier(), ajX, ajy, ajX_test)\n",
    "ajsvc_clf = modeling(SVC(probability=True), ajX, ajy, ajX_test)\n",
    "ajlgmb_clf = modeling(LGBMClassifier(), ajX, ajy, ajX_test)\n",
    "ajcat_clf = modeling(CatBoostClassifier(silent=True),ajX, ajy, ajX_test)\n",
    "ajmlp_clf = modeling(MLPClassifier(),ajX, ajy, ajX_test)\n",
    "ajxgb_clf = modeling(XGBClassifier(),ajX, ajy, ajX_test)"
   ]
  },
  {
   "cell_type": "code",
   "execution_count": 61,
   "metadata": {},
   "outputs": [
    {
     "name": "stdout",
     "output_type": "stream",
     "text": [
      "accuracy: 0.7274788211430617\n",
      "f1-Score: 0.017211703958691912\n",
      "Recall: 0.6060606060606061\n",
      "Precision: 0.008729812309035356\n",
      "[[6077 2271]\n",
      " [  13   20]]\n"
     ]
    },
    {
     "data": {
      "image/png": "[encoded data removed]",
      "text/plain": [
       "<Figure size 1152x432 with 2 Axes>"
      ]
     },
     "metadata": {
      "needs_background": "light"
     },
     "output_type": "display_data"
    }
   ],
   "source": [
    "from sklearn.metrics import confusion_matrix, ConfusionMatrixDisplay\n",
    "cm = confusion_matrix(y_test, cat_clf)\n",
    "disp = ConfusionMatrixDisplay(confusion_matrix=cm)\n",
    "\n",
    "plt.rcParams['figure.figsize'] = (16,6)\n",
    "disp.plot()\n",
    "\n",
    "scoring(y_test, cat_clf)"
   ]
  },
  {
   "cell_type": "code",
   "execution_count": 62,
   "metadata": {},
   "outputs": [
    {
     "name": "stdout",
     "output_type": "stream",
     "text": [
      "accuracy: 0.7275981386469395\n",
      "f1-Score: 0.018064516129032256\n",
      "Recall: 0.6363636363636364\n",
      "Precision: 0.009162303664921465\n",
      "[[6077 2271]\n",
      " [  12   21]]\n"
     ]
    },
    {
     "data": {
      "image/png": "[encoded data removed]",
      "text/plain": [
       "<Figure size 1152x432 with 2 Axes>"
      ]
     },
     "metadata": {
      "needs_background": "light"
     },
     "output_type": "display_data"
    }
   ],
   "source": [
    "from sklearn.metrics import confusion_matrix, ConfusionMatrixDisplay\n",
    "cm = confusion_matrix(ajy_test, ajcat_clf)\n",
    "disp = ConfusionMatrixDisplay(confusion_matrix=cm)\n",
    "\n",
    "plt.rcParams['figure.figsize'] = (16,6)\n",
    "disp.plot()\n",
    "\n",
    "scoring(ajy_test, ajcat_clf)"
   ]
  },
  {
   "cell_type": "code",
   "execution_count": 133,
   "metadata": {},
   "outputs": [
    {
     "data": {
      "text/plain": [
       "\" for i in arr:\\n    print(scoring(y_test , i))\\n    print('-'*60)\\n\\nfor i in ajarr:\\n    print(scoring(y_test , i))\\n    print('-'*60) \""
      ]
     },
     "execution_count": 133,
     "metadata": {},
     "output_type": "execute_result"
    }
   ],
   "source": [
    "\"\"\" for i in arr:\n",
    "    print(scoring(y_test , i))\n",
    "    print('-'*60)\n",
    "\n",
    "for i in ajarr:\n",
    "    print(scoring(y_test , i))\n",
    "    print('-'*60) \"\"\""
   ]
  },
  {
   "cell_type": "code",
   "execution_count": 134,
   "metadata": {},
   "outputs": [],
   "source": [
    "arr =[dt_clf,rf_clf,ada_clf,lg_clf,knn_clf,svc_clf,lgmb_clf,cat_clf,mlp_clf,xgb_clf]\n",
    "ajarr = [ajdt_clf,ajrf_clf,ajada_clf,ajlg_clf,ajknn_clf,ajsvc_clf,ajlgmb_clf,ajcat_clf,ajmlp_clf,ajxgb_clf]"
   ]
  },
  {
   "cell_type": "code",
   "execution_count": 121,
   "metadata": {},
   "outputs": [],
   "source": [
    "def test_acc(y_true, arr_):\n",
    "    acc = []\n",
    "    for i in arr_:\n",
    "        acc.append(round(accuracy_score(y_true, i),4))\n",
    "    return acc\n",
    "\n",
    "ogntest = test_acc(y_test, arr)\n",
    "ajdtest = test_acc(ajy_test, ajarr)\n",
    "\n",
    "def get_f1(y_true, arr_):\n",
    "    f1 = []\n",
    "    for i in arr_:\n",
    "        f1.append(round(f1_score(y_true, i),4)) # average='weighted'\n",
    "    return f1\n",
    "     \n",
    "ognf1 = get_f1(y_test, arr)\n",
    "ajdf1 = get_f1(ajy_test, ajarr)\n",
    "\n",
    "def get_rc(y_true, arr_):\n",
    "    rc = []\n",
    "    for i in arr_:\n",
    "        rc.append(round(recall_score(y_true, i),4))\n",
    "    return rc\n",
    "\n",
    "ognrc = get_rc(y_test, arr)\n",
    "ajdrc = get_rc(ajy_test, ajarr)\n",
    "\n",
    "def get_pc(y_true, arr_):\n",
    "    pc = []\n",
    "    for i in arr_:\n",
    "        pc.append(round(precision_score(y_true, i, pos_label=1),4))\n",
    "    return pc\n",
    "\n",
    "ognpc = get_pc(y_test, arr)\n",
    "ajdpc = get_pc(ajy_test, ajarr)\n",
    "\n"
   ]
  },
  {
   "cell_type": "code",
   "execution_count": 122,
   "metadata": {},
   "outputs": [],
   "source": [
    "subsetone = pd.DataFrame({'model': mdn, 'SET1 val Accuracy': vanval, 'SET1 test Accuracy' : ogntest, 'SET1 test f1-Score': ognf1, 'SET1 test Precision': ognpc, 'SET1 test Recall': ognrc, \n",
    "                                        'SET2 val Accuracy' : ajval, 'SET2 test Accuracy' : ajdtest, 'SET2 test f1_Score': ajdf1, 'SET2 test Precision': ajdpc, 'SET2 test Recall': ajdrc})\n",
    "subsetone.to_csv('43년차검증.csv', index=False)"
   ]
  },
  {
   "cell_type": "code",
   "execution_count": 123,
   "metadata": {},
   "outputs": [
    {
     "data": {
      "text/html": [
       "<div>\n",
       "<style scoped>\n",
       "    .dataframe tbody tr th:only-of-type {\n",
       "        vertical-align: middle;\n",
       "    }\n",
       "\n",
       "    .dataframe tbody tr th {\n",
       "        vertical-align: top;\n",
       "    }\n",
       "\n",
       "    .dataframe thead th {\n",
       "        text-align: right;\n",
       "    }\n",
       "</style>\n",
       "<table border=\"1\" class=\"dataframe\">\n",
       "  <thead>\n",
       "    <tr style=\"text-align: right;\">\n",
       "      <th></th>\n",
       "      <th>model</th>\n",
       "      <th>SET1 val Accuracy</th>\n",
       "      <th>SET1 test Accuracy</th>\n",
       "      <th>SET1 test f1-Score</th>\n",
       "      <th>SET1 test Precision</th>\n",
       "      <th>SET1 test Recall</th>\n",
       "      <th>SET2 val Accuracy</th>\n",
       "      <th>SET2 test Accuracy</th>\n",
       "      <th>SET2 test f1_Score</th>\n",
       "      <th>SET2 test Precision</th>\n",
       "      <th>SET2 test Recall</th>\n",
       "    </tr>\n",
       "  </thead>\n",
       "  <tbody>\n",
       "    <tr>\n",
       "      <th>0</th>\n",
       "      <td>Decision Tree</td>\n",
       "      <td>0.587100</td>\n",
       "      <td>0.5508</td>\n",
       "      <td>0.7080</td>\n",
       "      <td>0.9950</td>\n",
       "      <td>0.5508</td>\n",
       "      <td>0.595015</td>\n",
       "      <td>0.6142</td>\n",
       "      <td>0.7587</td>\n",
       "      <td>0.9950</td>\n",
       "      <td>0.6142</td>\n",
       "    </tr>\n",
       "    <tr>\n",
       "      <th>1</th>\n",
       "      <td>Random Forest</td>\n",
       "      <td>0.676817</td>\n",
       "      <td>0.6333</td>\n",
       "      <td>0.7730</td>\n",
       "      <td>0.9955</td>\n",
       "      <td>0.6333</td>\n",
       "      <td>0.672814</td>\n",
       "      <td>0.6569</td>\n",
       "      <td>0.7905</td>\n",
       "      <td>0.9956</td>\n",
       "      <td>0.6569</td>\n",
       "    </tr>\n",
       "    <tr>\n",
       "      <th>2</th>\n",
       "      <td>Adaboost</td>\n",
       "      <td>0.647717</td>\n",
       "      <td>0.6584</td>\n",
       "      <td>0.7916</td>\n",
       "      <td>0.9957</td>\n",
       "      <td>0.6584</td>\n",
       "      <td>0.660951</td>\n",
       "      <td>0.6782</td>\n",
       "      <td>0.8059</td>\n",
       "      <td>0.9949</td>\n",
       "      <td>0.6782</td>\n",
       "    </tr>\n",
       "    <tr>\n",
       "      <th>3</th>\n",
       "      <td>logistic</td>\n",
       "      <td>0.650522</td>\n",
       "      <td>0.5399</td>\n",
       "      <td>0.6988</td>\n",
       "      <td>0.9952</td>\n",
       "      <td>0.5399</td>\n",
       "      <td>0.651692</td>\n",
       "      <td>0.7479</td>\n",
       "      <td>0.8533</td>\n",
       "      <td>0.9958</td>\n",
       "      <td>0.7479</td>\n",
       "    </tr>\n",
       "    <tr>\n",
       "      <th>4</th>\n",
       "      <td>KNN</td>\n",
       "      <td>0.613429</td>\n",
       "      <td>0.6582</td>\n",
       "      <td>0.7914</td>\n",
       "      <td>0.9956</td>\n",
       "      <td>0.6582</td>\n",
       "      <td>0.625334</td>\n",
       "      <td>0.6588</td>\n",
       "      <td>0.7919</td>\n",
       "      <td>0.9954</td>\n",
       "      <td>0.6588</td>\n",
       "    </tr>\n",
       "    <tr>\n",
       "      <th>5</th>\n",
       "      <td>SVC</td>\n",
       "      <td>0.529101</td>\n",
       "      <td>0.0028</td>\n",
       "      <td>0.0003</td>\n",
       "      <td>0.9974</td>\n",
       "      <td>0.0028</td>\n",
       "      <td>0.525007</td>\n",
       "      <td>0.0029</td>\n",
       "      <td>0.0005</td>\n",
       "      <td>0.9974</td>\n",
       "      <td>0.0029</td>\n",
       "    </tr>\n",
       "    <tr>\n",
       "      <th>6</th>\n",
       "      <td>lightGBM</td>\n",
       "      <td>0.649088</td>\n",
       "      <td>0.5902</td>\n",
       "      <td>0.7399</td>\n",
       "      <td>0.9952</td>\n",
       "      <td>0.5902</td>\n",
       "      <td>0.641124</td>\n",
       "      <td>0.6219</td>\n",
       "      <td>0.7645</td>\n",
       "      <td>0.9951</td>\n",
       "      <td>0.6219</td>\n",
       "    </tr>\n",
       "    <tr>\n",
       "      <th>7</th>\n",
       "      <td>Catboost</td>\n",
       "      <td>0.672814</td>\n",
       "      <td>0.6388</td>\n",
       "      <td>0.7771</td>\n",
       "      <td>0.9957</td>\n",
       "      <td>0.6388</td>\n",
       "      <td>0.668839</td>\n",
       "      <td>0.6692</td>\n",
       "      <td>0.7994</td>\n",
       "      <td>0.9956</td>\n",
       "      <td>0.6692</td>\n",
       "    </tr>\n",
       "    <tr>\n",
       "      <th>8</th>\n",
       "      <td>MLP</td>\n",
       "      <td>0.608194</td>\n",
       "      <td>0.4868</td>\n",
       "      <td>0.6522</td>\n",
       "      <td>0.9959</td>\n",
       "      <td>0.4868</td>\n",
       "      <td>0.604198</td>\n",
       "      <td>0.4010</td>\n",
       "      <td>0.5698</td>\n",
       "      <td>0.9953</td>\n",
       "      <td>0.4010</td>\n",
       "    </tr>\n",
       "    <tr>\n",
       "      <th>9</th>\n",
       "      <td>Xgboost</td>\n",
       "      <td>0.635874</td>\n",
       "      <td>0.5947</td>\n",
       "      <td>0.7435</td>\n",
       "      <td>0.9950</td>\n",
       "      <td>0.5947</td>\n",
       "      <td>0.653056</td>\n",
       "      <td>0.6202</td>\n",
       "      <td>0.7633</td>\n",
       "      <td>0.9951</td>\n",
       "      <td>0.6202</td>\n",
       "    </tr>\n",
       "  </tbody>\n",
       "</table>\n",
       "</div>"
      ],
      "text/plain": [
       "           model  SET1 val Accuracy  SET1 test Accuracy  SET1 test f1-Score  \\\n",
       "0  Decision Tree           0.587100              0.5508              0.7080   \n",
       "1  Random Forest           0.676817              0.6333              0.7730   \n",
       "2       Adaboost           0.647717              0.6584              0.7916   \n",
       "3       logistic           0.650522              0.5399              0.6988   \n",
       "4            KNN           0.613429              0.6582              0.7914   \n",
       "5            SVC           0.529101              0.0028              0.0003   \n",
       "6       lightGBM           0.649088              0.5902              0.7399   \n",
       "7       Catboost           0.672814              0.6388              0.7771   \n",
       "8            MLP           0.608194              0.4868              0.6522   \n",
       "9        Xgboost           0.635874              0.5947              0.7435   \n",
       "\n",
       "   SET1 test Precision  SET1 test Recall  SET2 val Accuracy  \\\n",
       "0               0.9950            0.5508           0.595015   \n",
       "1               0.9955            0.6333           0.672814   \n",
       "2               0.9957            0.6584           0.660951   \n",
       "3               0.9952            0.5399           0.651692   \n",
       "4               0.9956            0.6582           0.625334   \n",
       "5               0.9974            0.0028           0.525007   \n",
       "6               0.9952            0.5902           0.641124   \n",
       "7               0.9957            0.6388           0.668839   \n",
       "8               0.9959            0.4868           0.604198   \n",
       "9               0.9950            0.5947           0.653056   \n",
       "\n",
       "   SET2 test Accuracy  SET2 test f1_Score  SET2 test Precision  \\\n",
       "0              0.6142              0.7587               0.9950   \n",
       "1              0.6569              0.7905               0.9956   \n",
       "2              0.6782              0.8059               0.9949   \n",
       "3              0.7479              0.8533               0.9958   \n",
       "4              0.6588              0.7919               0.9954   \n",
       "5              0.0029              0.0005               0.9974   \n",
       "6              0.6219              0.7645               0.9951   \n",
       "7              0.6692              0.7994               0.9956   \n",
       "8              0.4010              0.5698               0.9953   \n",
       "9              0.6202              0.7633               0.9951   \n",
       "\n",
       "   SET2 test Recall  \n",
       "0            0.6142  \n",
       "1            0.6569  \n",
       "2            0.6782  \n",
       "3            0.7479  \n",
       "4            0.6588  \n",
       "5            0.0029  \n",
       "6            0.6219  \n",
       "7            0.6692  \n",
       "8            0.4010  \n",
       "9            0.6202  "
      ]
     },
     "execution_count": 123,
     "metadata": {},
     "output_type": "execute_result"
    }
   ],
   "source": [
    "asd = pd.read_csv(r'C:\\Users\\JH\\Desktop\\Final\\Ubion-CorporateBankruptcyAnalysis\\Code\\JH\\code\\modeling\\4년차검증.csv')\n",
    "asd"
   ]
  },
  {
   "cell_type": "code",
   "execution_count": 73,
   "metadata": {},
   "outputs": [
    {
     "name": "stdout",
     "output_type": "stream",
     "text": [
      "accuracy: 0.8368558951965066\n",
      "f1-Score: 0.9051778370849546\n",
      "Recall: 0.8368558951965066\n",
      "Precision: 0.03134796238244514\n",
      "[[4761  927]\n",
      " [   7   30]]\n"
     ]
    }
   ],
   "source": [
    "scoring(y_test, cat_clf)"
   ]
  },
  {
   "cell_type": "code",
   "execution_count": 124,
   "metadata": {},
   "outputs": [
    {
     "data": {
      "text/plain": [
       "<sklearn.metrics._plot.confusion_matrix.ConfusionMatrixDisplay at 0x16b26d2c580>"
      ]
     },
     "execution_count": 124,
     "metadata": {},
     "output_type": "execute_result"
    },
    {
     "data": {
      "image/png": "[encoded data removed]",
      "text/plain": [
       "<Figure size 1152x432 with 2 Axes>"
      ]
     },
     "metadata": {
      "needs_background": "light"
     },
     "output_type": "display_data"
    }
   ],
   "source": [
    "from sklearn.metrics import confusion_matrix, ConfusionMatrixDisplay\n",
    "cm = confusion_matrix(y_test, ajcat_clf)\n",
    "disp = ConfusionMatrixDisplay(confusion_matrix=cm)\n",
    "\n",
    "\n",
    "plt.rcParams['figure.figsize'] = (16,6)\n",
    "disp.plot()"
   ]
  },
  {
   "cell_type": "code",
   "execution_count": 89,
   "metadata": {},
   "outputs": [
    {
     "data": {
      "text/html": [
       "<div>\n",
       "<style scoped>\n",
       "    .dataframe tbody tr th:only-of-type {\n",
       "        vertical-align: middle;\n",
       "    }\n",
       "\n",
       "    .dataframe tbody tr th {\n",
       "        vertical-align: top;\n",
       "    }\n",
       "\n",
       "    .dataframe thead th {\n",
       "        text-align: right;\n",
       "    }\n",
       "</style>\n",
       "<table border=\"1\" class=\"dataframe\">\n",
       "  <thead>\n",
       "    <tr style=\"text-align: right;\">\n",
       "      <th></th>\n",
       "      <th>model</th>\n",
       "      <th>SET1 test f1-Score</th>\n",
       "      <th>SET1 test Precision</th>\n",
       "      <th>SET1 test Recall</th>\n",
       "    </tr>\n",
       "  </thead>\n",
       "  <tbody>\n",
       "    <tr>\n",
       "      <th>5</th>\n",
       "      <td>SVC</td>\n",
       "      <td>0.0124</td>\n",
       "      <td>0.0062</td>\n",
       "      <td>1.0000</td>\n",
       "    </tr>\n",
       "    <tr>\n",
       "      <th>0</th>\n",
       "      <td>Decision Tree</td>\n",
       "      <td>0.0364</td>\n",
       "      <td>0.0186</td>\n",
       "      <td>0.8302</td>\n",
       "    </tr>\n",
       "    <tr>\n",
       "      <th>8</th>\n",
       "      <td>MLP</td>\n",
       "      <td>0.0539</td>\n",
       "      <td>0.0278</td>\n",
       "      <td>0.8113</td>\n",
       "    </tr>\n",
       "    <tr>\n",
       "      <th>1</th>\n",
       "      <td>Random Forest</td>\n",
       "      <td>0.0519</td>\n",
       "      <td>0.0268</td>\n",
       "      <td>0.7925</td>\n",
       "    </tr>\n",
       "    <tr>\n",
       "      <th>6</th>\n",
       "      <td>lightGBM</td>\n",
       "      <td>0.0472</td>\n",
       "      <td>0.0243</td>\n",
       "      <td>0.7925</td>\n",
       "    </tr>\n",
       "    <tr>\n",
       "      <th>9</th>\n",
       "      <td>Xgboost</td>\n",
       "      <td>0.0488</td>\n",
       "      <td>0.0252</td>\n",
       "      <td>0.7925</td>\n",
       "    </tr>\n",
       "    <tr>\n",
       "      <th>7</th>\n",
       "      <td>Catboost</td>\n",
       "      <td>0.0533</td>\n",
       "      <td>0.0276</td>\n",
       "      <td>0.7736</td>\n",
       "    </tr>\n",
       "    <tr>\n",
       "      <th>2</th>\n",
       "      <td>Adaboost</td>\n",
       "      <td>0.0487</td>\n",
       "      <td>0.0251</td>\n",
       "      <td>0.7547</td>\n",
       "    </tr>\n",
       "    <tr>\n",
       "      <th>3</th>\n",
       "      <td>logistic</td>\n",
       "      <td>0.0640</td>\n",
       "      <td>0.0336</td>\n",
       "      <td>0.6792</td>\n",
       "    </tr>\n",
       "    <tr>\n",
       "      <th>4</th>\n",
       "      <td>KNN</td>\n",
       "      <td>0.0534</td>\n",
       "      <td>0.0278</td>\n",
       "      <td>0.6792</td>\n",
       "    </tr>\n",
       "  </tbody>\n",
       "</table>\n",
       "</div>"
      ],
      "text/plain": [
       "           model  SET1 test f1-Score  SET1 test Precision  SET1 test Recall\n",
       "5            SVC              0.0124               0.0062            1.0000\n",
       "0  Decision Tree              0.0364               0.0186            0.8302\n",
       "8            MLP              0.0539               0.0278            0.8113\n",
       "1  Random Forest              0.0519               0.0268            0.7925\n",
       "6       lightGBM              0.0472               0.0243            0.7925\n",
       "9        Xgboost              0.0488               0.0252            0.7925\n",
       "7       Catboost              0.0533               0.0276            0.7736\n",
       "2       Adaboost              0.0487               0.0251            0.7547\n",
       "3       logistic              0.0640               0.0336            0.6792\n",
       "4            KNN              0.0534               0.0278            0.6792"
      ]
     },
     "execution_count": 89,
     "metadata": {},
     "output_type": "execute_result"
    }
   ],
   "source": [
    "asd[['model','SET1 test f1-Score','SET1 test Precision','SET1 test Recall']].sort_values(by='SET1 test Recall', ascending=False)"
   ]
  },
  {
   "cell_type": "code",
   "execution_count": 90,
   "metadata": {},
   "outputs": [
    {
     "data": {
      "text/html": [
       "<div>\n",
       "<style scoped>\n",
       "    .dataframe tbody tr th:only-of-type {\n",
       "        vertical-align: middle;\n",
       "    }\n",
       "\n",
       "    .dataframe tbody tr th {\n",
       "        vertical-align: top;\n",
       "    }\n",
       "\n",
       "    .dataframe thead th {\n",
       "        text-align: right;\n",
       "    }\n",
       "</style>\n",
       "<table border=\"1\" class=\"dataframe\">\n",
       "  <thead>\n",
       "    <tr style=\"text-align: right;\">\n",
       "      <th></th>\n",
       "      <th>model</th>\n",
       "      <th>SET2 test f1_Score</th>\n",
       "      <th>SET2 test Precision</th>\n",
       "      <th>SET2 test Recall</th>\n",
       "    </tr>\n",
       "  </thead>\n",
       "  <tbody>\n",
       "    <tr>\n",
       "      <th>5</th>\n",
       "      <td>SVC</td>\n",
       "      <td>0.0124</td>\n",
       "      <td>0.0062</td>\n",
       "      <td>1.0000</td>\n",
       "    </tr>\n",
       "    <tr>\n",
       "      <th>1</th>\n",
       "      <td>Random Forest</td>\n",
       "      <td>0.0648</td>\n",
       "      <td>0.0337</td>\n",
       "      <td>0.8302</td>\n",
       "    </tr>\n",
       "    <tr>\n",
       "      <th>7</th>\n",
       "      <td>Catboost</td>\n",
       "      <td>0.0643</td>\n",
       "      <td>0.0335</td>\n",
       "      <td>0.8302</td>\n",
       "    </tr>\n",
       "    <tr>\n",
       "      <th>2</th>\n",
       "      <td>Adaboost</td>\n",
       "      <td>0.0553</td>\n",
       "      <td>0.0286</td>\n",
       "      <td>0.8113</td>\n",
       "    </tr>\n",
       "    <tr>\n",
       "      <th>6</th>\n",
       "      <td>lightGBM</td>\n",
       "      <td>0.0583</td>\n",
       "      <td>0.0303</td>\n",
       "      <td>0.8113</td>\n",
       "    </tr>\n",
       "    <tr>\n",
       "      <th>0</th>\n",
       "      <td>Decision Tree</td>\n",
       "      <td>0.0338</td>\n",
       "      <td>0.0173</td>\n",
       "      <td>0.7547</td>\n",
       "    </tr>\n",
       "    <tr>\n",
       "      <th>8</th>\n",
       "      <td>MLP</td>\n",
       "      <td>0.0472</td>\n",
       "      <td>0.0243</td>\n",
       "      <td>0.7547</td>\n",
       "    </tr>\n",
       "    <tr>\n",
       "      <th>9</th>\n",
       "      <td>Xgboost</td>\n",
       "      <td>0.0540</td>\n",
       "      <td>0.0280</td>\n",
       "      <td>0.7547</td>\n",
       "    </tr>\n",
       "    <tr>\n",
       "      <th>3</th>\n",
       "      <td>logistic</td>\n",
       "      <td>0.0489</td>\n",
       "      <td>0.0253</td>\n",
       "      <td>0.6981</td>\n",
       "    </tr>\n",
       "    <tr>\n",
       "      <th>4</th>\n",
       "      <td>KNN</td>\n",
       "      <td>0.0552</td>\n",
       "      <td>0.0288</td>\n",
       "      <td>0.6792</td>\n",
       "    </tr>\n",
       "  </tbody>\n",
       "</table>\n",
       "</div>"
      ],
      "text/plain": [
       "           model  SET2 test f1_Score  SET2 test Precision  SET2 test Recall\n",
       "5            SVC              0.0124               0.0062            1.0000\n",
       "1  Random Forest              0.0648               0.0337            0.8302\n",
       "7       Catboost              0.0643               0.0335            0.8302\n",
       "2       Adaboost              0.0553               0.0286            0.8113\n",
       "6       lightGBM              0.0583               0.0303            0.8113\n",
       "0  Decision Tree              0.0338               0.0173            0.7547\n",
       "8            MLP              0.0472               0.0243            0.7547\n",
       "9        Xgboost              0.0540               0.0280            0.7547\n",
       "3       logistic              0.0489               0.0253            0.6981\n",
       "4            KNN              0.0552               0.0288            0.6792"
      ]
     },
     "execution_count": 90,
     "metadata": {},
     "output_type": "execute_result"
    }
   ],
   "source": [
    "asd[['model','SET2 test f1_Score','SET2 test Precision','SET2 test Recall']].sort_values(by='SET2 test Recall', ascending=False)"
   ]
  },
  {
   "cell_type": "code",
   "execution_count": null,
   "metadata": {},
   "outputs": [],
   "source": []
  }
 ],
 "metadata": {
  "interpreter": {
   "hash": "71b59b5ba49ad06bb2a011e750699e3983d230921f30bf7f37eb3a01ae69aa26"
  },
  "kernelspec": {
   "display_name": "Python 3.9.6 64-bit",
   "language": "python",
   "name": "python3"
  },
  "language_info": {
   "codemirror_mode": {
    "name": "ipython",
    "version": 3
   },
   "file_extension": ".py",
   "mimetype": "text/x-python",
   "name": "python",
   "nbconvert_exporter": "python",
   "pygments_lexer": "ipython3",
   "version": "3.9.6"
  },
  "orig_nbformat": 4
 },
 "nbformat": 4,
 "nbformat_minor": 2
}
