{
 "cells": [
  {
   "cell_type": "markdown",
   "metadata": {},
   "source": [
    "# **라이브러리**"
   ]
  },
  {
   "cell_type": "code",
   "execution_count": 1,
   "metadata": {},
   "outputs": [],
   "source": [
    "import pandas as pd\n",
    "import numpy as np\n",
    "\n",
    "from imblearn.under_sampling import *\n",
    "from sklearn.model_selection import train_test_split\n",
    "from sklearn.metrics import roc_curve\n",
    "\n",
    "from sklearn.linear_model import LogisticRegression\n",
    "from sklearn.tree import DecisionTreeClassifier\n",
    "from sklearn.ensemble import RandomForestClassifier\n",
    "from sklearn.ensemble import AdaBoostClassifier\n",
    "from sklearn.neighbors import KNeighborsClassifier\n",
    "from sklearn.svm import SVC\n",
    "from lightgbm import LGBMClassifier\n",
    "from catboost import CatBoostClassifier\n",
    "from sklearn.neural_network import MLPClassifier\n",
    "from xgboost import XGBClassifier\n",
    "\n",
    "from sklearn.metrics import f1_score, recall_score, precision_score, accuracy_score, confusion_matrix, roc_auc_score\n",
    "import warnings\n",
    "warnings.filterwarnings(action='ignore')\n",
    "\n",
    "import matplotlib.pyplot as plt\n",
    "\n",
    "plt.rcParams['font.family'] = 'malgun gothic'"
   ]
  },
  {
   "cell_type": "markdown",
   "metadata": {},
   "source": [
    "# **함수모음**"
   ]
  },
  {
   "cell_type": "markdown",
   "metadata": {},
   "source": [
    "## **모델링**"
   ]
  },
  {
   "cell_type": "code",
   "execution_count": 2,
   "metadata": {},
   "outputs": [],
   "source": [
    "def modeling(model, X, y, test):    \n",
    "    model.fit(X, y)\n",
    "    pred = model.predict_proba(test)\n",
    "    pred = (pred[:,0] < 0.5)*1         # threshold 부도기업일 확률이 10% 이상이면 부도로 판단해라.\n",
    "    return pred\n",
    "\n",
    "def modeling_(model, X, y, test):    \n",
    "    model.fit(X, y)\n",
    "    pred = model.predict_proba(test)\n",
    "    pred = (pred[:,0] < optimal_threshold)*1         # threshold 부도기업일 확률이 10% 이상이면 부도로 판단해라.\n",
    "    return pred\n",
    "\n",
    "######################################## Split train, test\n",
    "def splittrain(data):\n",
    "    subdata = data.sort_values(by='년').reset_index(drop=True)\n",
    "    data = subdata.loc[subdata['년'] < 2016]\n",
    "    return data\n",
    "\n",
    "def splittesst(data):\n",
    "    global test\n",
    "    subdata = data.sort_values(by='년').reset_index(drop=True)\n",
    "    test = subdata.loc[subdata['년'] >= 2016]\n",
    "    return test"
   ]
  },
  {
   "cell_type": "markdown",
   "metadata": {},
   "source": [
    "## **스코어**"
   ]
  },
  {
   "cell_type": "code",
   "execution_count": 3,
   "metadata": {},
   "outputs": [],
   "source": [
    "def scoring(y_true, y_pred):\n",
    "    \"\"\" print('accuracy:', accuracy_score(y_true,y_pred))\n",
    "    print('f1-Score:', f1_score(y_true, y_pred))\n",
    "    print('Recall:',recall_score(y_true, y_pred))\n",
    "    print('Precision:',precision_score(y_true, y_pred)) \"\"\"\n",
    "    result = print(confusion_matrix(y_true, y_pred))\n",
    "    return result"
   ]
  },
  {
   "cell_type": "markdown",
   "metadata": {},
   "source": [
    "# **데이터 나누기**"
   ]
  },
  {
   "cell_type": "code",
   "execution_count": 4,
   "metadata": {},
   "outputs": [
    {
     "data": {
      "text/plain": [
       "Index(['회사명', '경영자산비율', '부채구성비율', '유형자산회전율', '자기자본배율', '유동비율', '총자본순이익률',\n",
       "       '자기자본영업이익률', '경영자본영업이익률', '매출액증가율', '총자본투자효율', '영업이익증가율', '매출채권회수기간',\n",
       "       '대표이사_변경', '최대주주_변경', '횡령배임', '출자목적_투자', '출자목적_경영권', '출자목적_영업이익',\n",
       "       '신종채권자금조달방식_사모', '신종채권자금조달방식_공모', 'key', '부도'],\n",
       "      dtype='object')"
      ]
     },
     "execution_count": 4,
     "metadata": {},
     "output_type": "execute_result"
    }
   ],
   "source": [
    "ajdataset = pd.read_csv(r'C:\\Users\\JH\\Desktop\\Final\\Ubion-CorporateBankruptcyAnalysis\\Code\\JH\\data\\ver3\\year0.csv')\n",
    "ajdataset1 = pd.read_csv(r'C:\\Users\\JH\\Desktop\\Final\\Ubion-CorporateBankruptcyAnalysis\\Code\\JH\\data\\ver3\\year1.csv')\n",
    "ajdataset2 = pd.read_csv(r'C:\\Users\\JH\\Desktop\\Final\\Ubion-CorporateBankruptcyAnalysis\\Code\\JH\\data\\ver3\\year2.csv')\n",
    "ajdataset3 = pd.read_csv(r'C:\\Users\\JH\\Desktop\\Final\\Ubion-CorporateBankruptcyAnalysis\\Code\\JH\\data\\ver3\\year3.csv')\n",
    "ajdataset4 = pd.read_csv(r'C:\\Users\\JH\\Desktop\\Final\\Ubion-CorporateBankruptcyAnalysis\\Code\\JH\\data\\ver3\\year4.csv')\n",
    "\n",
    "ajdataset.columns"
   ]
  },
  {
   "cell_type": "code",
   "execution_count": 5,
   "metadata": {},
   "outputs": [],
   "source": [
    "ajdataset['년'] = ajdataset['key'].astype(int).astype(str).str[-4:]\n",
    "ajdataset['년'] = ajdataset['년'].astype(int)\n",
    "ajdataset1['년'] = ajdataset1['key'].astype(int).astype(str).str[-4:]\n",
    "ajdataset1['년'] = ajdataset1['년'].astype(int)\n",
    "ajdataset2['년'] = ajdataset2['key'].astype(int).astype(str).str[-4:]\n",
    "ajdataset2['년'] = ajdataset2['년'].astype(int)\n",
    "ajdataset3['년'] = ajdataset3['key'].astype(int).astype(str).str[-4:]\n",
    "ajdataset3['년'] = ajdataset3['년'].astype(int)\n",
    "ajdataset4['년'] = ajdataset4['key'].astype(int).astype(str).str[-4:]\n",
    "ajdataset4['년'] = ajdataset4['년'].astype(int)\n",
    "\n",
    "\n",
    "drop_features= ['회사명','부도','key','년']"
   ]
  },
  {
   "cell_type": "code",
   "execution_count": 6,
   "metadata": {},
   "outputs": [
    {
     "data": {
      "text/plain": [
       "Index(['회사명', 'key', '년', '경영자산비율', '부채구성비율', '유형자산회전율', '자기자본배율', '유동비율',\n",
       "       '총자본순이익률', '자기자본영업이익률', '경영자본영업이익률', '매출액증가율', '총자본투자효율', '영업이익증가율',\n",
       "       '매출채권회수기간', '부도'],\n",
       "      dtype='object')"
      ]
     },
     "execution_count": 6,
     "metadata": {},
     "output_type": "execute_result"
    }
   ],
   "source": [
    "usecol = ['회사명','key','년','경영자산비율', '부채구성비율', '유형자산회전율', '자기자본배율', '유동비율', '총자본순이익률','자기자본영업이익률', '경영자본영업이익률', '매출액증가율', '총자본투자효율', '영업이익증가율', '매출채권회수기간','부도']\n",
    "dataset = ajdataset[usecol]\n",
    "dataset1 = ajdataset1[usecol]\n",
    "dataset2 = ajdataset2[usecol]\n",
    "dataset3 = ajdataset3[usecol]\n",
    "dataset4 = ajdataset4[usecol]\n",
    "\n",
    "dataset.columns"
   ]
  },
  {
   "cell_type": "code",
   "execution_count": 7,
   "metadata": {},
   "outputs": [],
   "source": [
    "dataset_ = splittrain(dataset)\n",
    "test_ = splittesst(dataset)\n",
    "dataset1_ = splittrain(dataset1)\n",
    "test1_ = splittesst(dataset1)\n",
    "dataset2_ = splittrain(dataset2)\n",
    "test2_ = splittesst(dataset2)\n",
    "dataset3_ = splittrain(dataset3)\n",
    "test3_ = splittesst(dataset3)\n",
    "dataset4_ = splittrain(dataset4)\n",
    "test4_ = splittesst(dataset4)\n",
    "\n",
    "ajdataset_ = splittrain(ajdataset)\n",
    "ajtest_ = splittesst(ajdataset)\n",
    "ajdataset1_ = splittrain(ajdataset1)\n",
    "ajtest1_ = splittesst(ajdataset1)\n",
    "ajdataset2_ = splittrain(ajdataset2)\n",
    "ajtest2_ = splittesst(ajdataset2)\n",
    "ajdataset3_ = splittrain(ajdataset3)\n",
    "ajtest3_ = splittesst(ajdataset3)\n",
    "ajdataset4_ = splittrain(ajdataset4)\n",
    "ajtest4_ = splittesst(ajdataset4)\n"
   ]
  },
  {
   "cell_type": "markdown",
   "metadata": {},
   "source": [
    "## **세트 1. 재무데이터 train,test 분리**"
   ]
  },
  {
   "cell_type": "code",
   "execution_count": 8,
   "metadata": {},
   "outputs": [
    {
     "name": "stdout",
     "output_type": "stream",
     "text": [
      "(9003, 12) (9003,)\n"
     ]
    }
   ],
   "source": [
    "X = dataset_.drop(drop_features, axis=1)\n",
    "X1 = dataset1_.drop(drop_features, axis=1)\n",
    "X2 = dataset2_.drop(drop_features, axis=1)\n",
    "X3 = dataset3_.drop(drop_features, axis=1)\n",
    "X4 = dataset4_.drop(drop_features, axis=1)\n",
    "\n",
    "y = dataset_['부도']\n",
    "y1 = dataset1_['부도']\n",
    "y2 = dataset2_['부도']\n",
    "y3 = dataset3_['부도']\n",
    "y4 = dataset4_['부도']\n",
    "\n",
    "X_test =test_.drop(drop_features, axis=1)\n",
    "X1_test =test1_.drop(drop_features, axis=1)\n",
    "X2_test =test2_.drop(drop_features, axis=1)\n",
    "X3_test =test3_.drop(drop_features, axis=1)\n",
    "X4_test =test4_.drop(drop_features, axis=1)\n",
    "\n",
    "y_test= test_['부도']\n",
    "y1_test =test1_['부도']\n",
    "y2_test =test2_['부도']\n",
    "y3_test =test3_['부도']\n",
    "y4_test =test4_['부도']\n",
    "\n",
    "print(X3_test.shape, y3_test.shape)\n"
   ]
  },
  {
   "cell_type": "markdown",
   "metadata": {},
   "source": [
    "## **세트2 재무 + 비재무데이터 train, test 분리**"
   ]
  },
  {
   "cell_type": "code",
   "execution_count": 9,
   "metadata": {},
   "outputs": [
    {
     "name": "stdout",
     "output_type": "stream",
     "text": [
      "(9003, 20) (9003,)\n"
     ]
    }
   ],
   "source": [
    "ajX = ajdataset_.drop(drop_features, axis=1)\n",
    "ajX1 = ajdataset1_.drop(drop_features, axis=1)\n",
    "ajX2 = ajdataset2_.drop(drop_features, axis=1)\n",
    "ajX3 = ajdataset3_.drop(drop_features, axis=1)\n",
    "ajX4 = ajdataset4_.drop(drop_features, axis=1)\n",
    "\n",
    "ajy = ajdataset_['부도']\n",
    "ajy1 = ajdataset1_['부도']\n",
    "ajy2 = ajdataset2_['부도']\n",
    "ajy3 = ajdataset3_['부도']\n",
    "ajy4 = ajdataset4_['부도']\n",
    "\n",
    "ajX_test =ajtest_.drop(drop_features, axis=1)\n",
    "ajX1_test =ajtest1_.drop(drop_features, axis=1)\n",
    "ajX2_test =ajtest2_.drop(drop_features, axis=1)\n",
    "ajX3_test =ajtest3_.drop(drop_features, axis=1)\n",
    "ajX4_test =ajtest4_.drop(drop_features, axis=1)\n",
    "\n",
    "ajy_test= ajtest_['부도']\n",
    "ajy1_test =ajtest1_['부도']\n",
    "ajy2_test =ajtest2_['부도']\n",
    "ajy3_test =ajtest3_['부도']\n",
    "ajy4_test =ajtest4_['부도']\n",
    "\n",
    "print(ajX3_test.shape, ajy3_test.shape)"
   ]
  },
  {
   "cell_type": "markdown",
   "metadata": {},
   "source": [
    "# **YEAR**"
   ]
  },
  {
   "cell_type": "markdown",
   "metadata": {},
   "source": [
    "# **데이터 검증 및 언더샘플링**"
   ]
  },
  {
   "cell_type": "code",
   "execution_count": 10,
   "metadata": {},
   "outputs": [],
   "source": [
    "from sklearn.model_selection import StratifiedKFold\n",
    "import numpy as np\n",
    "\n",
    "mdn = ['Decision Tree','Random Forest','Adaboost','logistic', 'KNN','SVC','lightGBM','Catboost','MLP','Xgboost']\n",
    "\n",
    "def run_skfold(feature, target):\n",
    "    X, y = RandomUnderSampler(random_state=1).fit_resample(feature, target) # RandomUnderSampling\n",
    "    skf = StratifiedKFold(n_splits=4, shuffle=True)\n",
    "    arr = [] # Validation Set's Accuracy\n",
    "    models = [DecisionTreeClassifier(),RandomForestClassifier(),AdaBoostClassifier(),LogisticRegression(),KNeighborsClassifier(),\n",
    "    SVC(probability=True),LGBMClassifier(),CatBoostClassifier(silent=True),MLPClassifier(),XGBClassifier()]\n",
    "\n",
    "    for model in models:\n",
    "        val_pred = 0\n",
    "        for train_index, val_index in skf.split(X,y):\n",
    "            # print(\"TRAIN:\", train_index, \"TEST:\", val_index)\n",
    "            X_train, X_val = X[train_index], X[val_index]\n",
    "            y_train, y_val = y[train_index], y[val_index]\n",
    "            val_pred += accuracy_score(y_val, modeling(model, X_train, y_train, X_val))\n",
    "        arr.append(val_pred/4)\n",
    "    return arr # each models accuracy"
   ]
  },
  {
   "cell_type": "code",
   "execution_count": 11,
   "metadata": {},
   "outputs": [
    {
     "name": "stdout",
     "output_type": "stream",
     "text": [
      "[14:50:06] WARNING: C:/Users/Administrator/workspace/xgboost-win64_release_1.5.0/src/learner.cc:1115: Starting in XGBoost 1.3.0, the default evaluation metric used with the objective 'binary:logistic' was changed from 'error' to 'logloss'. Explicitly set eval_metric if you'd like to restore the old behavior.\n",
      "[14:50:07] WARNING: C:/Users/Administrator/workspace/xgboost-win64_release_1.5.0/src/learner.cc:1115: Starting in XGBoost 1.3.0, the default evaluation metric used with the objective 'binary:logistic' was changed from 'error' to 'logloss'. Explicitly set eval_metric if you'd like to restore the old behavior.\n",
      "[14:50:07] WARNING: C:/Users/Administrator/workspace/xgboost-win64_release_1.5.0/src/learner.cc:1115: Starting in XGBoost 1.3.0, the default evaluation metric used with the objective 'binary:logistic' was changed from 'error' to 'logloss'. Explicitly set eval_metric if you'd like to restore the old behavior.\n",
      "[14:50:07] WARNING: C:/Users/Administrator/workspace/xgboost-win64_release_1.5.0/src/learner.cc:1115: Starting in XGBoost 1.3.0, the default evaluation metric used with the objective 'binary:logistic' was changed from 'error' to 'logloss'. Explicitly set eval_metric if you'd like to restore the old behavior.\n",
      "[14:50:22] WARNING: C:/Users/Administrator/workspace/xgboost-win64_release_1.5.0/src/learner.cc:1115: Starting in XGBoost 1.3.0, the default evaluation metric used with the objective 'binary:logistic' was changed from 'error' to 'logloss'. Explicitly set eval_metric if you'd like to restore the old behavior.\n",
      "[14:50:22] WARNING: C:/Users/Administrator/workspace/xgboost-win64_release_1.5.0/src/learner.cc:1115: Starting in XGBoost 1.3.0, the default evaluation metric used with the objective 'binary:logistic' was changed from 'error' to 'logloss'. Explicitly set eval_metric if you'd like to restore the old behavior.\n",
      "[14:50:22] WARNING: C:/Users/Administrator/workspace/xgboost-win64_release_1.5.0/src/learner.cc:1115: Starting in XGBoost 1.3.0, the default evaluation metric used with the objective 'binary:logistic' was changed from 'error' to 'logloss'. Explicitly set eval_metric if you'd like to restore the old behavior.\n",
      "[14:50:23] WARNING: C:/Users/Administrator/workspace/xgboost-win64_release_1.5.0/src/learner.cc:1115: Starting in XGBoost 1.3.0, the default evaluation metric used with the objective 'binary:logistic' was changed from 'error' to 'logloss'. Explicitly set eval_metric if you'd like to restore the old behavior.\n"
     ]
    }
   ],
   "source": [
    "# ,2,3,4 숫자구분해줘야함\n",
    "X = np.array(X)\n",
    "ajX = np.array(ajX)\n",
    "\n",
    "y = y\n",
    "ajy = ajy\n",
    "\n",
    "ajX_test = ajX_test\n",
    "X_test = X_test\n",
    "\n",
    "y_test = np.array(y_test)\n",
    "ajy_test = np.array(ajy_test)\n",
    "\n",
    "vanval = run_skfold(X, y)\n",
    "ajval = run_skfold(ajX,ajy)"
   ]
  },
  {
   "cell_type": "markdown",
   "metadata": {},
   "source": [
    "## **테스트 셋 검증**"
   ]
  },
  {
   "cell_type": "code",
   "execution_count": 12,
   "metadata": {},
   "outputs": [
    {
     "name": "stdout",
     "output_type": "stream",
     "text": [
      "[14:50:27] WARNING: C:/Users/Administrator/workspace/xgboost-win64_release_1.5.0/src/learner.cc:1115: Starting in XGBoost 1.3.0, the default evaluation metric used with the objective 'binary:logistic' was changed from 'error' to 'logloss'. Explicitly set eval_metric if you'd like to restore the old behavior.\n",
      "[14:50:33] WARNING: C:/Users/Administrator/workspace/xgboost-win64_release_1.5.0/src/learner.cc:1115: Starting in XGBoost 1.3.0, the default evaluation metric used with the objective 'binary:logistic' was changed from 'error' to 'logloss'. Explicitly set eval_metric if you'd like to restore the old behavior.\n"
     ]
    }
   ],
   "source": [
    "X, y = RandomUnderSampler(random_state=1).fit_resample(X, y)\n",
    "########################################################################################## 데이터셋 1\n",
    "dt_clf = modeling(DecisionTreeClassifier(), X, y, X_test)\n",
    "rf_clf = modeling(RandomForestClassifier(),X, y, X_test)\n",
    "ada_clf = modeling(AdaBoostClassifier(), X, y, X_test)\n",
    "lg_clf = modeling(LogisticRegression(), X, y, X_test)\n",
    "knn_clf = modeling(KNeighborsClassifier(), X, y, X_test)\n",
    "svc_clf = modeling(SVC(probability=True), X, y, X_test)\n",
    "lgmb_clf = modeling(LGBMClassifier(), X, y, X_test)\n",
    "cat_clf = modeling(CatBoostClassifier(silent=True),X, y, X_test)\n",
    "mlp_clf = modeling(MLPClassifier(),X, y, X_test)\n",
    "xgb_clf = modeling(XGBClassifier(),X, y, X_test)\n",
    "\n",
    "ajX, ajy = RandomUnderSampler(random_state=1).fit_resample(ajX, ajy)\n",
    "########################################################################################## 데이터셋 2\n",
    "ajdt_clf = modeling(DecisionTreeClassifier(), ajX, ajy, ajX_test)\n",
    "ajrf_clf = modeling(RandomForestClassifier(),ajX, ajy, ajX_test)\n",
    "ajada_clf = modeling(AdaBoostClassifier(), ajX, ajy, ajX_test)\n",
    "ajlg_clf = modeling(LogisticRegression(), ajX, ajy, ajX_test)\n",
    "ajknn_clf = modeling(KNeighborsClassifier(), ajX, ajy, ajX_test)\n",
    "ajsvc_clf = modeling(SVC(probability=True), ajX, ajy, ajX_test)\n",
    "ajlgmb_clf = modeling(LGBMClassifier(), ajX, ajy, ajX_test)\n",
    "ajcat_clf = modeling(CatBoostClassifier(silent=True),ajX, ajy, ajX_test)\n",
    "ajmlp_clf = modeling(MLPClassifier(),ajX, ajy, ajX_test)\n",
    "ajxgb_clf = modeling(XGBClassifier(),ajX, ajy, ajX_test)"
   ]
  },
  {
   "cell_type": "code",
   "execution_count": 13,
   "metadata": {},
   "outputs": [],
   "source": [
    "arr =[dt_clf,rf_clf,ada_clf,lg_clf,knn_clf,svc_clf,lgmb_clf,cat_clf,mlp_clf,xgb_clf]\n",
    "ajarr = [ajdt_clf,ajrf_clf,ajada_clf,ajlg_clf,ajknn_clf,ajsvc_clf,ajlgmb_clf,ajcat_clf,ajmlp_clf,ajxgb_clf]"
   ]
  },
  {
   "cell_type": "code",
   "execution_count": 14,
   "metadata": {},
   "outputs": [],
   "source": [
    "import sys"
   ]
  },
  {
   "cell_type": "code",
   "execution_count": 15,
   "metadata": {},
   "outputs": [
    {
     "data": {
      "text/plain": [
       "\" mdname = ['DT','RF','ADA','LOG','KNN','SVC','LGBM','CAT','MLP','XGB']\\nk, j = 0, 0\\n\\nsys.stdout = open('0년차혼돈행렬.txt','w')\\nprint('SET1')\\nprint('SET1')\\nprint('SET1')\\nfor i in arr:\\n    print(mdname[k], end = '')\\n    k += 1\\n    print(scoring(y_test , i), end = '')\\n\\nprint('-'*60)\\nprint('SET2')\\nprint('SET2')\\nprint('SET2')\\nfor i in ajarr:\\n    print(mdname[j], end = '')\\n    j += 1\\n    print(scoring(y_test , i), end = '')\\n \""
      ]
     },
     "execution_count": 15,
     "metadata": {},
     "output_type": "execute_result"
    }
   ],
   "source": [
    "\"\"\" mdname = ['DT','RF','ADA','LOG','KNN','SVC','LGBM','CAT','MLP','XGB']\n",
    "k, j = 0, 0\n",
    "\n",
    "sys.stdout = open('0년차혼돈행렬.txt','w')\n",
    "print('SET1')\n",
    "print('SET1')\n",
    "print('SET1')\n",
    "for i in arr:\n",
    "    print(mdname[k], end = '')\n",
    "    k += 1\n",
    "    print(scoring(y_test , i), end = '')\n",
    "\n",
    "print('-'*60)\n",
    "print('SET2')\n",
    "print('SET2')\n",
    "print('SET2')\n",
    "for i in ajarr:\n",
    "    print(mdname[j], end = '')\n",
    "    j += 1\n",
    "    print(scoring(y_test , i), end = '')\n",
    " \"\"\"\n"
   ]
  },
  {
   "cell_type": "code",
   "execution_count": 16,
   "metadata": {},
   "outputs": [],
   "source": [
    "def test_acc(y_true, arr_):\n",
    "    acc = []\n",
    "    for i in arr_:\n",
    "        acc.append(round(accuracy_score(y_true, i),4))\n",
    "    return acc\n",
    "\n",
    "ogntest = test_acc(y_test, arr)\n",
    "ajdtest = test_acc(ajy_test, ajarr)\n",
    "\n",
    "def get_f1(y_true, arr_):\n",
    "    f1 = []\n",
    "    for i in arr_:\n",
    "        f1.append(round(f1_score(y_true, i),4)) # average='weighted'\n",
    "    return f1\n",
    "     \n",
    "ognf1 = get_f1(y_test, arr)\n",
    "ajdf1 = get_f1(ajy_test, ajarr)\n",
    "\n",
    "def get_rc(y_true, arr_):\n",
    "    rc = []\n",
    "    for i in arr_:\n",
    "        rc.append(round(recall_score(y_true, i),4))\n",
    "    return rc\n",
    "\n",
    "ognrc = get_rc(y_test, arr)\n",
    "ajdrc = get_rc(ajy_test, ajarr)\n",
    "\n",
    "def get_pc(y_true, arr_):\n",
    "    pc = []\n",
    "    for i in arr_:\n",
    "        pc.append(round(precision_score(y_true, i, pos_label=1),4))\n",
    "    return pc\n",
    "\n",
    "ognpc = get_pc(y_test, arr)\n",
    "ajdpc = get_pc(ajy_test, ajarr)\n",
    "\n"
   ]
  },
  {
   "cell_type": "code",
   "execution_count": 17,
   "metadata": {},
   "outputs": [
    {
     "data": {
      "text/plain": [
       "\" subsetone.to_csv('4년차검증.csv', index=False) \""
      ]
     },
     "execution_count": 17,
     "metadata": {},
     "output_type": "execute_result"
    }
   ],
   "source": [
    "subsetone = pd.DataFrame({'model': mdn, 'SET1 val Accuracy': vanval, 'SET1 test Accuracy' : ogntest, 'SET1 test f1-Score': ognf1, 'SET1 test Precision': ognpc, 'SET1 test Recall': ognrc, \n",
    "                                        'SET2 val Accuracy' : ajval, 'SET2 test Accuracy' : ajdtest, 'SET2 test f1-Score': ajdf1, 'SET2 test Precision': ajdpc, 'SET2 test Recall': ajdrc})\n",
    "\"\"\" subsetone.to_csv('4년차검증.csv', index=False) \"\"\""
   ]
  },
  {
   "cell_type": "code",
   "execution_count": 19,
   "metadata": {},
   "outputs": [
    {
     "data": {
      "text/plain": [
       "Index(['model', 'SET1 val Accuracy', 'SET1 test Accuracy',\n",
       "       'SET1 test f1-Score', 'SET1 test Precision', 'SET1 test Recall',\n",
       "       'SET2 val Accuracy', 'SET2 test Accuracy', 'SET2 test f1-Score',\n",
       "       'SET2 test Precision', 'SET2 test Recall'],\n",
       "      dtype='object')"
      ]
     },
     "execution_count": 19,
     "metadata": {},
     "output_type": "execute_result"
    }
   ],
   "source": [
    "subsetone.columns"
   ]
  },
  {
   "cell_type": "code",
   "execution_count": 21,
   "metadata": {},
   "outputs": [
    {
     "data": {
      "text/html": [
       "<div>\n",
       "<style scoped>\n",
       "    .dataframe tbody tr th:only-of-type {\n",
       "        vertical-align: middle;\n",
       "    }\n",
       "\n",
       "    .dataframe tbody tr th {\n",
       "        vertical-align: top;\n",
       "    }\n",
       "\n",
       "    .dataframe thead th {\n",
       "        text-align: right;\n",
       "    }\n",
       "</style>\n",
       "<table border=\"1\" class=\"dataframe\">\n",
       "  <thead>\n",
       "    <tr style=\"text-align: right;\">\n",
       "      <th></th>\n",
       "      <th>model</th>\n",
       "      <th>SET1 val Accuracy</th>\n",
       "      <th>SET1 test Accuracy</th>\n",
       "      <th>SET1 test f1-Score</th>\n",
       "      <th>SET1 test Precision</th>\n",
       "      <th>SET1 test Recall</th>\n",
       "      <th>SET2 val Accuracy</th>\n",
       "      <th>SET2 test Accuracy</th>\n",
       "      <th>SET2 test f1-Score</th>\n",
       "      <th>SET2 test Precision</th>\n",
       "      <th>SET2 test Recall</th>\n",
       "    </tr>\n",
       "  </thead>\n",
       "  <tbody>\n",
       "    <tr>\n",
       "      <th>0</th>\n",
       "      <td>Decision Tree</td>\n",
       "      <td>0.785920</td>\n",
       "      <td>0.7857</td>\n",
       "      <td>0.0402</td>\n",
       "      <td>0.0207</td>\n",
       "      <td>0.7069</td>\n",
       "      <td>0.817529</td>\n",
       "      <td>0.7867</td>\n",
       "      <td>0.0460</td>\n",
       "      <td>0.0237</td>\n",
       "      <td>0.8103</td>\n",
       "    </tr>\n",
       "    <tr>\n",
       "      <th>1</th>\n",
       "      <td>Random Forest</td>\n",
       "      <td>0.837644</td>\n",
       "      <td>0.8440</td>\n",
       "      <td>0.0631</td>\n",
       "      <td>0.0328</td>\n",
       "      <td>0.8276</td>\n",
       "      <td>0.885057</td>\n",
       "      <td>0.8568</td>\n",
       "      <td>0.0737</td>\n",
       "      <td>0.0384</td>\n",
       "      <td>0.8966</td>\n",
       "    </tr>\n",
       "    <tr>\n",
       "      <th>2</th>\n",
       "      <td>Adaboost</td>\n",
       "      <td>0.834770</td>\n",
       "      <td>0.8495</td>\n",
       "      <td>0.0602</td>\n",
       "      <td>0.0313</td>\n",
       "      <td>0.7586</td>\n",
       "      <td>0.862069</td>\n",
       "      <td>0.8494</td>\n",
       "      <td>0.0652</td>\n",
       "      <td>0.0339</td>\n",
       "      <td>0.8276</td>\n",
       "    </tr>\n",
       "    <tr>\n",
       "      <th>3</th>\n",
       "      <td>logistic</td>\n",
       "      <td>0.834770</td>\n",
       "      <td>0.8972</td>\n",
       "      <td>0.0821</td>\n",
       "      <td>0.0435</td>\n",
       "      <td>0.7241</td>\n",
       "      <td>0.846264</td>\n",
       "      <td>0.9087</td>\n",
       "      <td>0.0974</td>\n",
       "      <td>0.0520</td>\n",
       "      <td>0.7759</td>\n",
       "    </tr>\n",
       "    <tr>\n",
       "      <th>4</th>\n",
       "      <td>KNN</td>\n",
       "      <td>0.820402</td>\n",
       "      <td>0.8997</td>\n",
       "      <td>0.0803</td>\n",
       "      <td>0.0426</td>\n",
       "      <td>0.6897</td>\n",
       "      <td>0.817529</td>\n",
       "      <td>0.8996</td>\n",
       "      <td>0.0821</td>\n",
       "      <td>0.0436</td>\n",
       "      <td>0.7069</td>\n",
       "    </tr>\n",
       "    <tr>\n",
       "      <th>5</th>\n",
       "      <td>SVC</td>\n",
       "      <td>0.813218</td>\n",
       "      <td>0.8540</td>\n",
       "      <td>0.0579</td>\n",
       "      <td>0.0302</td>\n",
       "      <td>0.7069</td>\n",
       "      <td>0.818966</td>\n",
       "      <td>0.8554</td>\n",
       "      <td>0.0584</td>\n",
       "      <td>0.0305</td>\n",
       "      <td>0.7069</td>\n",
       "    </tr>\n",
       "    <tr>\n",
       "      <th>6</th>\n",
       "      <td>lightGBM</td>\n",
       "      <td>0.818966</td>\n",
       "      <td>0.8576</td>\n",
       "      <td>0.0714</td>\n",
       "      <td>0.0372</td>\n",
       "      <td>0.8621</td>\n",
       "      <td>0.882184</td>\n",
       "      <td>0.8526</td>\n",
       "      <td>0.0692</td>\n",
       "      <td>0.0360</td>\n",
       "      <td>0.8621</td>\n",
       "    </tr>\n",
       "    <tr>\n",
       "      <th>7</th>\n",
       "      <td>Catboost</td>\n",
       "      <td>0.846264</td>\n",
       "      <td>0.8674</td>\n",
       "      <td>0.0735</td>\n",
       "      <td>0.0384</td>\n",
       "      <td>0.8276</td>\n",
       "      <td>0.882184</td>\n",
       "      <td>0.8713</td>\n",
       "      <td>0.0798</td>\n",
       "      <td>0.0418</td>\n",
       "      <td>0.8793</td>\n",
       "    </tr>\n",
       "    <tr>\n",
       "      <th>8</th>\n",
       "      <td>MLP</td>\n",
       "      <td>0.781609</td>\n",
       "      <td>0.9156</td>\n",
       "      <td>0.0940</td>\n",
       "      <td>0.0504</td>\n",
       "      <td>0.6897</td>\n",
       "      <td>0.816092</td>\n",
       "      <td>0.6417</td>\n",
       "      <td>0.0285</td>\n",
       "      <td>0.0145</td>\n",
       "      <td>0.8276</td>\n",
       "    </tr>\n",
       "    <tr>\n",
       "      <th>9</th>\n",
       "      <td>Xgboost</td>\n",
       "      <td>0.834770</td>\n",
       "      <td>0.8514</td>\n",
       "      <td>0.0674</td>\n",
       "      <td>0.0351</td>\n",
       "      <td>0.8448</td>\n",
       "      <td>0.876437</td>\n",
       "      <td>0.8645</td>\n",
       "      <td>0.0734</td>\n",
       "      <td>0.0383</td>\n",
       "      <td>0.8448</td>\n",
       "    </tr>\n",
       "  </tbody>\n",
       "</table>\n",
       "</div>"
      ],
      "text/plain": [
       "           model  SET1 val Accuracy  SET1 test Accuracy  SET1 test f1-Score  \\\n",
       "0  Decision Tree           0.785920              0.7857              0.0402   \n",
       "1  Random Forest           0.837644              0.8440              0.0631   \n",
       "2       Adaboost           0.834770              0.8495              0.0602   \n",
       "3       logistic           0.834770              0.8972              0.0821   \n",
       "4            KNN           0.820402              0.8997              0.0803   \n",
       "5            SVC           0.813218              0.8540              0.0579   \n",
       "6       lightGBM           0.818966              0.8576              0.0714   \n",
       "7       Catboost           0.846264              0.8674              0.0735   \n",
       "8            MLP           0.781609              0.9156              0.0940   \n",
       "9        Xgboost           0.834770              0.8514              0.0674   \n",
       "\n",
       "   SET1 test Precision  SET1 test Recall  SET2 val Accuracy  \\\n",
       "0               0.0207            0.7069           0.817529   \n",
       "1               0.0328            0.8276           0.885057   \n",
       "2               0.0313            0.7586           0.862069   \n",
       "3               0.0435            0.7241           0.846264   \n",
       "4               0.0426            0.6897           0.817529   \n",
       "5               0.0302            0.7069           0.818966   \n",
       "6               0.0372            0.8621           0.882184   \n",
       "7               0.0384            0.8276           0.882184   \n",
       "8               0.0504            0.6897           0.816092   \n",
       "9               0.0351            0.8448           0.876437   \n",
       "\n",
       "   SET2 test Accuracy  SET2 test f1-Score  SET2 test Precision  \\\n",
       "0              0.7867              0.0460               0.0237   \n",
       "1              0.8568              0.0737               0.0384   \n",
       "2              0.8494              0.0652               0.0339   \n",
       "3              0.9087              0.0974               0.0520   \n",
       "4              0.8996              0.0821               0.0436   \n",
       "5              0.8554              0.0584               0.0305   \n",
       "6              0.8526              0.0692               0.0360   \n",
       "7              0.8713              0.0798               0.0418   \n",
       "8              0.6417              0.0285               0.0145   \n",
       "9              0.8645              0.0734               0.0383   \n",
       "\n",
       "   SET2 test Recall  \n",
       "0            0.8103  \n",
       "1            0.8966  \n",
       "2            0.8276  \n",
       "3            0.7759  \n",
       "4            0.7069  \n",
       "5            0.7069  \n",
       "6            0.8621  \n",
       "7            0.8793  \n",
       "8            0.8276  \n",
       "9            0.8448  "
      ]
     },
     "execution_count": 21,
     "metadata": {},
     "output_type": "execute_result"
    }
   ],
   "source": [
    "subsetone"
   ]
  },
  {
   "cell_type": "code",
   "execution_count": 24,
   "metadata": {},
   "outputs": [
    {
     "data": {
      "text/html": [
       "<div>\n",
       "<style scoped>\n",
       "    .dataframe tbody tr th:only-of-type {\n",
       "        vertical-align: middle;\n",
       "    }\n",
       "\n",
       "    .dataframe tbody tr th {\n",
       "        vertical-align: top;\n",
       "    }\n",
       "\n",
       "    .dataframe thead th {\n",
       "        text-align: right;\n",
       "    }\n",
       "</style>\n",
       "<table border=\"1\" class=\"dataframe\">\n",
       "  <thead>\n",
       "    <tr style=\"text-align: right;\">\n",
       "      <th></th>\n",
       "      <th>0</th>\n",
       "      <th>1</th>\n",
       "      <th>2</th>\n",
       "      <th>3</th>\n",
       "      <th>4</th>\n",
       "      <th>5</th>\n",
       "      <th>6</th>\n",
       "      <th>7</th>\n",
       "      <th>8</th>\n",
       "      <th>9</th>\n",
       "    </tr>\n",
       "  </thead>\n",
       "  <tbody>\n",
       "    <tr>\n",
       "      <th>model</th>\n",
       "      <td>Decision Tree</td>\n",
       "      <td>Random Forest</td>\n",
       "      <td>Adaboost</td>\n",
       "      <td>logistic</td>\n",
       "      <td>KNN</td>\n",
       "      <td>SVC</td>\n",
       "      <td>lightGBM</td>\n",
       "      <td>Catboost</td>\n",
       "      <td>MLP</td>\n",
       "      <td>Xgboost</td>\n",
       "    </tr>\n",
       "    <tr>\n",
       "      <th>SET1 test Accuracy</th>\n",
       "      <td>0.7857</td>\n",
       "      <td>0.844</td>\n",
       "      <td>0.8495</td>\n",
       "      <td>0.8972</td>\n",
       "      <td>0.8997</td>\n",
       "      <td>0.854</td>\n",
       "      <td>0.8576</td>\n",
       "      <td>0.8674</td>\n",
       "      <td>0.9156</td>\n",
       "      <td>0.8514</td>\n",
       "    </tr>\n",
       "    <tr>\n",
       "      <th>SET2 test Accuracy</th>\n",
       "      <td>0.7867</td>\n",
       "      <td>0.8568</td>\n",
       "      <td>0.8494</td>\n",
       "      <td>0.9087</td>\n",
       "      <td>0.8996</td>\n",
       "      <td>0.8554</td>\n",
       "      <td>0.8526</td>\n",
       "      <td>0.8713</td>\n",
       "      <td>0.6417</td>\n",
       "      <td>0.8645</td>\n",
       "    </tr>\n",
       "  </tbody>\n",
       "</table>\n",
       "</div>"
      ],
      "text/plain": [
       "                                0              1         2         3       4  \\\n",
       "model               Decision Tree  Random Forest  Adaboost  logistic     KNN   \n",
       "SET1 test Accuracy         0.7857          0.844    0.8495    0.8972  0.8997   \n",
       "SET2 test Accuracy         0.7867         0.8568    0.8494    0.9087  0.8996   \n",
       "\n",
       "                         5         6         7       8        9  \n",
       "model                  SVC  lightGBM  Catboost     MLP  Xgboost  \n",
       "SET1 test Accuracy   0.854    0.8576    0.8674  0.9156   0.8514  \n",
       "SET2 test Accuracy  0.8554    0.8526    0.8713  0.6417   0.8645  "
      ]
     },
     "execution_count": 24,
     "metadata": {},
     "output_type": "execute_result"
    }
   ],
   "source": [
    "subsetone[['model','SET1 test Accuracy','SET2 test Accuracy']].T"
   ]
  },
  {
   "cell_type": "code",
   "execution_count": 22,
   "metadata": {},
   "outputs": [
    {
     "name": "stdout",
     "output_type": "stream",
     "text": [
      "[[7875 1201]\n",
      " [  10   48]]\n"
     ]
    }
   ],
   "source": [
    "scoring(y_test, cat_clf)"
   ]
  },
  {
   "cell_type": "code",
   "execution_count": 23,
   "metadata": {},
   "outputs": [
    {
     "name": "stdout",
     "output_type": "stream",
     "text": [
      "[[7907 1169]\n",
      " [   7   51]]\n"
     ]
    }
   ],
   "source": [
    "scoring(ajy_test, ajcat_clf)"
   ]
  },
  {
   "cell_type": "code",
   "execution_count": null,
   "metadata": {},
   "outputs": [],
   "source": [
    "from sklearn.metrics import confusion_matrix, ConfusionMatrixDisplay\n",
    "cm = confusion_matrix(y_test, cat_clf)\n",
    "disp = ConfusionMatrixDisplay(confusion_matrix=cm)\n",
    "\n",
    "plt.rcParams['figure.figsize'] = (16,6)\n",
    "disp.plot()\n",
    "\n",
    "scoring(y_test, cat_clf)\n",
    "\n",
    "from sklearn.metrics import confusion_matrix, ConfusionMatrixDisplay\n",
    "cm = confusion_matrix(ajy_test, ajcat_clf)\n",
    "disp = ConfusionMatrixDisplay(confusion_matrix=cm)\n",
    "\n",
    "plt.rcParams['figure.figsize'] = (16,6)\n",
    "disp.plot()\n",
    "\n",
    "scoring(ajy_test, ajcat_clf)"
   ]
  },
  {
   "cell_type": "code",
   "execution_count": 124,
   "metadata": {},
   "outputs": [
    {
     "data": {
      "text/plain": [
       "<sklearn.metrics._plot.confusion_matrix.ConfusionMatrixDisplay at 0x16b26d2c580>"
      ]
     },
     "execution_count": 124,
     "metadata": {},
     "output_type": "execute_result"
    },
    {
     "data": {
      "image/png": "[encoded data removed]",
      "text/plain": [
       "<Figure size 1152x432 with 2 Axes>"
      ]
     },
     "metadata": {
      "needs_background": "light"
     },
     "output_type": "display_data"
    }
   ],
   "source": [
    "from sklearn.metrics import confusion_matrix, ConfusionMatrixDisplay\n",
    "cm = confusion_matrix(y_test, ajcat_clf)\n",
    "disp = ConfusionMatrixDisplay(confusion_matrix=cm)\n",
    "\n",
    "\n",
    "plt.rcParams['figure.figsize'] = (16,6)\n",
    "disp.plot()"
   ]
  },
  {
   "cell_type": "code",
   "execution_count": 89,
   "metadata": {},
   "outputs": [
    {
     "data": {
      "text/html": [
       "<div>\n",
       "<style scoped>\n",
       "    .dataframe tbody tr th:only-of-type {\n",
       "        vertical-align: middle;\n",
       "    }\n",
       "\n",
       "    .dataframe tbody tr th {\n",
       "        vertical-align: top;\n",
       "    }\n",
       "\n",
       "    .dataframe thead th {\n",
       "        text-align: right;\n",
       "    }\n",
       "</style>\n",
       "<table border=\"1\" class=\"dataframe\">\n",
       "  <thead>\n",
       "    <tr style=\"text-align: right;\">\n",
       "      <th></th>\n",
       "      <th>model</th>\n",
       "      <th>SET1 test f1-Score</th>\n",
       "      <th>SET1 test Precision</th>\n",
       "      <th>SET1 test Recall</th>\n",
       "    </tr>\n",
       "  </thead>\n",
       "  <tbody>\n",
       "    <tr>\n",
       "      <th>5</th>\n",
       "      <td>SVC</td>\n",
       "      <td>0.0124</td>\n",
       "      <td>0.0062</td>\n",
       "      <td>1.0000</td>\n",
       "    </tr>\n",
       "    <tr>\n",
       "      <th>0</th>\n",
       "      <td>Decision Tree</td>\n",
       "      <td>0.0364</td>\n",
       "      <td>0.0186</td>\n",
       "      <td>0.8302</td>\n",
       "    </tr>\n",
       "    <tr>\n",
       "      <th>8</th>\n",
       "      <td>MLP</td>\n",
       "      <td>0.0539</td>\n",
       "      <td>0.0278</td>\n",
       "      <td>0.8113</td>\n",
       "    </tr>\n",
       "    <tr>\n",
       "      <th>1</th>\n",
       "      <td>Random Forest</td>\n",
       "      <td>0.0519</td>\n",
       "      <td>0.0268</td>\n",
       "      <td>0.7925</td>\n",
       "    </tr>\n",
       "    <tr>\n",
       "      <th>6</th>\n",
       "      <td>lightGBM</td>\n",
       "      <td>0.0472</td>\n",
       "      <td>0.0243</td>\n",
       "      <td>0.7925</td>\n",
       "    </tr>\n",
       "    <tr>\n",
       "      <th>9</th>\n",
       "      <td>Xgboost</td>\n",
       "      <td>0.0488</td>\n",
       "      <td>0.0252</td>\n",
       "      <td>0.7925</td>\n",
       "    </tr>\n",
       "    <tr>\n",
       "      <th>7</th>\n",
       "      <td>Catboost</td>\n",
       "      <td>0.0533</td>\n",
       "      <td>0.0276</td>\n",
       "      <td>0.7736</td>\n",
       "    </tr>\n",
       "    <tr>\n",
       "      <th>2</th>\n",
       "      <td>Adaboost</td>\n",
       "      <td>0.0487</td>\n",
       "      <td>0.0251</td>\n",
       "      <td>0.7547</td>\n",
       "    </tr>\n",
       "    <tr>\n",
       "      <th>3</th>\n",
       "      <td>logistic</td>\n",
       "      <td>0.0640</td>\n",
       "      <td>0.0336</td>\n",
       "      <td>0.6792</td>\n",
       "    </tr>\n",
       "    <tr>\n",
       "      <th>4</th>\n",
       "      <td>KNN</td>\n",
       "      <td>0.0534</td>\n",
       "      <td>0.0278</td>\n",
       "      <td>0.6792</td>\n",
       "    </tr>\n",
       "  </tbody>\n",
       "</table>\n",
       "</div>"
      ],
      "text/plain": [
       "           model  SET1 test f1-Score  SET1 test Precision  SET1 test Recall\n",
       "5            SVC              0.0124               0.0062            1.0000\n",
       "0  Decision Tree              0.0364               0.0186            0.8302\n",
       "8            MLP              0.0539               0.0278            0.8113\n",
       "1  Random Forest              0.0519               0.0268            0.7925\n",
       "6       lightGBM              0.0472               0.0243            0.7925\n",
       "9        Xgboost              0.0488               0.0252            0.7925\n",
       "7       Catboost              0.0533               0.0276            0.7736\n",
       "2       Adaboost              0.0487               0.0251            0.7547\n",
       "3       logistic              0.0640               0.0336            0.6792\n",
       "4            KNN              0.0534               0.0278            0.6792"
      ]
     },
     "execution_count": 89,
     "metadata": {},
     "output_type": "execute_result"
    }
   ],
   "source": [
    "asd[['model','SET1 test f1-Score','SET1 test Precision','SET1 test Recall']].sort_values(by='SET1 test Recall', ascending=False)"
   ]
  },
  {
   "cell_type": "code",
   "execution_count": 90,
   "metadata": {},
   "outputs": [
    {
     "data": {
      "text/html": [
       "<div>\n",
       "<style scoped>\n",
       "    .dataframe tbody tr th:only-of-type {\n",
       "        vertical-align: middle;\n",
       "    }\n",
       "\n",
       "    .dataframe tbody tr th {\n",
       "        vertical-align: top;\n",
       "    }\n",
       "\n",
       "    .dataframe thead th {\n",
       "        text-align: right;\n",
       "    }\n",
       "</style>\n",
       "<table border=\"1\" class=\"dataframe\">\n",
       "  <thead>\n",
       "    <tr style=\"text-align: right;\">\n",
       "      <th></th>\n",
       "      <th>model</th>\n",
       "      <th>SET2 test f1_Score</th>\n",
       "      <th>SET2 test Precision</th>\n",
       "      <th>SET2 test Recall</th>\n",
       "    </tr>\n",
       "  </thead>\n",
       "  <tbody>\n",
       "    <tr>\n",
       "      <th>5</th>\n",
       "      <td>SVC</td>\n",
       "      <td>0.0124</td>\n",
       "      <td>0.0062</td>\n",
       "      <td>1.0000</td>\n",
       "    </tr>\n",
       "    <tr>\n",
       "      <th>1</th>\n",
       "      <td>Random Forest</td>\n",
       "      <td>0.0648</td>\n",
       "      <td>0.0337</td>\n",
       "      <td>0.8302</td>\n",
       "    </tr>\n",
       "    <tr>\n",
       "      <th>7</th>\n",
       "      <td>Catboost</td>\n",
       "      <td>0.0643</td>\n",
       "      <td>0.0335</td>\n",
       "      <td>0.8302</td>\n",
       "    </tr>\n",
       "    <tr>\n",
       "      <th>2</th>\n",
       "      <td>Adaboost</td>\n",
       "      <td>0.0553</td>\n",
       "      <td>0.0286</td>\n",
       "      <td>0.8113</td>\n",
       "    </tr>\n",
       "    <tr>\n",
       "      <th>6</th>\n",
       "      <td>lightGBM</td>\n",
       "      <td>0.0583</td>\n",
       "      <td>0.0303</td>\n",
       "      <td>0.8113</td>\n",
       "    </tr>\n",
       "    <tr>\n",
       "      <th>0</th>\n",
       "      <td>Decision Tree</td>\n",
       "      <td>0.0338</td>\n",
       "      <td>0.0173</td>\n",
       "      <td>0.7547</td>\n",
       "    </tr>\n",
       "    <tr>\n",
       "      <th>8</th>\n",
       "      <td>MLP</td>\n",
       "      <td>0.0472</td>\n",
       "      <td>0.0243</td>\n",
       "      <td>0.7547</td>\n",
       "    </tr>\n",
       "    <tr>\n",
       "      <th>9</th>\n",
       "      <td>Xgboost</td>\n",
       "      <td>0.0540</td>\n",
       "      <td>0.0280</td>\n",
       "      <td>0.7547</td>\n",
       "    </tr>\n",
       "    <tr>\n",
       "      <th>3</th>\n",
       "      <td>logistic</td>\n",
       "      <td>0.0489</td>\n",
       "      <td>0.0253</td>\n",
       "      <td>0.6981</td>\n",
       "    </tr>\n",
       "    <tr>\n",
       "      <th>4</th>\n",
       "      <td>KNN</td>\n",
       "      <td>0.0552</td>\n",
       "      <td>0.0288</td>\n",
       "      <td>0.6792</td>\n",
       "    </tr>\n",
       "  </tbody>\n",
       "</table>\n",
       "</div>"
      ],
      "text/plain": [
       "           model  SET2 test f1_Score  SET2 test Precision  SET2 test Recall\n",
       "5            SVC              0.0124               0.0062            1.0000\n",
       "1  Random Forest              0.0648               0.0337            0.8302\n",
       "7       Catboost              0.0643               0.0335            0.8302\n",
       "2       Adaboost              0.0553               0.0286            0.8113\n",
       "6       lightGBM              0.0583               0.0303            0.8113\n",
       "0  Decision Tree              0.0338               0.0173            0.7547\n",
       "8            MLP              0.0472               0.0243            0.7547\n",
       "9        Xgboost              0.0540               0.0280            0.7547\n",
       "3       logistic              0.0489               0.0253            0.6981\n",
       "4            KNN              0.0552               0.0288            0.6792"
      ]
     },
     "execution_count": 90,
     "metadata": {},
     "output_type": "execute_result"
    }
   ],
   "source": [
    "asd[['model','SET2 test f1_Score','SET2 test Precision','SET2 test Recall']].sort_values(by='SET2 test Recall', ascending=False)"
   ]
  },
  {
   "cell_type": "code",
   "execution_count": null,
   "metadata": {},
   "outputs": [],
   "source": []
  }
 ],
 "metadata": {
  "interpreter": {
   "hash": "71b59b5ba49ad06bb2a011e750699e3983d230921f30bf7f37eb3a01ae69aa26"
  },
  "kernelspec": {
   "display_name": "Python 3.9.6 64-bit",
   "language": "python",
   "name": "python3"
  },
  "language_info": {
   "codemirror_mode": {
    "name": "ipython",
    "version": 3
   },
   "file_extension": ".py",
   "mimetype": "text/x-python",
   "name": "python",
   "nbconvert_exporter": "python",
   "pygments_lexer": "ipython3",
   "version": "3.9.6"
  },
  "orig_nbformat": 4
 },
 "nbformat": 4,
 "nbformat_minor": 2
}
