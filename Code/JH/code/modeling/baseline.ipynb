{
 "cells": [
  {
   "cell_type": "markdown",
   "metadata": {},
   "source": [
    "# **라이브러리**"
   ]
  },
  {
   "cell_type": "code",
   "execution_count": 1,
   "metadata": {},
   "outputs": [],
   "source": [
    "import pandas as pd\n",
    "import numpy as np\n",
    "\n",
    "from imblearn.under_sampling import *\n",
    "from sklearn.model_selection import train_test_split\n",
    "\n",
    "from sklearn.linear_model import LogisticRegression\n",
    "from sklearn.tree import DecisionTreeClassifier\n",
    "from sklearn.ensemble import RandomForestClassifier\n",
    "from sklearn.ensemble import AdaBoostClassifier\n",
    "from sklearn.neighbors import KNeighborsClassifier\n",
    "from sklearn.svm import SVC\n",
    "from lightgbm import LGBMClassifier\n",
    "from catboost import CatBoostClassifier\n",
    "from sklearn.neural_network import MLPClassifier\n",
    "from xgboost import XGBClassifier\n",
    "\n",
    "from sklearn.metrics import confusion_matrix, ConfusionMatrixDisplay\n",
    "from sklearn.metrics import plot_confusion_matrix\n",
    "from sklearn.metrics import f1_score, recall_score, precision_score, accuracy_score, classification_report\n",
    "import warnings\n",
    "warnings.filterwarnings(action='ignore')\n",
    "\n",
    "import matplotlib.pyplot as plt\n",
    "\n",
    "plt.rcParams['font.family'] = 'malgun gothic'"
   ]
  },
  {
   "cell_type": "markdown",
   "metadata": {},
   "source": [
    "# **함수모음**"
   ]
  },
  {
   "cell_type": "markdown",
   "metadata": {},
   "source": [
    "## **모델링**"
   ]
  },
  {
   "cell_type": "code",
   "execution_count": 2,
   "metadata": {},
   "outputs": [],
   "source": [
    "def modeling(model, X, y, test):    \n",
    "    model.fit(X, y)\n",
    "    pred = model.predict_proba(test)\n",
    "    pred = (pred[:,0] < 0.5)*1         # threshold 부도기업일 확률이 10% 이상이면 부도로 판단해라.\n",
    "    return pred\n",
    "\n",
    "def modeling_(model, X, y, test):    \n",
    "    model.fit(X, y)\n",
    "    pred = model.predict_proba(test)         # threshold 부도기업일 확률이 10% 이상이면 부도로 판단해라.\n",
    "    return pred\n",
    "    "
   ]
  },
  {
   "cell_type": "code",
   "execution_count": 11,
   "metadata": {},
   "outputs": [
    {
     "data": {
      "text/html": [
       "<div>\n",
       "<style scoped>\n",
       "    .dataframe tbody tr th:only-of-type {\n",
       "        vertical-align: middle;\n",
       "    }\n",
       "\n",
       "    .dataframe tbody tr th {\n",
       "        vertical-align: top;\n",
       "    }\n",
       "\n",
       "    .dataframe thead th {\n",
       "        text-align: right;\n",
       "    }\n",
       "</style>\n",
       "<table border=\"1\" class=\"dataframe\">\n",
       "  <thead>\n",
       "    <tr style=\"text-align: right;\">\n",
       "      <th></th>\n",
       "      <th>회사명</th>\n",
       "      <th>거래소코드</th>\n",
       "      <th>회계년도</th>\n",
       "      <th>설비투자효율</th>\n",
       "      <th>총자본투자효율</th>\n",
       "      <th>부채구성비율</th>\n",
       "      <th>비유동장기적합률</th>\n",
       "      <th>재고자산보유기간</th>\n",
       "      <th>매출채권회수기간</th>\n",
       "      <th>매입채무회전률</th>\n",
       "      <th>경영자본회전률</th>\n",
       "      <th>경영자본순이익률</th>\n",
       "      <th>자기자본순이익률</th>\n",
       "      <th>자기자본증가율</th>\n",
       "      <th>년</th>\n",
       "      <th>key</th>\n",
       "      <th>부도</th>\n",
       "    </tr>\n",
       "  </thead>\n",
       "  <tbody>\n",
       "    <tr>\n",
       "      <th>109</th>\n",
       "      <td>(주)경윤하이드로에너지</td>\n",
       "      <td>19120.0</td>\n",
       "      <td>2000/12</td>\n",
       "      <td>182.22</td>\n",
       "      <td>27.08</td>\n",
       "      <td>42.879257</td>\n",
       "      <td>44.47</td>\n",
       "      <td>44.512195</td>\n",
       "      <td>23.685918</td>\n",
       "      <td>116.01</td>\n",
       "      <td>1.76</td>\n",
       "      <td>8.45</td>\n",
       "      <td>13.12</td>\n",
       "      <td>-4.44</td>\n",
       "      <td>2000.0</td>\n",
       "      <td>191202001.0</td>\n",
       "      <td>0.0</td>\n",
       "    </tr>\n",
       "    <tr>\n",
       "      <th>110</th>\n",
       "      <td>(주)경윤하이드로에너지</td>\n",
       "      <td>19120.0</td>\n",
       "      <td>2001/12</td>\n",
       "      <td>203.92</td>\n",
       "      <td>28.52</td>\n",
       "      <td>43.149698</td>\n",
       "      <td>39.80</td>\n",
       "      <td>54.154303</td>\n",
       "      <td>30.932203</td>\n",
       "      <td>64.44</td>\n",
       "      <td>1.76</td>\n",
       "      <td>10.09</td>\n",
       "      <td>15.28</td>\n",
       "      <td>9.55</td>\n",
       "      <td>2001.0</td>\n",
       "      <td>191202002.0</td>\n",
       "      <td>0.0</td>\n",
       "    </tr>\n",
       "    <tr>\n",
       "      <th>111</th>\n",
       "      <td>(주)경윤하이드로에너지</td>\n",
       "      <td>19120.0</td>\n",
       "      <td>2002/12</td>\n",
       "      <td>137.84</td>\n",
       "      <td>26.89</td>\n",
       "      <td>40.737914</td>\n",
       "      <td>69.52</td>\n",
       "      <td>63.588850</td>\n",
       "      <td>22.955975</td>\n",
       "      <td>57.57</td>\n",
       "      <td>1.85</td>\n",
       "      <td>9.29</td>\n",
       "      <td>12.49</td>\n",
       "      <td>7.77</td>\n",
       "      <td>2002.0</td>\n",
       "      <td>191202003.0</td>\n",
       "      <td>0.0</td>\n",
       "    </tr>\n",
       "    <tr>\n",
       "      <th>112</th>\n",
       "      <td>(주)경윤하이드로에너지</td>\n",
       "      <td>19120.0</td>\n",
       "      <td>2003/12</td>\n",
       "      <td>106.14</td>\n",
       "      <td>19.01</td>\n",
       "      <td>40.441237</td>\n",
       "      <td>79.04</td>\n",
       "      <td>67.095588</td>\n",
       "      <td>43.608124</td>\n",
       "      <td>45.33</td>\n",
       "      <td>1.75</td>\n",
       "      <td>4.40</td>\n",
       "      <td>4.85</td>\n",
       "      <td>21.07</td>\n",
       "      <td>2003.0</td>\n",
       "      <td>191202004.0</td>\n",
       "      <td>0.0</td>\n",
       "    </tr>\n",
       "    <tr>\n",
       "      <th>113</th>\n",
       "      <td>(주)경윤하이드로에너지</td>\n",
       "      <td>19120.0</td>\n",
       "      <td>2004/12</td>\n",
       "      <td>77.06</td>\n",
       "      <td>11.69</td>\n",
       "      <td>43.210858</td>\n",
       "      <td>75.32</td>\n",
       "      <td>82.954545</td>\n",
       "      <td>62.822719</td>\n",
       "      <td>42.17</td>\n",
       "      <td>1.52</td>\n",
       "      <td>5.47</td>\n",
       "      <td>6.00</td>\n",
       "      <td>-0.93</td>\n",
       "      <td>2004.0</td>\n",
       "      <td>191202005.0</td>\n",
       "      <td>0.0</td>\n",
       "    </tr>\n",
       "    <tr>\n",
       "      <th>114</th>\n",
       "      <td>(주)경윤하이드로에너지</td>\n",
       "      <td>19120.0</td>\n",
       "      <td>2005/12</td>\n",
       "      <td>8.10</td>\n",
       "      <td>1.12</td>\n",
       "      <td>42.030492</td>\n",
       "      <td>77.46</td>\n",
       "      <td>105.491329</td>\n",
       "      <td>87.112172</td>\n",
       "      <td>51.95</td>\n",
       "      <td>1.21</td>\n",
       "      <td>-7.30</td>\n",
       "      <td>-8.31</td>\n",
       "      <td>1.52</td>\n",
       "      <td>2005.0</td>\n",
       "      <td>191202006.0</td>\n",
       "      <td>0.0</td>\n",
       "    </tr>\n",
       "    <tr>\n",
       "      <th>115</th>\n",
       "      <td>(주)경윤하이드로에너지</td>\n",
       "      <td>19120.0</td>\n",
       "      <td>2006/12</td>\n",
       "      <td>-4.52</td>\n",
       "      <td>-0.53</td>\n",
       "      <td>50.210258</td>\n",
       "      <td>94.08</td>\n",
       "      <td>68.224299</td>\n",
       "      <td>105.491329</td>\n",
       "      <td>32.48</td>\n",
       "      <td>1.34</td>\n",
       "      <td>-13.68</td>\n",
       "      <td>-16.00</td>\n",
       "      <td>-14.53</td>\n",
       "      <td>2006.0</td>\n",
       "      <td>191202007.0</td>\n",
       "      <td>1.0</td>\n",
       "    </tr>\n",
       "    <tr>\n",
       "      <th>116</th>\n",
       "      <td>(주)경윤하이드로에너지</td>\n",
       "      <td>19120.0</td>\n",
       "      <td>2007/12</td>\n",
       "      <td>-2.90</td>\n",
       "      <td>-0.32</td>\n",
       "      <td>54.911943</td>\n",
       "      <td>131.60</td>\n",
       "      <td>48.472776</td>\n",
       "      <td>102.816901</td>\n",
       "      <td>20.22</td>\n",
       "      <td>1.44</td>\n",
       "      <td>-13.69</td>\n",
       "      <td>-15.79</td>\n",
       "      <td>-18.06</td>\n",
       "      <td>2007.0</td>\n",
       "      <td>191202008.0</td>\n",
       "      <td>0.0</td>\n",
       "    </tr>\n",
       "    <tr>\n",
       "      <th>117</th>\n",
       "      <td>(주)경윤하이드로에너지</td>\n",
       "      <td>19120.0</td>\n",
       "      <td>2008/12</td>\n",
       "      <td>-216.85</td>\n",
       "      <td>-14.08</td>\n",
       "      <td>67.801626</td>\n",
       "      <td>244.14</td>\n",
       "      <td>23.322684</td>\n",
       "      <td>55.981595</td>\n",
       "      <td>12.69</td>\n",
       "      <td>2.17</td>\n",
       "      <td>-62.78</td>\n",
       "      <td>-57.52</td>\n",
       "      <td>-46.43</td>\n",
       "      <td>2008.0</td>\n",
       "      <td>191202009.0</td>\n",
       "      <td>0.0</td>\n",
       "    </tr>\n",
       "    <tr>\n",
       "      <th>118</th>\n",
       "      <td>(주)경윤하이드로에너지</td>\n",
       "      <td>19120.0</td>\n",
       "      <td>2009/12</td>\n",
       "      <td>-454.57</td>\n",
       "      <td>-22.07</td>\n",
       "      <td>36.924714</td>\n",
       "      <td>86.30</td>\n",
       "      <td>0.000000</td>\n",
       "      <td>178.048780</td>\n",
       "      <td>2.30</td>\n",
       "      <td>0.49</td>\n",
       "      <td>-90.22</td>\n",
       "      <td>-63.29</td>\n",
       "      <td>161.49</td>\n",
       "      <td>2009.0</td>\n",
       "      <td>191202010.0</td>\n",
       "      <td>0.0</td>\n",
       "    </tr>\n",
       "    <tr>\n",
       "      <th>119</th>\n",
       "      <td>(주)경윤하이드로에너지</td>\n",
       "      <td>19120.0</td>\n",
       "      <td>2010/12</td>\n",
       "      <td>-1572.73</td>\n",
       "      <td>-166.58</td>\n",
       "      <td>50.554847</td>\n",
       "      <td>90.50</td>\n",
       "      <td>0.000000</td>\n",
       "      <td>141.472868</td>\n",
       "      <td>3.91</td>\n",
       "      <td>0.57</td>\n",
       "      <td>-215.03</td>\n",
       "      <td>-202.27</td>\n",
       "      <td>-63.67</td>\n",
       "      <td>2010.0</td>\n",
       "      <td>191202011.0</td>\n",
       "      <td>0.0</td>\n",
       "    </tr>\n",
       "  </tbody>\n",
       "</table>\n",
       "</div>"
      ],
      "text/plain": [
       "              회사명    거래소코드     회계년도   설비투자효율  총자본투자효율     부채구성비율  비유동장기적합률  \\\n",
       "109  (주)경윤하이드로에너지  19120.0  2000/12   182.22    27.08  42.879257     44.47   \n",
       "110  (주)경윤하이드로에너지  19120.0  2001/12   203.92    28.52  43.149698     39.80   \n",
       "111  (주)경윤하이드로에너지  19120.0  2002/12   137.84    26.89  40.737914     69.52   \n",
       "112  (주)경윤하이드로에너지  19120.0  2003/12   106.14    19.01  40.441237     79.04   \n",
       "113  (주)경윤하이드로에너지  19120.0  2004/12    77.06    11.69  43.210858     75.32   \n",
       "114  (주)경윤하이드로에너지  19120.0  2005/12     8.10     1.12  42.030492     77.46   \n",
       "115  (주)경윤하이드로에너지  19120.0  2006/12    -4.52    -0.53  50.210258     94.08   \n",
       "116  (주)경윤하이드로에너지  19120.0  2007/12    -2.90    -0.32  54.911943    131.60   \n",
       "117  (주)경윤하이드로에너지  19120.0  2008/12  -216.85   -14.08  67.801626    244.14   \n",
       "118  (주)경윤하이드로에너지  19120.0  2009/12  -454.57   -22.07  36.924714     86.30   \n",
       "119  (주)경윤하이드로에너지  19120.0  2010/12 -1572.73  -166.58  50.554847     90.50   \n",
       "\n",
       "       재고자산보유기간    매출채권회수기간  매입채무회전률  경영자본회전률  경영자본순이익률  자기자본순이익률  자기자본증가율  \\\n",
       "109   44.512195   23.685918   116.01     1.76      8.45     13.12    -4.44   \n",
       "110   54.154303   30.932203    64.44     1.76     10.09     15.28     9.55   \n",
       "111   63.588850   22.955975    57.57     1.85      9.29     12.49     7.77   \n",
       "112   67.095588   43.608124    45.33     1.75      4.40      4.85    21.07   \n",
       "113   82.954545   62.822719    42.17     1.52      5.47      6.00    -0.93   \n",
       "114  105.491329   87.112172    51.95     1.21     -7.30     -8.31     1.52   \n",
       "115   68.224299  105.491329    32.48     1.34    -13.68    -16.00   -14.53   \n",
       "116   48.472776  102.816901    20.22     1.44    -13.69    -15.79   -18.06   \n",
       "117   23.322684   55.981595    12.69     2.17    -62.78    -57.52   -46.43   \n",
       "118    0.000000  178.048780     2.30     0.49    -90.22    -63.29   161.49   \n",
       "119    0.000000  141.472868     3.91     0.57   -215.03   -202.27   -63.67   \n",
       "\n",
       "          년          key   부도  \n",
       "109  2000.0  191202001.0  0.0  \n",
       "110  2001.0  191202002.0  0.0  \n",
       "111  2002.0  191202003.0  0.0  \n",
       "112  2003.0  191202004.0  0.0  \n",
       "113  2004.0  191202005.0  0.0  \n",
       "114  2005.0  191202006.0  0.0  \n",
       "115  2006.0  191202007.0  1.0  \n",
       "116  2007.0  191202008.0  0.0  \n",
       "117  2008.0  191202009.0  0.0  \n",
       "118  2009.0  191202010.0  0.0  \n",
       "119  2010.0  191202011.0  0.0  "
      ]
     },
     "execution_count": 11,
     "metadata": {},
     "output_type": "execute_result"
    }
   ],
   "source": [
    "dataset4.loc[dataset['회사명'] == '(주)경윤하이드로에너지']"
   ]
  },
  {
   "cell_type": "markdown",
   "metadata": {},
   "source": [
    "## **스코어**"
   ]
  },
  {
   "cell_type": "code",
   "execution_count": 3,
   "metadata": {},
   "outputs": [],
   "source": [
    "def scoring(y_true, y_pred):\n",
    "    print('accuracy:', accuracy_score(y_true,y_pred))\n",
    "    print('f1-Score:', f1_score(y_true, y_pred, average='macro'))\n",
    "    print('Recall:',recall_score(y_true, y_pred, average='macro'))\n",
    "    print('Precision:',precision_score(y_true, y_pred, average='macro'))\n",
    "    print(confusion_matrix(y_true, y_pred))"
   ]
  },
  {
   "cell_type": "markdown",
   "metadata": {},
   "source": [
    "## **귀찮다 귀찮아**"
   ]
  },
  {
   "cell_type": "code",
   "execution_count": 59,
   "metadata": {},
   "outputs": [],
   "source": [
    "def conclu(X,y,test):\n",
    "    modeling(DecisionTreeClassifier(), X,y,test)\n",
    "    modeling(RandomForestClassifier(),X,y,test)\n",
    "    modeling(AdaBoostClassifier(), X,y,test)\n",
    "    modeling(LogisticRegression(), X,y,test)\n",
    "    modeling(KNeighborsClassifier(), X,y,test)\n",
    "    modeling(SVC(probability=True), X,y,test)\n",
    "    modeling(LGBMClassifier(), X,y,test)\n",
    "    modeling(CatBoostClassifier(silent=True),X,y,test)\n",
    "    modeling(MLPClassifier(),X,y,test)\n",
    "    modeling(XGBClassifier(),X,y,test)"
   ]
  },
  {
   "cell_type": "markdown",
   "metadata": {},
   "source": [
    "# **데이터 나누기**"
   ]
  },
  {
   "cell_type": "markdown",
   "metadata": {},
   "source": [
    "## **재무데이터**"
   ]
  },
  {
   "cell_type": "code",
   "execution_count": 4,
   "metadata": {},
   "outputs": [
    {
     "data": {
      "text/plain": [
       "Index(['회사명', '거래소코드', '회계년도', '설비투자효율', '총자본투자효율', '부채구성비율', '비유동장기적합률',\n",
       "       '재고자산보유기간', '매출채권회수기간', '매입채무회전률', '경영자본회전률', '경영자본순이익률', '자기자본순이익률',\n",
       "       '자기자본증가율', '년', 'key', '부도'],\n",
       "      dtype='object')"
      ]
     },
     "execution_count": 4,
     "metadata": {},
     "output_type": "execute_result"
    }
   ],
   "source": [
    "dataset = pd.read_csv(r'C:\\Users\\JH\\Desktop\\Final\\Ubion-CorporateBankruptcyAnalysis\\Code\\JH\\data\\0y_finan.csv')\n",
    "dataset1 = pd.read_csv(r'C:\\Users\\JH\\Desktop\\Final\\Ubion-CorporateBankruptcyAnalysis\\Code\\JH\\data\\1y_finan.csv')\n",
    "dataset2 = pd.read_csv(r'C:\\Users\\JH\\Desktop\\Final\\Ubion-CorporateBankruptcyAnalysis\\Code\\JH\\data\\2y_finan.csv')\n",
    "dataset3 = pd.read_csv(r'C:\\Users\\JH\\Desktop\\Final\\Ubion-CorporateBankruptcyAnalysis\\Code\\JH\\data\\3y_finan.csv')\n",
    "dataset4 = pd.read_csv(r'C:\\Users\\JH\\Desktop\\Final\\Ubion-CorporateBankruptcyAnalysis\\Code\\JH\\data\\4y_finan.csv')\n",
    "\n",
    "dataset.columns"
   ]
  },
  {
   "cell_type": "markdown",
   "metadata": {},
   "source": [
    "## **재무데이터 + 비재무데이터**"
   ]
  },
  {
   "cell_type": "code",
   "execution_count": 88,
   "metadata": {},
   "outputs": [
    {
     "data": {
      "text/plain": [
       "Index(['Unnamed: 0', '회사명', '거래소코드', '회계년도', '설비투자효율', '총자본투자효율', '부채구성비율',\n",
       "       '비유동장기적합률', '재고자산보유기간', '매출채권회수기간', '매입채무회전률', '경영자본회전률', '경영자본순이익률',\n",
       "       '자기자본순이익률', '자기자본증가율', '년', 'key', '부도', '대표이사_변경', '최대주주_변경', '회계처리위반',\n",
       "       '횡령배임', '영업조업중단', '종가변동률', '출자목적_투자', '출자목적_경영권', '출자목적_영업이익',\n",
       "       '신종채권_운영', '신종채권_시설', '신종채권_기타'],\n",
       "      dtype='object')"
      ]
     },
     "execution_count": 88,
     "metadata": {},
     "output_type": "execute_result"
    }
   ],
   "source": [
    "ajdataset = pd.read_csv(r'C:\\Users\\JH\\Desktop\\Final\\Ubion-CorporateBankruptcyAnalysis\\Code\\SH\\csv\\step3\\dataset_step3.csv')\n",
    "ajdataset1 = pd.read_csv(r'C:\\Users\\JH\\Desktop\\Final\\Ubion-CorporateBankruptcyAnalysis\\Code\\SH\\csv\\step3\\dataset1_step3.csv')\n",
    "ajdataset2 = pd.read_csv(r'C:\\Users\\JH\\Desktop\\Final\\Ubion-CorporateBankruptcyAnalysis\\Code\\SH\\csv\\step3\\dataset2_step3.csv')\n",
    "ajdataset3 = pd.read_csv(r'C:\\Users\\JH\\Desktop\\Final\\Ubion-CorporateBankruptcyAnalysis\\Code\\SH\\csv\\step3\\dataset3_step3.csv')\n",
    "ajdataset4 = pd.read_csv(r'C:\\Users\\JH\\Desktop\\Final\\Ubion-CorporateBankruptcyAnalysis\\Code\\SH\\csv\\step3\\dataset4_step3.csv')\n",
    "\n",
    "ajdataset.columns"
   ]
  },
  {
   "cell_type": "code",
   "execution_count": 89,
   "metadata": {},
   "outputs": [
    {
     "data": {
      "image/png": "[encoded data removed]",
      "text/plain": [
       "<Figure size 720x576 with 2 Axes>"
      ]
     },
     "metadata": {
      "needs_background": "light"
     },
     "output_type": "display_data"
    }
   ],
   "source": [
    "import seaborn as sns\n",
    "sns.heatmap(dataset.corr(),annot=True,cmap='RdYlGn',linewidths=0.2)\n",
    "fig=plt.gcf()\n",
    "fig.set_size_inches(10,8)\n",
    "plt.show()\n"
   ]
  },
  {
   "cell_type": "code",
   "execution_count": 90,
   "metadata": {},
   "outputs": [],
   "source": [
    "def splittrain(data):\n",
    "    subdata = data.sort_values(by='년').reset_index(drop=True)\n",
    "    data = subdata.loc[subdata['년'] < 2015]\n",
    "    return data\n",
    "\n",
    "def splittesst(data):\n",
    "    global test\n",
    "    subdata = data.sort_values(by='년').reset_index(drop=True)\n",
    "    test = subdata.loc[subdata['년'] >= 2015]\n",
    "    return test"
   ]
  },
  {
   "cell_type": "code",
   "execution_count": 91,
   "metadata": {},
   "outputs": [],
   "source": [
    "dataset_ = splittrain(dataset)\n",
    "test_ = splittesst(dataset)\n",
    "dataset1_ = splittrain(dataset1)\n",
    "test1_ = splittesst(dataset1)\n",
    "dataset2_ = splittrain(dataset2)\n",
    "test2_ = splittesst(dataset2)\n",
    "dataset3_ = splittrain(dataset3)\n",
    "test3_ = splittesst(dataset3)\n",
    "dataset4_ = splittrain(dataset4)\n",
    "test4_ = splittesst(dataset4)\n",
    "\n",
    "ajdataset_ = splittrain(ajdataset)\n",
    "ajtest_ = splittesst(ajdataset)\n",
    "ajdataset1_ = splittrain(ajdataset1)\n",
    "ajtest1_ = splittesst(ajdataset1)\n",
    "ajdataset2_ = splittrain(ajdataset2)\n",
    "ajtest2_ = splittesst(ajdataset2)\n",
    "ajdataset3_ = splittrain(ajdataset3)\n",
    "ajtest3_ = splittesst(ajdataset3)\n",
    "ajdataset4_ = splittrain(ajdataset4)\n",
    "ajtest4_ = splittesst(ajdataset4)\n"
   ]
  },
  {
   "cell_type": "code",
   "execution_count": 92,
   "metadata": {},
   "outputs": [],
   "source": [
    "drop_feature = ['회사명', '거래소코드', '회계년도','년', 'key', '부도']\n",
    "ajdrop_feature = ['회사명', '거래소코드', '회계년도','년', 'key', '부도','Unnamed: 0']"
   ]
  },
  {
   "cell_type": "markdown",
   "metadata": {},
   "source": [
    "## **세트 1. 재무데이터 train,test 분리**"
   ]
  },
  {
   "cell_type": "code",
   "execution_count": 93,
   "metadata": {},
   "outputs": [],
   "source": [
    "X = dataset_.drop(drop_feature, axis=1)\n",
    "X1 = dataset1_.drop(drop_feature, axis=1)\n",
    "X2 = dataset2_.drop(drop_feature, axis=1)\n",
    "X3 = dataset3_.drop(drop_feature, axis=1)\n",
    "X4 = dataset4_.drop(drop_feature, axis=1)\n",
    "\n",
    "y = dataset_['부도']\n",
    "y1 = dataset1_['부도']\n",
    "y2 = dataset2_['부도']\n",
    "y3 = dataset3_['부도']\n",
    "y4 = dataset4_['부도']\n"
   ]
  },
  {
   "cell_type": "code",
   "execution_count": 152,
   "metadata": {},
   "outputs": [
    {
     "name": "stdout",
     "output_type": "stream",
     "text": [
      "(8504, 11) (8504,)\n"
     ]
    }
   ],
   "source": [
    "X_test =test_.drop(drop_feature, axis=1)\n",
    "X1_test =test1_.drop(drop_feature, axis=1)\n",
    "X2_test =test2_.drop(drop_feature, axis=1)\n",
    "X3_test =test3_.drop(drop_feature, axis=1)\n",
    "X4_test =test4_.drop(drop_feature, axis=1)\n",
    "\n",
    "y_test= test_['부도']\n",
    "y1_test =test1_['부도']\n",
    "y2_test =test2_['부도']\n",
    "y3_test =test3_['부도']\n",
    "y4_test =test4_['부도']\n",
    "\n",
    "print(X_test.shape, y_test.shape)"
   ]
  },
  {
   "cell_type": "markdown",
   "metadata": {},
   "source": [
    "## **세트2 재무 + 비재무데이터 train, test 분리**"
   ]
  },
  {
   "cell_type": "code",
   "execution_count": 95,
   "metadata": {},
   "outputs": [],
   "source": [
    "ajX = ajdataset_.drop(ajdrop_feature, axis=1)\n",
    "ajX1 = ajdataset1_.drop(ajdrop_feature, axis=1)\n",
    "ajX2 = ajdataset2_.drop(ajdrop_feature, axis=1)\n",
    "ajX3 = ajdataset3_.drop(ajdrop_feature, axis=1)\n",
    "ajX4 = ajdataset4_.drop(ajdrop_feature, axis=1)\n",
    "\n",
    "ajy = ajdataset_['부도']\n",
    "ajy1 = ajdataset1_['부도']\n",
    "ajy2 = ajdataset2_['부도']\n",
    "ajy3 = ajdataset3_['부도']\n",
    "ajy4 = ajdataset4_['부도']"
   ]
  },
  {
   "cell_type": "code",
   "execution_count": 96,
   "metadata": {},
   "outputs": [],
   "source": [
    "ajX_test =ajtest_.drop(ajdrop_feature, axis=1)\n",
    "ajX1_test =ajtest1_.drop(ajdrop_feature, axis=1)\n",
    "ajX2_test =ajtest2_.drop(ajdrop_feature, axis=1)\n",
    "ajX3_test =ajtest3_.drop(ajdrop_feature, axis=1)\n",
    "ajX4_test =ajtest4_.drop(ajdrop_feature, axis=1)\n",
    "\n",
    "ajy_test= ajtest_['부도']\n",
    "ajy1_test =ajtest1_['부도']\n",
    "ajy2_test =ajtest2_['부도']\n",
    "ajy3_test =ajtest3_['부도']\n",
    "ajy4_test =ajtest4_['부도']"
   ]
  },
  {
   "cell_type": "markdown",
   "metadata": {},
   "source": [
    "# **YEAR**"
   ]
  },
  {
   "cell_type": "code",
   "execution_count": 163,
   "metadata": {},
   "outputs": [],
   "source": [
    "X = np.array(X)\n",
    "ajX = np.array(ajX)"
   ]
  },
  {
   "cell_type": "markdown",
   "metadata": {},
   "source": [
    "# **데이터 검증 및 언더샘플링**"
   ]
  },
  {
   "cell_type": "code",
   "execution_count": 161,
   "metadata": {},
   "outputs": [],
   "source": [
    "from sklearn.model_selection import KFold, StratifiedKFold\n",
    "import numpy as np\n",
    "\n",
    "def run_skfold(X,y):\n",
    "    X, y = RandomUnderSampler(random_state=1).fit_resample(X, y) # RandomUnderSampling\n",
    "    skf = StratifiedKFold(n_splits=4, shuffle=True)\n",
    "    valarr = [] # Validation Set's Accuracy\n",
    "    models = [DecisionTreeClassifier(),RandomForestClassifier(),AdaBoostClassifier(),LogisticRegression(),KNeighborsClassifier(),\n",
    "    SVC(probability=True),LGBMClassifier(),CatBoostClassifier(silent=True),MLPClassifier(),XGBClassifier()]\n",
    "\n",
    "    for model in models:\n",
    "        val_pred = 0\n",
    "        for train_index, val_index in skf.split(X,y):\n",
    "            # print(\"TRAIN:\", train_index, \"TEST:\", val_index)\n",
    "            X_train, X_val = X[train_index], X[val_index]\n",
    "            y_train, y_val = y[train_index], y[val_index]\n",
    "            val_pred += accuracy_score(y_val, modeling(model, X_train, y_train, X_val))\n",
    "        valarr.append(val_pred/4)\n",
    "    return valarr"
   ]
  },
  {
   "cell_type": "code",
   "execution_count": 164,
   "metadata": {},
   "outputs": [
    {
     "name": "stdout",
     "output_type": "stream",
     "text": [
      "[15:36:51] WARNING: C:/Users/Administrator/workspace/xgboost-win64_release_1.5.0/src/learner.cc:1115: Starting in XGBoost 1.3.0, the default evaluation metric used with the objective 'binary:logistic' was changed from 'error' to 'logloss'. Explicitly set eval_metric if you'd like to restore the old behavior.\n",
      "[15:36:52] WARNING: C:/Users/Administrator/workspace/xgboost-win64_release_1.5.0/src/learner.cc:1115: Starting in XGBoost 1.3.0, the default evaluation metric used with the objective 'binary:logistic' was changed from 'error' to 'logloss'. Explicitly set eval_metric if you'd like to restore the old behavior.\n",
      "[15:36:52] WARNING: C:/Users/Administrator/workspace/xgboost-win64_release_1.5.0/src/learner.cc:1115: Starting in XGBoost 1.3.0, the default evaluation metric used with the objective 'binary:logistic' was changed from 'error' to 'logloss'. Explicitly set eval_metric if you'd like to restore the old behavior.\n",
      "[15:36:52] WARNING: C:/Users/Administrator/workspace/xgboost-win64_release_1.5.0/src/learner.cc:1115: Starting in XGBoost 1.3.0, the default evaluation metric used with the objective 'binary:logistic' was changed from 'error' to 'logloss'. Explicitly set eval_metric if you'd like to restore the old behavior.\n"
     ]
    },
    {
     "data": {
      "text/plain": [
       "[0.8079885057471266,\n",
       " 0.872487684729064,\n",
       " 0.8381280788177339,\n",
       " 0.7260755336617406,\n",
       " 0.8208949096880132,\n",
       " 0.54,\n",
       " 0.8524630541871921,\n",
       " 0.8682101806239737,\n",
       " 0.7535550082101807,\n",
       " 0.8438177339901478]"
      ]
     },
     "execution_count": 164,
     "metadata": {},
     "output_type": "execute_result"
    }
   ],
   "source": [
    "ajdata = run_skfold(ajX,ajy)\n",
    "ajdata"
   ]
  },
  {
   "cell_type": "markdown",
   "metadata": {},
   "source": [
    "## **세트1**"
   ]
  },
  {
   "cell_type": "code",
   "execution_count": 159,
   "metadata": {},
   "outputs": [
    {
     "data": {
      "text/html": [
       "<div>\n",
       "<style scoped>\n",
       "    .dataframe tbody tr th:only-of-type {\n",
       "        vertical-align: middle;\n",
       "    }\n",
       "\n",
       "    .dataframe tbody tr th {\n",
       "        vertical-align: top;\n",
       "    }\n",
       "\n",
       "    .dataframe thead th {\n",
       "        text-align: right;\n",
       "    }\n",
       "</style>\n",
       "<table border=\"1\" class=\"dataframe\">\n",
       "  <thead>\n",
       "    <tr style=\"text-align: right;\">\n",
       "      <th></th>\n",
       "      <th>Model</th>\n",
       "      <th>Val</th>\n",
       "      <th>Test</th>\n",
       "    </tr>\n",
       "  </thead>\n",
       "  <tbody>\n",
       "    <tr>\n",
       "      <th>0</th>\n",
       "      <td>Decision Tree</td>\n",
       "      <td>0.763588</td>\n",
       "      <td>0.6956</td>\n",
       "    </tr>\n",
       "    <tr>\n",
       "      <th>1</th>\n",
       "      <td>Random Forest</td>\n",
       "      <td>0.842414</td>\n",
       "      <td>0.8179</td>\n",
       "    </tr>\n",
       "    <tr>\n",
       "      <th>2</th>\n",
       "      <td>Adaboost</td>\n",
       "      <td>0.797980</td>\n",
       "      <td>0.8180</td>\n",
       "    </tr>\n",
       "    <tr>\n",
       "      <th>3</th>\n",
       "      <td>logistic</td>\n",
       "      <td>0.786593</td>\n",
       "      <td>0.7174</td>\n",
       "    </tr>\n",
       "    <tr>\n",
       "      <th>4</th>\n",
       "      <td>KNN</td>\n",
       "      <td>0.797989</td>\n",
       "      <td>0.8563</td>\n",
       "    </tr>\n",
       "    <tr>\n",
       "      <th>5</th>\n",
       "      <td>SVC</td>\n",
       "      <td>0.550279</td>\n",
       "      <td>0.0063</td>\n",
       "    </tr>\n",
       "    <tr>\n",
       "      <th>6</th>\n",
       "      <td>lightGBM</td>\n",
       "      <td>0.816642</td>\n",
       "      <td>0.8034</td>\n",
       "    </tr>\n",
       "    <tr>\n",
       "      <th>7</th>\n",
       "      <td>Catboost</td>\n",
       "      <td>0.835230</td>\n",
       "      <td>0.8278</td>\n",
       "    </tr>\n",
       "    <tr>\n",
       "      <th>8</th>\n",
       "      <td>MLP</td>\n",
       "      <td>0.760862</td>\n",
       "      <td>0.7507</td>\n",
       "    </tr>\n",
       "    <tr>\n",
       "      <th>9</th>\n",
       "      <td>Xgboost</td>\n",
       "      <td>0.815164</td>\n",
       "      <td>0.7949</td>\n",
       "    </tr>\n",
       "  </tbody>\n",
       "</table>\n",
       "</div>"
      ],
      "text/plain": [
       "           Model       Val    Test\n",
       "0  Decision Tree  0.763588  0.6956\n",
       "1  Random Forest  0.842414  0.8179\n",
       "2       Adaboost  0.797980  0.8180\n",
       "3       logistic  0.786593  0.7174\n",
       "4            KNN  0.797989  0.8563\n",
       "5            SVC  0.550279  0.0063\n",
       "6       lightGBM  0.816642  0.8034\n",
       "7       Catboost  0.835230  0.8278\n",
       "8            MLP  0.760862  0.7507\n",
       "9        Xgboost  0.815164  0.7949"
      ]
     },
     "execution_count": 159,
     "metadata": {},
     "output_type": "execute_result"
    }
   ],
   "source": [
    "pd.DataFrame({'Model': mdn, 'Val': valarr, 'Test' : acc})"
   ]
  },
  {
   "cell_type": "code",
   "execution_count": 154,
   "metadata": {},
   "outputs": [
    {
     "name": "stdout",
     "output_type": "stream",
     "text": [
      "[15:27:26] WARNING: C:/Users/Administrator/workspace/xgboost-win64_release_1.5.0/src/learner.cc:1115: Starting in XGBoost 1.3.0, the default evaluation metric used with the objective 'binary:logistic' was changed from 'error' to 'logloss'. Explicitly set eval_metric if you'd like to restore the old behavior.\n"
     ]
    }
   ],
   "source": [
    "########################################################################################## 데이터셋 1\n",
    "dt_clf = modeling(DecisionTreeClassifier(), X, y, X_test)\n",
    "rf_clf = modeling(RandomForestClassifier(),X, y, X_test)\n",
    "ada_clf = modeling(AdaBoostClassifier(), X, y, X_test)\n",
    "lg_clf = modeling(LogisticRegression(), X, y, X_test)\n",
    "knn_clf = modeling(KNeighborsClassifier(), X, y, X_test)\n",
    "svc_clf = modeling(SVC(probability=True), X, y, X_test)\n",
    "lgmb_clf = modeling(LGBMClassifier(), X, y, X_test)\n",
    "cat_clf = modeling(CatBoostClassifier(silent=True),X, y, X_test)\n",
    "mlp_clf = modeling(MLPClassifier(),X, y, X_test)\n",
    "xgb_clf = modeling(XGBClassifier(),X, y, X_test)\n",
    "\n",
    "########################################################################################## 데이터셋 2\n",
    "ajdt_clf = modeling(DecisionTreeClassifier(), ajX_train, ajy_train, ajX_test)\n",
    "ajrf_clf = modeling(RandomForestClassifier(),ajX_train, ajy_train, ajX_test)\n",
    "ajada_clf = modeling(AdaBoostClassifier(), ajX_train, ajy_train, ajX_test)\n",
    "ajlg_clf = modeling(LogisticRegression(), ajX_train, ajy_train, ajX_test)\n",
    "ajknn_clf = modeling(KNeighborsClassifier(), ajX_train, ajy_train, ajX_test)\n",
    "ajsvc_clf = modeling(SVC(probability=True), ajX_train, ajy_train, ajX_test)\n",
    "ajlgmb_clf = modeling(LGBMClassifier(), ajX_train, ajy_train, ajX_test)\n",
    "ajcat_clf = modeling(CatBoostClassifier(silent=True),ajX_train, ajy_train, ajX_test)\n",
    "ajmlp_clf = modeling(MLPClassifier(),ajX_train, ajy_train, ajX_test)\n",
    "ajxgb_clf = modeling(XGBClassifier(),ajX_train, ajy_train, ajX_test)\n",
    "\n",
    "arr =[dt_clf,rf_clf,ada_clf,lg_clf,knn_clf,svc_clf,lgmb_clf,cat_clf,mlp_clf,xgb_clf]\n",
    "ajarr = [ajdt_clf,ajrf_clf,ajada_clf,ajlg_clf,ajknn_clf,ajsvc_clf,ajlgmb_clf,ajcat_clf,ajmlp_clf,ajxgb_clf]"
   ]
  },
  {
   "cell_type": "code",
   "execution_count": 155,
   "metadata": {},
   "outputs": [],
   "source": []
  },
  {
   "cell_type": "code",
   "execution_count": 64,
   "metadata": {},
   "outputs": [
    {
     "name": "stdout",
     "output_type": "stream",
     "text": [
      "accuracy: 0.7115475070555033\n",
      "f1-Score: 0.4306883379942413\n",
      "Recall: 0.7236220788876162\n",
      "Precision: 0.5067076164706771\n",
      "[[6012 2439]\n",
      " [  14   39]]\n",
      "None\n",
      "------------------------------------------------------------\n",
      "accuracy: 0.8217309501411101\n",
      "f1-Score: 0.4770547767393562\n",
      "Recall: 0.8071836982560956\n",
      "Precision: 0.5127840899852162\n",
      "[[6946 1505]\n",
      " [  11   42]]\n",
      "None\n",
      "------------------------------------------------------------\n",
      "accuracy: 0.8179680150517403\n",
      "f1-Score: 0.47308700229782596\n",
      "Recall: 0.7677912405141292\n",
      "Precision: 0.5110124247331213\n",
      "[[6918 1533]\n",
      " [  15   38]]\n",
      "None\n",
      "------------------------------------------------------------\n",
      "accuracy: 0.7174270931326434\n",
      "f1-Score: 0.4348985548221583\n",
      "Recall: 0.7734542970241325\n",
      "Precision: 0.5082819502291853\n",
      "[[6057 2394]\n",
      " [   9   44]]\n",
      "None\n",
      "------------------------------------------------------------\n",
      "accuracy: 0.8563029162746942\n",
      "f1-Score: 0.48893818583690424\n",
      "Recall: 0.7683293034429329\n",
      "Precision: 0.5133341166130408\n",
      "[[7246 1205]\n",
      " [  17   36]]\n",
      "None\n",
      "------------------------------------------------------------\n",
      "accuracy: 0.00623236124176858\n",
      "f1-Score: 0.00619375949515017\n",
      "Recall: 0.5\n",
      "Precision: 0.00311618062088429\n",
      "[[   0 8451]\n",
      " [   0   53]]\n",
      "None\n",
      "------------------------------------------------------------\n",
      "accuracy: 0.8033866415804327\n",
      "f1-Score: 0.4685698455600707\n",
      "Recall: 0.7885792236265441\n",
      "Precision: 0.5111697704344739\n",
      "[[6791 1660]\n",
      " [  12   41]]\n",
      "None\n",
      "------------------------------------------------------------\n",
      "accuracy: 0.8278457196613358\n",
      "f1-Score: 0.48038781464029484\n",
      "Recall: 0.8196350549114428\n",
      "Precision: 0.5136484853060862\n",
      "[[6997 1454]\n",
      " [  10   43]]\n",
      "None\n",
      "------------------------------------------------------------\n",
      "accuracy: 0.8251411100658513\n",
      "f1-Score: 0.4767753372755505\n",
      "Recall: 0.7807750785326286\n",
      "Precision: 0.5118956812320656\n",
      "[[6978 1473]\n",
      " [  14   39]]\n",
      "None\n",
      "------------------------------------------------------------\n",
      "accuracy: 0.7949200376293509\n",
      "f1-Score: 0.46655832122887664\n",
      "Recall: 0.8124437657260613\n",
      "Precision: 0.5116973530511899\n",
      "[[6716 1735]\n",
      " [   9   44]]\n",
      "None\n",
      "------------------------------------------------------------\n",
      "accuracy: 0.7216603951081844\n",
      "f1-Score: 0.4335260203449725\n",
      "Recall: 0.7005858411307806\n",
      "Precision: 0.50615466378326\n",
      "[[6101 2350]\n",
      " [  17   36]]\n",
      "None\n",
      "------------------------------------------------------------\n",
      "accuracy: 0.8524223894637818\n",
      "f1-Score: 0.49339468123560676\n",
      "Recall: 0.8507500507922474\n",
      "Precision: 0.5168602295108428\n",
      "[[7204 1247]\n",
      " [   8   45]]\n",
      "None\n",
      "------------------------------------------------------------\n",
      "accuracy: 0.827140169332079\n",
      "f1-Score: 0.48006830340179435\n",
      "Recall: 0.8192800673360081\n",
      "Precision: 0.5135905401975177\n",
      "[[6991 1460]\n",
      " [  10   43]]\n",
      "None\n",
      "------------------------------------------------------------\n",
      "accuracy: 0.8306679209783632\n",
      "f1-Score: 0.47796897217979634\n",
      "Recall: 0.7648062192037115\n",
      "Precision: 0.5115266802937232\n",
      "[[7027 1424]\n",
      " [  16   37]]\n",
      "None\n",
      "------------------------------------------------------------\n",
      "accuracy: 0.8550094073377235\n",
      "f1-Score: 0.48832619288649\n",
      "Recall: 0.767678492887969\n",
      "Precision: 0.5132049063473071\n",
      "[[7235 1216]\n",
      " [  17   36]]\n",
      "None\n",
      "------------------------------------------------------------\n",
      "accuracy: 0.006349952963311383\n",
      "f1-Score: 0.006312798595130171\n",
      "Recall: 0.5000591645959058\n",
      "Precision: 0.5031165471010232\n",
      "[[   1 8450]\n",
      " [   0   53]]\n",
      "None\n",
      "------------------------------------------------------------\n",
      "accuracy: 0.8367826904985889\n",
      "f1-Score: 0.484496126062339\n",
      "Recall: 0.8241315642002844\n",
      "Precision: 0.5144242744345398\n",
      "[[7073 1378]\n",
      " [  10   43]]\n",
      "None\n",
      "------------------------------------------------------------\n",
      "accuracy: 0.8494825964252116\n",
      "f1-Score: 0.4912430265775265\n",
      "Recall: 0.839896138226357\n",
      "Precision: 0.5161040817006548\n",
      "[[7180 1271]\n",
      " [   9   44]]\n",
      "None\n",
      "------------------------------------------------------------\n",
      "accuracy: 0.7563499529633114\n",
      "f1-Score: 0.4479735131870142\n",
      "Recall: 0.7367889922594848\n",
      "Precision: 0.5078989830455457\n",
      "[[6394 2057]\n",
      " [  15   38]]\n",
      "None\n",
      "------------------------------------------------------------\n",
      "accuracy: 0.8352539981185324\n",
      "f1-Score: 0.4818938168171867\n",
      "Recall: 0.7952380314487735\n",
      "Precision: 0.5130870041628861\n",
      "[[7063 1388]\n",
      " [  13   40]]\n",
      "None\n",
      "------------------------------------------------------------\n"
     ]
    }
   ],
   "source": [
    "for i in arr:\n",
    "    print(scoring(y_test , i))\n",
    "    print('-'*60)\n",
    "\n",
    "for i in ajarr:\n",
    "    print(scoring(y_test , i))\n",
    "    print('-'*60)"
   ]
  },
  {
   "cell_type": "code",
   "execution_count": 150,
   "metadata": {},
   "outputs": [
    {
     "data": {
      "text/plain": [
       "(8504,)"
      ]
     },
     "execution_count": 150,
     "metadata": {},
     "output_type": "execute_result"
    }
   ],
   "source": [
    "y_test.shape"
   ]
  },
  {
   "cell_type": "code",
   "execution_count": 156,
   "metadata": {},
   "outputs": [
    {
     "data": {
      "text/html": [
       "<div>\n",
       "<style scoped>\n",
       "    .dataframe tbody tr th:only-of-type {\n",
       "        vertical-align: middle;\n",
       "    }\n",
       "\n",
       "    .dataframe tbody tr th {\n",
       "        vertical-align: top;\n",
       "    }\n",
       "\n",
       "    .dataframe thead th {\n",
       "        text-align: right;\n",
       "    }\n",
       "</style>\n",
       "<table border=\"1\" class=\"dataframe\">\n",
       "  <thead>\n",
       "    <tr style=\"text-align: right;\">\n",
       "      <th></th>\n",
       "      <th>4</th>\n",
       "      <th>7</th>\n",
       "      <th>2</th>\n",
       "      <th>1</th>\n",
       "      <th>6</th>\n",
       "      <th>9</th>\n",
       "      <th>8</th>\n",
       "      <th>3</th>\n",
       "      <th>0</th>\n",
       "      <th>5</th>\n",
       "    </tr>\n",
       "  </thead>\n",
       "  <tbody>\n",
       "    <tr>\n",
       "      <th>모델</th>\n",
       "      <td>KNN</td>\n",
       "      <td>Catboost</td>\n",
       "      <td>Adaboost</td>\n",
       "      <td>Random Forest</td>\n",
       "      <td>lightGBM</td>\n",
       "      <td>Xgboost</td>\n",
       "      <td>MLP</td>\n",
       "      <td>logistic</td>\n",
       "      <td>Decision Tree</td>\n",
       "      <td>SVC</td>\n",
       "    </tr>\n",
       "    <tr>\n",
       "      <th>accuracy</th>\n",
       "      <td>0.8563</td>\n",
       "      <td>0.8278</td>\n",
       "      <td>0.818</td>\n",
       "      <td>0.8179</td>\n",
       "      <td>0.8034</td>\n",
       "      <td>0.7949</td>\n",
       "      <td>0.7507</td>\n",
       "      <td>0.7174</td>\n",
       "      <td>0.6956</td>\n",
       "      <td>0.0063</td>\n",
       "    </tr>\n",
       "  </tbody>\n",
       "</table>\n",
       "</div>"
      ],
      "text/plain": [
       "               4         7         2              1         6        9  \\\n",
       "모델           KNN  Catboost  Adaboost  Random Forest  lightGBM  Xgboost   \n",
       "accuracy  0.8563    0.8278     0.818         0.8179    0.8034   0.7949   \n",
       "\n",
       "               8         3              0       5  \n",
       "모델           MLP  logistic  Decision Tree     SVC  \n",
       "accuracy  0.7507    0.7174         0.6956  0.0063  "
      ]
     },
     "execution_count": 156,
     "metadata": {},
     "output_type": "execute_result"
    }
   ],
   "source": [
    "mdn = ['Decision Tree','Random Forest','Adaboost','logistic', 'KNN','SVC','lightGBM','Catboost','MLP','Xgboost']\n",
    "acc = []\n",
    "\n",
    "for i in arr:\n",
    "    acc.append(round(accuracy_score(y_test, i),4))\n",
    "\n",
    "pd.DataFrame({'모델':mdn, 'accuracy':acc}).sort_values(by='accuracy', ascending=False).T"
   ]
  },
  {
   "cell_type": "code",
   "execution_count": 80,
   "metadata": {},
   "outputs": [
    {
     "data": {
      "text/html": [
       "<div>\n",
       "<style scoped>\n",
       "    .dataframe tbody tr th:only-of-type {\n",
       "        vertical-align: middle;\n",
       "    }\n",
       "\n",
       "    .dataframe tbody tr th {\n",
       "        vertical-align: top;\n",
       "    }\n",
       "\n",
       "    .dataframe thead th {\n",
       "        text-align: right;\n",
       "    }\n",
       "</style>\n",
       "<table border=\"1\" class=\"dataframe\">\n",
       "  <thead>\n",
       "    <tr style=\"text-align: right;\">\n",
       "      <th></th>\n",
       "      <th>4</th>\n",
       "      <th>7</th>\n",
       "      <th>1</th>\n",
       "      <th>2</th>\n",
       "      <th>6</th>\n",
       "      <th>9</th>\n",
       "      <th>8</th>\n",
       "      <th>0</th>\n",
       "      <th>3</th>\n",
       "      <th>5</th>\n",
       "    </tr>\n",
       "  </thead>\n",
       "  <tbody>\n",
       "    <tr>\n",
       "      <th>모델</th>\n",
       "      <td>KNN</td>\n",
       "      <td>Catboost</td>\n",
       "      <td>Random Forest</td>\n",
       "      <td>Adaboost</td>\n",
       "      <td>lightGBM</td>\n",
       "      <td>Xgboost</td>\n",
       "      <td>MLP</td>\n",
       "      <td>Decision Tree</td>\n",
       "      <td>logistic</td>\n",
       "      <td>SVC</td>\n",
       "    </tr>\n",
       "    <tr>\n",
       "      <th>accuracy</th>\n",
       "      <td>0.8873</td>\n",
       "      <td>0.8753</td>\n",
       "      <td>0.8644</td>\n",
       "      <td>0.8625</td>\n",
       "      <td>0.8612</td>\n",
       "      <td>0.8505</td>\n",
       "      <td>0.817</td>\n",
       "      <td>0.7591</td>\n",
       "      <td>0.7482</td>\n",
       "      <td>0.0194</td>\n",
       "    </tr>\n",
       "  </tbody>\n",
       "</table>\n",
       "</div>"
      ],
      "text/plain": [
       "               4         7              1         2         6        9      8  \\\n",
       "모델           KNN  Catboost  Random Forest  Adaboost  lightGBM  Xgboost    MLP   \n",
       "accuracy  0.8873    0.8753         0.8644    0.8625    0.8612   0.8505  0.817   \n",
       "\n",
       "                      0         3       5  \n",
       "모델        Decision Tree  logistic     SVC  \n",
       "accuracy         0.7591    0.7482  0.0194  "
      ]
     },
     "execution_count": 80,
     "metadata": {},
     "output_type": "execute_result"
    }
   ],
   "source": [
    "mdn = ['Decision Tree','Random Forest','Adaboost','logistic', 'KNN','SVC','lightGBM','Catboost','MLP','Xgboost']\n",
    "acc = []\n",
    "\n",
    "for i in varr:\n",
    "    acc.append(round(accuracy_score(y_val, i),4))\n",
    "\n",
    "pd.DataFrame({'모델':mdn, 'accuracy':acc}).sort_values(by='accuracy', ascending=False).T"
   ]
  },
  {
   "cell_type": "code",
   "execution_count": 83,
   "metadata": {},
   "outputs": [
    {
     "data": {
      "text/html": [
       "<div>\n",
       "<style scoped>\n",
       "    .dataframe tbody tr th:only-of-type {\n",
       "        vertical-align: middle;\n",
       "    }\n",
       "\n",
       "    .dataframe tbody tr th {\n",
       "        vertical-align: top;\n",
       "    }\n",
       "\n",
       "    .dataframe thead th {\n",
       "        text-align: right;\n",
       "    }\n",
       "</style>\n",
       "<table border=\"1\" class=\"dataframe\">\n",
       "  <thead>\n",
       "    <tr style=\"text-align: right;\">\n",
       "      <th></th>\n",
       "      <th>7</th>\n",
       "      <th>1</th>\n",
       "      <th>4</th>\n",
       "      <th>6</th>\n",
       "      <th>9</th>\n",
       "      <th>2</th>\n",
       "      <th>8</th>\n",
       "      <th>3</th>\n",
       "      <th>0</th>\n",
       "      <th>5</th>\n",
       "    </tr>\n",
       "  </thead>\n",
       "  <tbody>\n",
       "    <tr>\n",
       "      <th>모델</th>\n",
       "      <td>Catboost</td>\n",
       "      <td>Random Forest</td>\n",
       "      <td>KNN</td>\n",
       "      <td>lightGBM</td>\n",
       "      <td>Xgboost</td>\n",
       "      <td>Adaboost</td>\n",
       "      <td>MLP</td>\n",
       "      <td>logistic</td>\n",
       "      <td>Decision Tree</td>\n",
       "      <td>SVC</td>\n",
       "    </tr>\n",
       "    <tr>\n",
       "      <th>accuracy</th>\n",
       "      <td>0.8961</td>\n",
       "      <td>0.8917</td>\n",
       "      <td>0.8876</td>\n",
       "      <td>0.8838</td>\n",
       "      <td>0.8808</td>\n",
       "      <td>0.8764</td>\n",
       "      <td>0.8666</td>\n",
       "      <td>0.8587</td>\n",
       "      <td>0.8006</td>\n",
       "      <td>0.0191</td>\n",
       "    </tr>\n",
       "  </tbody>\n",
       "</table>\n",
       "</div>"
      ],
      "text/plain": [
       "                 7              1       4         6        9         2  \\\n",
       "모델        Catboost  Random Forest     KNN  lightGBM  Xgboost  Adaboost   \n",
       "accuracy    0.8961         0.8917  0.8876    0.8838   0.8808    0.8764   \n",
       "\n",
       "               8         3              0       5  \n",
       "모델           MLP  logistic  Decision Tree     SVC  \n",
       "accuracy  0.8666    0.8587         0.8006  0.0191  "
      ]
     },
     "execution_count": 83,
     "metadata": {},
     "output_type": "execute_result"
    }
   ],
   "source": [
    "acc = []\n",
    "for i in vajarr:\n",
    "    acc.append(round(accuracy_score(ajy_val, i),4))\n",
    "\n",
    "pd.DataFrame({'모델':mdn, 'accuracy':acc}).sort_values(by='accuracy', ascending=False).T"
   ]
  },
  {
   "cell_type": "code",
   "execution_count": 84,
   "metadata": {},
   "outputs": [
    {
     "data": {
      "text/html": [
       "<div>\n",
       "<style scoped>\n",
       "    .dataframe tbody tr th:only-of-type {\n",
       "        vertical-align: middle;\n",
       "    }\n",
       "\n",
       "    .dataframe tbody tr th {\n",
       "        vertical-align: top;\n",
       "    }\n",
       "\n",
       "    .dataframe thead th {\n",
       "        text-align: right;\n",
       "    }\n",
       "</style>\n",
       "<table border=\"1\" class=\"dataframe\">\n",
       "  <thead>\n",
       "    <tr style=\"text-align: right;\">\n",
       "      <th></th>\n",
       "      <th>4</th>\n",
       "      <th>1</th>\n",
       "      <th>7</th>\n",
       "      <th>6</th>\n",
       "      <th>9</th>\n",
       "      <th>3</th>\n",
       "      <th>2</th>\n",
       "      <th>8</th>\n",
       "      <th>0</th>\n",
       "      <th>5</th>\n",
       "    </tr>\n",
       "  </thead>\n",
       "  <tbody>\n",
       "    <tr>\n",
       "      <th>모델</th>\n",
       "      <td>KNN</td>\n",
       "      <td>Random Forest</td>\n",
       "      <td>Catboost</td>\n",
       "      <td>lightGBM</td>\n",
       "      <td>Xgboost</td>\n",
       "      <td>logistic</td>\n",
       "      <td>Adaboost</td>\n",
       "      <td>MLP</td>\n",
       "      <td>Decision Tree</td>\n",
       "      <td>SVC</td>\n",
       "    </tr>\n",
       "    <tr>\n",
       "      <th>accuracy</th>\n",
       "      <td>0.855</td>\n",
       "      <td>0.8524</td>\n",
       "      <td>0.8495</td>\n",
       "      <td>0.8368</td>\n",
       "      <td>0.8353</td>\n",
       "      <td>0.8307</td>\n",
       "      <td>0.8271</td>\n",
       "      <td>0.7563</td>\n",
       "      <td>0.7217</td>\n",
       "      <td>0.0063</td>\n",
       "    </tr>\n",
       "  </tbody>\n",
       "</table>\n",
       "</div>"
      ],
      "text/plain": [
       "              4              1         7         6        9         3  \\\n",
       "모델          KNN  Random Forest  Catboost  lightGBM  Xgboost  logistic   \n",
       "accuracy  0.855         0.8524    0.8495    0.8368   0.8353    0.8307   \n",
       "\n",
       "                 2       8              0       5  \n",
       "모델        Adaboost     MLP  Decision Tree     SVC  \n",
       "accuracy    0.8271  0.7563         0.7217  0.0063  "
      ]
     },
     "execution_count": 84,
     "metadata": {},
     "output_type": "execute_result"
    }
   ],
   "source": [
    "acc = []\n",
    "for i in ajarr:\n",
    "    acc.append(round(accuracy_score(ajy_test, i),4))\n",
    "\n",
    "pd.DataFrame({'모델':mdn, 'accuracy':acc}).sort_values(by='accuracy', ascending=False).T"
   ]
  },
  {
   "cell_type": "markdown",
   "metadata": {},
   "source": [
    "# **1YEAR AGO**"
   ]
  },
  {
   "cell_type": "code",
   "execution_count": 36,
   "metadata": {},
   "outputs": [],
   "source": [
    "X1_train, X1_val, y1_train, y1_val = train_test_split(X1, y1, test_size=0.2, stratify=y1, random_state = 488)\n",
    "X1_train , y1_train = RandomUnderSampler(random_state=0).fit_resample(X1 , y1)"
   ]
  },
  {
   "cell_type": "code",
   "execution_count": 37,
   "metadata": {},
   "outputs": [
    {
     "name": "stdout",
     "output_type": "stream",
     "text": [
      "[19:22:56] WARNING: C:/Users/Administrator/workspace/xgboost-win64_release_1.5.0/src/learner.cc:1115: Starting in XGBoost 1.3.0, the default evaluation metric used with the objective 'binary:logistic' was changed from 'error' to 'logloss'. Explicitly set eval_metric if you'd like to restore the old behavior.\n"
     ]
    }
   ],
   "source": [
    "dt_clf1 = modeling(DecisionTreeClassifier(), X1_train, y1_train, X1_test)\n",
    "rf_clf1 = modeling(RandomForestClassifier(),X1_train, y1_train, X1_test)\n",
    "ada_clf1 = modeling(AdaBoostClassifier(), X1_train, y1_train, X1_test)\n",
    "lg_clf1 = modeling(LogisticRegression(), X1_train, y1_train, X1_test)\n",
    "knn_clf1 = modeling(KNeighborsClassifier(), X1_train, y1_train, X1_test)\n",
    "svc_clf1 = modeling(SVC(probability=True), X1_train, y1_train, X1_test)\n",
    "lgmb_clf1 = modeling(LGBMClassifier(), X1_train, y1_train, X1_test)\n",
    "cat_clf1 = modeling(CatBoostClassifier(silent=True),X1_train, y1_train, X1_test)\n",
    "mlp_clf1 = modeling(MLPClassifier(),X1_train, y1_train, X1_test)\n",
    "xgb_clf1 = modeling(XGBClassifier(),X1_train, y1_train, X1_test)"
   ]
  },
  {
   "cell_type": "code",
   "execution_count": 38,
   "metadata": {},
   "outputs": [
    {
     "data": {
      "text/plain": [
       "0.8199672667757774"
      ]
     },
     "execution_count": 38,
     "metadata": {},
     "output_type": "execute_result"
    }
   ],
   "source": [
    "models = CatBoostClassifier(silent=True)\n",
    "models.fit(X1_train,y1_train)\n",
    "accuracy_score(y1_val, models.predict(X1_val))"
   ]
  },
  {
   "cell_type": "code",
   "execution_count": 17,
   "metadata": {},
   "outputs": [
    {
     "name": "stdout",
     "output_type": "stream",
     "text": [
      "accuracy: 0.7345954844778928\n",
      "f1-Score: 0.4393885522219894\n",
      "Recall: 0.7629690949227372\n",
      "Precision: 0.5075111106888857\n",
      "[[6209 2247]\n",
      " [  10   38]]\n"
     ]
    }
   ],
   "source": [
    "scoring(y1_test , lgmb_clf1)"
   ]
  },
  {
   "cell_type": "markdown",
   "metadata": {},
   "source": [
    "# **2YEARS AGO**"
   ]
  },
  {
   "cell_type": "code",
   "execution_count": 39,
   "metadata": {},
   "outputs": [],
   "source": [
    "X2_train, X2_val, y2_train, y2_val = train_test_split(X2, y2, test_size=0.2, stratify=y2, random_state = 488)\n",
    "X2_train , y2_train = RandomUnderSampler(random_state=1).fit_resample(X2 , y2)"
   ]
  },
  {
   "cell_type": "code",
   "execution_count": 40,
   "metadata": {},
   "outputs": [
    {
     "name": "stdout",
     "output_type": "stream",
     "text": [
      "[19:23:15] WARNING: C:/Users/Administrator/workspace/xgboost-win64_release_1.5.0/src/learner.cc:1115: Starting in XGBoost 1.3.0, the default evaluation metric used with the objective 'binary:logistic' was changed from 'error' to 'logloss'. Explicitly set eval_metric if you'd like to restore the old behavior.\n"
     ]
    }
   ],
   "source": [
    "dt_clf2 = modeling(DecisionTreeClassifier(), X2_train, y2_train, X2_test)\n",
    "rf_clf2 = modeling(RandomForestClassifier(),X2_train, y2_train, X2_test)\n",
    "ada_clf2 = modeling(AdaBoostClassifier(), X2_train, y2_train, X2_test)\n",
    "lg_clf2 = modeling(LogisticRegression(), X2_train, y2_train, X2_test)\n",
    "knn_clf2 = modeling(KNeighborsClassifier(), X2_train, y2_train, X2_test)\n",
    "svc_clf2 = modeling(SVC(probability=True), X2_train, y2_train, X2_test)\n",
    "lgmb_clf2 = modeling(LGBMClassifier(), X2_train, y2_train, X2_test)\n",
    "cat_clf2 = modeling(CatBoostClassifier(silent=True),X2_train, y2_train, X2_test)\n",
    "mlp_clf2 = modeling(MLPClassifier(),X2_train, y2_train, X2_test)\n",
    "xgb_clf2 = modeling(XGBClassifier(),X2_train, y2_train, X2_test)"
   ]
  },
  {
   "cell_type": "code",
   "execution_count": 41,
   "metadata": {},
   "outputs": [
    {
     "data": {
      "text/plain": [
       "0.7962356792144026"
      ]
     },
     "execution_count": 41,
     "metadata": {},
     "output_type": "execute_result"
    }
   ],
   "source": [
    "models = CatBoostClassifier(silent=True)\n",
    "models.fit(X2_train,y2_train)\n",
    "accuracy_score(y2_val, models.predict(X2_val))"
   ]
  },
  {
   "cell_type": "code",
   "execution_count": 32,
   "metadata": {},
   "outputs": [
    {
     "name": "stdout",
     "output_type": "stream",
     "text": [
      "accuracy: 0.69379115710254\n",
      "f1-Score: 0.4211990239190028\n",
      "Recall: 0.7024050649538296\n",
      "Precision: 0.5049946314186765\n",
      "[[5868 2591]\n",
      " [  13   32]]\n"
     ]
    }
   ],
   "source": [
    "scoring(y2_test , cat_clf2)"
   ]
  },
  {
   "cell_type": "markdown",
   "metadata": {},
   "source": [
    "# **3YEARS AGO**"
   ]
  },
  {
   "cell_type": "code",
   "execution_count": 22,
   "metadata": {},
   "outputs": [
    {
     "name": "stdout",
     "output_type": "stream",
     "text": [
      "[19:16:34] WARNING: C:/Users/Administrator/workspace/xgboost-win64_release_1.5.0/src/learner.cc:1115: Starting in XGBoost 1.3.0, the default evaluation metric used with the objective 'binary:logistic' was changed from 'error' to 'logloss'. Explicitly set eval_metric if you'd like to restore the old behavior.\n"
     ]
    }
   ],
   "source": [
    "X3_train, X3_val, y3_train, y3_val = train_test_split(X3, y3, test_size=0.2, stratify=y3, random_state = 488)\n",
    "X3_train , y3_train = RandomUnderSampler(random_state=0).fit_resample(X3 , y3)\n",
    "\n",
    "dt_clf3 = modeling(DecisionTreeClassifier(), X3_train, y3_train, X3_test)\n",
    "rf_clf3 = modeling(RandomForestClassifier(),X3_train, y3_train, X3_test)\n",
    "ada_clf3 = modeling(AdaBoostClassifier(), X3_train, y3_train, X3_test)\n",
    "lg_clf3 = modeling(LogisticRegression(), X3_train, y3_train, X3_test)\n",
    "knn_clf3 = modeling(KNeighborsClassifier(), X3_train, y3_train, X3_test)\n",
    "svc_clf3 = modeling(SVC(probability=True), X3_train, y3_train, X3_test)\n",
    "lgmb_clf3 = modeling(LGBMClassifier(), X3_train, y3_train, X3_test)\n",
    "cat_clf3 = modeling(CatBoostClassifier(silent=True),X3_train, y3_train, X3_test)\n",
    "mlp_clf3 = modeling(MLPClassifier(),X3_train, y3_train, X3_test)\n",
    "xgb_clf3 = modeling(XGBClassifier(),X3_train, y3_train, X3_test)"
   ]
  },
  {
   "cell_type": "code",
   "execution_count": 23,
   "metadata": {},
   "outputs": [
    {
     "data": {
      "text/plain": [
       "0.7220403709765412"
      ]
     },
     "execution_count": 23,
     "metadata": {},
     "output_type": "execute_result"
    }
   ],
   "source": [
    "models = CatBoostClassifier(silent=True)\n",
    "models.fit(X3_train,y3_train)\n",
    "accuracy_score(y3_val, models.predict(X3_val))"
   ]
  },
  {
   "cell_type": "code",
   "execution_count": 24,
   "metadata": {},
   "outputs": [
    {
     "name": "stdout",
     "output_type": "stream",
     "text": [
      "accuracy: 0.6000705550329257\n",
      "f1-Score: 0.3815436851040985\n",
      "Recall: 0.6634238739657226\n",
      "Precision: 0.5026284465997967\n",
      "[[5079 3392]\n",
      " [   9   24]]\n"
     ]
    }
   ],
   "source": [
    "scoring(y3_test , cat_clf3)"
   ]
  },
  {
   "cell_type": "markdown",
   "metadata": {},
   "source": [
    "# **4YEARS AGO**"
   ]
  },
  {
   "cell_type": "code",
   "execution_count": 25,
   "metadata": {},
   "outputs": [
    {
     "name": "stdout",
     "output_type": "stream",
     "text": [
      "[19:16:45] WARNING: C:/Users/Administrator/workspace/xgboost-win64_release_1.5.0/src/learner.cc:1115: Starting in XGBoost 1.3.0, the default evaluation metric used with the objective 'binary:logistic' was changed from 'error' to 'logloss'. Explicitly set eval_metric if you'd like to restore the old behavior.\n"
     ]
    }
   ],
   "source": [
    "# X4_train, X4_test, y4_train, y4_test = train_test_split(X4, y4, test_size=0.2, stratify=y4, random_state = 488)\n",
    "X4_train , y4_train = RandomUnderSampler(random_state=0).fit_resample(X4 , y4)\n",
    "\n",
    "dt_clf4 = modeling(DecisionTreeClassifier(), X4_train, y4_train, X4_test)\n",
    "rf_clf4 = modeling(RandomForestClassifier(),X4_train, y4_train, X4_test)\n",
    "ada_clf4 = modeling(AdaBoostClassifier(), X4_train, y4_train, X4_test)\n",
    "lg_clf4 = modeling(LogisticRegression(), X4_train, y4_train, X4_test)\n",
    "knn_clf4 = modeling(KNeighborsClassifier(), X4_train, y4_train, X4_test)\n",
    "svc_clf4 = modeling(SVC(probability=True), X4_train, y4_train, X4_test)\n",
    "lgmb_clf4 = modeling(LGBMClassifier(), X4_train, y4_train, X4_test)\n",
    "cat_clf4 = modeling(CatBoostClassifier(silent=True),X4_train, y4_train, X4_test)\n",
    "mlp_clf4 = modeling(MLPClassifier(),X4_train, y4_train, X4_test)\n",
    "xgb_clf4 = modeling(XGBClassifier(),X4_train, y4_train, X4_test)"
   ]
  },
  {
   "cell_type": "code",
   "execution_count": 26,
   "metadata": {},
   "outputs": [
    {
     "name": "stdout",
     "output_type": "stream",
     "text": [
      "accuracy: 0.644167450611477\n",
      "f1-Score: 0.39615646094722873\n",
      "Recall: 0.6402756639729053\n",
      "Precision: 0.5015777129719637\n",
      "[[5464 3018]\n",
      " [   8   14]]\n"
     ]
    }
   ],
   "source": [
    "scoring(y4_test , cat_clf4)"
   ]
  },
  {
   "cell_type": "code",
   "execution_count": 27,
   "metadata": {},
   "outputs": [
    {
     "data": {
      "text/plain": [
       "<BarContainer object of 11 artists>"
      ]
     },
     "execution_count": 27,
     "metadata": {},
     "output_type": "execute_result"
    },
    {
     "data": {
      "image/png": "[encoded data removed]",
      "text/plain": [
       "<Figure size 432x288 with 1 Axes>"
      ]
     },
     "metadata": {
      "needs_background": "light"
     },
     "output_type": "display_data"
    }
   ],
   "source": [
    "model = CatBoostClassifier(silent=True)\n",
    "model.fit(X_train, y_train)\n",
    "plt.barh(X_train.columns, model.feature_importances_ )"
   ]
  },
  {
   "cell_type": "code",
   "execution_count": null,
   "metadata": {},
   "outputs": [],
   "source": []
  }
 ],
 "metadata": {
  "interpreter": {
   "hash": "71b59b5ba49ad06bb2a011e750699e3983d230921f30bf7f37eb3a01ae69aa26"
  },
  "kernelspec": {
   "display_name": "Python 3.9.6 64-bit",
   "language": "python",
   "name": "python3"
  },
  "language_info": {
   "codemirror_mode": {
    "name": "ipython",
    "version": 3
   },
   "file_extension": ".py",
   "mimetype": "text/x-python",
   "name": "python",
   "nbconvert_exporter": "python",
   "pygments_lexer": "ipython3",
   "version": "3.9.6"
  },
  "orig_nbformat": 4
 },
 "nbformat": 4,
 "nbformat_minor": 2
}
