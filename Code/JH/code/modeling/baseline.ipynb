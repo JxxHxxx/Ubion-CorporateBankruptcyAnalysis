{
 "cells": [
  {
   "cell_type": "markdown",
   "metadata": {},
   "source": [
    "# **라이브러리**"
   ]
  },
  {
   "cell_type": "code",
   "execution_count": 171,
   "metadata": {},
   "outputs": [],
   "source": [
    "import pandas as pd\n",
    "import numpy as np\n",
    "\n",
    "from imblearn.under_sampling import *\n",
    "from sklearn.model_selection import train_test_split\n",
    "\n",
    "from sklearn.linear_model import LogisticRegression\n",
    "from sklearn.tree import DecisionTreeClassifier\n",
    "from sklearn.ensemble import RandomForestClassifier\n",
    "from sklearn.ensemble import AdaBoostClassifier\n",
    "from sklearn.neighbors import KNeighborsClassifier\n",
    "from sklearn.svm import SVC\n",
    "from lightgbm import LGBMClassifier\n",
    "from catboost import CatBoostClassifier\n",
    "from sklearn.neural_network import MLPClassifier\n",
    "from xgboost import XGBClassifier\n",
    "\n",
    "from sklearn.metrics import confusion_matrix, ConfusionMatrixDisplay\n",
    "from sklearn.metrics import plot_confusion_matrix\n",
    "from sklearn.metrics import f1_score, recall_score, precision_score\n",
    "\n",
    "import warnings\n",
    "warnings.filterwarnings(action='ignore')\n",
    "\n",
    "import matplotlib.pyplot as plt\n",
    "\n",
    "plt.rcParams['font.family'] = 'malgun gothic'"
   ]
  },
  {
   "cell_type": "markdown",
   "metadata": {},
   "source": [
    "# **함수모음**"
   ]
  },
  {
   "cell_type": "markdown",
   "metadata": {},
   "source": [
    "## **모델링**"
   ]
  },
  {
   "cell_type": "code",
   "execution_count": 172,
   "metadata": {},
   "outputs": [],
   "source": [
    "def modeling(model, X, y, test):    \n",
    "    model.fit(X, y)\n",
    "    pred = model.predict_proba(test)\n",
    "    pred = (pred[:,0] < 0.4)*1         # threshold 부도기업일 확률이 10% 이상이면 부도로 판단해라.\n",
    "    return pred"
   ]
  },
  {
   "cell_type": "markdown",
   "metadata": {},
   "source": [
    "## **스코어**"
   ]
  },
  {
   "cell_type": "code",
   "execution_count": 173,
   "metadata": {},
   "outputs": [],
   "source": [
    "def scoring(y_true, y_pred):\n",
    "    print('f1-Score:', f1_score(y_true, y_pred, average='macro'))\n",
    "    print('Recall:',recall_score(y_true, y_pred, average='macro'))\n",
    "    print('Precision:',precision_score(y_true, y_pred, average='macro'))   "
   ]
  },
  {
   "cell_type": "code",
   "execution_count": 174,
   "metadata": {},
   "outputs": [],
   "source": [
    "dataset = pd.read_csv(r'C:\\Users\\JH\\Desktop\\Final\\Ubion-CorporateBankruptcyAnalysis\\Data\\최종데이터셋\\Finaldataset_ver7.5.csv',index_col=0)"
   ]
  },
  {
   "cell_type": "code",
   "execution_count": 175,
   "metadata": {},
   "outputs": [
    {
     "data": {
      "text/plain": [
       "0.0    402\n",
       "Name: 신종채권, dtype: int64"
      ]
     },
     "execution_count": 175,
     "metadata": {},
     "output_type": "execute_result"
    }
   ],
   "source": [
    "dataset.loc[dataset['부도'] == 1]['신종채권'].value_counts()"
   ]
  },
  {
   "cell_type": "code",
   "execution_count": 142,
   "metadata": {},
   "outputs": [
    {
     "data": {
      "text/plain": [
       "0.0    26430\n",
       "1.0      402\n",
       "Name: 부도, dtype: int64"
      ]
     },
     "execution_count": 142,
     "metadata": {},
     "output_type": "execute_result"
    }
   ],
   "source": [
    "dataset['부도'].value_counts()"
   ]
  },
  {
   "cell_type": "markdown",
   "metadata": {},
   "source": [
    "## **set1**"
   ]
  },
  {
   "cell_type": "code",
   "execution_count": 62,
   "metadata": {},
   "outputs": [],
   "source": [
    "drop_feature = ['회사명', '거래소코드', '회계년도', '년', 'key', '정기공시제목', '수시공시제목', '부도',\n",
    "'기타', '외국인_주식분포비율', '종가','유동비율', '당좌비율', '순운전자본비율',\n",
    "       '부채비율', '차입금의존도', '비유동장기적합률', '매출채권_대_매입채무비율', '총자본순이익률',\n",
    "       '자기자본영업이익률', '총자본영업이익률', '경영자본영업이익률', '매출액순이익률', '금융비용부담률',\n",
    "       '매출액영업이익률', '당좌자산회전률', '재고자산회전률', '자기자본회전률', '비유동자산회전률',\n",
    "       '매출채권회전률', '매입채무회전률', '유형자산회전율',  '자기자본증가율',\n",
    "       '매출액증가율', '순이익증가율', '유형자산증가율', '유동자산증가율', 'EBITDA_매출액',\n",
    "       '부채구성비율', '청산가치율', '이익잉여금비율', '자본잉여금비율', '경영자산비율', '이자보상비율', '매출액판관비율',\n",
    "       '매출원가율', '재고자산보유기간', '매입채무지급기간', 'EBITDA이자보상비율',\n",
    "       'EBITDA유동부채비율', 'EBITDA총자산비율', 'EBITDA총부채비율',\n",
    "       '영업이익대비영업현금흐름비율', '영업이익대비EBITDA비율', '자기자본배당률', '금융비용_대_부채비율', '자기자본배율',\n",
    "       '누적수익성비율', '총자산영업이익률', '총자산회전율','최대주주_변경', '회계처리위반', '횡령배임','영업조업중단']\n",
    " \n",
    "text_col = ['대표이사_변경','신종채권','출자목적_투자','출자목적_경영권','출자목적_영업이익','종가변동률']"
   ]
  },
  {
   "cell_type": "markdown",
   "metadata": {},
   "source": [
    "## **set2**"
   ]
  },
  {
   "cell_type": "code",
   "execution_count": 176,
   "metadata": {},
   "outputs": [],
   "source": [
    "drop_feature = ['회사명', '거래소코드', '회계년도', '년', 'key', '정기공시제목', '수시공시제목', '부도',\n",
    "'기타', '외국인_주식분포비율', '종가','유동비율', '당좌비율', '순운전자본비율',\n",
    "       '부채비율', '차입금의존도', '비유동장기적합률', '매출채권_대_매입채무비율', '총자본순이익률',\n",
    "       '자기자본영업이익률', '총자본영업이익률', '경영자본영업이익률', '매출액순이익률', '금융비용부담률',\n",
    "       '매출액영업이익률', '당좌자산회전률', '재고자산회전률', '자기자본회전률', '비유동자산회전률',\n",
    "       '매출채권회전률', '매입채무회전률', '유형자산회전율',  '자기자본증가율',\n",
    "       '매출액증가율', '순이익증가율', '유형자산증가율', '유동자산증가율', 'EBITDA_매출액',\n",
    "       '부채구성비율', '청산가치율', '이익잉여금비율', '자본잉여금비율', '경영자산비율', '이자보상비율', '매출액판관비율',\n",
    "       '매출원가율', '재고자산보유기간', '매입채무지급기간', 'EBITDA이자보상비율',\n",
    "       'EBITDA유동부채비율', 'EBITDA총자산비율', 'EBITDA총부채비율',\n",
    "       '영업이익대비영업현금흐름비율', '영업이익대비EBITDA비율', '자기자본배당률', '금융비용_대_부채비율', '자기자본배율',\n",
    "       '누적수익성비율', '총자산영업이익률', '총자산회전율', '최대주주_변경', '회계처리위반', '횡령배임','영업조업중단','신종채권']\n",
    " \n",
    "text_col = ['대표이사_변경', '종가변동률','출자목적_투자', '출자목적_경영권', '출자목적_영업이익']"
   ]
  },
  {
   "cell_type": "markdown",
   "metadata": {},
   "source": [
    "# **set3**"
   ]
  },
  {
   "cell_type": "code",
   "execution_count": 145,
   "metadata": {},
   "outputs": [],
   "source": [
    "drop_feature = ['회사명', '거래소코드', '회계년도', '년', 'key', '정기공시제목', '수시공시제목', '부도',\n",
    "'기타', '외국인_주식분포비율', '종가','유동비율', '당좌비율', '순운전자본비율',\n",
    "       '부채비율', '차입금의존도', '비유동장기적합률', '매출채권_대_매입채무비율', '총자본순이익률',\n",
    "       '자기자본영업이익률', '총자본영업이익률', '경영자본영업이익률', '매출액순이익률', '금융비용부담률',\n",
    "       '매출액영업이익률', '당좌자산회전률', '재고자산회전률', '자기자본회전률', '비유동자산회전률',\n",
    "       '매출채권회전률', '매입채무회전률', '유형자산회전율',  '자기자본증가율',\n",
    "       '매출액증가율', '순이익증가율', '유형자산증가율', '유동자산증가율', 'EBITDA_매출액',\n",
    "       '부채구성비율', '청산가치율', '이익잉여금비율', '자본잉여금비율', '경영자산비율', '이자보상비율', '매출액판관비율',\n",
    "       '매출원가율', '재고자산보유기간', '매입채무지급기간', 'EBITDA이자보상비율',\n",
    "       'EBITDA유동부채비율', 'EBITDA총자산비율', 'EBITDA총부채비율',\n",
    "       '영업이익대비영업현금흐름비율', '영업이익대비EBITDA비율', '자기자본배당률', '금융비용_대_부채비율', '자기자본배율',\n",
    "       '누적수익성비율', '총자산영업이익률', '총자산회전율','출자목적_투자', '출자목적_경영권', '출자목적_영업이익', '최대주주_변경', '회계처리위반', '횡령배임','영업조업중단',\n",
    "       '유동부채비율', '비유동비율', '자기자본순이익률', '경영자본순이익률', '경영자본회전률', '설비투자효율',\n",
    "       '총자본투자효율', '영업이익증가율', '부가가치율', '매출채권회수기간', 'EBITDA단기차입비율']\n",
    " \n",
    "text_col = ['대표이사_변경','종가변동률']"
   ]
  },
  {
   "cell_type": "code",
   "execution_count": 177,
   "metadata": {},
   "outputs": [],
   "source": [
    "ajX = dataset.drop(drop_feature, axis=1)\n",
    "X = ajX.drop(text_col, axis = 1)\n",
    "ajy = dataset['부도']\n",
    "y = dataset['부도']"
   ]
  },
  {
   "cell_type": "markdown",
   "metadata": {},
   "source": [
    "# **재무데이터 + 비재무데이터**"
   ]
  },
  {
   "cell_type": "markdown",
   "metadata": {},
   "source": []
  },
  {
   "cell_type": "code",
   "execution_count": 178,
   "metadata": {},
   "outputs": [],
   "source": [
    "ajX_train, ajX_test, ajy_train, ajy_test = train_test_split(ajX, ajy, test_size=0.2, stratify=ajy, random_state = 488)\n",
    "ajX_train , ajy_train = RandomUnderSampler(random_state=0).fit_resample(ajX_train , ajy_train)"
   ]
  },
  {
   "cell_type": "code",
   "execution_count": 179,
   "metadata": {},
   "outputs": [
    {
     "name": "stdout",
     "output_type": "stream",
     "text": [
      "[20:37:49] WARNING: C:/Users/Administrator/workspace/xgboost-win64_release_1.5.0/src/learner.cc:1115: Starting in XGBoost 1.3.0, the default evaluation metric used with the objective 'binary:logistic' was changed from 'error' to 'logloss'. Explicitly set eval_metric if you'd like to restore the old behavior.\n"
     ]
    }
   ],
   "source": [
    "ajdt_clf = modeling(DecisionTreeClassifier(), ajX_train, ajy_train, ajX_test)\n",
    "ajrf_clf = modeling(RandomForestClassifier(),ajX_train, ajy_train, ajX_test)\n",
    "ajada_clf = modeling(AdaBoostClassifier(), ajX_train, ajy_train, ajX_test)\n",
    "ajlg_clf = modeling(LogisticRegression(), ajX_train, ajy_train, ajX_test)\n",
    "ajknn_clf = modeling(KNeighborsClassifier(), ajX_train, ajy_train, ajX_test)\n",
    "ajsvc_clf = modeling(SVC(probability=True), ajX_train, ajy_train, ajX_test)\n",
    "ajlgmb_clf = modeling(LGBMClassifier(), ajX_train, ajy_train, ajX_test)\n",
    "ajcat_clf = modeling(CatBoostClassifier(silent=True),ajX_train, ajy_train, ajX_test)\n",
    "ajmlp_clf = modeling(MLPClassifier(),ajX_train, ajy_train, ajX_test)\n",
    "ajxgb_clf = modeling(XGBClassifier(),ajX_train, ajy_train, ajX_test)"
   ]
  },
  {
   "cell_type": "code",
   "execution_count": 194,
   "metadata": {},
   "outputs": [
    {
     "name": "stdout",
     "output_type": "stream",
     "text": [
      "f1-Score: 0.5725789521862509\n",
      "Recall: 0.8521467751087574\n",
      "Precision: 0.5544726418924109\n"
     ]
    }
   ],
   "source": [
    "scoring(ajy_test , ajcat_clf)"
   ]
  },
  {
   "cell_type": "code",
   "execution_count": 193,
   "metadata": {},
   "outputs": [
    {
     "data": {
      "text/plain": [
       "array([[4781,  506],\n",
       "       [  16,   64]], dtype=int64)"
      ]
     },
     "execution_count": 193,
     "metadata": {},
     "output_type": "execute_result"
    }
   ],
   "source": [
    "confusion_matrix(ajy_test, ajcat_clf)  # 59 62"
   ]
  },
  {
   "cell_type": "markdown",
   "metadata": {},
   "source": [
    "array([[  4014,   931],\n",
    "       [ 11, 69]], dtype=int64)"
   ]
  },
  {
   "cell_type": "markdown",
   "metadata": {},
   "source": [
    "# **재무데이터only**"
   ]
  },
  {
   "cell_type": "code",
   "execution_count": 182,
   "metadata": {},
   "outputs": [],
   "source": [
    "X_train, X_test, y_train, y_test = train_test_split(X, y, test_size=0.2, stratify=y, random_state = 469)\n",
    "X_train, y_train = RandomUnderSampler(random_state=0).fit_resample(X_train, y_train)"
   ]
  },
  {
   "cell_type": "code",
   "execution_count": 183,
   "metadata": {},
   "outputs": [
    {
     "name": "stdout",
     "output_type": "stream",
     "text": [
      "[20:37:59] WARNING: C:/Users/Administrator/workspace/xgboost-win64_release_1.5.0/src/learner.cc:1115: Starting in XGBoost 1.3.0, the default evaluation metric used with the objective 'binary:logistic' was changed from 'error' to 'logloss'. Explicitly set eval_metric if you'd like to restore the old behavior.\n"
     ]
    }
   ],
   "source": [
    "dt_clf = modeling(DecisionTreeClassifier(), X_train, y_train, X_test)\n",
    "rf_clf = modeling(RandomForestClassifier(), X_train, y_train, X_test)\n",
    "ada_clf = modeling(AdaBoostClassifier(), X_train, y_train, X_test)\n",
    "lg_clf = modeling(LogisticRegression(), X_train, y_train, X_test)\n",
    "knn_clf = modeling(KNeighborsClassifier(), X_train, y_train, X_test)\n",
    "svc_clf = modeling(SVC(probability=True), X_train, y_train, X_test)\n",
    "lgmb_clf = modeling(LGBMClassifier(), X_train, y_train, X_test)\n",
    "cat_clf = modeling(CatBoostClassifier(silent=True),X_train, y_train, X_test)\n",
    "mlp_clf = modeling(MLPClassifier(),X_train, y_train, X_test)\n",
    "xgb_clf = modeling(XGBClassifier(),X_train, y_train, X_test)"
   ]
  },
  {
   "cell_type": "code",
   "execution_count": 192,
   "metadata": {},
   "outputs": [
    {
     "name": "stdout",
     "output_type": "stream",
     "text": [
      "f1-Score: 0.5578696740415858\n",
      "Recall: 0.8226073387554378\n",
      "Precision: 0.5467560004961721\n"
     ]
    }
   ],
   "source": [
    "scoring(y_test , cat_clf)"
   ]
  },
  {
   "cell_type": "code",
   "execution_count": 185,
   "metadata": {},
   "outputs": [
    {
     "data": {
      "text/plain": [
       "array([[4607,  680],\n",
       "       [  21,   59]], dtype=int64)"
      ]
     },
     "execution_count": 185,
     "metadata": {},
     "output_type": "execute_result"
    }
   ],
   "source": [
    "confusion_matrix(y_test, xgb_clf) # 42 79"
   ]
  },
  {
   "cell_type": "code",
   "execution_count": 189,
   "metadata": {},
   "outputs": [
    {
     "data": {
      "text/plain": [
       "<catboost.core.CatBoostClassifier at 0x141a9506ca0>"
      ]
     },
     "execution_count": 189,
     "metadata": {},
     "output_type": "execute_result"
    }
   ],
   "source": [
    "model = CatBoostClassifier(silent=True)\n",
    "model.fit(ajX_train, ajy_train)"
   ]
  },
  {
   "cell_type": "code",
   "execution_count": 190,
   "metadata": {},
   "outputs": [],
   "source": [
    "plt.rcParams['figure.figsize'] = (6, 12)"
   ]
  },
  {
   "cell_type": "code",
   "execution_count": 191,
   "metadata": {},
   "outputs": [
    {
     "data": {
      "text/plain": [
       "<BarContainer object of 16 artists>"
      ]
     },
     "execution_count": 191,
     "metadata": {},
     "output_type": "execute_result"
    },
    {
     "data": {
      "image/png": "[encoded data removed]",
      "text/plain": [
       "<Figure size 432x864 with 1 Axes>"
      ]
     },
     "metadata": {
      "needs_background": "light"
     },
     "output_type": "display_data"
    }
   ],
   "source": [
    "plt.barh(ajX_train.columns, model.feature_importances_ )"
   ]
  },
  {
   "cell_type": "code",
   "execution_count": null,
   "metadata": {},
   "outputs": [],
   "source": []
  }
 ],
 "metadata": {
  "interpreter": {
   "hash": "71b59b5ba49ad06bb2a011e750699e3983d230921f30bf7f37eb3a01ae69aa26"
  },
  "kernelspec": {
   "display_name": "Python 3.9.6 64-bit",
   "language": "python",
   "name": "python3"
  },
  "language_info": {
   "codemirror_mode": {
    "name": "ipython",
    "version": 3
   },
   "file_extension": ".py",
   "mimetype": "text/x-python",
   "name": "python",
   "nbconvert_exporter": "python",
   "pygments_lexer": "ipython3",
   "version": "3.9.6"
  },
  "orig_nbformat": 4
 },
 "nbformat": 4,
 "nbformat_minor": 2
}
