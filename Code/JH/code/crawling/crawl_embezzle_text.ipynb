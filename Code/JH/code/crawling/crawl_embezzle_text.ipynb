{
 "cells": [
  {
   "cell_type": "code",
   "execution_count": 1,
   "metadata": {},
   "outputs": [],
   "source": [
    "from bs4 import BeautifulSoup\n",
    "\n",
    "from selenium import webdriver\n",
    "import urllib.request\n",
    "\n",
    "import time\n",
    "import requests"
   ]
  },
  {
   "cell_type": "code",
   "execution_count": 36,
   "metadata": {},
   "outputs": [
    {
     "data": {
      "text/plain": [
       "'https://kind.krx.co.kr/external/2021/11/25/000655/20211125000924/91208.htm'"
      ]
     },
     "execution_count": 36,
     "metadata": {},
     "output_type": "execute_result"
    }
   ],
   "source": [
    "url = 'https://kind.krx.co.kr/common/disclsviewer.do?method=search&acptno=20211125000655&docno=&viewerhost=&viewerport='\n",
    "\n",
    "driver = webdriver.Chrome('C:/Users/JH/Desktop/chromedriver')\n",
    "driver.get(url)\n",
    "\n",
    "rink_box = []\n",
    "\n",
    "rink = driver.find_element_by_id('docLocPath').get_attribute('value')\n",
    "rink_box.append(rink)\n"
   ]
  },
  {
   "cell_type": "code",
   "execution_count": 58,
   "metadata": {},
   "outputs": [
    {
     "name": "stdout",
     "output_type": "stream",
     "text": [
      "53\n",
      "tr 값 : 1\n",
      "tr 값 : 2\n",
      "tr 값 : 3\n",
      "tr 값 : 4\n",
      "tr 값 : 5\n",
      "tr 값 : 6\n",
      "tr 값 : 7\n",
      "tr 값 : 8\n",
      "tr 값 : 9\n",
      "tr 값 : 10\n",
      "tr 값 : 11\n",
      "tr 값 : 12\n",
      "tr 값 : 13\n",
      "tr 값 : 14\n",
      "tr 값 : 15\n",
      "tr 값 : 16\n",
      "tr 값 : 17\n",
      "tr 값 : 18\n",
      "tr 값 : 19\n",
      "tr 값 : 20\n",
      "tr 값 : 21\n",
      "tr 값 : 22\n",
      "tr 값 : 23\n",
      "tr 값 : 24\n",
      "tr 값 : 25\n",
      "tr 값 : 26\n",
      "tr 값 : 27\n",
      "tr 값 : 28\n",
      "tr 값 : 29\n",
      "tr 값 : 30\n",
      "tr 값 : 31\n",
      "tr 값 : 32\n",
      "tr 값 : 33\n",
      "tr 값 : 34\n",
      "tr 값 : 35\n",
      "tr 값 : 36\n",
      "tr 값 : 37\n",
      "tr 값 : 38\n",
      "tr 값 : 39\n",
      "tr 값 : 40\n",
      "tr 값 : 41\n",
      "tr 값 : 42\n",
      "tr 값 : 43\n",
      "tr 값 : 44\n",
      "tr 값 : 45\n",
      "tr 값 : 46\n",
      "tr 값 : 47\n",
      "tr 값 : 48\n",
      "tr 값 : 49\n",
      "tr 값 : 50\n",
      "tr 값 : 51\n",
      "tr 값 : 52\n",
      "tr 값 : 53\n"
     ]
    }
   ],
   "source": [
    "url = \"https://kind.krx.co.kr/disclosure/details.do?method=searchDetailsMain#viewer\"\n",
    "\n",
    "driver = webdriver.Chrome('C:/Users/JH/Desktop/chromedriver')\n",
    "driver.get(url)\n",
    "driver.find_element_by_id('rKosdaq').click()\n",
    "time.sleep(0.2)\n",
    "driver.find_element_by_xpath('//*[@id=\"business\"]/option[4]').click()\n",
    "time.sleep(0.2)\n",
    "\n",
    "driver.find_element_by_xpath('//*[@id=\"bfrDsclsType\"]').click() # 공시유형 초기화 체크 해제\n",
    "time.sleep(0.2)\n",
    "driver.find_element_by_xpath('//*[@id=\"dsclsType01\"]').click() # 수시공시 클릭\n",
    "time.sleep(0.2)\n",
    "driver.find_element_by_xpath('//*[@id=\"dsclsLayer01_67\"]').click() # 횡령\n",
    "time.sleep(0.2)\n",
    "driver.find_element_by_xpath('//*[@id=\"currentPageSize\"]/option[4]').click() # 100개씩 보기 선택\n",
    "time.sleep(0.2)\n",
    "\n",
    "elem1 = driver.find_element_by_name(\"fromDate\")\n",
    "elem2 = driver.find_element_by_name(\"toDate\")\n",
    "time.sleep(0.2)\n",
    "elem1.clear()\n",
    "time.sleep(0.2)\n",
    "elem1.send_keys(\"2020-01-01\")\n",
    "time.sleep(0.2)\n",
    "elem2.clear()\n",
    "time.sleep(0.2)\n",
    "elem2.send_keys(\"2020-12-31\")\n",
    "time.sleep(0.2)\n",
    "driver.find_element_by_xpath('//*[@id=\"searchForm\"]/section[1]/div/div[3]/a[1]').click() # 검색\n",
    "\n",
    "open_code = []\n",
    "time.sleep(1)\n",
    "kk = int(driver.find_element_by_xpath('//*[@id=\"main-contents\"]/section[2]/div[2]/em').text)\n",
    "print(kk)\n",
    "for i in range(kk):\n",
    "    onclick_value = driver.find_element_by_xpath('//*[@id=\"main-contents\"]/section[1]/table/tbody/tr[{0}]/td[4]/a'.format(i + 1)).get_attribute('onclick')\n",
    "    onclick_value = onclick_value[18:32]\n",
    "    print('tr 값 :', i + 1)\n",
    "    time.sleep(0.3)\n",
    "    open_code.append(onclick_value)\n",
    "\n",
    "rink_box = []\n",
    "for i in range(len(open_code)):\n",
    "    url = 'https://kind.krx.co.kr/common/disclsviewer.do?method=search&acptno={0}&docno=&viewerhost=&viewerport='.format(int(open_code[i]))\n",
    "    time.sleep(0.3)\n",
    "    driver.get(url)\n",
    "    time.sleep(0.3)\n",
    "    rink = driver.find_element_by_id('docLocPath').get_attribute('value')\n",
    "    rink_box.append(rink)\n"
   ]
  },
  {
   "cell_type": "code",
   "execution_count": 59,
   "metadata": {},
   "outputs": [
    {
     "data": {
      "text/plain": [
       "['https://kind.krx.co.kr/external/2020/11/19/000166/20201119000357/70057.htm',\n",
       " 'https://kind.krx.co.kr/external/2020/11/13/001299/20201112001383/70008.htm',\n",
       " 'https://kind.krx.co.kr/external/2020/11/03/000224/20201030000401/70057.htm',\n",
       " 'https://kind.krx.co.kr/external/2020/11/02/000574/20201102001077/70057.htm',\n",
       " 'https://kind.krx.co.kr/external/2020/10/22/000320/20201022000518/70008.htm',\n",
       " 'https://kind.krx.co.kr/external/2020/10/20/000509/20201020001277/70057.htm',\n",
       " 'https://kind.krx.co.kr/external/2020/10/13/000487/20201013001080/70008.htm',\n",
       " 'https://kind.krx.co.kr/external/2020/10/07/000511/20201006000755/70008.htm',\n",
       " 'https://kind.krx.co.kr/external/2020/09/22/000433/20200921000541/70020.htm',\n",
       " 'https://kind.krx.co.kr/external/2020/09/16/000244/20200831000599/70057.htm',\n",
       " 'https://kind.krx.co.kr/external/2020/09/01/000471/20200831001339/70008.htm',\n",
       " 'https://kind.krx.co.kr/external/2020/08/20/000489/20200820000546/70057.htm',\n",
       " 'https://kind.krx.co.kr/external/2020/08/04/000435/20200804000586/70008.htm',\n",
       " 'https://kind.krx.co.kr/external/2020/08/03/000501/20200803001207/70008.htm',\n",
       " 'https://kind.krx.co.kr/external/2020/08/03/000381/20200803000830/70057.htm',\n",
       " 'https://kind.krx.co.kr/external/2020/07/31/000745/20200731001419/70009.htm',\n",
       " 'https://kind.krx.co.kr/external/2020/07/24/000611/20200724001405/70008.htm',\n",
       " 'https://kind.krx.co.kr/external/2020/07/23/000478/20200723001170/70008.htm',\n",
       " 'https://kind.krx.co.kr/external/2020/07/21/000478/20200721000588/70008.htm',\n",
       " 'https://kind.krx.co.kr/external/2020/07/17/000169/20200717000487/70008.htm',\n",
       " 'https://kind.krx.co.kr/external/2020/07/15/000413/20200715000506/70008.htm',\n",
       " 'https://kind.krx.co.kr/external/2020/07/10/000603/20200706001156/70057.htm',\n",
       " 'https://kind.krx.co.kr/external/2020/07/08/000325/20200707001312/70057.htm',\n",
       " 'https://kind.krx.co.kr/external/2020/07/07/000554/20200707000958/70057.htm',\n",
       " 'https://kind.krx.co.kr/external/2020/07/06/000483/20200706000570/70008.htm',\n",
       " 'https://kind.krx.co.kr/external/2020/07/03/000492/20200703000787/70008.htm',\n",
       " 'https://kind.krx.co.kr/external/2020/06/24/000507/20200624001192/70057.htm',\n",
       " 'https://kind.krx.co.kr/external/2020/06/12/000651/20200612001287/70008.htm',\n",
       " 'https://kind.krx.co.kr/external/2020/06/12/000361/20200612000473/70057.htm',\n",
       " 'https://kind.krx.co.kr/external/2020/06/11/000344/20200611000447/70057.htm',\n",
       " 'https://kind.krx.co.kr/external/2020/06/10/000525/20200610001149/70008.htm',\n",
       " 'https://kind.krx.co.kr/external/2020/06/10/000455/20200610000930/70008.htm',\n",
       " 'https://kind.krx.co.kr/external/2020/05/27/000642/20200527001354/70008.htm',\n",
       " 'https://kind.krx.co.kr/external/2020/05/25/000658/20200525001388/70008.htm',\n",
       " 'https://kind.krx.co.kr/external/2020/05/25/000657/20200525001385/70008.htm',\n",
       " 'https://kind.krx.co.kr/external/2020/05/22/000621/20200522001417/70008.htm',\n",
       " 'https://kind.krx.co.kr/external/2020/05/21/000185/20200521000380/70008.htm',\n",
       " 'https://kind.krx.co.kr/external/2020/05/15/002609/20200515003826/70057.htm',\n",
       " 'https://kind.krx.co.kr/external/2020/05/15/002594/20200515002912/70057.htm',\n",
       " 'https://kind.krx.co.kr/external/2020/05/14/001063/20200514002123/70008.htm',\n",
       " 'https://kind.krx.co.kr/external/2020/05/13/000584/20200513001254/70057.htm',\n",
       " 'https://kind.krx.co.kr/external/2020/05/13/000568/20200513000919/70057.htm',\n",
       " 'https://kind.krx.co.kr/external/2020/04/27/000375/20200427000769/70008.htm',\n",
       " 'https://kind.krx.co.kr/external/2020/03/20/002219/20200320004387/70008.htm',\n",
       " 'https://kind.krx.co.kr/external/2020/03/20/001539/20200320001887/70057.htm',\n",
       " 'https://kind.krx.co.kr/external/2020/03/18/001506/20200318001191/70008.htm',\n",
       " 'https://kind.krx.co.kr/external/2020/03/16/001950/20200316004355/70057.htm',\n",
       " 'https://kind.krx.co.kr/external/2020/03/02/000948/20200302001003/70058.htm',\n",
       " 'https://kind.krx.co.kr/external/2020/02/25/000691/20200225000693/70057.htm',\n",
       " 'https://kind.krx.co.kr/external/2020/01/23/000389/20200123000202/70008.htm',\n",
       " 'https://kind.krx.co.kr/external/2020/01/20/000678/20200120001669/70057.htm',\n",
       " 'https://kind.krx.co.kr/external/2020/01/20/000487/20200120000141/70057.htm',\n",
       " 'https://kind.krx.co.kr/external/2020/01/10/000203/20200110000479/70057.htm']"
      ]
     },
     "execution_count": 59,
     "metadata": {},
     "output_type": "execute_result"
    }
   ],
   "source": [
    "rink_box"
   ]
  },
  {
   "cell_type": "code",
   "execution_count": 57,
   "metadata": {},
   "outputs": [
    {
     "data": {
      "text/plain": [
       "'0200110000203'"
      ]
     },
     "execution_count": 57,
     "metadata": {},
     "output_type": "execute_result"
    }
   ],
   "source": [
    "onclick_value"
   ]
  },
  {
   "cell_type": "code",
   "execution_count": null,
   "metadata": {},
   "outputs": [],
   "source": [
    "20211118000392"
   ]
  }
 ],
 "metadata": {
  "interpreter": {
   "hash": "71b59b5ba49ad06bb2a011e750699e3983d230921f30bf7f37eb3a01ae69aa26"
  },
  "kernelspec": {
   "display_name": "Python 3.9.6 64-bit",
   "language": "python",
   "name": "python3"
  },
  "language_info": {
   "codemirror_mode": {
    "name": "ipython",
    "version": 3
   },
   "file_extension": ".py",
   "mimetype": "text/x-python",
   "name": "python",
   "nbconvert_exporter": "python",
   "pygments_lexer": "ipython3",
   "version": "3.9.6"
  },
  "orig_nbformat": 4
 },
 "nbformat": 4,
 "nbformat_minor": 2
}
