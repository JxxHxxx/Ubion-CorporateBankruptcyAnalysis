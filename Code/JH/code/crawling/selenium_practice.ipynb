{
 "cells": [
  {
   "cell_type": "code",
   "execution_count": 1,
   "metadata": {},
   "outputs": [],
   "source": [
    "from bs4 import BeautifulSoup\n",
    "from selenium import webdriver\n",
    "import requests\n",
    "import time\n",
    "import pandas as pd"
   ]
  },
  {
   "cell_type": "code",
   "execution_count": 17,
   "metadata": {},
   "outputs": [],
   "source": [
    "url = \"https://kind.krx.co.kr/disclosure/details.do?method=searchDetailsMain#viewer\"\n",
    "\n",
    "driver = webdriver.Chrome('C:/Users/JH/Desktop/chromedriver')\n",
    "driver.get(url)\n",
    "driver.find_element_by_id('rKosdaq').click()\n",
    "time.sleep(0.3)\n",
    "driver.find_element_by_xpath('//*[@id=\"business\"]/option[4]').click()\n",
    "time.sleep(0.3)\n",
    "driver.find_element_by_id(\"fromDate\").click()\n",
    "time.sleep(0.3)\n",
    "driver.find_element_by_xpath('//*[@id=\"ui-datepicker-div\"]/div/div/select[1]/option[1]').click()\n",
    "time.sleep(0.3)\n",
    "driver.find_element_by_xpath('//*[@id=\"ui-datepicker-div\"]/div/div/select[2]/option[10]').click()\n",
    "time.sleep(0.3)\n",
    "driver.find_element_by_xpath('//*[@id=\"ui-datepicker-div\"]/table/tbody/tr[1]/td[7]/a').click()\n",
    "time.sleep(0.3)\n",
    "txtItemName = driver.find_element_by_id(\"toDate\").click()\n",
    "time.sleep(0.3)\n",
    "driver.find_element_by_xpath('//*[@id=\"ui-datepicker-div\"]/div/div/select[1]/option[12]').click()\n",
    "time.sleep(0.3)\n",
    "driver.find_element_by_xpath('//*[@id=\"ui-datepicker-div\"]/div/div/select[2]/option[12]').click()\n",
    "time.sleep(0.3)\n",
    "driver.find_element_by_xpath('//*[@id=\"ui-datepicker-div\"]/table/tbody/tr[5]/td[3]/a').click()\n",
    "time.sleep(0.3)\n",
    "driver.find_element_by_xpath('//*[@id=\"bfrDsclsType\"]').click() # 공시유형 초기화 체크 해제\n",
    "time.sleep(0.3)\n",
    "driver.find_element_by_xpath('//*[@id=\"dsclsType01\"]').click() # 수시공시 클릭\n",
    "time.sleep(0.3)\n",
    "driver.find_element_by_xpath('//*[@id=\"dsclsLayer01_11\"]').click() # 대표이사변경\n",
    "time.sleep(0.3)\n",
    "driver.find_element_by_xpath('//*[@id=\"dsclsLayer01_14\"]').click() # 벌금/과징금/행정조치\n",
    "time.sleep(0.3)\n",
    "driver.find_element_by_xpath('//*[@id=\"dsclsLayer01_19\"]').click() # 사채/대출원리금미지급\n",
    "time.sleep(0.3)\n",
    "driver.find_element_by_xpath('//*[@id=\"dsclsLayer01_23\"]').click() # 소송\n",
    "time.sleep(0.3)\n",
    "driver.find_element_by_xpath('//*[@id=\"dsclsLayer01_27\"]').click() # 어음 위·변조\n",
    "time.sleep(0.3)\n",
    "driver.find_element_by_xpath('//*[@id=\"dsclsLayer01_34\"]').click() # 자본잠식/매출액미만등\n",
    "time.sleep(0.3)\n",
    "driver.find_element_by_xpath('//*[@id=\"dsclsLayer01_37\"]').click() # 재해발생\n",
    "time.sleep(0.3)\n",
    "driver.find_element_by_xpath('//*[@id=\"dsclsLayer01_65\"]').click() # 회계처리기준위반등\n",
    "time.sleep(0.3)\n",
    "driver.find_element_by_xpath('//*[@id=\"dsclsLayer01_63\"]').click() # 해산/파산\n",
    "time.sleep(0.3)\n",
    "driver.find_element_by_xpath('//*[@id=\"dsclsLayer01_66\"]').click() # 회생절차\n",
    "time.sleep(0.3)\n",
    "driver.find_element_by_xpath('//*[@id=\"dsclsLayer01_67\"]').click() # 횡령,배임\n",
    "time.sleep(0.3)\n",
    "driver.find_element_by_xpath('//*[@id=\"currentPageSize\"]/option[4]').click()\n",
    "time.sleep(0.3)\n",
    "driver.find_element_by_xpath('//*[@id=\"searchForm\"]/section[1]/div/div[3]/a[1]').click() # 검색\n",
    "time.sleep(0.5)\n",
    "driver.find_element_by_xpath('//*[@id=\"searchForm\"]/section[1]/div/div[3]/a[2]').click() # 엑셀로 다운로드\n",
    "time.sleep(1)"
   ]
  },
  {
   "cell_type": "code",
   "execution_count": 6,
   "metadata": {},
   "outputs": [],
   "source": [
    "url = \"https://www.naver.com/\"\n",
    "\n",
    "driver = webdriver.Chrome('C:/Users/JH/Desktop/chromedriver')\n",
    "driver.get(url)\n",
    "driver.find_element_by_xpath('//*[@id=\"NM_FAVORITE\"]/div[1]/ul[2]/li[8]/a').click()\n",
    "time.sleep(0.3)"
   ]
  },
  {
   "cell_type": "code",
   "execution_count": null,
   "metadata": {},
   "outputs": [],
   "source": []
  }
 ],
 "metadata": {
  "interpreter": {
   "hash": "71b59b5ba49ad06bb2a011e750699e3983d230921f30bf7f37eb3a01ae69aa26"
  },
  "kernelspec": {
   "display_name": "Python 3.9.6 64-bit",
   "language": "python",
   "name": "python3"
  },
  "language_info": {
   "codemirror_mode": {
    "name": "ipython",
    "version": 3
   },
   "file_extension": ".py",
   "mimetype": "text/x-python",
   "name": "python",
   "nbconvert_exporter": "python",
   "pygments_lexer": "ipython3",
   "version": "3.9.6"
  },
  "orig_nbformat": 4
 },
 "nbformat": 4,
 "nbformat_minor": 2
}
