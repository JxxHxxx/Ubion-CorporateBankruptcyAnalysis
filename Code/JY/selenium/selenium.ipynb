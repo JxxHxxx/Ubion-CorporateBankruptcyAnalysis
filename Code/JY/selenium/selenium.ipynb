{
 "cells": [
  {
   "cell_type": "code",
   "execution_count": 2,
   "metadata": {},
   "outputs": [],
   "source": [
    "from bs4 import BeautifulSoup\n",
    "from selenium import webdriver\n",
    "import requests\n",
    "import time\n",
    "import pandas as pd"
   ]
  },
  {
   "cell_type": "markdown",
   "metadata": {},
   "source": [
    "## *KRX*"
   ]
  },
  {
   "cell_type": "code",
   "execution_count": 15,
   "metadata": {},
   "outputs": [
    {
     "name": "stderr",
     "output_type": "stream",
     "text": [
      "C:\\Users\\qorwl\\AppData\\Local\\Temp/ipykernel_11276/1615602903.py:3: DeprecationWarning: executable_path has been deprecated, please pass in a Service object\n",
      "  driver = webdriver.Chrome('C:/Users/qorwl/Desktop/chromedriver')\n",
      "C:\\Users\\qorwl\\AppData\\Local\\Temp/ipykernel_11276/1615602903.py:6: DeprecationWarning: find_element_by_* commands are deprecated. Please use find_element() instead\n",
      "  driver.find_element_by_id('rKosdaq').click()\n"
     ]
    }
   ],
   "source": [
    "url = \"https://kind.krx.co.kr/disclosure/details.do?method=searchDetailsMain#viewer\"\n",
    "\n",
    "driver = webdriver.Chrome('C:/Users/qorwl/Desktop/chromedriver')\n",
    "driver.get(url)\n",
    "\n",
    "driver.find_element_by_id('rKosdaq').click()\n",
    "time.sleep(0.1)"
   ]
  },
  {
   "cell_type": "markdown",
   "metadata": {},
   "source": [
    "## *NAVER*"
   ]
  },
  {
   "cell_type": "code",
   "execution_count": 14,
   "metadata": {},
   "outputs": [
    {
     "name": "stderr",
     "output_type": "stream",
     "text": [
      "C:\\Users\\qorwl\\AppData\\Local\\Temp/ipykernel_11276/46340737.py:3: DeprecationWarning: executable_path has been deprecated, please pass in a Service object\n",
      "  driver = webdriver.Chrome('C:/Users/qorwl/Desktop/chromedriver')\n",
      "C:\\Users\\qorwl\\AppData\\Local\\Temp/ipykernel_11276/46340737.py:6: DeprecationWarning: find_element_by_* commands are deprecated. Please use find_element() instead\n",
      "  driver.find_element_by_xpath('//*[@id=\"NM_FAVORITE\"]/div[1]/ul[2]/li[8]/a').click()\n",
      "C:\\Users\\qorwl\\AppData\\Local\\Temp/ipykernel_11276/46340737.py:9: DeprecationWarning: find_element_by_* commands are deprecated. Please use find_element() instead\n",
      "  driver.find_element_by_xpath('//*[@id=\"fantasy\"]').click()\n"
     ]
    }
   ],
   "source": [
    "url = \"https://www.naver.com/\"\n",
    "\n",
    "driver = webdriver.Chrome('C:/Users/qorwl/Desktop/chromedriver')\n",
    "driver.get(url)\n",
    "\n",
    "driver.find_element_by_xpath('//*[@id=\"NM_FAVORITE\"]/div[1]/ul[2]/li[8]/a').click()\n",
    "time.sleep(0.1)\n",
    "\n",
    "driver.find_element_by_xpath('//*[@id=\"fantasy\"]').click()\n",
    "time.sleep(0.1)"
   ]
  },
  {
   "cell_type": "code",
   "execution_count": null,
   "metadata": {},
   "outputs": [],
   "source": []
  }
 ],
 "metadata": {
  "interpreter": {
   "hash": "ad5deec5b703c15bfc5ce279dbe45984ef09f4e0fa983a2befb7bdae7fcea0e5"
  },
  "kernelspec": {
   "display_name": "Python 3.10.0 64-bit",
   "language": "python",
   "name": "python3"
  },
  "language_info": {
   "codemirror_mode": {
    "name": "ipython",
    "version": 3
   },
   "file_extension": ".py",
   "mimetype": "text/x-python",
   "name": "python",
   "nbconvert_exporter": "python",
   "pygments_lexer": "ipython3",
   "version": "3.10.0"
  },
  "orig_nbformat": 4
 },
 "nbformat": 4,
 "nbformat_minor": 2
}
